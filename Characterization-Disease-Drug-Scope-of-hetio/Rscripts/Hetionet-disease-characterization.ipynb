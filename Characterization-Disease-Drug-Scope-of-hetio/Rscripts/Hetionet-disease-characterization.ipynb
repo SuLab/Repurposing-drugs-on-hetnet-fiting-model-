{
 "cells": [
  {
   "cell_type": "markdown",
   "metadata": {},
   "source": [
    "# Hetionet Disease Characterization"
   ]
  },
  {
   "cell_type": "markdown",
   "metadata": {},
   "source": [
    "## Disease characterization using DO\n",
    "Ontology: http://disease-ontology.org/"
   ]
  },
  {
   "cell_type": "code",
   "execution_count": 4,
   "metadata": {
    "collapsed": false
   },
   "outputs": [],
   "source": [
    "library(\"igraph\")"
   ]
  },
  {
   "cell_type": "code",
   "execution_count": 5,
   "metadata": {
    "collapsed": true
   },
   "outputs": [],
   "source": [
    "rm(list = ls())"
   ]
  },
  {
   "cell_type": "code",
   "execution_count": 6,
   "metadata": {
    "collapsed": true
   },
   "outputs": [],
   "source": [
    "options(warn=-1)"
   ]
  },
  {
   "cell_type": "markdown",
   "metadata": {},
   "source": [
    "### Creating the ontology graph"
   ]
  },
  {
   "cell_type": "code",
   "execution_count": 7,
   "metadata": {
    "collapsed": false
   },
   "outputs": [
    {
     "name": "stdout",
     "output_type": "stream",
     "text": [
      "Full graph counts:\n",
      "Number of nodes: 6931\n",
      "Number of edges: 7131\n",
      "\n",
      "Simplified graph counts:\n",
      "Number of nodes: 6931\n",
      "Number of edges: 7131"
     ]
    }
   ],
   "source": [
    "fileontology <- read.csv(\"/home/nuria/workspace/repurposing-hetio/rephetio-dhimmelstein/Characterization-Disease-Drug-Scope-of-hetio/out/do_ontologyChildParent.tab\", sep = \"\\t\", header = F)\n",
    "edges <- fileontology[c(1,2)]\n",
    "nodes<- as.data.frame(unique(c(unique(as.character(edges[, 1])), unique(as.character(edges[,2])))))\n",
    "colnames(nodes) <- \"node\"\n",
    "graph.full = graph.data.frame(edges, directed=T, vertices=nodes)\n",
    "nodes_int = vcount(graph.full) # number of nodes\n",
    "edges_int = ecount(graph.full) # number of edges\n",
    "cat('Full graph counts:\\n')\n",
    "cat('Number of nodes:', nodes_int)\n",
    "cat('\\nNumber of edges:', edges_int)\n",
    "\n",
    "graph <- igraph::simplify(graph.full)\n",
    "nodes_int = vcount(graph)  \n",
    "edges_int = ecount(graph)\n",
    "cat('\\n\\nSimplified graph counts:')\n",
    "cat('\\nNumber of nodes:', nodes_int)\n",
    "cat('\\nNumber of edges:', edges_int)"
   ]
  },
  {
   "cell_type": "markdown",
   "metadata": {},
   "source": [
    "### Input: parent classes"
   ]
  },
  {
   "cell_type": "code",
   "execution_count": 8,
   "metadata": {
    "collapsed": false
   },
   "outputs": [
    {
     "name": "stdout",
     "output_type": "stream",
     "text": [
      "\n",
      "Number of parent classes: 8"
     ]
    }
   ],
   "source": [
    "fileparent <- read.csv(\"/home/nuria/workspace/repurposing-hetio/rephetio-dhimmelstein/Characterization-Disease-Drug-Scope-of-hetio/out/do_ontology1rstBranchParents.tab\", sep = \"\\t\", header = F)\n",
    "parent <- fileparent[c(1)]\n",
    "parent <- parent$V1\n",
    "cat('\\nNumber of parent classes:', length(unique(parent)))"
   ]
  },
  {
   "cell_type": "markdown",
   "metadata": {},
   "source": [
    "### Input: child classes"
   ]
  },
  {
   "cell_type": "markdown",
   "metadata": {},
   "source": [
    "### Rephetio\n",
    "It contains 137 terms called slim DO: 108 complex diseases from GWAS Catalog \n",
    "and 63 cancer terms from DO Cancer Slim subset.\n",
    "\n",
    "Info: https://thinklab.com/discussion/unifying-disease-vocabularies/44#144\n",
    "\n",
    "Data downloaded from: https://neo4j.het.io/browser/\n",
    "\n",
    "Data: https://github.com/dhimmel/learn/blob/5e61aed9789913d5b3525bb83eba80e0fcc060a4/summary/diseases.tsv"
   ]
  },
  {
   "cell_type": "code",
   "execution_count": 18,
   "metadata": {
    "collapsed": false
   },
   "outputs": [
    {
     "name": "stdout",
     "output_type": "stream",
     "text": [
      "\n",
      "Number of child classes: 137\n",
      "Number of child classes in DO: 136"
     ]
    }
   ],
   "source": [
    "filechild <- read.csv(\"/home/nuria/workspace/repurposing-hetio/rephetio-dhimmelstein/Characterization-Disease-Drug-Scope-of-hetio/out/hetionet-doids-list.tab\", sep = \"\\t\", header = F)\n",
    "child <- filechild[c(1)]\n",
    "child <- child$V1\n",
    "cat('\\nNumber of child classes:', length(unique(child)))\n",
    "child <- intersect(child,nodes$node)\n",
    "cat('\\nNumber of child classes in DO:',length(unique(child)))"
   ]
  },
  {
   "cell_type": "markdown",
   "metadata": {},
   "source": [
    "### Output: child -> parent pathways "
   ]
  },
  {
   "cell_type": "code",
   "execution_count": 7,
   "metadata": {
    "collapsed": true
   },
   "outputs": [],
   "source": [
    "resultsPathways  <- data.frame(t(rep(NA,3)))\n",
    "colnames(resultsPathways ) <- c(\"child\", \"parent\", \"length\")"
   ]
  },
  {
   "cell_type": "markdown",
   "metadata": {},
   "source": [
    "### Algorithm"
   ]
  },
  {
   "cell_type": "code",
   "execution_count": 8,
   "metadata": {
    "collapsed": false
   },
   "outputs": [],
   "source": [
    "c <- 1  \n",
    "for (node1 in child ){     \n",
    "  for (node2 in parent){       \n",
    "    sp <- get.shortest.paths(graph,from = node1, to = node2, mode = \"out\")\n",
    "    \n",
    "    if (length(sp$vpath[[1]]) > 0){\n",
    "      l <- length(sp$vpath[[1]])\n",
    "      resultsPathways[c, 1] <- node1\n",
    "      resultsPathways[c, 2] <- node2      \n",
    "      resultsPathways[c, 3] <- l # original row\n",
    "      c<- c+1\n",
    "    }\n",
    "  }\n",
    "}"
   ]
  },
  {
   "cell_type": "markdown",
   "metadata": {},
   "source": [
    "### Save results"
   ]
  },
  {
   "cell_type": "code",
   "execution_count": 9,
   "metadata": {
    "collapsed": false
   },
   "outputs": [
    {
     "name": "stdout",
     "output_type": "stream",
     "text": [
      "'data.frame':\t136 obs. of  3 variables:\n",
      " $ child : chr  \"DOID:4606\" \"DOID:8778\" \"DOID:1793\" \"DOID:11612\" ...\n",
      " $ parent: chr  \"DOID:14566\" \"DOID:7\" \"DOID:14566\" \"DOID:225\" ...\n",
      " $ length: int  6 5 5 2 4 10 6 6 7 7 ...\n"
     ]
    }
   ],
   "source": [
    "str(resultsPathways)\n",
    "write.csv(resultsPathways,\"/home/nuria/workspace/repurposing-hetio/rephetio-dhimmelstein/Characterization-Disease-Drug-Scope-of-hetio/out/hetionet-doidsPathways.csv\")"
   ]
  },
  {
   "cell_type": "markdown",
   "metadata": {},
   "source": [
    "### Disease class distribution"
   ]
  },
  {
   "cell_type": "code",
   "execution_count": 10,
   "metadata": {
    "collapsed": false
   },
   "outputs": [
    {
     "data": {
      "text/html": [
       "<table>\n",
       "<thead><tr><th></th><th scope=col>doid</th><th scope=col>name</th><th scope=col>Freq</th><th scope=col>Percent</th></tr></thead>\n",
       "<tbody>\n",
       "\t<tr><th scope=row>8</th><td>DOID:7                           </td><td>disease of anatomical entity     </td><td>57                               </td><td>41.9117647                       </td></tr>\n",
       "\t<tr><th scope=row>4</th><td>DOID:14566                       </td><td>disease of cellular proliferation</td><td>56                               </td><td>41.1764706                       </td></tr>\n",
       "\t<tr><th scope=row>5</th><td>DOID:150                         </td><td>disease of mental health         </td><td>11                               </td><td> 8.0882353                       </td></tr>\n",
       "\t<tr><th scope=row>1</th><td>DOID:0014667                     </td><td>disease of metabolism            </td><td> 5                               </td><td> 3.6764706                       </td></tr>\n",
       "\t<tr><th scope=row>2</th><td>DOID:0050117                     </td><td>disease by infectious agent      </td><td> 4                               </td><td> 2.9411765                       </td></tr>\n",
       "\t<tr><th scope=row>6</th><td>DOID:225                         </td><td>syndrome                         </td><td> 2                               </td><td> 1.4705882                       </td></tr>\n",
       "\t<tr><th scope=row>3</th><td>DOID:0080015                     </td><td>physical disorder                </td><td> 1                               </td><td> 0.7352941                       </td></tr>\n",
       "\t<tr><th scope=row>7</th><td>DOID:630                         </td><td>genetic disease                  </td><td> 0                               </td><td> 0.0000000                       </td></tr>\n",
       "</tbody>\n",
       "</table>\n"
      ],
      "text/latex": [
       "\\begin{tabular}{r|llll}\n",
       "  & doid & name & Freq & Percent\\\\\n",
       "\\hline\n",
       "\t8 & DOID:7                            & disease of anatomical entity      & 57                                & 41.9117647                       \\\\\n",
       "\t4 & DOID:14566                        & disease of cellular proliferation & 56                                & 41.1764706                       \\\\\n",
       "\t5 & DOID:150                          & disease of mental health          & 11                                &  8.0882353                       \\\\\n",
       "\t1 & DOID:0014667                      & disease of metabolism             &  5                                &  3.6764706                       \\\\\n",
       "\t2 & DOID:0050117                      & disease by infectious agent       &  4                                &  2.9411765                       \\\\\n",
       "\t6 & DOID:225                          & syndrome                          &  2                                &  1.4705882                       \\\\\n",
       "\t3 & DOID:0080015                      & physical disorder                 &  1                                &  0.7352941                       \\\\\n",
       "\t7 & DOID:630                          & genetic disease                   &  0                                &  0.0000000                       \\\\\n",
       "\\end{tabular}\n"
      ],
      "text/plain": [
       "  doid         name                              Freq Percent   \n",
       "8 DOID:7       disease of anatomical entity      57   41.9117647\n",
       "4 DOID:14566   disease of cellular proliferation 56   41.1764706\n",
       "5 DOID:150     disease of mental health          11    8.0882353\n",
       "1 DOID:0014667 disease of metabolism              5    3.6764706\n",
       "2 DOID:0050117 disease by infectious agent        4    2.9411765\n",
       "6 DOID:225     syndrome                           2    1.4705882\n",
       "3 DOID:0080015 physical disorder                  1    0.7352941\n",
       "7 DOID:630     genetic disease                    0    0.0000000"
      ]
     },
     "metadata": {},
     "output_type": "display_data"
    }
   ],
   "source": [
    "hetioPathways <- resultsPathways\n",
    "hetio.freq = table(sort(hetioPathways$parent))\n",
    "hetio.freq.df = as.data.frame(hetio.freq)\n",
    "colnames(hetio.freq.df)[1] = 'doid'\n",
    "hetio.percent = prop.table(hetio.freq)*100\n",
    "hetio.percent.df <- as.data.frame(hetio.percent)\n",
    "colnames(hetio.percent.df) = c('doid', 'Percent')\n",
    "colnames(fileparent) = c('doid','name')\n",
    "hetio.percent.df.merge = merge(fileparent, hetio.freq.df, by.x = 'doid', all.x = T)\n",
    "hetio.percent.df.merge$Freq[is.na(hetio.percent.df.merge$Freq)] = 0\n",
    "hetio.percent.df.merge = merge(hetio.percent.df.merge, hetio.percent.df, by.x = 'doid', all.x = T)\n",
    "hetio.percent.df.merge$Percent[is.na(hetio.percent.df.merge$Percent)] = 0\n",
    "hetio.percent.df.merge = hetio.percent.df.merge[order(-hetio.percent.df.merge$Percent),]\n",
    "hetio.percent.df.merge"
   ]
  },
  {
   "cell_type": "markdown",
   "metadata": {},
   "source": [
    "### Save graphic"
   ]
  },
  {
   "cell_type": "code",
   "execution_count": 19,
   "metadata": {
    "collapsed": false
   },
   "outputs": [
    {
     "data": {
      "image/png": "[encoded data removed]",
      "text/plain": [
       "Plot with title “DO Classes”"
      ]
     },
     "metadata": {},
     "output_type": "display_data"
    }
   ],
   "source": [
    "#png(\"/home/nuria/workspace/repurposing-hetio/rephetio-dhimmelstein/Characterization-Disease-Drug-Scope-of-hetio/out/hetionet-doids-classes-percent.png\",width=1700,height=960, units = \"px\", pointsize = 18)\n",
    "par(oma=c(.2,8.,.2,.2))\n",
    "f1bp <- barplot(hetio.percent.df.merge$Percent, names.arg = hetio.percent.df.merge$name,las=2,cex.names=.8,xlim=c(0,100),main=\"DO Classes\",xlab=\"% of diseases\",cex.axis=.8,horiz=T)\n",
    "text(hetio.percent.df.merge$Percent+4,f1bp,labels=paste0(as.character(round(hetio.percent.df.merge$Percent)),\"%\"),cex=.7,xpd=T)\n",
    "#dev.off()"
   ]
  },
  {
   "cell_type": "markdown",
   "metadata": {},
   "source": [
    "### DO coverage"
   ]
  },
  {
   "cell_type": "markdown",
   "metadata": {
    "collapsed": true
   },
   "source": [
    "### Input: all DO classes as child classes"
   ]
  },
  {
   "cell_type": "code",
   "execution_count": 12,
   "metadata": {
    "collapsed": false
   },
   "outputs": [
    {
     "name": "stdout",
     "output_type": "stream",
     "text": [
      "\n",
      "Number of child classes: 6931\n",
      "Number of child classes in DO: 6931"
     ]
    }
   ],
   "source": [
    "filechild <- read.csv(\"/home/nuria/workspace/repurposing-hetio/rephetio-dhimmelstein/Characterization-Disease-Drug-Scope-of-hetio/out/allActIdDOOntology.tab\", sep = \"\\t\", header = F)\n",
    "child <- filechild[c(1)]\n",
    "child <- child$V1\n",
    "cat('\\nNumber of child classes:', length(unique(child)))\n",
    "child <- intersect(child,nodes$node)\n",
    "cat('\\nNumber of child classes in DO:',length(unique(child)))"
   ]
  },
  {
   "cell_type": "markdown",
   "metadata": {},
   "source": [
    "### Output: child -> parent pathways"
   ]
  },
  {
   "cell_type": "code",
   "execution_count": 13,
   "metadata": {
    "collapsed": true
   },
   "outputs": [],
   "source": [
    "resultsPathways  <- data.frame(t(rep(NA,3)))\n",
    "colnames(resultsPathways ) <- c(\"child\", \"parent\", \"length\")"
   ]
  },
  {
   "cell_type": "markdown",
   "metadata": {},
   "source": [
    "### Algorithm"
   ]
  },
  {
   "cell_type": "code",
   "execution_count": 14,
   "metadata": {
    "collapsed": true
   },
   "outputs": [],
   "source": [
    "c <- 1  \n",
    "for (node1 in child ){     \n",
    "  for (node2 in parent){       \n",
    "    sp <- get.shortest.paths(graph,from = node1, to = node2, mode = \"out\")\n",
    "    \n",
    "    if (length(sp$vpath[[1]]) > 0){\n",
    "      l <- length(sp$vpath[[1]])\n",
    "      resultsPathways[c, 1] <- node1\n",
    "      resultsPathways[c, 2] <- node2      \n",
    "      resultsPathways[c, 3] <- l # original row\n",
    "      c<- c+1\n",
    "    }\n",
    "  }\n",
    "}"
   ]
  },
  {
   "cell_type": "markdown",
   "metadata": {},
   "source": [
    "### Save results"
   ]
  },
  {
   "cell_type": "code",
   "execution_count": 15,
   "metadata": {
    "collapsed": false
   },
   "outputs": [
    {
     "name": "stdout",
     "output_type": "stream",
     "text": [
      "'data.frame':\t6956 obs. of  3 variables:\n",
      " $ child : chr  \"DOID:3127\" \"DOID:3121\" \"DOID:3120\" \"DOID:3122\" ...\n",
      " $ parent: chr  \"DOID:7\" \"DOID:14566\" \"DOID:14566\" \"DOID:7\" ...\n",
      " $ length: int  5 6 7 4 5 7 7 5 7 6 ...\n"
     ]
    }
   ],
   "source": [
    "str(resultsPathways)\n",
    "write.csv(resultsPathways,\"/home/nuria/workspace/repurposing-hetio/rephetio-dhimmelstein/Characterization-Disease-Drug-Scope-of-hetio/out/hetionet-doOntologyChildsPathways.csv\")"
   ]
  },
  {
   "cell_type": "markdown",
   "metadata": {},
   "source": [
    "### Disease class distribution and DO coverage"
   ]
  },
  {
   "cell_type": "code",
   "execution_count": 16,
   "metadata": {
    "collapsed": false
   },
   "outputs": [
    {
     "data": {
      "text/html": [
       "<table>\n",
       "<thead><tr><th></th><th scope=col>doid</th><th scope=col>name</th><th scope=col>hetioFreq</th><th scope=col>doFreq</th><th scope=col>percent</th></tr></thead>\n",
       "<tbody>\n",
       "\t<tr><th scope=row>5</th><td>DOID:150                         </td><td>disease of mental health         </td><td>11                               </td><td> 228                             </td><td>4.824561                         </td></tr>\n",
       "\t<tr><th scope=row>3</th><td>DOID:0080015                     </td><td>physical disorder                </td><td> 1                               </td><td>  33                             </td><td>3.030303                         </td></tr>\n",
       "\t<tr><th scope=row>4</th><td>DOID:14566                       </td><td>disease of cellular proliferation</td><td>56                               </td><td>2611                             </td><td>2.144772                         </td></tr>\n",
       "\t<tr><th scope=row>6</th><td>DOID:225                         </td><td>syndrome                         </td><td> 2                               </td><td> 100                             </td><td>2.000000                         </td></tr>\n",
       "\t<tr><th scope=row>8</th><td>DOID:7                           </td><td>disease of anatomical entity     </td><td>57                               </td><td>2952                             </td><td>1.930894                         </td></tr>\n",
       "\t<tr><th scope=row>1</th><td>DOID:0014667                     </td><td>disease of metabolism            </td><td> 5                               </td><td> 321                             </td><td>1.557632                         </td></tr>\n",
       "\t<tr><th scope=row>2</th><td>DOID:0050117                     </td><td>disease by infectious agent      </td><td> 4                               </td><td> 434                             </td><td>0.921659                         </td></tr>\n",
       "\t<tr><th scope=row>7</th><td>DOID:630                         </td><td>genetic disease                  </td><td> 0                               </td><td> 277                             </td><td>0.000000                         </td></tr>\n",
       "</tbody>\n",
       "</table>\n"
      ],
      "text/latex": [
       "\\begin{tabular}{r|lllll}\n",
       "  & doid & name & hetioFreq & doFreq & percent\\\\\n",
       "\\hline\n",
       "\t5 & DOID:150                          & disease of mental health          & 11                                &  228                              & 4.824561                         \\\\\n",
       "\t3 & DOID:0080015                      & physical disorder                 &  1                                &   33                              & 3.030303                         \\\\\n",
       "\t4 & DOID:14566                        & disease of cellular proliferation & 56                                & 2611                              & 2.144772                         \\\\\n",
       "\t6 & DOID:225                          & syndrome                          &  2                                &  100                              & 2.000000                         \\\\\n",
       "\t8 & DOID:7                            & disease of anatomical entity      & 57                                & 2952                              & 1.930894                         \\\\\n",
       "\t1 & DOID:0014667                      & disease of metabolism             &  5                                &  321                              & 1.557632                         \\\\\n",
       "\t2 & DOID:0050117                      & disease by infectious agent       &  4                                &  434                              & 0.921659                         \\\\\n",
       "\t7 & DOID:630                          & genetic disease                   &  0                                &  277                              & 0.000000                         \\\\\n",
       "\\end{tabular}\n"
      ],
      "text/plain": [
       "  doid         name                              hetioFreq doFreq percent \n",
       "5 DOID:150     disease of mental health          11         228   4.824561\n",
       "3 DOID:0080015 physical disorder                  1          33   3.030303\n",
       "4 DOID:14566   disease of cellular proliferation 56        2611   2.144772\n",
       "6 DOID:225     syndrome                           2         100   2.000000\n",
       "8 DOID:7       disease of anatomical entity      57        2952   1.930894\n",
       "1 DOID:0014667 disease of metabolism              5         321   1.557632\n",
       "2 DOID:0050117 disease by infectious agent        4         434   0.921659\n",
       "7 DOID:630     genetic disease                    0         277   0.000000"
      ]
     },
     "metadata": {},
     "output_type": "display_data"
    }
   ],
   "source": [
    "doPathways <- resultsPathways\n",
    "do.freq = table(sort(doPathways$parent))\n",
    "do.df = as.data.frame(do.freq)\n",
    "hetio.df = as.data.frame(hetio.freq)\n",
    "colnames(do.df) = c('doid', 'doFreq'); colnames(hetio.df) = c('doid', 'hetioFreq')\n",
    "hetio.parent.df = merge(fileparent, hetio.df, by.x = 'doid', all.x = T) #; hetio.parent.df\n",
    "hetio.parent.df$hetioFreq[is.na(hetio.parent.df$hetioFreq)] = 0 #; hetio.parent.df\n",
    "coverage.df = merge(hetio.parent.df, do.df, by.x = 'doid', all.x = T) #; coverage.df\n",
    "coverage.df$percent = (coverage.df$hetioFreq*100)/coverage.df$doFreq #; coverage.df\n",
    "coverage.df = coverage.df[order(-coverage.df$percent),]; coverage.df"
   ]
  },
  {
   "cell_type": "markdown",
   "metadata": {},
   "source": [
    "### Save graphic"
   ]
  },
  {
   "cell_type": "code",
   "execution_count": 21,
   "metadata": {
    "collapsed": false
   },
   "outputs": [
    {
     "data": {
      "image/png": "[encoded data removed]",
      "text/plain": [
       "Plot with title “DO Classes”"
      ]
     },
     "metadata": {},
     "output_type": "display_data"
    }
   ],
   "source": [
    "#png(\"/home/nuria/workspace/repurposing-hetio/rephetio-dhimmelstein/Characterization-Disease-Drug-Scope-of-hetio/out/hetionet-do-coverage-classes-percent.png\",width=1700,height=960, units = \"px\", pointsize = 18)\n",
    "par(oma=c(.2,8.,.2,.2))\n",
    "f1bp <- barplot(coverage.df$percent, names.arg = coverage.df$name,las=2,cex.names=.8,xlim=c(0,100),main=\"DO Classes\",xlab=\"% of diseases\",cex.axis=.8,horiz=T)\n",
    "text(coverage.df$percent+4,f1bp,labels=paste0(as.character(round(coverage.df$percent)),\"%\"),cex=.7,xpd=T)\n",
    "#dev.off()"
   ]
  }
 ],
 "metadata": {
  "kernelspec": {
   "display_name": "R",
   "language": "R",
   "name": "ir"
  },
  "language_info": {
   "codemirror_mode": "r",
   "file_extension": ".r",
   "mimetype": "text/x-r-source",
   "name": "R",
   "pygments_lexer": "r",
   "version": "3.3.1"
  }
 },
 "nbformat": 4,
 "nbformat_minor": 0
}
