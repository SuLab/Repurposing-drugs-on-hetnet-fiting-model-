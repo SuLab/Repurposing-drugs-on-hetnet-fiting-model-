{
 "cells": [
  {
   "cell_type": "markdown",
   "metadata": {},
   "source": [
    "# Hetionet Drug Characterization"
   ]
  },
  {
   "cell_type": "markdown",
   "metadata": {},
   "source": [
    "## Drug characterization using ATC\n",
    "Ontology: https://bioportal.bioontology.org/ontologies/ATC"
   ]
  },
  {
   "cell_type": "code",
   "execution_count": 2,
   "metadata": {
    "collapsed": false
   },
   "outputs": [],
   "source": [
    "library(\"igraph\")"
   ]
  },
  {
   "cell_type": "code",
   "execution_count": 3,
   "metadata": {
    "collapsed": true
   },
   "outputs": [],
   "source": [
    "rm(list = ls())"
   ]
  },
  {
   "cell_type": "code",
   "execution_count": 4,
   "metadata": {
    "collapsed": true
   },
   "outputs": [],
   "source": [
    "options(warn=-1)"
   ]
  },
  {
   "cell_type": "markdown",
   "metadata": {},
   "source": [
    "### Rephetio\n",
    "It contains 1552 compounds identified by DrugBank IDs.\n",
    "\n",
    "Data downloaded from: https://neo4j.het.io/browser/ \n",
    "\n",
    "Data: https://github.com/dhimmel/learn/blob/5e61aed9789913d5b3525bb83eba80e0fcc060a4/summary/compounds.tsv"
   ]
  },
  {
   "cell_type": "code",
   "execution_count": 6,
   "metadata": {
    "collapsed": false
   },
   "outputs": [
    {
     "name": "stdout",
     "output_type": "stream",
     "text": [
      "\n",
      "Number of child classes: 14"
     ]
    }
   ],
   "source": [
    "filechild <- read.csv(\"/home/nuria/workspace/repurposing-hetio/rephetio-dhimmelstein/Characterization-Disease-Drug-Scope-of-hetio/out/hetionet-atcids-list.tab\", sep = \"\\t\", header = F)\n",
    "child <- filechild[c(1)]\n",
    "child <- child$V1\n",
    "cat('\\nNumber of child classes:', length(unique(child)))"
   ]
  },
  {
   "cell_type": "markdown",
   "metadata": {},
   "source": [
    "### Drug class distribution"
   ]
  },
  {
   "cell_type": "code",
   "execution_count": 11,
   "metadata": {
    "collapsed": false
   },
   "outputs": [
    {
     "data": {
      "text/html": [
       "<table>\n",
       "<thead><tr><th></th><th scope=col>atc_name</th><th scope=col>Freq</th><th scope=col>Percent</th></tr></thead>\n",
       "<tbody>\n",
       "\t<tr><th scope=row>6</th><td>CARDIOVASCULAR SYSTEM                                          </td><td>383                                                            </td><td>15.252887                                                      </td></tr>\n",
       "\t<tr><th scope=row>10</th><td>NERVOUS SYSTEM                                                 </td><td>344                                                            </td><td>13.699721                                                      </td></tr>\n",
       "\t<tr><th scope=row>2</th><td>ANTIINFECTIVES FOR SYSTEMIC USE                                </td><td>292                                                            </td><td>11.628833                                                      </td></tr>\n",
       "\t<tr><th scope=row>1</th><td>ALIMENTARY TRACT AND METABOLISM                                </td><td>265                                                            </td><td>10.553564                                                      </td></tr>\n",
       "\t<tr><th scope=row>11</th><td>RESPIRATORY SYSTEM                                             </td><td>222                                                            </td><td> 8.841099                                                      </td></tr>\n",
       "\t<tr><th scope=row>12</th><td>SENSORY ORGANS                                                 </td><td>195                                                            </td><td> 7.765830                                                      </td></tr>\n",
       "\t<tr><th scope=row>8</th><td>GENITO URINARY SYSTEM AND SEX HORMONES                         </td><td>186                                                            </td><td> 7.407407                                                      </td></tr>\n",
       "\t<tr><th scope=row>7</th><td>DERMATOLOGICALS                                                </td><td>180                                                            </td><td> 7.168459                                                      </td></tr>\n",
       "\t<tr><th scope=row>3</th><td>ANTINEOPLASTIC AND IMMUNOMODULATING AGENTS                     </td><td>131                                                            </td><td> 5.217045                                                      </td></tr>\n",
       "\t<tr><th scope=row>9</th><td>MUSCULO-SKELETAL SYSTEM                                        </td><td>115                                                            </td><td> 4.579849                                                      </td></tr>\n",
       "\t<tr><th scope=row>5</th><td>BLOOD AND BLOOD FORMING ORGANS                                 </td><td> 67                                                            </td><td> 2.668260                                                      </td></tr>\n",
       "\t<tr><th scope=row>14</th><td>VARIOUS                                                        </td><td> 51                                                            </td><td> 2.031063                                                      </td></tr>\n",
       "\t<tr><th scope=row>4</th><td>ANTIPARASITIC PRODUCTS, INSECTICIDES AND REPELLENTS            </td><td> 49                                                            </td><td> 1.951414                                                      </td></tr>\n",
       "\t<tr><th scope=row>13</th><td>SYSTEMIC HORMONAL PREPARATIONS, EXCL. SEX HORMONES AND INSULINS</td><td> 31                                                            </td><td> 1.234568                                                      </td></tr>\n",
       "</tbody>\n",
       "</table>\n"
      ],
      "text/latex": [
       "\\begin{tabular}{r|lll}\n",
       "  & atc\\_name & Freq & Percent\\\\\n",
       "\\hline\n",
       "\t6 & CARDIOVASCULAR SYSTEM                                           & 383                                                             & 15.252887                                                      \\\\\n",
       "\t10 & NERVOUS SYSTEM                                                  & 344                                                             & 13.699721                                                      \\\\\n",
       "\t2 & ANTIINFECTIVES FOR SYSTEMIC USE                                 & 292                                                             & 11.628833                                                      \\\\\n",
       "\t1 & ALIMENTARY TRACT AND METABOLISM                                 & 265                                                             & 10.553564                                                      \\\\\n",
       "\t11 & RESPIRATORY SYSTEM                                              & 222                                                             &  8.841099                                                      \\\\\n",
       "\t12 & SENSORY ORGANS                                                  & 195                                                             &  7.765830                                                      \\\\\n",
       "\t8 & GENITO URINARY SYSTEM AND SEX HORMONES                          & 186                                                             &  7.407407                                                      \\\\\n",
       "\t7 & DERMATOLOGICALS                                                 & 180                                                             &  7.168459                                                      \\\\\n",
       "\t3 & ANTINEOPLASTIC AND IMMUNOMODULATING AGENTS                      & 131                                                             &  5.217045                                                      \\\\\n",
       "\t9 & MUSCULO-SKELETAL SYSTEM                                         & 115                                                             &  4.579849                                                      \\\\\n",
       "\t5 & BLOOD AND BLOOD FORMING ORGANS                                  &  67                                                             &  2.668260                                                      \\\\\n",
       "\t14 & VARIOUS                                                         &  51                                                             &  2.031063                                                      \\\\\n",
       "\t4 & ANTIPARASITIC PRODUCTS, INSECTICIDES AND REPELLENTS             &  49                                                             &  1.951414                                                      \\\\\n",
       "\t13 & SYSTEMIC HORMONAL PREPARATIONS, EXCL. SEX HORMONES AND INSULINS &  31                                                             &  1.234568                                                      \\\\\n",
       "\\end{tabular}\n"
      ],
      "text/plain": [
       "   atc_name                                                        Freq\n",
       "6  CARDIOVASCULAR SYSTEM                                           383 \n",
       "10 NERVOUS SYSTEM                                                  344 \n",
       "2  ANTIINFECTIVES FOR SYSTEMIC USE                                 292 \n",
       "1  ALIMENTARY TRACT AND METABOLISM                                 265 \n",
       "11 RESPIRATORY SYSTEM                                              222 \n",
       "12 SENSORY ORGANS                                                  195 \n",
       "8  GENITO URINARY SYSTEM AND SEX HORMONES                          186 \n",
       "7  DERMATOLOGICALS                                                 180 \n",
       "3  ANTINEOPLASTIC AND IMMUNOMODULATING AGENTS                      131 \n",
       "9  MUSCULO-SKELETAL SYSTEM                                         115 \n",
       "5  BLOOD AND BLOOD FORMING ORGANS                                   67 \n",
       "14 VARIOUS                                                          51 \n",
       "4  ANTIPARASITIC PRODUCTS, INSECTICIDES AND REPELLENTS              49 \n",
       "13 SYSTEMIC HORMONAL PREPARATIONS, EXCL. SEX HORMONES AND INSULINS  31 \n",
       "   Percent  \n",
       "6  15.252887\n",
       "10 13.699721\n",
       "2  11.628833\n",
       "1  10.553564\n",
       "11  8.841099\n",
       "12  7.765830\n",
       "8   7.407407\n",
       "7   7.168459\n",
       "3   5.217045\n",
       "9   4.579849\n",
       "5   2.668260\n",
       "14  2.031063\n",
       "4   1.951414\n",
       "13  1.234568"
      ]
     },
     "metadata": {},
     "output_type": "display_data"
    }
   ],
   "source": [
    "hetioPathways <- child\n",
    "hetio.freq = table(sort(hetioPathways))\n",
    "hetio.freq.df = as.data.frame(hetio.freq)\n",
    "colnames(hetio.freq.df)[1] = 'atc_name'\n",
    "hetio.percent = prop.table(hetio.freq)*100\n",
    "hetio.percent.df <- as.data.frame(hetio.percent)\n",
    "colnames(hetio.percent.df) = c('atc_name', 'Percent')\n",
    "#colnames(fileparent) = c('chebi_id','name')\n",
    "#hetio.percent.df.merge = merge(fileparent, hetio.freq.df, by.x = 'atc_name', all.x = T)\n",
    "hetio.percent.df.merge = merge(hetio.freq.df,hetio.percent.df, by.x = 'atc_name', all.x = T)\n",
    "#hetio.percent.df.merge$Freq[is.na(hetio.percent.df.merge$Freq)] = 0\n",
    "#hetio.percent.df.merge = merge(hetio.percent.df.merge, hetio.percent.df, by.x = 'atc_name', all.x = T)\n",
    "#hetio.percent.df.merge$Percent[is.na(hetio.percent.df.merge$Percent)] = 0\n",
    "hetio.percent.df.merge = hetio.percent.df.merge[order(-hetio.percent.df.merge$Percent),]\n",
    "hetio.percent.df.merge"
   ]
  },
  {
   "cell_type": "markdown",
   "metadata": {},
   "source": [
    "### Save graphic"
   ]
  },
  {
   "cell_type": "code",
   "execution_count": 24,
   "metadata": {
    "collapsed": false
   },
   "outputs": [
    {
     "data": {
      "image/png": "[encoded data removed]",
      "text/plain": [
       "Plot with title “ATC Classes”"
      ]
     },
     "metadata": {},
     "output_type": "display_data"
    }
   ],
   "source": [
    "#png(\"/home/nuria/workspace/repurposing-hetio/rephetio-dhimmelstein/Characterization-Disease-Drug-Scope-of-hetio/out/hetionet-atcids-classes-percent.png\",width=1700,height=960, units = \"px\", pointsize = 18)\n",
    "par(oma=c(.2,17.,.2,.2))\n",
    "f1bp <- barplot(hetio.percent.df.merge$Percent, names.arg = hetio.percent.df.merge$atc_name,las=2,cex.names=.6,xlim=c(0,100),main=\"ATC Classes\",xlab=\"% of drugs\",cex.axis=.8,horiz=T)\n",
    "text(hetio.percent.df.merge$Percent+6,f1bp,labels=paste0(as.character(round(hetio.percent.df.merge$Percent)),\"%\"),cex=.6,xpd=T)\n",
    "#dev.off()"
   ]
  },
  {
   "cell_type": "markdown",
   "metadata": {},
   "source": [
    "### ChEBI coverage"
   ]
  },
  {
   "cell_type": "markdown",
   "metadata": {
    "collapsed": true
   },
   "source": [
    "### Input: all ChEBI classes as child classes"
   ]
  },
  {
   "cell_type": "code",
   "execution_count": 12,
   "metadata": {
    "collapsed": false
   },
   "outputs": [
    {
     "name": "stdout",
     "output_type": "stream",
     "text": [
      "\n",
      "Number of child classes: 102376\n",
      "Number of child classes in CHEBI: 102376"
     ]
    }
   ],
   "source": [
    "filechild <- read.csv(\"/home/nuria/workspace/repurposing-hetio/rephetio-dhimmelstein/Characterization-Disease-Drug-Scope-of-hetio/out/allActIdCHEBIOntology.tab\", sep = \"\\t\", header = F)\n",
    "child <- filechild[c(1)]\n",
    "child <- child$V1\n",
    "cat('\\nNumber of child classes:', length(unique(child)))\n",
    "child <- intersect(child,nodes$node)\n",
    "cat('\\nNumber of child classes in CHEBI:',length(unique(child)))"
   ]
  },
  {
   "cell_type": "markdown",
   "metadata": {},
   "source": [
    "### Output: child -> parent pathways"
   ]
  },
  {
   "cell_type": "code",
   "execution_count": 13,
   "metadata": {
    "collapsed": true
   },
   "outputs": [],
   "source": [
    "resultsPathways  <- data.frame(t(rep(NA,3)))\n",
    "colnames(resultsPathways ) <- c(\"child\", \"parent\", \"length\")"
   ]
  },
  {
   "cell_type": "markdown",
   "metadata": {},
   "source": [
    "### Algorithm"
   ]
  },
  {
   "cell_type": "code",
   "execution_count": null,
   "metadata": {
    "collapsed": true
   },
   "outputs": [],
   "source": [
    "c <- 1  \n",
    "for (node1 in child ){     \n",
    "  for (node2 in parent){       \n",
    "    sp <- get.shortest.paths(graph,from = node1, to = node2, mode = \"out\")\n",
    "    \n",
    "    if (length(sp$vpath[[1]]) > 0){\n",
    "      l <- length(sp$vpath[[1]])\n",
    "      resultsPathways[c, 1] <- node1\n",
    "      resultsPathways[c, 2] <- node2      \n",
    "      resultsPathways[c, 3] <- l # original row\n",
    "      c<- c+1\n",
    "    }\n",
    "  }\n",
    "}"
   ]
  },
  {
   "cell_type": "markdown",
   "metadata": {},
   "source": [
    "### Save results"
   ]
  },
  {
   "cell_type": "code",
   "execution_count": null,
   "metadata": {
    "collapsed": false
   },
   "outputs": [],
   "source": [
    "str(resultsPathways)\n",
    "write.csv(resultsPathways,\"/home/nuria/workspace/repurposing-hetio/rephetio-dhimmelstein/Characterization-Disease-Drug-Scope-of-hetio/out/hetionet-chebiOntologyChildsPathways.csv\")"
   ]
  },
  {
   "cell_type": "markdown",
   "metadata": {},
   "source": [
    "### Drug class distribution and CHEBI coverage"
   ]
  },
  {
   "cell_type": "code",
   "execution_count": null,
   "metadata": {
    "collapsed": false
   },
   "outputs": [],
   "source": [
    "chebiPathways <- resultsPathways\n",
    "chebi.freq = table(sort(chebiPathways$parent))\n",
    "chebi.df = as.data.frame(chebi.freq)\n",
    "hetio.df = as.data.frame(hetio.freq)\n",
    "colnames(do.df) = c('chebi_id', 'chebiFreq'); colnames(hetio.df) = c('chebi_id', 'hetioFreq')\n",
    "hetio.parent.df = merge(fileparent, hetio.df, by.x = 'chebi_id', all.x = T) #; hetio.parent.df\n",
    "hetio.parent.df$hetioFreq[is.na(hetio.parent.df$hetioFreq)] = 0 #; hetio.parent.df\n",
    "coverage.df = merge(hetio.parent.df, chebi.df, by.x = 'chebi_id', all.x = T) #; coverage.df\n",
    "coverage.df$percent = (coverage.df$hetioFreq*100)/coverage.df$chebiFreq #; coverage.df\n",
    "coverage.df = coverage.df[order(-coverage.df$percent),]; coverage.df"
   ]
  },
  {
   "cell_type": "markdown",
   "metadata": {},
   "source": [
    "### Save graphic"
   ]
  },
  {
   "cell_type": "code",
   "execution_count": null,
   "metadata": {
    "collapsed": false
   },
   "outputs": [],
   "source": [
    "#png(\"/home/nuria/workspace/repurposing-hetio/rephetio-dhimmelstein/Characterization-Disease-Drug-Scope-of-hetio/out/hetionet-chebi-coverage-classes-percent.png\",width=1700,height=960, units = \"px\", pointsize = 18)\n",
    "par(oma=c(.2,8.,.2,.2))\n",
    "f1bp <- barplot(coverage.df$percent, names.arg = coverage.df$name,las=2,cex.names=.8,xlim=c(0,100),main=\"CHEBI Classes\",xlab=\"% of drugs\",cex.axis=.8,horiz=T)\n",
    "text(coverage.df$percent+4,f1bp,labels=paste0(as.character(round(coverage.df$percent)),\"%\"),cex=.7,xpd=T)\n",
    "#dev.off()"
   ]
  }
 ],
 "metadata": {
  "kernelspec": {
   "display_name": "R",
   "language": "R",
   "name": "ir"
  },
  "language_info": {
   "codemirror_mode": "r",
   "file_extension": ".r",
   "mimetype": "text/x-r-source",
   "name": "R",
   "pygments_lexer": "r",
   "version": "3.3.1"
  }
 },
 "nbformat": 4,
 "nbformat_minor": 0
}
