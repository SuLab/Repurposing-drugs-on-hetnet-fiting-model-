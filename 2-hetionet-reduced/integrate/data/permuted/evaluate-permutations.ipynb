{
 "cells": [
  {
   "cell_type": "markdown",
   "metadata": {},
   "source": [
    "# Analyze permutate metrics"
   ]
  },
  {
   "cell_type": "code",
   "execution_count": 1,
   "metadata": {
    "collapsed": true
   },
   "outputs": [],
   "source": [
    "library(dplyr, warn=FALSE)"
   ]
  },
  {
   "cell_type": "code",
   "execution_count": 2,
   "metadata": {
    "collapsed": true
   },
   "outputs": [],
   "source": [
    "# Must manually set\n",
    "multiplier = 5"
   ]
  },
  {
   "cell_type": "code",
   "execution_count": 3,
   "metadata": {
    "collapsed": false
   },
   "outputs": [],
   "source": [
    "stat_df = readr::read_tsv('stats.tsv') %>%\n",
    "  dplyr::mutate(complete = round(complete * multiplier, 2))\n",
    "head(stat_df, 2)"
   ]
  },
  {
   "cell_type": "markdown",
   "metadata": {},
   "source": [
    "## How many permutations are needed to randomize an edge "
   ]
  },
  {
   "cell_type": "code",
   "execution_count": 4,
   "metadata": {
    "collapsed": false
   },
   "outputs": [],
   "source": [
    "unchanged_df = stat_df %>%\n",
    "  # Average over permutations\n",
    "  dplyr::group_by(abbrev, complete) %>%\n",
    "  dplyr::summarize(unchanged = mean(unchanged)) %>%\n",
    "  dplyr::ungroup() %>%\n",
    "  dplyr::bind_rows(dplyr::data_frame(abbrev=unique(stat_df$abbrev), complete = 0, unchanged=1))\n",
    "\n",
    "abbrevs = unchanged_df %>%\n",
    "  dplyr::filter(complete == multiplier) %>%\n",
    "  dplyr::arrange(desc(unchanged)) %>%\n",
    "  .[['abbrev']]\n",
    "\n",
    "unchanged_df %>%\n",
    "  ggplot2::ggplot(ggplot2::aes(x = complete, y = 100 * unchanged, color=abbrev)) +\n",
    "  ggplot2::geom_line() +\n",
    "  ggplot2::theme_bw() +\n",
    "  ggplot2::scale_colour_discrete(breaks = abbrevs, name='Metaedge') +\n",
    "  ggplot2::xlab('Attempt multiplier') +\n",
    "  ggplot2::ylab('Percent of Edges Unchanged')"
   ]
  },
  {
   "cell_type": "code",
   "execution_count": 5,
   "metadata": {
    "collapsed": false
   },
   "outputs": [],
   "source": [
    "bar_df = stat_df %>%\n",
    "  tidyr::gather(key = 'measure', value = 'percent', duplicate:excluded, same_edge:undirected_duplicate) %>%\n",
    "  dplyr::group_by(abbrev, measure) %>%\n",
    "  dplyr::summarize(\n",
    "    percent = 100 * weighted.mean(percent, attempts)\n",
    "  ) %>%\n",
    "  dplyr::filter(measure != 'excluded')\n",
    "\n",
    "bar_df$abbrev = factor(bar_df$abbrev, levels=abbrevs)"
   ]
  },
  {
   "cell_type": "markdown",
   "metadata": {},
   "source": [
    "## What percent of attempts result in a duplicate edge"
   ]
  },
  {
   "cell_type": "code",
   "execution_count": 6,
   "metadata": {
    "collapsed": false,
    "scrolled": false
   },
   "outputs": [],
   "source": [
    "bar_df %>%\n",
    "  dplyr::filter(measure %in% c('duplicate')) %>%\n",
    "  ggplot2::ggplot(ggplot2::aes(x = abbrev, y = percent, fill=measure)) +\n",
    "  ggplot2::geom_bar(stat = \"identity\", position = \"dodge\") +\n",
    "  ggplot2::coord_flip()"
   ]
  },
  {
   "cell_type": "markdown",
   "metadata": {},
   "source": [
    "## How frequent are other disqualifying factors for each XSwap attempt"
   ]
  },
  {
   "cell_type": "code",
   "execution_count": 7,
   "metadata": {
    "collapsed": false
   },
   "outputs": [],
   "source": [
    "bar_df %>%\n",
    "  dplyr::filter(!(measure %in% c('duplicate', 'unchanged'))) %>%\n",
    "  ggplot2::ggplot(ggplot2::aes(x = abbrev, y = percent, fill=measure)) +\n",
    "  ggplot2::geom_bar(stat = \"identity\", position = \"dodge\") +\n",
    "  ggplot2::coord_flip()"
   ]
  }
 ],
 "metadata": {
  "kernelspec": {
   "display_name": "R",
   "language": "R",
   "name": "ir"
  },
  "language_info": {
   "codemirror_mode": "r",
   "file_extension": ".r",
   "mimetype": "text/x-r-source",
   "name": "R",
   "pygments_lexer": "r",
   "version": "3.3.1"
  }
 },
 "nbformat": 4,
 "nbformat_minor": 0
}
