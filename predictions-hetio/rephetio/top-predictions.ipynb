{
 "cells": [
  {
   "cell_type": "markdown",
   "metadata": {},
   "source": [
    "## Top predictions analysis"
   ]
  },
  {
   "cell_type": "code",
   "execution_count": 1,
   "metadata": {
    "collapsed": true
   },
   "outputs": [],
   "source": [
    "import pandas"
   ]
  },
  {
   "cell_type": "code",
   "execution_count": 2,
   "metadata": {
    "collapsed": false
   },
   "outputs": [
    {
     "data": {
      "text/html": [
       "<div>\n",
       "<table border=\"1\" class=\"dataframe\">\n",
       "  <thead>\n",
       "    <tr style=\"text-align: right;\">\n",
       "      <th></th>\n",
       "      <th>compound_name</th>\n",
       "      <th>disease_name</th>\n",
       "      <th>category</th>\n",
       "      <th>prediction</th>\n",
       "      <th>compound_percentile</th>\n",
       "      <th>disease_percentile</th>\n",
       "      <th>prior_prob</th>\n",
       "      <th>n_trials</th>\n",
       "    </tr>\n",
       "  </thead>\n",
       "  <tbody>\n",
       "    <tr>\n",
       "      <th>0</th>\n",
       "      <td>Pamidronate</td>\n",
       "      <td>osteoporosis</td>\n",
       "      <td>DM</td>\n",
       "      <td>0.886899</td>\n",
       "      <td>1.0</td>\n",
       "      <td>1.00000</td>\n",
       "      <td>0.03893</td>\n",
       "      <td>0</td>\n",
       "    </tr>\n",
       "    <tr>\n",
       "      <th>1</th>\n",
       "      <td>Alendronate</td>\n",
       "      <td>osteoporosis</td>\n",
       "      <td>DM</td>\n",
       "      <td>0.884991</td>\n",
       "      <td>1.0</td>\n",
       "      <td>0.99935</td>\n",
       "      <td>0.03893</td>\n",
       "      <td>68</td>\n",
       "    </tr>\n",
       "  </tbody>\n",
       "</table>\n",
       "</div>"
      ],
      "text/plain": [
       "  compound_name  disease_name category  prediction  compound_percentile  \\\n",
       "0   Pamidronate  osteoporosis       DM    0.886899                  1.0   \n",
       "1   Alendronate  osteoporosis       DM    0.884991                  1.0   \n",
       "\n",
       "   disease_percentile  prior_prob  n_trials  \n",
       "0             1.00000     0.03893         0  \n",
       "1             0.99935     0.03893        68  "
      ]
     },
     "execution_count": 2,
     "metadata": {},
     "output_type": "execute_result"
    }
   ],
   "source": [
    "# open top predictions file\n",
    "top_pred_df = pandas.read_excel('predictions/top-predictions.xlsx')\n",
    "top_pred_df.head(2)"
   ]
  },
  {
   "cell_type": "code",
   "execution_count": 3,
   "metadata": {
    "collapsed": false
   },
   "outputs": [
    {
     "data": {
      "text/plain": [
       "3980"
      ]
     },
     "execution_count": 3,
     "metadata": {},
     "output_type": "execute_result"
    }
   ],
   "source": [
    "# Number of top predictions\n",
    "len(top_pred_df)"
   ]
  },
  {
   "cell_type": "code",
   "execution_count": 4,
   "metadata": {
    "collapsed": false
   },
   "outputs": [
    {
     "data": {
      "text/html": [
       "<div>\n",
       "<table border=\"1\" class=\"dataframe\">\n",
       "  <thead>\n",
       "    <tr style=\"text-align: right;\">\n",
       "      <th></th>\n",
       "      <th>compound_id</th>\n",
       "      <th>compound_name</th>\n",
       "      <th>disease_id</th>\n",
       "      <th>disease_name</th>\n",
       "      <th>category</th>\n",
       "      <th>status</th>\n",
       "      <th>prior_prob</th>\n",
       "      <th>prediction</th>\n",
       "      <th>training_prediction</th>\n",
       "      <th>compound_percentile</th>\n",
       "      <th>disease_percentile</th>\n",
       "      <th>n_trials</th>\n",
       "      <th>status_trials</th>\n",
       "      <th>status_drugcentral</th>\n",
       "    </tr>\n",
       "  </thead>\n",
       "  <tbody>\n",
       "    <tr>\n",
       "      <th>139518</th>\n",
       "      <td>DB00282</td>\n",
       "      <td>Pamidronate</td>\n",
       "      <td>DOID:11476</td>\n",
       "      <td>osteoporosis</td>\n",
       "      <td>DM</td>\n",
       "      <td>1</td>\n",
       "      <td>0.03893</td>\n",
       "      <td>0.886899</td>\n",
       "      <td>0.977108</td>\n",
       "      <td>1.0</td>\n",
       "      <td>1.00000</td>\n",
       "      <td>NaN</td>\n",
       "      <td>NaN</td>\n",
       "      <td>NaN</td>\n",
       "    </tr>\n",
       "    <tr>\n",
       "      <th>138453</th>\n",
       "      <td>DB00630</td>\n",
       "      <td>Alendronate</td>\n",
       "      <td>DOID:11476</td>\n",
       "      <td>osteoporosis</td>\n",
       "      <td>DM</td>\n",
       "      <td>1</td>\n",
       "      <td>0.03893</td>\n",
       "      <td>0.884991</td>\n",
       "      <td>0.976682</td>\n",
       "      <td>1.0</td>\n",
       "      <td>0.99935</td>\n",
       "      <td>NaN</td>\n",
       "      <td>NaN</td>\n",
       "      <td>NaN</td>\n",
       "    </tr>\n",
       "  </tbody>\n",
       "</table>\n",
       "</div>"
      ],
      "text/plain": [
       "       compound_id compound_name  disease_id  disease_name category  status  \\\n",
       "139518     DB00282   Pamidronate  DOID:11476  osteoporosis       DM       1   \n",
       "138453     DB00630   Alendronate  DOID:11476  osteoporosis       DM       1   \n",
       "\n",
       "        prior_prob  prediction  training_prediction  compound_percentile  \\\n",
       "139518     0.03893    0.886899             0.977108                  1.0   \n",
       "138453     0.03893    0.884991             0.976682                  1.0   \n",
       "\n",
       "        disease_percentile  n_trials  status_trials  status_drugcentral  \n",
       "139518             1.00000       NaN            NaN                 NaN  \n",
       "138453             0.99935       NaN            NaN                 NaN  "
      ]
     },
     "execution_count": 4,
     "metadata": {},
     "output_type": "execute_result"
    }
   ],
   "source": [
    "# open all predictions file\n",
    "pred_df = pandas.read_table('predictions/probabilities.tsv')\n",
    "#pred_df.head(2)\n",
    "pred_df.sort_values('prediction', ascending=False).head(2)"
   ]
  },
  {
   "cell_type": "code",
   "execution_count": 5,
   "metadata": {
    "collapsed": false
   },
   "outputs": [
    {
     "data": {
      "text/plain": [
       "209168"
      ]
     },
     "execution_count": 5,
     "metadata": {},
     "output_type": "execute_result"
    }
   ],
   "source": [
    "# Number of total predictions\n",
    "len(pred_df)"
   ]
  },
  {
   "cell_type": "code",
   "execution_count": 6,
   "metadata": {
    "collapsed": false
   },
   "outputs": [
    {
     "data": {
      "text/plain": [
       "755"
      ]
     },
     "execution_count": 6,
     "metadata": {},
     "output_type": "execute_result"
    }
   ],
   "source": [
    "# Number of predictions with status = 1 in all predictions dataset\n",
    "len(pred_df[pred_df.status == 1])"
   ]
  },
  {
   "cell_type": "code",
   "execution_count": 7,
   "metadata": {
    "collapsed": false
   },
   "outputs": [
    {
     "data": {
      "text/html": [
       "<div>\n",
       "<table border=\"1\" class=\"dataframe\">\n",
       "  <thead>\n",
       "    <tr style=\"text-align: right;\">\n",
       "      <th></th>\n",
       "      <th>compound_id</th>\n",
       "      <th>compound_name</th>\n",
       "      <th>disease_id</th>\n",
       "      <th>disease_name</th>\n",
       "      <th>status</th>\n",
       "    </tr>\n",
       "  </thead>\n",
       "  <tbody>\n",
       "    <tr>\n",
       "      <th>0</th>\n",
       "      <td>DB01048</td>\n",
       "      <td>Abacavir</td>\n",
       "      <td>DOID:10652</td>\n",
       "      <td>Alzheimer's disease</td>\n",
       "      <td>0</td>\n",
       "    </tr>\n",
       "    <tr>\n",
       "      <th>1</th>\n",
       "      <td>DB05812</td>\n",
       "      <td>Abiraterone</td>\n",
       "      <td>DOID:10652</td>\n",
       "      <td>Alzheimer's disease</td>\n",
       "      <td>0</td>\n",
       "    </tr>\n",
       "  </tbody>\n",
       "</table>\n",
       "</div>"
      ],
      "text/plain": [
       "  compound_id compound_name  disease_id         disease_name  status\n",
       "0     DB01048      Abacavir  DOID:10652  Alzheimer's disease       0\n",
       "1     DB05812   Abiraterone  DOID:10652  Alzheimer's disease       0"
      ]
     },
     "execution_count": 7,
     "metadata": {},
     "output_type": "execute_result"
    }
   ],
   "source": [
    "# add compound and disease IDs and status vectors into top_pred_df\n",
    "pred_df = pred_df[['compound_id','compound_name','disease_id', 'disease_name', 'status']]\n",
    "pred_df.head(2)"
   ]
  },
  {
   "cell_type": "code",
   "execution_count": 8,
   "metadata": {
    "collapsed": false
   },
   "outputs": [
    {
     "data": {
      "text/html": [
       "<div>\n",
       "<table border=\"1\" class=\"dataframe\">\n",
       "  <thead>\n",
       "    <tr style=\"text-align: right;\">\n",
       "      <th></th>\n",
       "      <th>compound_name</th>\n",
       "      <th>disease_name</th>\n",
       "      <th>category</th>\n",
       "      <th>prediction</th>\n",
       "      <th>compound_percentile</th>\n",
       "      <th>disease_percentile</th>\n",
       "      <th>prior_prob</th>\n",
       "      <th>n_trials</th>\n",
       "      <th>compound_id</th>\n",
       "      <th>disease_id</th>\n",
       "      <th>status</th>\n",
       "    </tr>\n",
       "  </thead>\n",
       "  <tbody>\n",
       "    <tr>\n",
       "      <th>0</th>\n",
       "      <td>Pamidronate</td>\n",
       "      <td>osteoporosis</td>\n",
       "      <td>DM</td>\n",
       "      <td>0.886899</td>\n",
       "      <td>1.0</td>\n",
       "      <td>1.00000</td>\n",
       "      <td>0.03893</td>\n",
       "      <td>0</td>\n",
       "      <td>DB00282</td>\n",
       "      <td>DOID:11476</td>\n",
       "      <td>1</td>\n",
       "    </tr>\n",
       "    <tr>\n",
       "      <th>1</th>\n",
       "      <td>Alendronate</td>\n",
       "      <td>osteoporosis</td>\n",
       "      <td>DM</td>\n",
       "      <td>0.884991</td>\n",
       "      <td>1.0</td>\n",
       "      <td>0.99935</td>\n",
       "      <td>0.03893</td>\n",
       "      <td>68</td>\n",
       "      <td>DB00630</td>\n",
       "      <td>DOID:11476</td>\n",
       "      <td>1</td>\n",
       "    </tr>\n",
       "  </tbody>\n",
       "</table>\n",
       "</div>"
      ],
      "text/plain": [
       "  compound_name  disease_name category  prediction  compound_percentile  \\\n",
       "0   Pamidronate  osteoporosis       DM    0.886899                  1.0   \n",
       "1   Alendronate  osteoporosis       DM    0.884991                  1.0   \n",
       "\n",
       "   disease_percentile  prior_prob  n_trials compound_id  disease_id  status  \n",
       "0             1.00000     0.03893         0     DB00282  DOID:11476       1  \n",
       "1             0.99935     0.03893        68     DB00630  DOID:11476       1  "
      ]
     },
     "execution_count": 8,
     "metadata": {},
     "output_type": "execute_result"
    }
   ],
   "source": [
    "top_id_df = pandas.merge(top_pred_df, pred_df, how='left', on=['compound_name','disease_name'])\n",
    "top_id_df.head(2)"
   ]
  },
  {
   "cell_type": "code",
   "execution_count": 9,
   "metadata": {
    "collapsed": false
   },
   "outputs": [
    {
     "data": {
      "text/html": [
       "<div>\n",
       "<table border=\"1\" class=\"dataframe\">\n",
       "  <thead>\n",
       "    <tr style=\"text-align: right;\">\n",
       "      <th></th>\n",
       "      <th>compound_name</th>\n",
       "      <th>compound_id</th>\n",
       "      <th>disease_name</th>\n",
       "      <th>disease_id</th>\n",
       "      <th>status</th>\n",
       "      <th>category</th>\n",
       "      <th>prediction</th>\n",
       "      <th>compound_percentile</th>\n",
       "      <th>disease_percentile</th>\n",
       "      <th>prior_prob</th>\n",
       "    </tr>\n",
       "  </thead>\n",
       "  <tbody>\n",
       "    <tr>\n",
       "      <th>0</th>\n",
       "      <td>Pamidronate</td>\n",
       "      <td>DB00282</td>\n",
       "      <td>osteoporosis</td>\n",
       "      <td>DOID:11476</td>\n",
       "      <td>1</td>\n",
       "      <td>DM</td>\n",
       "      <td>0.886899</td>\n",
       "      <td>1.0</td>\n",
       "      <td>1.00000</td>\n",
       "      <td>0.03893</td>\n",
       "    </tr>\n",
       "    <tr>\n",
       "      <th>1</th>\n",
       "      <td>Alendronate</td>\n",
       "      <td>DB00630</td>\n",
       "      <td>osteoporosis</td>\n",
       "      <td>DOID:11476</td>\n",
       "      <td>1</td>\n",
       "      <td>DM</td>\n",
       "      <td>0.884991</td>\n",
       "      <td>1.0</td>\n",
       "      <td>0.99935</td>\n",
       "      <td>0.03893</td>\n",
       "    </tr>\n",
       "  </tbody>\n",
       "</table>\n",
       "</div>"
      ],
      "text/plain": [
       "  compound_name compound_id  disease_name  disease_id  status category  \\\n",
       "0   Pamidronate     DB00282  osteoporosis  DOID:11476       1       DM   \n",
       "1   Alendronate     DB00630  osteoporosis  DOID:11476       1       DM   \n",
       "\n",
       "   prediction  compound_percentile  disease_percentile  prior_prob  \n",
       "0    0.886899                  1.0             1.00000     0.03893  \n",
       "1    0.884991                  1.0             0.99935     0.03893  "
      ]
     },
     "execution_count": 9,
     "metadata": {},
     "output_type": "execute_result"
    }
   ],
   "source": [
    "# reorder columns\n",
    "cols = top_id_df.columns.tolist()\n",
    "cols = [cols[0] , cols[8] , cols[1] , cols[9] , cols[10]] + cols[2:7]\n",
    "cols\n",
    "top_id_df = top_id_df[cols]\n",
    "top_id_df.head(2)"
   ]
  },
  {
   "cell_type": "code",
   "execution_count": 10,
   "metadata": {
    "collapsed": true
   },
   "outputs": [],
   "source": [
    "# save df\n",
    "with open('./top-predictions/top-predictions.tsv', 'w') as write_file:\n",
    "    top_id_df.to_csv(write_file, float_format='%.5g', sep='\\t', index=False)"
   ]
  },
  {
   "cell_type": "code",
   "execution_count": 11,
   "metadata": {
    "collapsed": false
   },
   "outputs": [
    {
     "data": {
      "text/html": [
       "<div>\n",
       "<table border=\"1\" class=\"dataframe\">\n",
       "  <thead>\n",
       "    <tr style=\"text-align: right;\">\n",
       "      <th></th>\n",
       "      <th>compound_name</th>\n",
       "      <th>compound_id</th>\n",
       "      <th>disease_name</th>\n",
       "      <th>disease_id</th>\n",
       "      <th>status</th>\n",
       "      <th>category</th>\n",
       "      <th>prediction</th>\n",
       "      <th>compound_percentile</th>\n",
       "      <th>disease_percentile</th>\n",
       "      <th>prior_prob</th>\n",
       "    </tr>\n",
       "  </thead>\n",
       "  <tbody>\n",
       "    <tr>\n",
       "      <th>0</th>\n",
       "      <td>Pamidronate</td>\n",
       "      <td>DB00282</td>\n",
       "      <td>osteoporosis</td>\n",
       "      <td>DOID_11476</td>\n",
       "      <td>1</td>\n",
       "      <td>DM</td>\n",
       "      <td>0.886899</td>\n",
       "      <td>1.0</td>\n",
       "      <td>1.00000</td>\n",
       "      <td>0.03893</td>\n",
       "    </tr>\n",
       "    <tr>\n",
       "      <th>1</th>\n",
       "      <td>Alendronate</td>\n",
       "      <td>DB00630</td>\n",
       "      <td>osteoporosis</td>\n",
       "      <td>DOID_11476</td>\n",
       "      <td>1</td>\n",
       "      <td>DM</td>\n",
       "      <td>0.884991</td>\n",
       "      <td>1.0</td>\n",
       "      <td>0.99935</td>\n",
       "      <td>0.03893</td>\n",
       "    </tr>\n",
       "  </tbody>\n",
       "</table>\n",
       "</div>"
      ],
      "text/plain": [
       "  compound_name compound_id  disease_name  disease_id  status category  \\\n",
       "0   Pamidronate     DB00282  osteoporosis  DOID_11476       1       DM   \n",
       "1   Alendronate     DB00630  osteoporosis  DOID_11476       1       DM   \n",
       "\n",
       "   prediction  compound_percentile  disease_percentile  prior_prob  \n",
       "0    0.886899                  1.0             1.00000     0.03893  \n",
       "1    0.884991                  1.0             0.99935     0.03893  "
      ]
     },
     "execution_count": 11,
     "metadata": {},
     "output_type": "execute_result"
    }
   ],
   "source": [
    "# DOID - replace ':' by '_'\n",
    "top_df = top_id_df\n",
    "top_df['disease_id'] = top_df.disease_id.str.replace(':','_')\n",
    "top_df.head(2)"
   ]
  },
  {
   "cell_type": "code",
   "execution_count": 12,
   "metadata": {
    "collapsed": true
   },
   "outputs": [],
   "source": [
    "# save df\n",
    "with open('./top-predictions/top-predictions.tsv', 'w') as write_file:\n",
    "    top_id_df.to_csv(write_file, float_format='%.5g', sep='\\t', index=False)"
   ]
  },
  {
   "cell_type": "markdown",
   "metadata": {},
   "source": [
    "## Statistics"
   ]
  },
  {
   "cell_type": "markdown",
   "metadata": {},
   "source": [
    "### Top predictions dataset"
   ]
  },
  {
   "cell_type": "code",
   "execution_count": 13,
   "metadata": {
    "collapsed": false
   },
   "outputs": [
    {
     "name": "stdout",
     "output_type": "stream",
     "text": [
      "Top predictions (prob > 1%)\n",
      "number of top predictions: 3980\n"
     ]
    }
   ],
   "source": [
    "# Number of top predictions\n",
    "print('Top predictions (prob > 1%)')\n",
    "print('number of top predictions: {}'.format(len(top_df)))"
   ]
  },
  {
   "cell_type": "code",
   "execution_count": 14,
   "metadata": {
    "collapsed": false
   },
   "outputs": [
    {
     "name": "stdout",
     "output_type": "stream",
     "text": [
      "top predictions are 2% to all predictions\n"
     ]
    }
   ],
   "source": [
    "# percentage to all predictions\n",
    "print('top predictions are {}% to all predictions'.format(round(len(top_df)*100/len(pred_df))))"
   ]
  },
  {
   "cell_type": "code",
   "execution_count": 15,
   "metadata": {
    "collapsed": false
   },
   "outputs": [
    {
     "name": "stdout",
     "output_type": "stream",
     "text": [
      "number of top predictions that are known treatments: 586\n"
     ]
    }
   ],
   "source": [
    "# Number of predictions with status = 1 in top predictions dataset\n",
    "print('number of top predictions that are known treatments: {}'.format(len(top_df[top_df.status == 1])))"
   ]
  },
  {
   "cell_type": "code",
   "execution_count": 16,
   "metadata": {
    "collapsed": false
   },
   "outputs": [
    {
     "name": "stdout",
     "output_type": "stream",
     "text": [
      "78% of predictions that are known treatments are in the top predictions set\n"
     ]
    }
   ],
   "source": [
    "# percentage of status = 1 to all predictions\n",
    "print('{}% of predictions that are known treatments are in the top predictions set'.format(round(len(top_df[top_df.status == 1])*100/len(pred_df[pred_df.status == 1]))))"
   ]
  },
  {
   "cell_type": "code",
   "execution_count": 17,
   "metadata": {
    "collapsed": false
   },
   "outputs": [
    {
     "data": {
      "text/html": [
       "<div>\n",
       "<table border=\"1\" class=\"dataframe\">\n",
       "  <thead>\n",
       "    <tr style=\"text-align: right;\">\n",
       "      <th></th>\n",
       "      <th>compound_name</th>\n",
       "      <th>compound_id</th>\n",
       "      <th>disease_name</th>\n",
       "      <th>disease_id</th>\n",
       "      <th>status</th>\n",
       "      <th>category</th>\n",
       "      <th>prediction</th>\n",
       "      <th>compound_percentile</th>\n",
       "      <th>disease_percentile</th>\n",
       "      <th>prior_prob</th>\n",
       "    </tr>\n",
       "  </thead>\n",
       "  <tbody>\n",
       "    <tr>\n",
       "      <th>0</th>\n",
       "      <td>Pamidronate</td>\n",
       "      <td>DB00282</td>\n",
       "      <td>osteoporosis</td>\n",
       "      <td>DOID_11476</td>\n",
       "      <td>1</td>\n",
       "      <td>DM</td>\n",
       "      <td>0.886899</td>\n",
       "      <td>1.000000</td>\n",
       "      <td>1.000000</td>\n",
       "      <td>0.038930</td>\n",
       "    </tr>\n",
       "    <tr>\n",
       "      <th>1</th>\n",
       "      <td>Alendronate</td>\n",
       "      <td>DB00630</td>\n",
       "      <td>osteoporosis</td>\n",
       "      <td>DOID_11476</td>\n",
       "      <td>1</td>\n",
       "      <td>DM</td>\n",
       "      <td>0.884991</td>\n",
       "      <td>1.000000</td>\n",
       "      <td>0.999350</td>\n",
       "      <td>0.038930</td>\n",
       "    </tr>\n",
       "    <tr>\n",
       "      <th>2</th>\n",
       "      <td>Risedronate</td>\n",
       "      <td>DB00884</td>\n",
       "      <td>osteoporosis</td>\n",
       "      <td>DOID_11476</td>\n",
       "      <td>1</td>\n",
       "      <td>DM</td>\n",
       "      <td>0.881065</td>\n",
       "      <td>1.000000</td>\n",
       "      <td>0.998700</td>\n",
       "      <td>0.038930</td>\n",
       "    </tr>\n",
       "    <tr>\n",
       "      <th>3</th>\n",
       "      <td>Esomeprazole</td>\n",
       "      <td>DB00736</td>\n",
       "      <td>Barrett's esophagus</td>\n",
       "      <td>DOID_9206</td>\n",
       "      <td>1</td>\n",
       "      <td>DM</td>\n",
       "      <td>0.823134</td>\n",
       "      <td>1.000000</td>\n",
       "      <td>1.000000</td>\n",
       "      <td>0.002341</td>\n",
       "    </tr>\n",
       "    <tr>\n",
       "      <th>4</th>\n",
       "      <td>Ibandronate</td>\n",
       "      <td>DB00710</td>\n",
       "      <td>Paget's disease of bone</td>\n",
       "      <td>DOID_5408</td>\n",
       "      <td>0</td>\n",
       "      <td>NaN</td>\n",
       "      <td>0.802573</td>\n",
       "      <td>1.000000</td>\n",
       "      <td>1.000000</td>\n",
       "      <td>0.007231</td>\n",
       "    </tr>\n",
       "    <tr>\n",
       "      <th>5</th>\n",
       "      <td>Glyburide</td>\n",
       "      <td>DB01016</td>\n",
       "      <td>type 2 diabetes mellitus</td>\n",
       "      <td>DOID_9352</td>\n",
       "      <td>1</td>\n",
       "      <td>DM</td>\n",
       "      <td>0.799647</td>\n",
       "      <td>1.000000</td>\n",
       "      <td>1.000000</td>\n",
       "      <td>0.058840</td>\n",
       "    </tr>\n",
       "    <tr>\n",
       "      <th>6</th>\n",
       "      <td>Omeprazole</td>\n",
       "      <td>DB00338</td>\n",
       "      <td>Barrett's esophagus</td>\n",
       "      <td>DOID_9206</td>\n",
       "      <td>1</td>\n",
       "      <td>DM</td>\n",
       "      <td>0.786771</td>\n",
       "      <td>1.000000</td>\n",
       "      <td>0.999350</td>\n",
       "      <td>0.002341</td>\n",
       "    </tr>\n",
       "    <tr>\n",
       "      <th>7</th>\n",
       "      <td>Alendronate</td>\n",
       "      <td>DB00630</td>\n",
       "      <td>Paget's disease of bone</td>\n",
       "      <td>DOID_5408</td>\n",
       "      <td>1</td>\n",
       "      <td>DM</td>\n",
       "      <td>0.769796</td>\n",
       "      <td>0.992647</td>\n",
       "      <td>0.999350</td>\n",
       "      <td>0.014860</td>\n",
       "    </tr>\n",
       "    <tr>\n",
       "      <th>8</th>\n",
       "      <td>Etidronic acid</td>\n",
       "      <td>DB01077</td>\n",
       "      <td>Paget's disease of bone</td>\n",
       "      <td>DOID_5408</td>\n",
       "      <td>1</td>\n",
       "      <td>DM</td>\n",
       "      <td>0.748826</td>\n",
       "      <td>1.000000</td>\n",
       "      <td>0.998700</td>\n",
       "      <td>0.014860</td>\n",
       "    </tr>\n",
       "    <tr>\n",
       "      <th>9</th>\n",
       "      <td>Pamidronate</td>\n",
       "      <td>DB00282</td>\n",
       "      <td>Paget's disease of bone</td>\n",
       "      <td>DOID_5408</td>\n",
       "      <td>1</td>\n",
       "      <td>DM</td>\n",
       "      <td>0.729643</td>\n",
       "      <td>0.992647</td>\n",
       "      <td>0.998049</td>\n",
       "      <td>0.014860</td>\n",
       "    </tr>\n",
       "  </tbody>\n",
       "</table>\n",
       "</div>"
      ],
      "text/plain": [
       "    compound_name compound_id              disease_name  disease_id  status  \\\n",
       "0     Pamidronate     DB00282              osteoporosis  DOID_11476       1   \n",
       "1     Alendronate     DB00630              osteoporosis  DOID_11476       1   \n",
       "2     Risedronate     DB00884              osteoporosis  DOID_11476       1   \n",
       "3    Esomeprazole     DB00736       Barrett's esophagus   DOID_9206       1   \n",
       "4     Ibandronate     DB00710   Paget's disease of bone   DOID_5408       0   \n",
       "5       Glyburide     DB01016  type 2 diabetes mellitus   DOID_9352       1   \n",
       "6      Omeprazole     DB00338       Barrett's esophagus   DOID_9206       1   \n",
       "7     Alendronate     DB00630   Paget's disease of bone   DOID_5408       1   \n",
       "8  Etidronic acid     DB01077   Paget's disease of bone   DOID_5408       1   \n",
       "9     Pamidronate     DB00282   Paget's disease of bone   DOID_5408       1   \n",
       "\n",
       "  category  prediction  compound_percentile  disease_percentile  prior_prob  \n",
       "0       DM    0.886899             1.000000            1.000000    0.038930  \n",
       "1       DM    0.884991             1.000000            0.999350    0.038930  \n",
       "2       DM    0.881065             1.000000            0.998700    0.038930  \n",
       "3       DM    0.823134             1.000000            1.000000    0.002341  \n",
       "4      NaN    0.802573             1.000000            1.000000    0.007231  \n",
       "5       DM    0.799647             1.000000            1.000000    0.058840  \n",
       "6       DM    0.786771             1.000000            0.999350    0.002341  \n",
       "7       DM    0.769796             0.992647            0.999350    0.014860  \n",
       "8       DM    0.748826             1.000000            0.998700    0.014860  \n",
       "9       DM    0.729643             0.992647            0.998049    0.014860  "
      ]
     },
     "execution_count": 17,
     "metadata": {},
     "output_type": "execute_result"
    }
   ],
   "source": [
    "# top 10 predictions \n",
    "\n",
    "top_df.head(10)"
   ]
  },
  {
   "cell_type": "code",
   "execution_count": 18,
   "metadata": {
    "collapsed": false
   },
   "outputs": [
    {
     "data": {
      "text/html": [
       "<div>\n",
       "<table border=\"1\" class=\"dataframe\">\n",
       "  <thead>\n",
       "    <tr style=\"text-align: right;\">\n",
       "      <th></th>\n",
       "      <th>compound_name</th>\n",
       "      <th>compound_id</th>\n",
       "      <th>disease_name</th>\n",
       "      <th>disease_id</th>\n",
       "      <th>status</th>\n",
       "      <th>category</th>\n",
       "      <th>prediction</th>\n",
       "      <th>compound_percentile</th>\n",
       "      <th>disease_percentile</th>\n",
       "      <th>prior_prob</th>\n",
       "    </tr>\n",
       "  </thead>\n",
       "  <tbody>\n",
       "    <tr>\n",
       "      <th>0</th>\n",
       "      <td>Pamidronate</td>\n",
       "      <td>DB00282</td>\n",
       "      <td>osteoporosis</td>\n",
       "      <td>DOID_11476</td>\n",
       "      <td>1</td>\n",
       "      <td>DM</td>\n",
       "      <td>0.886899</td>\n",
       "      <td>1.000000</td>\n",
       "      <td>1.000000</td>\n",
       "      <td>0.038930</td>\n",
       "    </tr>\n",
       "    <tr>\n",
       "      <th>1</th>\n",
       "      <td>Alendronate</td>\n",
       "      <td>DB00630</td>\n",
       "      <td>osteoporosis</td>\n",
       "      <td>DOID_11476</td>\n",
       "      <td>1</td>\n",
       "      <td>DM</td>\n",
       "      <td>0.884991</td>\n",
       "      <td>1.000000</td>\n",
       "      <td>0.999350</td>\n",
       "      <td>0.038930</td>\n",
       "    </tr>\n",
       "    <tr>\n",
       "      <th>2</th>\n",
       "      <td>Risedronate</td>\n",
       "      <td>DB00884</td>\n",
       "      <td>osteoporosis</td>\n",
       "      <td>DOID_11476</td>\n",
       "      <td>1</td>\n",
       "      <td>DM</td>\n",
       "      <td>0.881065</td>\n",
       "      <td>1.000000</td>\n",
       "      <td>0.998700</td>\n",
       "      <td>0.038930</td>\n",
       "    </tr>\n",
       "    <tr>\n",
       "      <th>3</th>\n",
       "      <td>Esomeprazole</td>\n",
       "      <td>DB00736</td>\n",
       "      <td>Barrett's esophagus</td>\n",
       "      <td>DOID_9206</td>\n",
       "      <td>1</td>\n",
       "      <td>DM</td>\n",
       "      <td>0.823134</td>\n",
       "      <td>1.000000</td>\n",
       "      <td>1.000000</td>\n",
       "      <td>0.002341</td>\n",
       "    </tr>\n",
       "    <tr>\n",
       "      <th>5</th>\n",
       "      <td>Glyburide</td>\n",
       "      <td>DB01016</td>\n",
       "      <td>type 2 diabetes mellitus</td>\n",
       "      <td>DOID_9352</td>\n",
       "      <td>1</td>\n",
       "      <td>DM</td>\n",
       "      <td>0.799647</td>\n",
       "      <td>1.000000</td>\n",
       "      <td>1.000000</td>\n",
       "      <td>0.058840</td>\n",
       "    </tr>\n",
       "    <tr>\n",
       "      <th>6</th>\n",
       "      <td>Omeprazole</td>\n",
       "      <td>DB00338</td>\n",
       "      <td>Barrett's esophagus</td>\n",
       "      <td>DOID_9206</td>\n",
       "      <td>1</td>\n",
       "      <td>DM</td>\n",
       "      <td>0.786771</td>\n",
       "      <td>1.000000</td>\n",
       "      <td>0.999350</td>\n",
       "      <td>0.002341</td>\n",
       "    </tr>\n",
       "    <tr>\n",
       "      <th>7</th>\n",
       "      <td>Alendronate</td>\n",
       "      <td>DB00630</td>\n",
       "      <td>Paget's disease of bone</td>\n",
       "      <td>DOID_5408</td>\n",
       "      <td>1</td>\n",
       "      <td>DM</td>\n",
       "      <td>0.769796</td>\n",
       "      <td>0.992647</td>\n",
       "      <td>0.999350</td>\n",
       "      <td>0.014860</td>\n",
       "    </tr>\n",
       "    <tr>\n",
       "      <th>8</th>\n",
       "      <td>Etidronic acid</td>\n",
       "      <td>DB01077</td>\n",
       "      <td>Paget's disease of bone</td>\n",
       "      <td>DOID_5408</td>\n",
       "      <td>1</td>\n",
       "      <td>DM</td>\n",
       "      <td>0.748826</td>\n",
       "      <td>1.000000</td>\n",
       "      <td>0.998700</td>\n",
       "      <td>0.014860</td>\n",
       "    </tr>\n",
       "    <tr>\n",
       "      <th>9</th>\n",
       "      <td>Pamidronate</td>\n",
       "      <td>DB00282</td>\n",
       "      <td>Paget's disease of bone</td>\n",
       "      <td>DOID_5408</td>\n",
       "      <td>1</td>\n",
       "      <td>DM</td>\n",
       "      <td>0.729643</td>\n",
       "      <td>0.992647</td>\n",
       "      <td>0.998049</td>\n",
       "      <td>0.014860</td>\n",
       "    </tr>\n",
       "    <tr>\n",
       "      <th>10</th>\n",
       "      <td>Furosemide</td>\n",
       "      <td>DB00695</td>\n",
       "      <td>hypertension</td>\n",
       "      <td>DOID_10763</td>\n",
       "      <td>1</td>\n",
       "      <td>DM</td>\n",
       "      <td>0.717139</td>\n",
       "      <td>1.000000</td>\n",
       "      <td>1.000000</td>\n",
       "      <td>0.283300</td>\n",
       "    </tr>\n",
       "  </tbody>\n",
       "</table>\n",
       "</div>"
      ],
      "text/plain": [
       "     compound_name compound_id              disease_name  disease_id  status  \\\n",
       "0      Pamidronate     DB00282              osteoporosis  DOID_11476       1   \n",
       "1      Alendronate     DB00630              osteoporosis  DOID_11476       1   \n",
       "2      Risedronate     DB00884              osteoporosis  DOID_11476       1   \n",
       "3     Esomeprazole     DB00736       Barrett's esophagus   DOID_9206       1   \n",
       "5        Glyburide     DB01016  type 2 diabetes mellitus   DOID_9352       1   \n",
       "6       Omeprazole     DB00338       Barrett's esophagus   DOID_9206       1   \n",
       "7      Alendronate     DB00630   Paget's disease of bone   DOID_5408       1   \n",
       "8   Etidronic acid     DB01077   Paget's disease of bone   DOID_5408       1   \n",
       "9      Pamidronate     DB00282   Paget's disease of bone   DOID_5408       1   \n",
       "10      Furosemide     DB00695              hypertension  DOID_10763       1   \n",
       "\n",
       "   category  prediction  compound_percentile  disease_percentile  prior_prob  \n",
       "0        DM    0.886899             1.000000            1.000000    0.038930  \n",
       "1        DM    0.884991             1.000000            0.999350    0.038930  \n",
       "2        DM    0.881065             1.000000            0.998700    0.038930  \n",
       "3        DM    0.823134             1.000000            1.000000    0.002341  \n",
       "5        DM    0.799647             1.000000            1.000000    0.058840  \n",
       "6        DM    0.786771             1.000000            0.999350    0.002341  \n",
       "7        DM    0.769796             0.992647            0.999350    0.014860  \n",
       "8        DM    0.748826             1.000000            0.998700    0.014860  \n",
       "9        DM    0.729643             0.992647            0.998049    0.014860  \n",
       "10       DM    0.717139             1.000000            1.000000    0.283300  "
      ]
     },
     "execution_count": 18,
     "metadata": {},
     "output_type": "execute_result"
    }
   ],
   "source": [
    "# top 10 predictions with status = 1 \n",
    "\n",
    "top_df[top_df.status == 1].head(10)"
   ]
  },
  {
   "cell_type": "code",
   "execution_count": 19,
   "metadata": {
    "collapsed": false
   },
   "outputs": [
    {
     "data": {
      "text/html": [
       "<div>\n",
       "<table border=\"1\" class=\"dataframe\">\n",
       "  <thead>\n",
       "    <tr style=\"text-align: right;\">\n",
       "      <th></th>\n",
       "      <th>compound_name</th>\n",
       "      <th>compound_id</th>\n",
       "      <th>disease_name</th>\n",
       "      <th>disease_id</th>\n",
       "      <th>status</th>\n",
       "      <th>category</th>\n",
       "      <th>prediction</th>\n",
       "      <th>compound_percentile</th>\n",
       "      <th>disease_percentile</th>\n",
       "      <th>prior_prob</th>\n",
       "    </tr>\n",
       "  </thead>\n",
       "  <tbody>\n",
       "    <tr>\n",
       "      <th>4</th>\n",
       "      <td>Ibandronate</td>\n",
       "      <td>DB00710</td>\n",
       "      <td>Paget's disease of bone</td>\n",
       "      <td>DOID_5408</td>\n",
       "      <td>0</td>\n",
       "      <td>NaN</td>\n",
       "      <td>0.802573</td>\n",
       "      <td>1.000000</td>\n",
       "      <td>1.000000</td>\n",
       "      <td>0.007231</td>\n",
       "    </tr>\n",
       "    <tr>\n",
       "      <th>15</th>\n",
       "      <td>Olsalazine</td>\n",
       "      <td>DB01250</td>\n",
       "      <td>Crohn's disease</td>\n",
       "      <td>DOID_8778</td>\n",
       "      <td>0</td>\n",
       "      <td>NaN</td>\n",
       "      <td>0.665331</td>\n",
       "      <td>1.000000</td>\n",
       "      <td>1.000000</td>\n",
       "      <td>0.007231</td>\n",
       "    </tr>\n",
       "    <tr>\n",
       "      <th>18</th>\n",
       "      <td>Paricalcitol</td>\n",
       "      <td>DB00910</td>\n",
       "      <td>osteoporosis</td>\n",
       "      <td>DOID_11476</td>\n",
       "      <td>0</td>\n",
       "      <td>NaN</td>\n",
       "      <td>0.603481</td>\n",
       "      <td>1.000000</td>\n",
       "      <td>0.996749</td>\n",
       "      <td>0.000000</td>\n",
       "    </tr>\n",
       "    <tr>\n",
       "      <th>20</th>\n",
       "      <td>Ethotoin</td>\n",
       "      <td>DB00754</td>\n",
       "      <td>epilepsy syndrome</td>\n",
       "      <td>DOID_1826</td>\n",
       "      <td>0</td>\n",
       "      <td>NaN</td>\n",
       "      <td>0.588531</td>\n",
       "      <td>1.000000</td>\n",
       "      <td>0.999350</td>\n",
       "      <td>0.000000</td>\n",
       "    </tr>\n",
       "    <tr>\n",
       "      <th>22</th>\n",
       "      <td>Quazepam</td>\n",
       "      <td>DB01589</td>\n",
       "      <td>epilepsy syndrome</td>\n",
       "      <td>DOID_1826</td>\n",
       "      <td>0</td>\n",
       "      <td>NaN</td>\n",
       "      <td>0.569974</td>\n",
       "      <td>1.000000</td>\n",
       "      <td>0.998700</td>\n",
       "      <td>0.000000</td>\n",
       "    </tr>\n",
       "    <tr>\n",
       "      <th>23</th>\n",
       "      <td>Alprazolam</td>\n",
       "      <td>DB00404</td>\n",
       "      <td>epilepsy syndrome</td>\n",
       "      <td>DOID_1826</td>\n",
       "      <td>0</td>\n",
       "      <td>NaN</td>\n",
       "      <td>0.564904</td>\n",
       "      <td>1.000000</td>\n",
       "      <td>0.998049</td>\n",
       "      <td>0.000000</td>\n",
       "    </tr>\n",
       "    <tr>\n",
       "      <th>24</th>\n",
       "      <td>Paricalcitol</td>\n",
       "      <td>DB00910</td>\n",
       "      <td>psoriasis</td>\n",
       "      <td>DOID_8893</td>\n",
       "      <td>0</td>\n",
       "      <td>NaN</td>\n",
       "      <td>0.564575</td>\n",
       "      <td>0.992647</td>\n",
       "      <td>1.000000</td>\n",
       "      <td>0.000000</td>\n",
       "    </tr>\n",
       "    <tr>\n",
       "      <th>25</th>\n",
       "      <td>Zidovudine</td>\n",
       "      <td>DB00495</td>\n",
       "      <td>hepatitis B</td>\n",
       "      <td>DOID_2043</td>\n",
       "      <td>0</td>\n",
       "      <td>NaN</td>\n",
       "      <td>0.560460</td>\n",
       "      <td>1.000000</td>\n",
       "      <td>1.000000</td>\n",
       "      <td>0.004753</td>\n",
       "    </tr>\n",
       "    <tr>\n",
       "      <th>26</th>\n",
       "      <td>Tafluprost</td>\n",
       "      <td>DB08819</td>\n",
       "      <td>glaucoma</td>\n",
       "      <td>DOID_1686</td>\n",
       "      <td>0</td>\n",
       "      <td>NaN</td>\n",
       "      <td>0.555917</td>\n",
       "      <td>1.000000</td>\n",
       "      <td>1.000000</td>\n",
       "      <td>0.000000</td>\n",
       "    </tr>\n",
       "    <tr>\n",
       "      <th>29</th>\n",
       "      <td>Carboprost Tromethamine</td>\n",
       "      <td>DB00429</td>\n",
       "      <td>glaucoma</td>\n",
       "      <td>DOID_1686</td>\n",
       "      <td>0</td>\n",
       "      <td>NaN</td>\n",
       "      <td>0.551495</td>\n",
       "      <td>1.000000</td>\n",
       "      <td>0.999350</td>\n",
       "      <td>0.000000</td>\n",
       "    </tr>\n",
       "  </tbody>\n",
       "</table>\n",
       "</div>"
      ],
      "text/plain": [
       "              compound_name compound_id             disease_name  disease_id  \\\n",
       "4               Ibandronate     DB00710  Paget's disease of bone   DOID_5408   \n",
       "15               Olsalazine     DB01250          Crohn's disease   DOID_8778   \n",
       "18             Paricalcitol     DB00910             osteoporosis  DOID_11476   \n",
       "20                 Ethotoin     DB00754        epilepsy syndrome   DOID_1826   \n",
       "22                 Quazepam     DB01589        epilepsy syndrome   DOID_1826   \n",
       "23               Alprazolam     DB00404        epilepsy syndrome   DOID_1826   \n",
       "24             Paricalcitol     DB00910                psoriasis   DOID_8893   \n",
       "25               Zidovudine     DB00495              hepatitis B   DOID_2043   \n",
       "26               Tafluprost     DB08819                 glaucoma   DOID_1686   \n",
       "29  Carboprost Tromethamine     DB00429                 glaucoma   DOID_1686   \n",
       "\n",
       "    status category  prediction  compound_percentile  disease_percentile  \\\n",
       "4        0      NaN    0.802573             1.000000            1.000000   \n",
       "15       0      NaN    0.665331             1.000000            1.000000   \n",
       "18       0      NaN    0.603481             1.000000            0.996749   \n",
       "20       0      NaN    0.588531             1.000000            0.999350   \n",
       "22       0      NaN    0.569974             1.000000            0.998700   \n",
       "23       0      NaN    0.564904             1.000000            0.998049   \n",
       "24       0      NaN    0.564575             0.992647            1.000000   \n",
       "25       0      NaN    0.560460             1.000000            1.000000   \n",
       "26       0      NaN    0.555917             1.000000            1.000000   \n",
       "29       0      NaN    0.551495             1.000000            0.999350   \n",
       "\n",
       "    prior_prob  \n",
       "4     0.007231  \n",
       "15    0.007231  \n",
       "18    0.000000  \n",
       "20    0.000000  \n",
       "22    0.000000  \n",
       "23    0.000000  \n",
       "24    0.000000  \n",
       "25    0.004753  \n",
       "26    0.000000  \n",
       "29    0.000000  "
      ]
     },
     "execution_count": 19,
     "metadata": {},
     "output_type": "execute_result"
    }
   ],
   "source": [
    "# top 10 predictions with status = 0 \n",
    "\n",
    "top_df[top_df.status != 1].head(10)"
   ]
  },
  {
   "cell_type": "code",
   "execution_count": 20,
   "metadata": {
    "collapsed": false
   },
   "outputs": [
    {
     "data": {
      "text/html": [
       "<div>\n",
       "<table border=\"1\" class=\"dataframe\">\n",
       "  <thead>\n",
       "    <tr style=\"text-align: right;\">\n",
       "      <th></th>\n",
       "      <th>compound_name</th>\n",
       "      <th>compound_id</th>\n",
       "      <th>disease_name</th>\n",
       "      <th>disease_id</th>\n",
       "      <th>status</th>\n",
       "      <th>category</th>\n",
       "      <th>prediction</th>\n",
       "      <th>compound_percentile</th>\n",
       "      <th>disease_percentile</th>\n",
       "      <th>prior_prob</th>\n",
       "    </tr>\n",
       "  </thead>\n",
       "  <tbody>\n",
       "    <tr>\n",
       "      <th>3970</th>\n",
       "      <td>Temsirolimus</td>\n",
       "      <td>DB06287</td>\n",
       "      <td>thyroid cancer</td>\n",
       "      <td>DOID_1781</td>\n",
       "      <td>0</td>\n",
       "      <td>NaN</td>\n",
       "      <td>0.010033</td>\n",
       "      <td>0.985294</td>\n",
       "      <td>0.982445</td>\n",
       "      <td>0.004753</td>\n",
       "    </tr>\n",
       "    <tr>\n",
       "      <th>3971</th>\n",
       "      <td>Venlafaxine</td>\n",
       "      <td>DB00285</td>\n",
       "      <td>hypertension</td>\n",
       "      <td>DOID_10763</td>\n",
       "      <td>0</td>\n",
       "      <td>NaN</td>\n",
       "      <td>0.010031</td>\n",
       "      <td>0.985294</td>\n",
       "      <td>0.802991</td>\n",
       "      <td>0.000000</td>\n",
       "    </tr>\n",
       "    <tr>\n",
       "      <th>3972</th>\n",
       "      <td>Procaine</td>\n",
       "      <td>DB00721</td>\n",
       "      <td>gout</td>\n",
       "      <td>DOID_13189</td>\n",
       "      <td>0</td>\n",
       "      <td>NaN</td>\n",
       "      <td>0.010027</td>\n",
       "      <td>1.000000</td>\n",
       "      <td>0.942783</td>\n",
       "      <td>0.000000</td>\n",
       "    </tr>\n",
       "    <tr>\n",
       "      <th>3973</th>\n",
       "      <td>Trifluridine</td>\n",
       "      <td>DB00432</td>\n",
       "      <td>breast cancer</td>\n",
       "      <td>DOID_1612</td>\n",
       "      <td>0</td>\n",
       "      <td>NaN</td>\n",
       "      <td>0.010026</td>\n",
       "      <td>0.926471</td>\n",
       "      <td>0.931730</td>\n",
       "      <td>0.000000</td>\n",
       "    </tr>\n",
       "    <tr>\n",
       "      <th>3974</th>\n",
       "      <td>Tropicamide</td>\n",
       "      <td>DB00809</td>\n",
       "      <td>atopic dermatitis</td>\n",
       "      <td>DOID_3310</td>\n",
       "      <td>0</td>\n",
       "      <td>NaN</td>\n",
       "      <td>0.010018</td>\n",
       "      <td>0.992647</td>\n",
       "      <td>0.950585</td>\n",
       "      <td>0.000000</td>\n",
       "    </tr>\n",
       "    <tr>\n",
       "      <th>3975</th>\n",
       "      <td>Ribavirin</td>\n",
       "      <td>DB00811</td>\n",
       "      <td>multiple sclerosis</td>\n",
       "      <td>DOID_2377</td>\n",
       "      <td>0</td>\n",
       "      <td>NaN</td>\n",
       "      <td>0.010017</td>\n",
       "      <td>0.977941</td>\n",
       "      <td>0.957087</td>\n",
       "      <td>0.000000</td>\n",
       "    </tr>\n",
       "    <tr>\n",
       "      <th>3976</th>\n",
       "      <td>Magnesium salicylate</td>\n",
       "      <td>DB01397</td>\n",
       "      <td>Crohn's disease</td>\n",
       "      <td>DOID_8778</td>\n",
       "      <td>0</td>\n",
       "      <td>NaN</td>\n",
       "      <td>0.010015</td>\n",
       "      <td>0.985294</td>\n",
       "      <td>0.979194</td>\n",
       "      <td>0.000000</td>\n",
       "    </tr>\n",
       "    <tr>\n",
       "      <th>3977</th>\n",
       "      <td>Isoniazid</td>\n",
       "      <td>DB00951</td>\n",
       "      <td>epilepsy syndrome</td>\n",
       "      <td>DOID_1826</td>\n",
       "      <td>0</td>\n",
       "      <td>NaN</td>\n",
       "      <td>0.010009</td>\n",
       "      <td>0.977941</td>\n",
       "      <td>0.830949</td>\n",
       "      <td>0.000000</td>\n",
       "    </tr>\n",
       "    <tr>\n",
       "      <th>3978</th>\n",
       "      <td>Estramustine</td>\n",
       "      <td>DB01196</td>\n",
       "      <td>ovarian cancer</td>\n",
       "      <td>DOID_2394</td>\n",
       "      <td>0</td>\n",
       "      <td>NaN</td>\n",
       "      <td>0.010006</td>\n",
       "      <td>0.963235</td>\n",
       "      <td>0.976593</td>\n",
       "      <td>0.012370</td>\n",
       "    </tr>\n",
       "    <tr>\n",
       "      <th>3979</th>\n",
       "      <td>Altretamine</td>\n",
       "      <td>DB00488</td>\n",
       "      <td>lymphatic system cancer</td>\n",
       "      <td>DOID_0060073</td>\n",
       "      <td>0</td>\n",
       "      <td>NaN</td>\n",
       "      <td>0.010003</td>\n",
       "      <td>0.963235</td>\n",
       "      <td>0.972692</td>\n",
       "      <td>0.011070</td>\n",
       "    </tr>\n",
       "  </tbody>\n",
       "</table>\n",
       "</div>"
      ],
      "text/plain": [
       "             compound_name compound_id             disease_name    disease_id  \\\n",
       "3970          Temsirolimus     DB06287           thyroid cancer     DOID_1781   \n",
       "3971           Venlafaxine     DB00285             hypertension    DOID_10763   \n",
       "3972              Procaine     DB00721                     gout    DOID_13189   \n",
       "3973          Trifluridine     DB00432            breast cancer     DOID_1612   \n",
       "3974           Tropicamide     DB00809        atopic dermatitis     DOID_3310   \n",
       "3975             Ribavirin     DB00811       multiple sclerosis     DOID_2377   \n",
       "3976  Magnesium salicylate     DB01397          Crohn's disease     DOID_8778   \n",
       "3977             Isoniazid     DB00951        epilepsy syndrome     DOID_1826   \n",
       "3978          Estramustine     DB01196           ovarian cancer     DOID_2394   \n",
       "3979           Altretamine     DB00488  lymphatic system cancer  DOID_0060073   \n",
       "\n",
       "      status category  prediction  compound_percentile  disease_percentile  \\\n",
       "3970       0      NaN    0.010033             0.985294            0.982445   \n",
       "3971       0      NaN    0.010031             0.985294            0.802991   \n",
       "3972       0      NaN    0.010027             1.000000            0.942783   \n",
       "3973       0      NaN    0.010026             0.926471            0.931730   \n",
       "3974       0      NaN    0.010018             0.992647            0.950585   \n",
       "3975       0      NaN    0.010017             0.977941            0.957087   \n",
       "3976       0      NaN    0.010015             0.985294            0.979194   \n",
       "3977       0      NaN    0.010009             0.977941            0.830949   \n",
       "3978       0      NaN    0.010006             0.963235            0.976593   \n",
       "3979       0      NaN    0.010003             0.963235            0.972692   \n",
       "\n",
       "      prior_prob  \n",
       "3970    0.004753  \n",
       "3971    0.000000  \n",
       "3972    0.000000  \n",
       "3973    0.000000  \n",
       "3974    0.000000  \n",
       "3975    0.000000  \n",
       "3976    0.000000  \n",
       "3977    0.000000  \n",
       "3978    0.012370  \n",
       "3979    0.011070  "
      ]
     },
     "execution_count": 20,
     "metadata": {},
     "output_type": "execute_result"
    }
   ],
   "source": [
    "# bottom 10 predictions \n",
    "\n",
    "top_df.tail(10)"
   ]
  },
  {
   "cell_type": "code",
   "execution_count": 21,
   "metadata": {
    "collapsed": false
   },
   "outputs": [
    {
     "data": {
      "text/html": [
       "<div>\n",
       "<table border=\"1\" class=\"dataframe\">\n",
       "  <thead>\n",
       "    <tr style=\"text-align: right;\">\n",
       "      <th></th>\n",
       "      <th>compound_name</th>\n",
       "      <th>compound_id</th>\n",
       "      <th>disease_name</th>\n",
       "      <th>disease_id</th>\n",
       "      <th>status</th>\n",
       "      <th>category</th>\n",
       "      <th>prediction</th>\n",
       "      <th>compound_percentile</th>\n",
       "      <th>disease_percentile</th>\n",
       "      <th>prior_prob</th>\n",
       "    </tr>\n",
       "  </thead>\n",
       "  <tbody>\n",
       "    <tr>\n",
       "      <th>3547</th>\n",
       "      <td>Erlotinib</td>\n",
       "      <td>DB00530</td>\n",
       "      <td>pancreatic cancer</td>\n",
       "      <td>DOID_1793</td>\n",
       "      <td>1</td>\n",
       "      <td>DM</td>\n",
       "      <td>0.011144</td>\n",
       "      <td>0.955882</td>\n",
       "      <td>0.974642</td>\n",
       "      <td>0.038810</td>\n",
       "    </tr>\n",
       "    <tr>\n",
       "      <th>3576</th>\n",
       "      <td>Etoposide</td>\n",
       "      <td>DB00773</td>\n",
       "      <td>uterine cancer</td>\n",
       "      <td>DOID_363</td>\n",
       "      <td>1</td>\n",
       "      <td>DM</td>\n",
       "      <td>0.011064</td>\n",
       "      <td>0.867647</td>\n",
       "      <td>0.971391</td>\n",
       "      <td>0.116100</td>\n",
       "    </tr>\n",
       "    <tr>\n",
       "      <th>3578</th>\n",
       "      <td>Telbivudine</td>\n",
       "      <td>DB01265</td>\n",
       "      <td>hepatitis B</td>\n",
       "      <td>DOID_2043</td>\n",
       "      <td>1</td>\n",
       "      <td>DM</td>\n",
       "      <td>0.011053</td>\n",
       "      <td>0.985294</td>\n",
       "      <td>0.986346</td>\n",
       "      <td>0.004753</td>\n",
       "    </tr>\n",
       "    <tr>\n",
       "      <th>3605</th>\n",
       "      <td>Cromoglicic acid</td>\n",
       "      <td>DB01003</td>\n",
       "      <td>asthma</td>\n",
       "      <td>DOID_2841</td>\n",
       "      <td>1</td>\n",
       "      <td>DM</td>\n",
       "      <td>0.010968</td>\n",
       "      <td>0.992647</td>\n",
       "      <td>0.911573</td>\n",
       "      <td>0.053050</td>\n",
       "    </tr>\n",
       "    <tr>\n",
       "      <th>3610</th>\n",
       "      <td>Valrubicin</td>\n",
       "      <td>DB00385</td>\n",
       "      <td>urinary bladder cancer</td>\n",
       "      <td>DOID_11054</td>\n",
       "      <td>1</td>\n",
       "      <td>DM</td>\n",
       "      <td>0.010955</td>\n",
       "      <td>0.911765</td>\n",
       "      <td>0.973992</td>\n",
       "      <td>0.013700</td>\n",
       "    </tr>\n",
       "    <tr>\n",
       "      <th>3699</th>\n",
       "      <td>Crizotinib</td>\n",
       "      <td>DB08865</td>\n",
       "      <td>lung cancer</td>\n",
       "      <td>DOID_1324</td>\n",
       "      <td>1</td>\n",
       "      <td>DM</td>\n",
       "      <td>0.010704</td>\n",
       "      <td>0.897059</td>\n",
       "      <td>0.958388</td>\n",
       "      <td>0.020550</td>\n",
       "    </tr>\n",
       "    <tr>\n",
       "      <th>3796</th>\n",
       "      <td>Cyproheptadine</td>\n",
       "      <td>DB00434</td>\n",
       "      <td>allergic rhinitis</td>\n",
       "      <td>DOID_4481</td>\n",
       "      <td>1</td>\n",
       "      <td>DM</td>\n",
       "      <td>0.010483</td>\n",
       "      <td>0.970588</td>\n",
       "      <td>0.917425</td>\n",
       "      <td>0.019160</td>\n",
       "    </tr>\n",
       "    <tr>\n",
       "      <th>3817</th>\n",
       "      <td>Vigabatrin</td>\n",
       "      <td>DB01080</td>\n",
       "      <td>epilepsy syndrome</td>\n",
       "      <td>DOID_1826</td>\n",
       "      <td>1</td>\n",
       "      <td>DM</td>\n",
       "      <td>0.010423</td>\n",
       "      <td>0.992647</td>\n",
       "      <td>0.836801</td>\n",
       "      <td>0.033790</td>\n",
       "    </tr>\n",
       "    <tr>\n",
       "      <th>3861</th>\n",
       "      <td>Irinotecan</td>\n",
       "      <td>DB00762</td>\n",
       "      <td>stomach cancer</td>\n",
       "      <td>DOID_10534</td>\n",
       "      <td>1</td>\n",
       "      <td>DM</td>\n",
       "      <td>0.010338</td>\n",
       "      <td>0.882353</td>\n",
       "      <td>0.977893</td>\n",
       "      <td>0.073890</td>\n",
       "    </tr>\n",
       "    <tr>\n",
       "      <th>3930</th>\n",
       "      <td>Varenicline</td>\n",
       "      <td>DB01273</td>\n",
       "      <td>nicotine dependence</td>\n",
       "      <td>DOID_0050742</td>\n",
       "      <td>1</td>\n",
       "      <td>DM</td>\n",
       "      <td>0.010156</td>\n",
       "      <td>0.970588</td>\n",
       "      <td>0.985046</td>\n",
       "      <td>0.001162</td>\n",
       "    </tr>\n",
       "  </tbody>\n",
       "</table>\n",
       "</div>"
      ],
      "text/plain": [
       "         compound_name compound_id            disease_name    disease_id  \\\n",
       "3547         Erlotinib     DB00530       pancreatic cancer     DOID_1793   \n",
       "3576         Etoposide     DB00773          uterine cancer      DOID_363   \n",
       "3578       Telbivudine     DB01265             hepatitis B     DOID_2043   \n",
       "3605  Cromoglicic acid     DB01003                  asthma     DOID_2841   \n",
       "3610        Valrubicin     DB00385  urinary bladder cancer    DOID_11054   \n",
       "3699        Crizotinib     DB08865             lung cancer     DOID_1324   \n",
       "3796    Cyproheptadine     DB00434       allergic rhinitis     DOID_4481   \n",
       "3817        Vigabatrin     DB01080       epilepsy syndrome     DOID_1826   \n",
       "3861        Irinotecan     DB00762          stomach cancer    DOID_10534   \n",
       "3930       Varenicline     DB01273     nicotine dependence  DOID_0050742   \n",
       "\n",
       "      status category  prediction  compound_percentile  disease_percentile  \\\n",
       "3547       1       DM    0.011144             0.955882            0.974642   \n",
       "3576       1       DM    0.011064             0.867647            0.971391   \n",
       "3578       1       DM    0.011053             0.985294            0.986346   \n",
       "3605       1       DM    0.010968             0.992647            0.911573   \n",
       "3610       1       DM    0.010955             0.911765            0.973992   \n",
       "3699       1       DM    0.010704             0.897059            0.958388   \n",
       "3796       1       DM    0.010483             0.970588            0.917425   \n",
       "3817       1       DM    0.010423             0.992647            0.836801   \n",
       "3861       1       DM    0.010338             0.882353            0.977893   \n",
       "3930       1       DM    0.010156             0.970588            0.985046   \n",
       "\n",
       "      prior_prob  \n",
       "3547    0.038810  \n",
       "3576    0.116100  \n",
       "3578    0.004753  \n",
       "3605    0.053050  \n",
       "3610    0.013700  \n",
       "3699    0.020550  \n",
       "3796    0.019160  \n",
       "3817    0.033790  \n",
       "3861    0.073890  \n",
       "3930    0.001162  "
      ]
     },
     "execution_count": 21,
     "metadata": {},
     "output_type": "execute_result"
    }
   ],
   "source": [
    "# bottom 10 predictions status = 1\n",
    "\n",
    "top_df[top_df.status != 0].tail(10)"
   ]
  },
  {
   "cell_type": "code",
   "execution_count": 22,
   "metadata": {
    "collapsed": false
   },
   "outputs": [
    {
     "data": {
      "text/html": [
       "<div>\n",
       "<table border=\"1\" class=\"dataframe\">\n",
       "  <thead>\n",
       "    <tr style=\"text-align: right;\">\n",
       "      <th></th>\n",
       "      <th>compound_name</th>\n",
       "      <th>compound_id</th>\n",
       "      <th>disease_name</th>\n",
       "      <th>disease_id</th>\n",
       "      <th>status</th>\n",
       "      <th>category</th>\n",
       "      <th>prediction</th>\n",
       "      <th>compound_percentile</th>\n",
       "      <th>disease_percentile</th>\n",
       "      <th>prior_prob</th>\n",
       "    </tr>\n",
       "  </thead>\n",
       "  <tbody>\n",
       "    <tr>\n",
       "      <th>151</th>\n",
       "      <td>Vincristine</td>\n",
       "      <td>DB00541</td>\n",
       "      <td>lung cancer</td>\n",
       "      <td>DOID_1324</td>\n",
       "      <td>0</td>\n",
       "      <td>NaN</td>\n",
       "      <td>0.311483</td>\n",
       "      <td>0.992647</td>\n",
       "      <td>0.999350</td>\n",
       "      <td>0.1531</td>\n",
       "    </tr>\n",
       "    <tr>\n",
       "      <th>152</th>\n",
       "      <td>Nimodipine</td>\n",
       "      <td>DB00393</td>\n",
       "      <td>hypertension</td>\n",
       "      <td>DOID_10763</td>\n",
       "      <td>0</td>\n",
       "      <td>NaN</td>\n",
       "      <td>0.309810</td>\n",
       "      <td>1.000000</td>\n",
       "      <td>0.989597</td>\n",
       "      <td>0.0000</td>\n",
       "    </tr>\n",
       "    <tr>\n",
       "      <th>153</th>\n",
       "      <td>Nicardipine</td>\n",
       "      <td>DB00622</td>\n",
       "      <td>hypertension</td>\n",
       "      <td>DOID_10763</td>\n",
       "      <td>1</td>\n",
       "      <td>DM</td>\n",
       "      <td>0.308676</td>\n",
       "      <td>1.000000</td>\n",
       "      <td>0.988947</td>\n",
       "      <td>0.1106</td>\n",
       "    </tr>\n",
       "    <tr>\n",
       "      <th>154</th>\n",
       "      <td>Hydrocortisone</td>\n",
       "      <td>DB00741</td>\n",
       "      <td>asthma</td>\n",
       "      <td>DOID_2841</td>\n",
       "      <td>1</td>\n",
       "      <td>DM</td>\n",
       "      <td>0.308449</td>\n",
       "      <td>0.992647</td>\n",
       "      <td>0.992848</td>\n",
       "      <td>0.3623</td>\n",
       "    </tr>\n",
       "    <tr>\n",
       "      <th>155</th>\n",
       "      <td>Dexamethasone</td>\n",
       "      <td>DB01234</td>\n",
       "      <td>ankylosing spondylitis</td>\n",
       "      <td>DOID_7147</td>\n",
       "      <td>1</td>\n",
       "      <td>DM</td>\n",
       "      <td>0.308230</td>\n",
       "      <td>0.955882</td>\n",
       "      <td>0.999350</td>\n",
       "      <td>0.1316</td>\n",
       "    </tr>\n",
       "    <tr>\n",
       "      <th>156</th>\n",
       "      <td>Azilsartan medoxomil</td>\n",
       "      <td>DB08822</td>\n",
       "      <td>hypertension</td>\n",
       "      <td>DOID_10763</td>\n",
       "      <td>0</td>\n",
       "      <td>NaN</td>\n",
       "      <td>0.307553</td>\n",
       "      <td>1.000000</td>\n",
       "      <td>0.988296</td>\n",
       "      <td>0.0000</td>\n",
       "    </tr>\n",
       "    <tr>\n",
       "      <th>157</th>\n",
       "      <td>Ethinyl Estradiol</td>\n",
       "      <td>DB00977</td>\n",
       "      <td>prostate cancer</td>\n",
       "      <td>DOID_10283</td>\n",
       "      <td>1</td>\n",
       "      <td>DM</td>\n",
       "      <td>0.306275</td>\n",
       "      <td>0.992647</td>\n",
       "      <td>0.997399</td>\n",
       "      <td>0.0560</td>\n",
       "    </tr>\n",
       "    <tr>\n",
       "      <th>158</th>\n",
       "      <td>Prednisone</td>\n",
       "      <td>DB00635</td>\n",
       "      <td>asthma</td>\n",
       "      <td>DOID_2841</td>\n",
       "      <td>1</td>\n",
       "      <td>DM</td>\n",
       "      <td>0.305832</td>\n",
       "      <td>1.000000</td>\n",
       "      <td>0.992198</td>\n",
       "      <td>0.5673</td>\n",
       "    </tr>\n",
       "    <tr>\n",
       "      <th>159</th>\n",
       "      <td>Enalapril</td>\n",
       "      <td>DB00584</td>\n",
       "      <td>hypertension</td>\n",
       "      <td>DOID_10763</td>\n",
       "      <td>1</td>\n",
       "      <td>DM</td>\n",
       "      <td>0.304517</td>\n",
       "      <td>1.000000</td>\n",
       "      <td>0.987646</td>\n",
       "      <td>0.2039</td>\n",
       "    </tr>\n",
       "    <tr>\n",
       "      <th>160</th>\n",
       "      <td>Acetazolamide</td>\n",
       "      <td>DB00819</td>\n",
       "      <td>glaucoma</td>\n",
       "      <td>DOID_1686</td>\n",
       "      <td>1</td>\n",
       "      <td>DM</td>\n",
       "      <td>0.303039</td>\n",
       "      <td>1.000000</td>\n",
       "      <td>0.996099</td>\n",
       "      <td>0.0560</td>\n",
       "    </tr>\n",
       "  </tbody>\n",
       "</table>\n",
       "</div>"
      ],
      "text/plain": [
       "            compound_name compound_id            disease_name  disease_id  \\\n",
       "151           Vincristine     DB00541             lung cancer   DOID_1324   \n",
       "152            Nimodipine     DB00393            hypertension  DOID_10763   \n",
       "153           Nicardipine     DB00622            hypertension  DOID_10763   \n",
       "154        Hydrocortisone     DB00741                  asthma   DOID_2841   \n",
       "155         Dexamethasone     DB01234  ankylosing spondylitis   DOID_7147   \n",
       "156  Azilsartan medoxomil     DB08822            hypertension  DOID_10763   \n",
       "157     Ethinyl Estradiol     DB00977         prostate cancer  DOID_10283   \n",
       "158            Prednisone     DB00635                  asthma   DOID_2841   \n",
       "159             Enalapril     DB00584            hypertension  DOID_10763   \n",
       "160         Acetazolamide     DB00819                glaucoma   DOID_1686   \n",
       "\n",
       "     status category  prediction  compound_percentile  disease_percentile  \\\n",
       "151       0      NaN    0.311483             0.992647            0.999350   \n",
       "152       0      NaN    0.309810             1.000000            0.989597   \n",
       "153       1       DM    0.308676             1.000000            0.988947   \n",
       "154       1       DM    0.308449             0.992647            0.992848   \n",
       "155       1       DM    0.308230             0.955882            0.999350   \n",
       "156       0      NaN    0.307553             1.000000            0.988296   \n",
       "157       1       DM    0.306275             0.992647            0.997399   \n",
       "158       1       DM    0.305832             1.000000            0.992198   \n",
       "159       1       DM    0.304517             1.000000            0.987646   \n",
       "160       1       DM    0.303039             1.000000            0.996099   \n",
       "\n",
       "     prior_prob  \n",
       "151      0.1531  \n",
       "152      0.0000  \n",
       "153      0.1106  \n",
       "154      0.3623  \n",
       "155      0.1316  \n",
       "156      0.0000  \n",
       "157      0.0560  \n",
       "158      0.5673  \n",
       "159      0.2039  \n",
       "160      0.0560  "
      ]
     },
     "execution_count": 22,
     "metadata": {},
     "output_type": "execute_result"
    }
   ],
   "source": [
    "# middle 10 predictions \n",
    "\n",
    "top_df[top_df.prediction >= 0.3].tail(10)"
   ]
  },
  {
   "cell_type": "markdown",
   "metadata": {},
   "source": [
    "### Distribution of predictions"
   ]
  },
  {
   "cell_type": "code",
   "execution_count": 23,
   "metadata": {
    "collapsed": false
   },
   "outputs": [
    {
     "data": {
      "text/plain": [
       "<matplotlib.collections.PathCollection at 0x7f3ea96be6d8>"
      ]
     },
     "execution_count": 23,
     "metadata": {},
     "output_type": "execute_result"
    },
    {
     "data": {
      "image/png": "[encoded data removed]",
      "text/plain": [
       "<matplotlib.figure.Figure at 0x7f3ea9c73908>"
      ]
     },
     "metadata": {},
     "output_type": "display_data"
    }
   ],
   "source": [
    "# Probability of predictions\n",
    "import matplotlib.pyplot as plt\n",
    "%matplotlib inline\n",
    "\n",
    "plt.title(\"Probability of treatment: top predictions set\")\n",
    "plt.ylabel(\"Probability\")\n",
    "plt.xlabel(\"Observation\")\n",
    "plt.scatter(top_df.index,top_df.prediction)"
   ]
  },
  {
   "cell_type": "code",
   "execution_count": 24,
   "metadata": {
    "collapsed": false
   },
   "outputs": [
    {
     "name": "stdout",
     "output_type": "stream",
     "text": [
      "number of predictions status =1: 586\n",
      "number of predictions status =1 with prob less than 0.1: 301\n"
     ]
    },
    {
     "data": {
      "image/png": "[encoded data removed]",
      "text/plain": [
       "<matplotlib.figure.Figure at 0x7f3ea9600d30>"
      ]
     },
     "metadata": {},
     "output_type": "display_data"
    }
   ],
   "source": [
    "# Probability of predictions status = 1\n",
    "\n",
    "plt.title(\"Probability of treatment: top predictions set\")\n",
    "plt.ylabel(\"Probability\")\n",
    "plt.xlabel(\"Observation\")\n",
    "plt.scatter(top_df[top_df.status == 1].index,top_df[top_df.status == 1].prediction)\n",
    "print('number of predictions status =1: {}'.format(len(top_df[top_df.status == 1])))\n",
    "xx = top_df[(top_df.status == 1) & (top_df.prediction < 0.1)]\n",
    "print('number of predictions status =1 with prob less than 0.1: {}'.format(len(xx)))"
   ]
  },
  {
   "cell_type": "code",
   "execution_count": 25,
   "metadata": {
    "collapsed": false
   },
   "outputs": [
    {
     "data": {
      "text/plain": [
       "3394"
      ]
     },
     "execution_count": 25,
     "metadata": {},
     "output_type": "execute_result"
    },
    {
     "data": {
      "image/png": "[encoded data removed]",
      "text/plain": [
       "<matplotlib.figure.Figure at 0x7f3ea9605748>"
      ]
     },
     "metadata": {},
     "output_type": "display_data"
    }
   ],
   "source": [
    "# Probability of predictions status = 0\n",
    "\n",
    "plt.title(\"Probability of treatment: top predictions set\")\n",
    "plt.ylabel(\"Probability\")\n",
    "plt.xlabel(\"Observation\")\n",
    "plt.scatter(top_df[top_df.status == 0].index,top_df[top_df.status == 0].prediction)\n",
    "len(top_df[top_df.status == 0])"
   ]
  },
  {
   "cell_type": "code",
   "execution_count": 26,
   "metadata": {
    "collapsed": false
   },
   "outputs": [
    {
     "data": {
      "image/png": "[encoded data removed]",
      "text/plain": [
       "<matplotlib.figure.Figure at 0x7f3ea9612400>"
      ]
     },
     "metadata": {},
     "output_type": "display_data"
    }
   ],
   "source": [
    "# distribution of predictions\n",
    "\n",
    "plt.figure(figsize=(12, 9))\n",
    "plt.title(\"Distribution of the probability of treatment: top predictions set\")\n",
    "plt.xlabel(\"Probability\")\n",
    "plt.ylabel(\"Frequency\")\n",
    "plt.hist(top_df.prediction)\n",
    "plt.savefig(\"prediction-distribution.png\", bbox_inches=\"tight\")"
   ]
  },
  {
   "cell_type": "code",
   "execution_count": 27,
   "metadata": {
    "collapsed": false
   },
   "outputs": [
    {
     "data": {
      "image/png": "[encoded data removed]",
      "text/plain": [
       "<matplotlib.figure.Figure at 0x7f3ea72d81d0>"
      ]
     },
     "metadata": {},
     "output_type": "display_data"
    }
   ],
   "source": [
    "# distribution of prediction for status == 1 observations\n",
    "\n",
    "plt.figure(figsize=(12, 9))\n",
    "plt.title(\"Distribution of the probability of treatment (status = 1): top predictions set\")\n",
    "plt.xlabel(\"Probability\")\n",
    "plt.ylabel(\"Frequency\")\n",
    "plt.hist(top_df[top_df.status == 1].prediction)\n",
    "plt.savefig(\"prediction-status1-distribution.png\", bbox_inches=\"tight\")"
   ]
  },
  {
   "cell_type": "code",
   "execution_count": 28,
   "metadata": {
    "collapsed": false
   },
   "outputs": [
    {
     "data": {
      "image/png": "[encoded data removed]",
      "text/plain": [
       "<matplotlib.figure.Figure at 0x7f3ea725c8d0>"
      ]
     },
     "metadata": {},
     "output_type": "display_data"
    }
   ],
   "source": [
    "# distribution of prediction for status == 0 observations\n",
    "\n",
    "plt.figure(figsize=(12, 9))\n",
    "plt.title(\"Distribution of the probability of treatment (status = 0): top predictions set\")\n",
    "plt.xlabel(\"Probability\")\n",
    "plt.ylabel(\"Frequency\")\n",
    "plt.hist(top_df[top_df.status == 0].prediction)\n",
    "plt.savefig(\"prediction-status0-distribution.png\", bbox_inches=\"tight\")"
   ]
  },
  {
   "cell_type": "markdown",
   "metadata": {},
   "source": [
    "### Distribution of the prior"
   ]
  },
  {
   "cell_type": "code",
   "execution_count": 29,
   "metadata": {
    "collapsed": false
   },
   "outputs": [
    {
     "data": {
      "text/plain": [
       "<matplotlib.axes._subplots.AxesSubplot at 0x7f3ea720ae48>"
      ]
     },
     "execution_count": 29,
     "metadata": {},
     "output_type": "execute_result"
    },
    {
     "data": {
      "image/png": "[encoded data removed]",
      "text/plain": [
       "<matplotlib.figure.Figure at 0x7f3ea7167b70>"
      ]
     },
     "metadata": {},
     "output_type": "display_data"
    }
   ],
   "source": [
    "# Prior behaviour\n",
    "\n",
    "plt.title(\"Prior: top predictions set\")\n",
    "plt.ylabel(\"Prior\")\n",
    "plt.xlabel(\"Observation\")\n",
    "xx = top_df.prior_prob\n",
    "xx.sort_values(ascending = False).head()\n",
    "yy = xx.sort_values(ascending = False)\n",
    "yy.plot(use_index=False)"
   ]
  },
  {
   "cell_type": "code",
   "execution_count": 30,
   "metadata": {
    "collapsed": false
   },
   "outputs": [
    {
     "data": {
      "image/png": "[encoded data removed]",
      "text/plain": [
       "<matplotlib.figure.Figure at 0x7f3ea32446d8>"
      ]
     },
     "metadata": {},
     "output_type": "display_data"
    }
   ],
   "source": [
    "# distribution of the prior feature\n",
    "\n",
    "plt.figure(figsize=(12, 9))\n",
    "plt.title(\"Distribution of the prior: top predictions set\")\n",
    "plt.xlabel(\"Probability\")\n",
    "plt.ylabel(\"Frequency\")\n",
    "plt.hist(top_df.prior_prob)\n",
    "plt.savefig(\"prior-distribution.png\", bbox_inches=\"tight\")"
   ]
  },
  {
   "cell_type": "code",
   "execution_count": 31,
   "metadata": {
    "collapsed": false
   },
   "outputs": [
    {
     "data": {
      "image/png": "[encoded data removed]",
      "text/plain": [
       "<matplotlib.figure.Figure at 0x7f3ea71b0f28>"
      ]
     },
     "metadata": {},
     "output_type": "display_data"
    }
   ],
   "source": [
    "# distribution of the prior feature - status = 1\n",
    "\n",
    "plt.figure(figsize=(12, 9))\n",
    "plt.title(\"Distribution of the prior (status = 1): top predictions set\")\n",
    "plt.xlabel(\"Probability\")\n",
    "plt.ylabel(\"Frequency\")\n",
    "plt.hist(top_df[top_df.status == 1].prior_prob)\n",
    "plt.savefig(\"prior-status1-distribution.png\", bbox_inches=\"tight\")"
   ]
  },
  {
   "cell_type": "code",
   "execution_count": 32,
   "metadata": {
    "collapsed": false
   },
   "outputs": [
    {
     "data": {
      "image/png": "[encoded data removed]",
      "text/plain": [
       "<matplotlib.figure.Figure at 0x7f3ea9444208>"
      ]
     },
     "metadata": {},
     "output_type": "display_data"
    }
   ],
   "source": [
    "# distribution of the prior feature - status = 0\n",
    "\n",
    "plt.figure(figsize=(12, 9))\n",
    "plt.title(\"Distribution of the prior (status = 0): top predictions set\")\n",
    "plt.xlabel(\"Probability\")\n",
    "plt.ylabel(\"Frequency\")\n",
    "plt.hist(top_df[top_df.status == 0].prior_prob)\n",
    "plt.savefig(\"prior-status0-distribution.png\", bbox_inches=\"tight\")"
   ]
  },
  {
   "cell_type": "markdown",
   "metadata": {},
   "source": [
    "### Prediction vs Prior"
   ]
  },
  {
   "cell_type": "code",
   "execution_count": 33,
   "metadata": {
    "collapsed": false
   },
   "outputs": [
    {
     "data": {
      "image/png": "[encoded data removed]",
      "text/plain": [
       "<matplotlib.figure.Figure at 0x7f3ea94235c0>"
      ]
     },
     "metadata": {},
     "output_type": "display_data"
    }
   ],
   "source": [
    "# distribution of the prediction versus the prior feature \n",
    "\n",
    "plt.figure(figsize=(12, 9))\n",
    "plt.title(\"Prediction vs prior: top predictions set\")\n",
    "plt.xlabel(\"Prior\")\n",
    "plt.ylabel(\"Probability\")\n",
    "plt.scatter(x=top_df.prior_prob, y=top_df.prediction)\n",
    "plt.savefig(\"prediction-prior-distribution.png\", bbox_inches=\"tight\")"
   ]
  },
  {
   "cell_type": "code",
   "execution_count": 34,
   "metadata": {
    "collapsed": false
   },
   "outputs": [
    {
     "data": {
      "image/png": "[encoded data removed]",
      "text/plain": [
       "<matplotlib.figure.Figure at 0x7f3ea7207208>"
      ]
     },
     "metadata": {},
     "output_type": "display_data"
    }
   ],
   "source": [
    "# distribution of the prediction versus the prior feature - status = 1\n",
    "\n",
    "plt.figure(figsize=(12, 9))\n",
    "plt.title(\"Prediction vs prior (status = 1): top predictions set\")\n",
    "plt.xlabel(\"Prior\")\n",
    "plt.ylabel(\"Probability\")\n",
    "plt.scatter(x=top_df[top_df.status == 1].prior_prob, y=top_df[top_df.status == 1].prediction)\n",
    "plt.savefig(\"prediction-prior-status1-distribution.png\", bbox_inches=\"tight\")"
   ]
  },
  {
   "cell_type": "code",
   "execution_count": 35,
   "metadata": {
    "collapsed": false
   },
   "outputs": [
    {
     "data": {
      "image/png": "[encoded data removed]",
      "text/plain": [
       "<matplotlib.figure.Figure at 0x7f3ea9492630>"
      ]
     },
     "metadata": {},
     "output_type": "display_data"
    }
   ],
   "source": [
    "# distribution of the prediction versus the prior feature - status = 0\n",
    "\n",
    "plt.figure(figsize=(12, 9))\n",
    "plt.title(\"Prediction vs prior (status = 0): top predictions set\")\n",
    "plt.xlabel(\"Prior\")\n",
    "plt.ylabel(\"Probability\")\n",
    "plt.scatter(x=top_df[top_df.status == 0].prior_prob, y=top_df[top_df.status == 0].prediction)\n",
    "plt.savefig(\"prediction-prior-status0-distribution.png\", bbox_inches=\"tight\")"
   ]
  },
  {
   "cell_type": "markdown",
   "metadata": {},
   "source": [
    "### All predictions data set"
   ]
  },
  {
   "cell_type": "code",
   "execution_count": 36,
   "metadata": {
    "collapsed": false
   },
   "outputs": [
    {
     "name": "stdout",
     "output_type": "stream",
     "text": [
      "number of observations: 209168\n",
      "number of unique observations: 209168\n",
      "number of unique prior_prob: 402\n",
      "number of unique prediction: 202672\n"
     ]
    },
    {
     "data": {
      "text/html": [
       "<div>\n",
       "<table border=\"1\" class=\"dataframe\">\n",
       "  <thead>\n",
       "    <tr style=\"text-align: right;\">\n",
       "      <th></th>\n",
       "      <th>compound_id</th>\n",
       "      <th>compound_name</th>\n",
       "      <th>disease_id</th>\n",
       "      <th>disease_name</th>\n",
       "      <th>category</th>\n",
       "      <th>status</th>\n",
       "      <th>prior_prob</th>\n",
       "      <th>prediction</th>\n",
       "      <th>training_prediction</th>\n",
       "      <th>compound_percentile</th>\n",
       "      <th>disease_percentile</th>\n",
       "      <th>n_trials</th>\n",
       "      <th>status_trials</th>\n",
       "      <th>status_drugcentral</th>\n",
       "    </tr>\n",
       "  </thead>\n",
       "  <tbody>\n",
       "    <tr>\n",
       "      <th>0</th>\n",
       "      <td>DB01048</td>\n",
       "      <td>Abacavir</td>\n",
       "      <td>DOID:10652</td>\n",
       "      <td>Alzheimer's disease</td>\n",
       "      <td>NaN</td>\n",
       "      <td>0</td>\n",
       "      <td>0.004753</td>\n",
       "      <td>0.000930</td>\n",
       "      <td>0.001129</td>\n",
       "      <td>0.125000</td>\n",
       "      <td>0.154746</td>\n",
       "      <td>0.0</td>\n",
       "      <td>0.0</td>\n",
       "      <td>0.0</td>\n",
       "    </tr>\n",
       "    <tr>\n",
       "      <th>1</th>\n",
       "      <td>DB05812</td>\n",
       "      <td>Abiraterone</td>\n",
       "      <td>DOID:10652</td>\n",
       "      <td>Alzheimer's disease</td>\n",
       "      <td>NaN</td>\n",
       "      <td>0</td>\n",
       "      <td>0.004753</td>\n",
       "      <td>0.003795</td>\n",
       "      <td>0.004604</td>\n",
       "      <td>0.757353</td>\n",
       "      <td>0.842653</td>\n",
       "      <td>0.0</td>\n",
       "      <td>0.0</td>\n",
       "      <td>0.0</td>\n",
       "    </tr>\n",
       "  </tbody>\n",
       "</table>\n",
       "</div>"
      ],
      "text/plain": [
       "  compound_id compound_name  disease_id         disease_name category  status  \\\n",
       "0     DB01048      Abacavir  DOID:10652  Alzheimer's disease      NaN       0   \n",
       "1     DB05812   Abiraterone  DOID:10652  Alzheimer's disease      NaN       0   \n",
       "\n",
       "   prior_prob  prediction  training_prediction  compound_percentile  \\\n",
       "0    0.004753    0.000930             0.001129             0.125000   \n",
       "1    0.004753    0.003795             0.004604             0.757353   \n",
       "\n",
       "   disease_percentile  n_trials  status_trials  status_drugcentral  \n",
       "0            0.154746       0.0            0.0                 0.0  \n",
       "1            0.842653       0.0            0.0                 0.0  "
      ]
     },
     "execution_count": 36,
     "metadata": {},
     "output_type": "execute_result"
    }
   ],
   "source": [
    "# load all predictions data set\n",
    "\n",
    "pred_df = pandas.read_table('predictions/probabilities.tsv')\n",
    "print(\"number of observations: {}\".format(len(pred_df)))\n",
    "print(\"number of unique observations: {}\".format(len(pred_df.groupby(['compound_id', 'disease_id'])['prediction'].mean())))\n",
    "print(\"number of unique prior_prob: {}\".format(len(set(list(pred_df.prior_prob)))))\n",
    "print(\"number of unique prediction: {}\".format(len(set(list(pred_df.prediction)))))\n",
    "pred_df.head(2)"
   ]
  },
  {
   "cell_type": "code",
   "execution_count": 37,
   "metadata": {
    "collapsed": false
   },
   "outputs": [
    {
     "name": "stdout",
     "output_type": "stream",
     "text": [
      "number of observations with prior == 0.008491: 1290\n"
     ]
    }
   ],
   "source": [
    "# number of observations with prior == 0.008491\n",
    "\n",
    "print(\"number of observations with prior == 0.008491: {}\".format(len(pred_df[pred_df.prior_prob == 0.008491])))"
   ]
  },
  {
   "cell_type": "code",
   "execution_count": 38,
   "metadata": {
    "collapsed": false
   },
   "outputs": [
    {
     "data": {
      "image/png": "[encoded data removed]",
      "text/plain": [
       "<matplotlib.figure.Figure at 0x7f3ea72924e0>"
      ]
     },
     "metadata": {},
     "output_type": "display_data"
    }
   ],
   "source": [
    "# hist of prior_prob\n",
    "\n",
    "plt.figure(figsize=(12, 9))\n",
    "plt.title(\"Distribution of the prior: all predictions set\")\n",
    "plt.xlabel(\"Probability\")\n",
    "plt.ylabel(\"Frequency\")\n",
    "plt.hist(pred_df.prior_prob)\n",
    "plt.savefig(\"prior-distribution-all.png\", bbox_inches=\"tight\")"
   ]
  },
  {
   "cell_type": "code",
   "execution_count": 39,
   "metadata": {
    "collapsed": false
   },
   "outputs": [
    {
     "data": {
      "image/png": "[encoded data removed]",
      "text/plain": [
       "<matplotlib.figure.Figure at 0x7f3ea3187748>"
      ]
     },
     "metadata": {},
     "output_type": "display_data"
    }
   ],
   "source": [
    "plt.figure(figsize=(12, 9))\n",
    "plt.title(\"Distribution of the prior: all predictions set\")\n",
    "plt.xlabel(\"Probability\")\n",
    "plt.ylabel(\"Frequency\")\n",
    "plt.hist(pred_df.prior_prob[pred_df.prior_prob > 0.005], bins=500)\n",
    "plt.savefig(\"prior-distribution-all.png\", bbox_inches=\"tight\")"
   ]
  },
  {
   "cell_type": "code",
   "execution_count": 40,
   "metadata": {
    "collapsed": false
   },
   "outputs": [
    {
     "data": {
      "image/png": "[encoded data removed]",
      "text/plain": [
       "<matplotlib.figure.Figure at 0x7f3ea71a48d0>"
      ]
     },
     "metadata": {},
     "output_type": "display_data"
    }
   ],
   "source": [
    "# hist of predictions\n",
    "\n",
    "plt.figure(figsize=(12, 9))\n",
    "plt.title(\"Distribution of predictions: all predictions set\")\n",
    "plt.xlabel(\"Probability\")\n",
    "plt.ylabel(\"Frequency\")\n",
    "plt.hist(pred_df.prediction)\n",
    "plt.savefig(\"predictions-distribution-all.png\", bbox_inches=\"tight\")"
   ]
  },
  {
   "cell_type": "code",
   "execution_count": 41,
   "metadata": {
    "collapsed": false
   },
   "outputs": [
    {
     "data": {
      "image/png": "[encoded data removed]",
      "text/plain": [
       "<matplotlib.figure.Figure at 0x7f3ea31bb6a0>"
      ]
     },
     "metadata": {},
     "output_type": "display_data"
    }
   ],
   "source": [
    "# hist of predictions > 0.1\n",
    "\n",
    "plt.figure(figsize=(12, 9))\n",
    "plt.title(\"Distribution of predictions (prob > .1): all predictions set\")\n",
    "plt.xlabel(\"Probability\")\n",
    "plt.ylabel(\"Frequency\")\n",
    "plt.hist(pred_df.prediction[pred_df.prediction > 0.1])\n",
    "plt.savefig(\"predictions-distribution-all.png\", bbox_inches=\"tight\")"
   ]
  },
  {
   "cell_type": "code",
   "execution_count": 42,
   "metadata": {
    "collapsed": false
   },
   "outputs": [
    {
     "data": {
      "text/plain": [
       "(array([  6.99810000e+04,   9.62600000e+04,   2.31120000e+04,\n",
       "          7.38700000e+03,   3.52500000e+03,   2.00700000e+03,\n",
       "          1.19800000e+03,   8.27000000e+02,   5.39000000e+02,\n",
       "          4.17000000e+02,   3.82000000e+02,   2.76000000e+02,\n",
       "          2.60000000e+02,   2.20000000e+02,   1.71000000e+02,\n",
       "          1.41000000e+02,   1.25000000e+02,   1.16000000e+02,\n",
       "          8.60000000e+01,   9.10000000e+01,   7.00000000e+01,\n",
       "          6.30000000e+01,   5.30000000e+01,   5.30000000e+01,\n",
       "          5.30000000e+01,   5.10000000e+01,   4.90000000e+01,\n",
       "          5.00000000e+01,   3.20000000e+01,   2.70000000e+01,\n",
       "          3.00000000e+01,   2.40000000e+01,   3.70000000e+01,\n",
       "          3.30000000e+01,   3.30000000e+01,   2.80000000e+01,\n",
       "          3.10000000e+01,   2.10000000e+01,   2.80000000e+01,\n",
       "          2.50000000e+01,   2.00000000e+01,   2.10000000e+01,\n",
       "          3.10000000e+01,   1.80000000e+01,   1.70000000e+01,\n",
       "          1.10000000e+01,   1.90000000e+01,   1.50000000e+01,\n",
       "          1.90000000e+01,   2.00000000e+01,   1.80000000e+01,\n",
       "          1.20000000e+01,   1.40000000e+01,   1.80000000e+01,\n",
       "          1.80000000e+01,   1.20000000e+01,   1.10000000e+01,\n",
       "          1.80000000e+01,   1.70000000e+01,   1.40000000e+01,\n",
       "          1.30000000e+01,   1.50000000e+01,   1.80000000e+01,\n",
       "          6.00000000e+00,   1.40000000e+01,   1.30000000e+01,\n",
       "          1.00000000e+01,   9.00000000e+00,   1.20000000e+01,\n",
       "          9.00000000e+00,   1.40000000e+01,   7.00000000e+00,\n",
       "          7.00000000e+00,   6.00000000e+00,   5.00000000e+00,\n",
       "          1.10000000e+01,   6.00000000e+00,   1.30000000e+01,\n",
       "          8.00000000e+00,   1.00000000e+01,   5.00000000e+00,\n",
       "          1.00000000e+01,   7.00000000e+00,   9.00000000e+00,\n",
       "          6.00000000e+00,   7.00000000e+00,   9.00000000e+00,\n",
       "          1.10000000e+01,   3.00000000e+00,   5.00000000e+00,\n",
       "          8.00000000e+00,   5.00000000e+00,   2.00000000e+00,\n",
       "          3.00000000e+00,   5.00000000e+00,   7.00000000e+00,\n",
       "          7.00000000e+00,   7.00000000e+00,   1.00000000e+01,\n",
       "          8.00000000e+00]),\n",
       " array([ 0.00020999,  0.00120788,  0.00220577,  0.00320366,  0.00420155,\n",
       "         0.00519944,  0.00619733,  0.00719522,  0.00819311,  0.009191  ,\n",
       "         0.01018889,  0.01118678,  0.01218467,  0.01318257,  0.01418046,\n",
       "         0.01517835,  0.01617624,  0.01717413,  0.01817202,  0.01916991,\n",
       "         0.0201678 ,  0.02116569,  0.02216358,  0.02316147,  0.02415936,\n",
       "         0.02515725,  0.02615514,  0.02715303,  0.02815092,  0.02914882,\n",
       "         0.03014671,  0.0311446 ,  0.03214249,  0.03314038,  0.03413827,\n",
       "         0.03513616,  0.03613405,  0.03713194,  0.03812983,  0.03912772,\n",
       "         0.04012561,  0.0411235 ,  0.04212139,  0.04311928,  0.04411718,\n",
       "         0.04511507,  0.04611296,  0.04711085,  0.04810874,  0.04910663,\n",
       "         0.05010452,  0.05110241,  0.0521003 ,  0.05309819,  0.05409608,\n",
       "         0.05509397,  0.05609186,  0.05708975,  0.05808764,  0.05908553,\n",
       "         0.06008343,  0.06108132,  0.06207921,  0.0630771 ,  0.06407499,\n",
       "         0.06507288,  0.06607077,  0.06706866,  0.06806655,  0.06906444,\n",
       "         0.07006233,  0.07106022,  0.07205811,  0.073056  ,  0.07405389,\n",
       "         0.07505179,  0.07604968,  0.07704757,  0.07804546,  0.07904335,\n",
       "         0.08004124,  0.08103913,  0.08203702,  0.08303491,  0.0840328 ,\n",
       "         0.08503069,  0.08602858,  0.08702647,  0.08802436,  0.08902225,\n",
       "         0.09002014,  0.09101804,  0.09201593,  0.09301382,  0.09401171,\n",
       "         0.0950096 ,  0.09600749,  0.09700538,  0.09800327,  0.09900116,\n",
       "         0.09999905]),\n",
       " <a list of 100 Patch objects>)"
      ]
     },
     "execution_count": 42,
     "metadata": {},
     "output_type": "execute_result"
    },
    {
     "data": {
      "image/png": "[encoded data removed]",
      "text/plain": [
       "<matplotlib.figure.Figure at 0x7f3ea2cdc5f8>"
      ]
     },
     "metadata": {},
     "output_type": "display_data"
    }
   ],
   "source": [
    "# hist of predictions < 0.1\n",
    "\n",
    "plt.figure(figsize=(12, 9))\n",
    "plt.title(\"Distribution of predictions (prob < .1): all predictions set\")\n",
    "plt.xlabel(\"Probability\")\n",
    "plt.ylabel(\"Frequency\")\n",
    "plt.hist(pred_df.prediction[pred_df.prediction < 0.1])\n",
    "plt.savefig(\"predictions-distribution-all.png\", bbox_inches=\"tight\")\n",
    "plt.hist(pred_df.prediction[pred_df.prediction < 0.1], bins = 100)"
   ]
  },
  {
   "cell_type": "code",
   "execution_count": 43,
   "metadata": {
    "collapsed": false
   },
   "outputs": [
    {
     "data": {
      "text/html": [
       "<div>\n",
       "<table border=\"1\" class=\"dataframe\">\n",
       "  <thead>\n",
       "    <tr style=\"text-align: right;\">\n",
       "      <th></th>\n",
       "      <th>compound_id</th>\n",
       "      <th>compound_name</th>\n",
       "      <th>disease_id</th>\n",
       "      <th>disease_name</th>\n",
       "      <th>category</th>\n",
       "      <th>status</th>\n",
       "      <th>prior_prob</th>\n",
       "      <th>prediction</th>\n",
       "      <th>training_prediction</th>\n",
       "      <th>compound_percentile</th>\n",
       "      <th>disease_percentile</th>\n",
       "      <th>n_trials</th>\n",
       "      <th>status_trials</th>\n",
       "      <th>status_drugcentral</th>\n",
       "    </tr>\n",
       "  </thead>\n",
       "  <tbody>\n",
       "    <tr>\n",
       "      <th>123111</th>\n",
       "      <td>DB00321</td>\n",
       "      <td>Amitriptyline</td>\n",
       "      <td>DOID:6364</td>\n",
       "      <td>migraine</td>\n",
       "      <td>DM</td>\n",
       "      <td>1</td>\n",
       "      <td>0.008491</td>\n",
       "      <td>0.0139</td>\n",
       "      <td>0.025136</td>\n",
       "      <td>0.977941</td>\n",
       "      <td>0.938882</td>\n",
       "      <td>NaN</td>\n",
       "      <td>NaN</td>\n",
       "      <td>NaN</td>\n",
       "    </tr>\n",
       "  </tbody>\n",
       "</table>\n",
       "</div>"
      ],
      "text/plain": [
       "       compound_id  compound_name disease_id disease_name category  status  \\\n",
       "123111     DB00321  Amitriptyline  DOID:6364     migraine       DM       1   \n",
       "\n",
       "        prior_prob  prediction  training_prediction  compound_percentile  \\\n",
       "123111    0.008491      0.0139             0.025136             0.977941   \n",
       "\n",
       "        disease_percentile  n_trials  status_trials  status_drugcentral  \n",
       "123111            0.938882       NaN            NaN                 NaN  "
      ]
     },
     "execution_count": 43,
     "metadata": {},
     "output_type": "execute_result"
    }
   ],
   "source": [
    "# See prediction values for the amitriptyline (DB00321) - migrane (DOID:6364) observation\n",
    "\n",
    "amit_df = pred_df[pred_df.compound_id == 'DB00321']\n",
    "amit_migraine_df = amit_df[amit_df.disease_id == 'DOID:6364']\n",
    "amit_migraine_df"
   ]
  },
  {
   "cell_type": "code",
   "execution_count": null,
   "metadata": {
    "collapsed": true
   },
   "outputs": [],
   "source": []
  }
 ],
 "metadata": {
  "kernelspec": {
   "display_name": "Python 3",
   "language": "python",
   "name": "python3"
  },
  "language_info": {
   "codemirror_mode": {
    "name": "ipython",
    "version": 3
   },
   "file_extension": ".py",
   "mimetype": "text/x-python",
   "name": "python",
   "nbconvert_exporter": "python",
   "pygments_lexer": "ipython3",
   "version": "3.5.1"
  }
 },
 "nbformat": 4,
 "nbformat_minor": 1
}
