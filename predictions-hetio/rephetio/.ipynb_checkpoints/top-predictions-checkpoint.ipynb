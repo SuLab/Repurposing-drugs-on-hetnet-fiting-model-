{
 "cells": [
  {
   "cell_type": "markdown",
   "metadata": {},
   "source": [
    "## Top predictions analysis"
   ]
  },
  {
   "cell_type": "code",
   "execution_count": 1,
   "metadata": {
    "collapsed": true
   },
   "outputs": [],
   "source": [
    "import pandas"
   ]
  },
  {
   "cell_type": "code",
   "execution_count": 2,
   "metadata": {
    "collapsed": false
   },
   "outputs": [
    {
     "data": {
      "text/html": [
       "<div>\n",
       "<table border=\"1\" class=\"dataframe\">\n",
       "  <thead>\n",
       "    <tr style=\"text-align: right;\">\n",
       "      <th></th>\n",
       "      <th>compound_name</th>\n",
       "      <th>disease_name</th>\n",
       "      <th>category</th>\n",
       "      <th>prediction</th>\n",
       "      <th>compound_percentile</th>\n",
       "      <th>disease_percentile</th>\n",
       "      <th>prior_prob</th>\n",
       "      <th>n_trials</th>\n",
       "    </tr>\n",
       "  </thead>\n",
       "  <tbody>\n",
       "    <tr>\n",
       "      <th>0</th>\n",
       "      <td>Pamidronate</td>\n",
       "      <td>osteoporosis</td>\n",
       "      <td>DM</td>\n",
       "      <td>0.886899</td>\n",
       "      <td>1.0</td>\n",
       "      <td>1.00000</td>\n",
       "      <td>0.03893</td>\n",
       "      <td>0</td>\n",
       "    </tr>\n",
       "    <tr>\n",
       "      <th>1</th>\n",
       "      <td>Alendronate</td>\n",
       "      <td>osteoporosis</td>\n",
       "      <td>DM</td>\n",
       "      <td>0.884991</td>\n",
       "      <td>1.0</td>\n",
       "      <td>0.99935</td>\n",
       "      <td>0.03893</td>\n",
       "      <td>68</td>\n",
       "    </tr>\n",
       "  </tbody>\n",
       "</table>\n",
       "</div>"
      ],
      "text/plain": [
       "  compound_name  disease_name category  prediction  compound_percentile  \\\n",
       "0   Pamidronate  osteoporosis       DM    0.886899                  1.0   \n",
       "1   Alendronate  osteoporosis       DM    0.884991                  1.0   \n",
       "\n",
       "   disease_percentile  prior_prob  n_trials  \n",
       "0             1.00000     0.03893         0  \n",
       "1             0.99935     0.03893        68  "
      ]
     },
     "execution_count": 2,
     "metadata": {},
     "output_type": "execute_result"
    }
   ],
   "source": [
    "# open top predictions file\n",
    "top_pred_df = pandas.read_excel('predictions/top-predictions.xlsx')\n",
    "top_pred_df.head(2)"
   ]
  },
  {
   "cell_type": "code",
   "execution_count": 3,
   "metadata": {
    "collapsed": false
   },
   "outputs": [
    {
     "data": {
      "text/plain": [
       "3980"
      ]
     },
     "execution_count": 3,
     "metadata": {},
     "output_type": "execute_result"
    }
   ],
   "source": [
    "# Number of top predictions\n",
    "len(top_pred_df)"
   ]
  },
  {
   "cell_type": "code",
   "execution_count": 4,
   "metadata": {
    "collapsed": false
   },
   "outputs": [
    {
     "data": {
      "text/html": [
       "<div>\n",
       "<table border=\"1\" class=\"dataframe\">\n",
       "  <thead>\n",
       "    <tr style=\"text-align: right;\">\n",
       "      <th></th>\n",
       "      <th>compound_id</th>\n",
       "      <th>compound_name</th>\n",
       "      <th>disease_id</th>\n",
       "      <th>disease_name</th>\n",
       "      <th>category</th>\n",
       "      <th>status</th>\n",
       "      <th>prior_prob</th>\n",
       "      <th>prediction</th>\n",
       "      <th>training_prediction</th>\n",
       "      <th>compound_percentile</th>\n",
       "      <th>disease_percentile</th>\n",
       "      <th>n_trials</th>\n",
       "      <th>status_trials</th>\n",
       "      <th>status_drugcentral</th>\n",
       "    </tr>\n",
       "  </thead>\n",
       "  <tbody>\n",
       "    <tr>\n",
       "      <th>139518</th>\n",
       "      <td>DB00282</td>\n",
       "      <td>Pamidronate</td>\n",
       "      <td>DOID:11476</td>\n",
       "      <td>osteoporosis</td>\n",
       "      <td>DM</td>\n",
       "      <td>1</td>\n",
       "      <td>0.03893</td>\n",
       "      <td>0.886899</td>\n",
       "      <td>0.977108</td>\n",
       "      <td>1.0</td>\n",
       "      <td>1.00000</td>\n",
       "      <td>NaN</td>\n",
       "      <td>NaN</td>\n",
       "      <td>NaN</td>\n",
       "    </tr>\n",
       "    <tr>\n",
       "      <th>138453</th>\n",
       "      <td>DB00630</td>\n",
       "      <td>Alendronate</td>\n",
       "      <td>DOID:11476</td>\n",
       "      <td>osteoporosis</td>\n",
       "      <td>DM</td>\n",
       "      <td>1</td>\n",
       "      <td>0.03893</td>\n",
       "      <td>0.884991</td>\n",
       "      <td>0.976682</td>\n",
       "      <td>1.0</td>\n",
       "      <td>0.99935</td>\n",
       "      <td>NaN</td>\n",
       "      <td>NaN</td>\n",
       "      <td>NaN</td>\n",
       "    </tr>\n",
       "  </tbody>\n",
       "</table>\n",
       "</div>"
      ],
      "text/plain": [
       "       compound_id compound_name  disease_id  disease_name category  status  \\\n",
       "139518     DB00282   Pamidronate  DOID:11476  osteoporosis       DM       1   \n",
       "138453     DB00630   Alendronate  DOID:11476  osteoporosis       DM       1   \n",
       "\n",
       "        prior_prob  prediction  training_prediction  compound_percentile  \\\n",
       "139518     0.03893    0.886899             0.977108                  1.0   \n",
       "138453     0.03893    0.884991             0.976682                  1.0   \n",
       "\n",
       "        disease_percentile  n_trials  status_trials  status_drugcentral  \n",
       "139518             1.00000       NaN            NaN                 NaN  \n",
       "138453             0.99935       NaN            NaN                 NaN  "
      ]
     },
     "execution_count": 4,
     "metadata": {},
     "output_type": "execute_result"
    }
   ],
   "source": [
    "# open all predictions file\n",
    "pred_df = pandas.read_table('predictions/probabilities.tsv')\n",
    "#pred_df.head(2)\n",
    "pred_df.sort_values('prediction', ascending=False).head(2)"
   ]
  },
  {
   "cell_type": "code",
   "execution_count": 5,
   "metadata": {
    "collapsed": false
   },
   "outputs": [
    {
     "data": {
      "text/plain": [
       "209168"
      ]
     },
     "execution_count": 5,
     "metadata": {},
     "output_type": "execute_result"
    }
   ],
   "source": [
    "# Number of total predictions\n",
    "len(pred_df)"
   ]
  },
  {
   "cell_type": "code",
   "execution_count": 6,
   "metadata": {
    "collapsed": false
   },
   "outputs": [
    {
     "data": {
      "text/plain": [
       "755"
      ]
     },
     "execution_count": 6,
     "metadata": {},
     "output_type": "execute_result"
    }
   ],
   "source": [
    "# Number of predictions with status = 1 in all predictions dataset\n",
    "len(pred_df[pred_df.status == 1])"
   ]
  },
  {
   "cell_type": "code",
   "execution_count": 7,
   "metadata": {
    "collapsed": false
   },
   "outputs": [
    {
     "data": {
      "text/html": [
       "<div>\n",
       "<table border=\"1\" class=\"dataframe\">\n",
       "  <thead>\n",
       "    <tr style=\"text-align: right;\">\n",
       "      <th></th>\n",
       "      <th>compound_id</th>\n",
       "      <th>compound_name</th>\n",
       "      <th>disease_id</th>\n",
       "      <th>disease_name</th>\n",
       "      <th>status</th>\n",
       "    </tr>\n",
       "  </thead>\n",
       "  <tbody>\n",
       "    <tr>\n",
       "      <th>0</th>\n",
       "      <td>DB01048</td>\n",
       "      <td>Abacavir</td>\n",
       "      <td>DOID:10652</td>\n",
       "      <td>Alzheimer's disease</td>\n",
       "      <td>0</td>\n",
       "    </tr>\n",
       "    <tr>\n",
       "      <th>1</th>\n",
       "      <td>DB05812</td>\n",
       "      <td>Abiraterone</td>\n",
       "      <td>DOID:10652</td>\n",
       "      <td>Alzheimer's disease</td>\n",
       "      <td>0</td>\n",
       "    </tr>\n",
       "  </tbody>\n",
       "</table>\n",
       "</div>"
      ],
      "text/plain": [
       "  compound_id compound_name  disease_id         disease_name  status\n",
       "0     DB01048      Abacavir  DOID:10652  Alzheimer's disease       0\n",
       "1     DB05812   Abiraterone  DOID:10652  Alzheimer's disease       0"
      ]
     },
     "execution_count": 7,
     "metadata": {},
     "output_type": "execute_result"
    }
   ],
   "source": [
    "# add compound and disease IDs and status vectors into top_pred_df\n",
    "pred_df = pred_df[['compound_id','compound_name','disease_id', 'disease_name', 'status']]\n",
    "pred_df.head(2)"
   ]
  },
  {
   "cell_type": "code",
   "execution_count": 8,
   "metadata": {
    "collapsed": false
   },
   "outputs": [
    {
     "data": {
      "text/html": [
       "<div>\n",
       "<table border=\"1\" class=\"dataframe\">\n",
       "  <thead>\n",
       "    <tr style=\"text-align: right;\">\n",
       "      <th></th>\n",
       "      <th>compound_name</th>\n",
       "      <th>disease_name</th>\n",
       "      <th>category</th>\n",
       "      <th>prediction</th>\n",
       "      <th>compound_percentile</th>\n",
       "      <th>disease_percentile</th>\n",
       "      <th>prior_prob</th>\n",
       "      <th>n_trials</th>\n",
       "      <th>compound_id</th>\n",
       "      <th>disease_id</th>\n",
       "      <th>status</th>\n",
       "    </tr>\n",
       "  </thead>\n",
       "  <tbody>\n",
       "    <tr>\n",
       "      <th>0</th>\n",
       "      <td>Pamidronate</td>\n",
       "      <td>osteoporosis</td>\n",
       "      <td>DM</td>\n",
       "      <td>0.886899</td>\n",
       "      <td>1.0</td>\n",
       "      <td>1.00000</td>\n",
       "      <td>0.03893</td>\n",
       "      <td>0</td>\n",
       "      <td>DB00282</td>\n",
       "      <td>DOID:11476</td>\n",
       "      <td>1</td>\n",
       "    </tr>\n",
       "    <tr>\n",
       "      <th>1</th>\n",
       "      <td>Alendronate</td>\n",
       "      <td>osteoporosis</td>\n",
       "      <td>DM</td>\n",
       "      <td>0.884991</td>\n",
       "      <td>1.0</td>\n",
       "      <td>0.99935</td>\n",
       "      <td>0.03893</td>\n",
       "      <td>68</td>\n",
       "      <td>DB00630</td>\n",
       "      <td>DOID:11476</td>\n",
       "      <td>1</td>\n",
       "    </tr>\n",
       "  </tbody>\n",
       "</table>\n",
       "</div>"
      ],
      "text/plain": [
       "  compound_name  disease_name category  prediction  compound_percentile  \\\n",
       "0   Pamidronate  osteoporosis       DM    0.886899                  1.0   \n",
       "1   Alendronate  osteoporosis       DM    0.884991                  1.0   \n",
       "\n",
       "   disease_percentile  prior_prob  n_trials compound_id  disease_id  status  \n",
       "0             1.00000     0.03893         0     DB00282  DOID:11476       1  \n",
       "1             0.99935     0.03893        68     DB00630  DOID:11476       1  "
      ]
     },
     "execution_count": 8,
     "metadata": {},
     "output_type": "execute_result"
    }
   ],
   "source": [
    "top_id_df = pandas.merge(top_pred_df, pred_df, how='left', on=['compound_name','disease_name'])\n",
    "top_id_df.head(2)"
   ]
  },
  {
   "cell_type": "code",
   "execution_count": 9,
   "metadata": {
    "collapsed": false
   },
   "outputs": [
    {
     "data": {
      "text/html": [
       "<div>\n",
       "<table border=\"1\" class=\"dataframe\">\n",
       "  <thead>\n",
       "    <tr style=\"text-align: right;\">\n",
       "      <th></th>\n",
       "      <th>compound_name</th>\n",
       "      <th>compound_id</th>\n",
       "      <th>disease_name</th>\n",
       "      <th>disease_id</th>\n",
       "      <th>status</th>\n",
       "      <th>category</th>\n",
       "      <th>prediction</th>\n",
       "      <th>compound_percentile</th>\n",
       "      <th>disease_percentile</th>\n",
       "      <th>prior_prob</th>\n",
       "    </tr>\n",
       "  </thead>\n",
       "  <tbody>\n",
       "    <tr>\n",
       "      <th>0</th>\n",
       "      <td>Pamidronate</td>\n",
       "      <td>DB00282</td>\n",
       "      <td>osteoporosis</td>\n",
       "      <td>DOID:11476</td>\n",
       "      <td>1</td>\n",
       "      <td>DM</td>\n",
       "      <td>0.886899</td>\n",
       "      <td>1.0</td>\n",
       "      <td>1.00000</td>\n",
       "      <td>0.03893</td>\n",
       "    </tr>\n",
       "    <tr>\n",
       "      <th>1</th>\n",
       "      <td>Alendronate</td>\n",
       "      <td>DB00630</td>\n",
       "      <td>osteoporosis</td>\n",
       "      <td>DOID:11476</td>\n",
       "      <td>1</td>\n",
       "      <td>DM</td>\n",
       "      <td>0.884991</td>\n",
       "      <td>1.0</td>\n",
       "      <td>0.99935</td>\n",
       "      <td>0.03893</td>\n",
       "    </tr>\n",
       "  </tbody>\n",
       "</table>\n",
       "</div>"
      ],
      "text/plain": [
       "  compound_name compound_id  disease_name  disease_id  status category  \\\n",
       "0   Pamidronate     DB00282  osteoporosis  DOID:11476       1       DM   \n",
       "1   Alendronate     DB00630  osteoporosis  DOID:11476       1       DM   \n",
       "\n",
       "   prediction  compound_percentile  disease_percentile  prior_prob  \n",
       "0    0.886899                  1.0             1.00000     0.03893  \n",
       "1    0.884991                  1.0             0.99935     0.03893  "
      ]
     },
     "execution_count": 9,
     "metadata": {},
     "output_type": "execute_result"
    }
   ],
   "source": [
    "# reorder columns\n",
    "cols = top_id_df.columns.tolist()\n",
    "cols = [cols[0] , cols[8] , cols[1] , cols[9] , cols[10]] + cols[2:7]\n",
    "cols\n",
    "top_id_df = top_id_df[cols]\n",
    "top_id_df.head(2)"
   ]
  },
  {
   "cell_type": "code",
   "execution_count": 10,
   "metadata": {
    "collapsed": true
   },
   "outputs": [],
   "source": [
    "# save df\n",
    "with open('./top-predictions/top-predictions.tsv', 'w') as write_file:\n",
    "    top_id_df.to_csv(write_file, float_format='%.5g', sep='\\t', index=False)"
   ]
  },
  {
   "cell_type": "code",
   "execution_count": 11,
   "metadata": {
    "collapsed": false
   },
   "outputs": [
    {
     "data": {
      "text/html": [
       "<div>\n",
       "<table border=\"1\" class=\"dataframe\">\n",
       "  <thead>\n",
       "    <tr style=\"text-align: right;\">\n",
       "      <th></th>\n",
       "      <th>compound_name</th>\n",
       "      <th>compound_id</th>\n",
       "      <th>disease_name</th>\n",
       "      <th>disease_id</th>\n",
       "      <th>status</th>\n",
       "      <th>category</th>\n",
       "      <th>prediction</th>\n",
       "      <th>compound_percentile</th>\n",
       "      <th>disease_percentile</th>\n",
       "      <th>prior_prob</th>\n",
       "    </tr>\n",
       "  </thead>\n",
       "  <tbody>\n",
       "    <tr>\n",
       "      <th>0</th>\n",
       "      <td>Pamidronate</td>\n",
       "      <td>DB00282</td>\n",
       "      <td>osteoporosis</td>\n",
       "      <td>DOID_11476</td>\n",
       "      <td>1</td>\n",
       "      <td>DM</td>\n",
       "      <td>0.886899</td>\n",
       "      <td>1.0</td>\n",
       "      <td>1.00000</td>\n",
       "      <td>0.03893</td>\n",
       "    </tr>\n",
       "    <tr>\n",
       "      <th>1</th>\n",
       "      <td>Alendronate</td>\n",
       "      <td>DB00630</td>\n",
       "      <td>osteoporosis</td>\n",
       "      <td>DOID_11476</td>\n",
       "      <td>1</td>\n",
       "      <td>DM</td>\n",
       "      <td>0.884991</td>\n",
       "      <td>1.0</td>\n",
       "      <td>0.99935</td>\n",
       "      <td>0.03893</td>\n",
       "    </tr>\n",
       "  </tbody>\n",
       "</table>\n",
       "</div>"
      ],
      "text/plain": [
       "  compound_name compound_id  disease_name  disease_id  status category  \\\n",
       "0   Pamidronate     DB00282  osteoporosis  DOID_11476       1       DM   \n",
       "1   Alendronate     DB00630  osteoporosis  DOID_11476       1       DM   \n",
       "\n",
       "   prediction  compound_percentile  disease_percentile  prior_prob  \n",
       "0    0.886899                  1.0             1.00000     0.03893  \n",
       "1    0.884991                  1.0             0.99935     0.03893  "
      ]
     },
     "execution_count": 11,
     "metadata": {},
     "output_type": "execute_result"
    }
   ],
   "source": [
    "# DOID - replace ':' by '_'\n",
    "top_df = top_id_df\n",
    "top_df['disease_id'] = top_df.disease_id.str.replace(':','_')\n",
    "top_df.head(2)"
   ]
  },
  {
   "cell_type": "code",
   "execution_count": 12,
   "metadata": {
    "collapsed": true
   },
   "outputs": [],
   "source": [
    "# save df\n",
    "with open('./top-predictions/top-predictions.tsv', 'w') as write_file:\n",
    "    top_id_df.to_csv(write_file, float_format='%.5g', sep='\\t', index=False)"
   ]
  },
  {
   "cell_type": "markdown",
   "metadata": {},
   "source": [
    "## Statistics"
   ]
  },
  {
   "cell_type": "markdown",
   "metadata": {},
   "source": [
    "### Top predictions dataset"
   ]
  },
  {
   "cell_type": "code",
   "execution_count": 13,
   "metadata": {
    "collapsed": false
   },
   "outputs": [
    {
     "data": {
      "text/plain": [
       "3980"
      ]
     },
     "execution_count": 13,
     "metadata": {},
     "output_type": "execute_result"
    }
   ],
   "source": [
    "# Number of top predictions\n",
    "len(top_df)"
   ]
  },
  {
   "cell_type": "code",
   "execution_count": 14,
   "metadata": {
    "collapsed": false
   },
   "outputs": [
    {
     "name": "stdout",
     "output_type": "stream",
     "text": [
      "2%\n"
     ]
    }
   ],
   "source": [
    "# percentage to all predictions\n",
    "print('{}%'.format(round(len(top_df)*100/len(pred_df))))"
   ]
  },
  {
   "cell_type": "code",
   "execution_count": 15,
   "metadata": {
    "collapsed": false
   },
   "outputs": [
    {
     "data": {
      "text/plain": [
       "586"
      ]
     },
     "execution_count": 15,
     "metadata": {},
     "output_type": "execute_result"
    }
   ],
   "source": [
    "# Number of predictions with status = 1 in top predictions dataset\n",
    "len(top_df[top_df.status == 1])"
   ]
  },
  {
   "cell_type": "code",
   "execution_count": 16,
   "metadata": {
    "collapsed": false
   },
   "outputs": [
    {
     "name": "stdout",
     "output_type": "stream",
     "text": [
      "78%\n"
     ]
    }
   ],
   "source": [
    "# percentage of status = 1 to all predictions\n",
    "print('{}%'.format(round(len(top_df[top_df.status == 1])*100/len(pred_df[pred_df.status == 1]))))"
   ]
  },
  {
   "cell_type": "code",
   "execution_count": 17,
   "metadata": {
    "collapsed": false
   },
   "outputs": [
    {
     "data": {
      "text/html": [
       "<div>\n",
       "<table border=\"1\" class=\"dataframe\">\n",
       "  <thead>\n",
       "    <tr style=\"text-align: right;\">\n",
       "      <th></th>\n",
       "      <th>compound_name</th>\n",
       "      <th>compound_id</th>\n",
       "      <th>disease_name</th>\n",
       "      <th>disease_id</th>\n",
       "      <th>status</th>\n",
       "      <th>category</th>\n",
       "      <th>prediction</th>\n",
       "      <th>compound_percentile</th>\n",
       "      <th>disease_percentile</th>\n",
       "      <th>prior_prob</th>\n",
       "    </tr>\n",
       "  </thead>\n",
       "  <tbody>\n",
       "    <tr>\n",
       "      <th>4</th>\n",
       "      <td>Ibandronate</td>\n",
       "      <td>DB00710</td>\n",
       "      <td>Paget's disease of bone</td>\n",
       "      <td>DOID_5408</td>\n",
       "      <td>0</td>\n",
       "      <td>NaN</td>\n",
       "      <td>0.802573</td>\n",
       "      <td>1.000000</td>\n",
       "      <td>1.000000</td>\n",
       "      <td>0.007231</td>\n",
       "    </tr>\n",
       "    <tr>\n",
       "      <th>15</th>\n",
       "      <td>Olsalazine</td>\n",
       "      <td>DB01250</td>\n",
       "      <td>Crohn's disease</td>\n",
       "      <td>DOID_8778</td>\n",
       "      <td>0</td>\n",
       "      <td>NaN</td>\n",
       "      <td>0.665331</td>\n",
       "      <td>1.000000</td>\n",
       "      <td>1.000000</td>\n",
       "      <td>0.007231</td>\n",
       "    </tr>\n",
       "    <tr>\n",
       "      <th>18</th>\n",
       "      <td>Paricalcitol</td>\n",
       "      <td>DB00910</td>\n",
       "      <td>osteoporosis</td>\n",
       "      <td>DOID_11476</td>\n",
       "      <td>0</td>\n",
       "      <td>NaN</td>\n",
       "      <td>0.603481</td>\n",
       "      <td>1.000000</td>\n",
       "      <td>0.996749</td>\n",
       "      <td>0.000000</td>\n",
       "    </tr>\n",
       "    <tr>\n",
       "      <th>20</th>\n",
       "      <td>Ethotoin</td>\n",
       "      <td>DB00754</td>\n",
       "      <td>epilepsy syndrome</td>\n",
       "      <td>DOID_1826</td>\n",
       "      <td>0</td>\n",
       "      <td>NaN</td>\n",
       "      <td>0.588531</td>\n",
       "      <td>1.000000</td>\n",
       "      <td>0.999350</td>\n",
       "      <td>0.000000</td>\n",
       "    </tr>\n",
       "    <tr>\n",
       "      <th>22</th>\n",
       "      <td>Quazepam</td>\n",
       "      <td>DB01589</td>\n",
       "      <td>epilepsy syndrome</td>\n",
       "      <td>DOID_1826</td>\n",
       "      <td>0</td>\n",
       "      <td>NaN</td>\n",
       "      <td>0.569974</td>\n",
       "      <td>1.000000</td>\n",
       "      <td>0.998700</td>\n",
       "      <td>0.000000</td>\n",
       "    </tr>\n",
       "    <tr>\n",
       "      <th>23</th>\n",
       "      <td>Alprazolam</td>\n",
       "      <td>DB00404</td>\n",
       "      <td>epilepsy syndrome</td>\n",
       "      <td>DOID_1826</td>\n",
       "      <td>0</td>\n",
       "      <td>NaN</td>\n",
       "      <td>0.564904</td>\n",
       "      <td>1.000000</td>\n",
       "      <td>0.998049</td>\n",
       "      <td>0.000000</td>\n",
       "    </tr>\n",
       "    <tr>\n",
       "      <th>24</th>\n",
       "      <td>Paricalcitol</td>\n",
       "      <td>DB00910</td>\n",
       "      <td>psoriasis</td>\n",
       "      <td>DOID_8893</td>\n",
       "      <td>0</td>\n",
       "      <td>NaN</td>\n",
       "      <td>0.564575</td>\n",
       "      <td>0.992647</td>\n",
       "      <td>1.000000</td>\n",
       "      <td>0.000000</td>\n",
       "    </tr>\n",
       "    <tr>\n",
       "      <th>25</th>\n",
       "      <td>Zidovudine</td>\n",
       "      <td>DB00495</td>\n",
       "      <td>hepatitis B</td>\n",
       "      <td>DOID_2043</td>\n",
       "      <td>0</td>\n",
       "      <td>NaN</td>\n",
       "      <td>0.560460</td>\n",
       "      <td>1.000000</td>\n",
       "      <td>1.000000</td>\n",
       "      <td>0.004753</td>\n",
       "    </tr>\n",
       "    <tr>\n",
       "      <th>26</th>\n",
       "      <td>Tafluprost</td>\n",
       "      <td>DB08819</td>\n",
       "      <td>glaucoma</td>\n",
       "      <td>DOID_1686</td>\n",
       "      <td>0</td>\n",
       "      <td>NaN</td>\n",
       "      <td>0.555917</td>\n",
       "      <td>1.000000</td>\n",
       "      <td>1.000000</td>\n",
       "      <td>0.000000</td>\n",
       "    </tr>\n",
       "    <tr>\n",
       "      <th>29</th>\n",
       "      <td>Carboprost Tromethamine</td>\n",
       "      <td>DB00429</td>\n",
       "      <td>glaucoma</td>\n",
       "      <td>DOID_1686</td>\n",
       "      <td>0</td>\n",
       "      <td>NaN</td>\n",
       "      <td>0.551495</td>\n",
       "      <td>1.000000</td>\n",
       "      <td>0.999350</td>\n",
       "      <td>0.000000</td>\n",
       "    </tr>\n",
       "  </tbody>\n",
       "</table>\n",
       "</div>"
      ],
      "text/plain": [
       "              compound_name compound_id             disease_name  disease_id  \\\n",
       "4               Ibandronate     DB00710  Paget's disease of bone   DOID_5408   \n",
       "15               Olsalazine     DB01250          Crohn's disease   DOID_8778   \n",
       "18             Paricalcitol     DB00910             osteoporosis  DOID_11476   \n",
       "20                 Ethotoin     DB00754        epilepsy syndrome   DOID_1826   \n",
       "22                 Quazepam     DB01589        epilepsy syndrome   DOID_1826   \n",
       "23               Alprazolam     DB00404        epilepsy syndrome   DOID_1826   \n",
       "24             Paricalcitol     DB00910                psoriasis   DOID_8893   \n",
       "25               Zidovudine     DB00495              hepatitis B   DOID_2043   \n",
       "26               Tafluprost     DB08819                 glaucoma   DOID_1686   \n",
       "29  Carboprost Tromethamine     DB00429                 glaucoma   DOID_1686   \n",
       "\n",
       "    status category  prediction  compound_percentile  disease_percentile  \\\n",
       "4        0      NaN    0.802573             1.000000            1.000000   \n",
       "15       0      NaN    0.665331             1.000000            1.000000   \n",
       "18       0      NaN    0.603481             1.000000            0.996749   \n",
       "20       0      NaN    0.588531             1.000000            0.999350   \n",
       "22       0      NaN    0.569974             1.000000            0.998700   \n",
       "23       0      NaN    0.564904             1.000000            0.998049   \n",
       "24       0      NaN    0.564575             0.992647            1.000000   \n",
       "25       0      NaN    0.560460             1.000000            1.000000   \n",
       "26       0      NaN    0.555917             1.000000            1.000000   \n",
       "29       0      NaN    0.551495             1.000000            0.999350   \n",
       "\n",
       "    prior_prob  \n",
       "4     0.007231  \n",
       "15    0.007231  \n",
       "18    0.000000  \n",
       "20    0.000000  \n",
       "22    0.000000  \n",
       "23    0.000000  \n",
       "24    0.000000  \n",
       "25    0.004753  \n",
       "26    0.000000  \n",
       "29    0.000000  "
      ]
     },
     "execution_count": 17,
     "metadata": {},
     "output_type": "execute_result"
    }
   ],
   "source": [
    "top_df[top_df.status != 1].head(10)"
   ]
  },
  {
   "cell_type": "code",
   "execution_count": null,
   "metadata": {
    "collapsed": true
   },
   "outputs": [],
   "source": [
    "# distribution of "
   ]
  }
 ],
 "metadata": {
  "kernelspec": {
   "display_name": "Python 3",
   "language": "python",
   "name": "python3"
  },
  "language_info": {
   "codemirror_mode": {
    "name": "ipython",
    "version": 3
   },
   "file_extension": ".py",
   "mimetype": "text/x-python",
   "name": "python",
   "nbconvert_exporter": "python",
   "pygments_lexer": "ipython3",
   "version": "3.5.1"
  }
 },
 "nbformat": 4,
 "nbformat_minor": 1
}
