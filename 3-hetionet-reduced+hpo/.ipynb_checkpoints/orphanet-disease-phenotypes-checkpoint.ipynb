{
 "cells": [
  {
   "cell_type": "code",
   "execution_count": 1,
   "metadata": {
    "collapsed": true
   },
   "outputs": [],
   "source": [
    "import pandas as pd"
   ]
  },
  {
   "cell_type": "markdown",
   "metadata": {},
   "source": [
    "## Orphadata"
   ]
  },
  {
   "cell_type": "markdown",
   "metadata": {},
   "source": [
    "orphadata: /home/nuria/workspace/repurposing-hetio/rephetio-dhimmelstein/hetionet+hpo/data/en_product4_HPO.xml "
   ]
  },
  {
   "cell_type": "markdown",
   "metadata": {},
   "source": [
    "**orphanet parsed data:** \n",
    "\n",
    " associations_file: /home/nuria/workspace/repurposing-hetio/rephetio-dhimmelstein/hetionet+hpo/data/orphanet-disease-symptom.tsv\n",
    " \n",
    " diseases_file: /home/nuria/workspace/repurposing-hetio/rephetio-dhimmelstein/hetionet+hpo/data/orphanet-diseases.tsv\n",
    " \n",
    " symptoms_file: /home/nuria/workspace/repurposing-hetio/rephetio-dhimmelstein/hetionet+hpo/data/orphanet-symptoms.tsv"
   ]
  },
  {
   "cell_type": "markdown",
   "metadata": {},
   "source": [
    "## Hetionet data"
   ]
  },
  {
   "cell_type": "markdown",
   "metadata": {},
   "source": [
    "associations_file: https://github.com/dhimmel/medline/blob/gh-pages/data/disease-symptom-cooccurrence.tsv\n",
    "\n",
    "diseases_file: https://github.com/dhimmel/disease-ontology/blob/gh-pages/data/slim-terms.tsv\n",
    "    \n",
    "Symptoms_file: https://github.com/dhimmel/mesh/blob/gh-pages/data/symptoms.tsv"
   ]
  },
  {
   "cell_type": "markdown",
   "metadata": {},
   "source": [
    "#### Associations\n",
    "\n",
    "commit = '60d611892bf387b5b23c5f2e2e3bc472cfce85f3'\n",
    "\n",
    "url = rawgit('dhimmel', 'medline', commit, 'data/disease-symptom-cooccurrence.tsv')\n",
    "\n",
    "disease_symptom_df = pandas.read_table(url)\n",
    "\n",
    "disease_symptom_df = disease_symptom_df[disease_symptom_df.p_fisher < 0.005]\n",
    "\n",
    "disease_symptom_df.head(2)"
   ]
  },
  {
   "cell_type": "markdown",
   "metadata": {},
   "source": [
    "#### Diseases\n",
    "commit = '75050ea2d4f60e745d3f3578ae03560a2cc0e444'\n",
    "\n",
    "url = rawgit('dhimmel', 'disease-ontology', commit, 'data/slim-terms.tsv')\n",
    "\n",
    "disease_df = pandas.read_table(url)\n",
    "\n",
    "disease_df.head(2)"
   ]
  },
  {
   "cell_type": "markdown",
   "metadata": {},
   "source": [
    "#### Symptoms\n",
    "commit = 'a7036a37302973b15ab949aab4056d9bc062910e'\n",
    "\n",
    "url = rawgit('dhimmel', 'mesh', commit, 'data/symptoms.tsv')\n",
    "\n",
    "symptom_df = pandas.read_table(url)\n",
    "\n",
    "symptom_df.head(2)"
   ]
  },
  {
   "cell_type": "markdown",
   "metadata": {},
   "source": [
    "## Diseases"
   ]
  },
  {
   "cell_type": "markdown",
   "metadata": {},
   "source": [
    "### Orphanet DO coverage\n",
    "**Orphanet2DO mappings from MONDO (extracted from 'equivalentClass' defined classes)**"
   ]
  },
  {
   "cell_type": "code",
   "execution_count": 2,
   "metadata": {
    "collapsed": false
   },
   "outputs": [
    {
     "data": {
      "text/html": [
       "<div>\n",
       "<table border=\"1\" class=\"dataframe\">\n",
       "  <thead>\n",
       "    <tr style=\"text-align: right;\">\n",
       "      <th></th>\n",
       "      <th>orphanet_code</th>\n",
       "      <th>orphanet_term</th>\n",
       "    </tr>\n",
       "  </thead>\n",
       "  <tbody>\n",
       "    <tr>\n",
       "      <th>0</th>\n",
       "      <td>Orphanet:79430</td>\n",
       "      <td>Hermansky-Pudlak syndrome</td>\n",
       "    </tr>\n",
       "    <tr>\n",
       "      <th>1</th>\n",
       "      <td>Orphanet:99797</td>\n",
       "      <td>Anodontia</td>\n",
       "    </tr>\n",
       "  </tbody>\n",
       "</table>\n",
       "</div>"
      ],
      "text/plain": [
       "    orphanet_code              orphanet_term\n",
       "0  Orphanet:79430  Hermansky-Pudlak syndrome\n",
       "1  Orphanet:99797                  Anodontia"
      ]
     },
     "execution_count": 2,
     "metadata": {},
     "output_type": "execute_result"
    }
   ],
   "source": [
    "# load orphanet diseases\n",
    "path = \"/home/nuria/workspace/repurposing-hetio/rephetio-dhimmelstein/hetionet+hpo/data/\"\n",
    "orpha_diseases = pd.read_table(\"{}orphanet-diseases.tsv\".format(path))\n",
    "orpha_diseases.head(2)"
   ]
  },
  {
   "cell_type": "code",
   "execution_count": 3,
   "metadata": {
    "collapsed": false
   },
   "outputs": [
    {
     "data": {
      "text/html": [
       "<div>\n",
       "<table border=\"1\" class=\"dataframe\">\n",
       "  <thead>\n",
       "    <tr style=\"text-align: right;\">\n",
       "      <th></th>\n",
       "      <th>orphanet</th>\n",
       "      <th>do</th>\n",
       "    </tr>\n",
       "  </thead>\n",
       "  <tbody>\n",
       "    <tr>\n",
       "      <th>0</th>\n",
       "      <td>Orphanet:205</td>\n",
       "      <td>DOID:3803</td>\n",
       "    </tr>\n",
       "    <tr>\n",
       "      <th>1</th>\n",
       "      <td>Orphanet:79213</td>\n",
       "      <td>DOID:12798</td>\n",
       "    </tr>\n",
       "  </tbody>\n",
       "</table>\n",
       "</div>"
      ],
      "text/plain": [
       "         orphanet          do\n",
       "0    Orphanet:205   DOID:3803\n",
       "1  Orphanet:79213  DOID:12798"
      ]
     },
     "execution_count": 3,
     "metadata": {},
     "output_type": "execute_result"
    }
   ],
   "source": [
    "# Load mondo orphanet2do mappings\n",
    "mondo_mappings = pd.read_table(\"{}mondo-orpha2do-mappings.tsv\".format(path))\n",
    "mondo_mappings.head(2)"
   ]
  },
  {
   "cell_type": "code",
   "execution_count": 4,
   "metadata": {
    "collapsed": false
   },
   "outputs": [
    {
     "name": "stdout",
     "output_type": "stream",
     "text": [
      "Diseases (orphanumbers) in orphadata: 2383\n",
      "Diseases (orphanumbers) in mondo with DO: 1458\n",
      "Diseases (orphanumbers) in orphadata mapped to DO: 612\n",
      "**DO coverage: 26% of diseases in orphadata**\n"
     ]
    }
   ],
   "source": [
    "# orphadata - mondo overlap\n",
    "orphanet = set(list(orpha_diseases.orphanet_code))\n",
    "mondo = set(list(mondo_mappings.orphanet))\n",
    "mapped = len(orphanet & mondo)\n",
    "# DO coverage\n",
    "coverage = (mapped*100/len(orphanet))\n",
    "print('Diseases (orphanumbers) in orphadata: {}'.format(len(orphanet)))\n",
    "print('Diseases (orphanumbers) in mondo with DO: {}'.format(len(mondo)))\n",
    "print('Diseases (orphanumbers) in orphadata mapped to DO: {}'.format(mapped))\n",
    "print('**DO coverage: {}% of diseases in orphadata**'.format(round(coverage)))"
   ]
  },
  {
   "cell_type": "markdown",
   "metadata": {},
   "source": [
    "**Orphanet2DO mappings from DO**"
   ]
  },
  {
   "cell_type": "code",
   "execution_count": 5,
   "metadata": {
    "collapsed": false
   },
   "outputs": [
    {
     "data": {
      "text/html": [
       "<div>\n",
       "<table border=\"1\" class=\"dataframe\">\n",
       "  <thead>\n",
       "    <tr style=\"text-align: right;\">\n",
       "      <th></th>\n",
       "      <th>orphanet</th>\n",
       "      <th>do</th>\n",
       "    </tr>\n",
       "  </thead>\n",
       "  <tbody>\n",
       "    <tr>\n",
       "      <th>0</th>\n",
       "      <td>Orphanet:2322</td>\n",
       "      <td>DOID:0060473</td>\n",
       "    </tr>\n",
       "    <tr>\n",
       "      <th>1</th>\n",
       "      <td>Orphanet:166068</td>\n",
       "      <td>DOID:0060274</td>\n",
       "    </tr>\n",
       "  </tbody>\n",
       "</table>\n",
       "</div>"
      ],
      "text/plain": [
       "          orphanet            do\n",
       "0    Orphanet:2322  DOID:0060473\n",
       "1  Orphanet:166068  DOID:0060274"
      ]
     },
     "execution_count": 5,
     "metadata": {},
     "output_type": "execute_result"
    }
   ],
   "source": [
    "# load orphanet diseases\n",
    "path = \"/home/nuria/workspace/repurposing-hetio/rephetio-dhimmelstein/hetionet+hpo/data/\"\n",
    "orpha_diseases = pd.read_table(\"{}orphanet-diseases.tsv\".format(path))\n",
    "# Load do orphanet2do mappings\n",
    "do_mappings = pd.read_table(\"{}do-orpha2do-mappings.tsv\".format(path))\n",
    "do_mappings.head(2)"
   ]
  },
  {
   "cell_type": "code",
   "execution_count": 6,
   "metadata": {
    "collapsed": false
   },
   "outputs": [
    {
     "name": "stdout",
     "output_type": "stream",
     "text": [
      "Diseases (orphanumbers) in orphanet: 2383\n",
      "Diseases (orphanumbers) in do with DO: 618\n",
      "Diseases (orphanumbers) in orphadata mapped to DO: 241\n",
      "**DO coverage: 10% of diseases in orphadata**\n"
     ]
    }
   ],
   "source": [
    "# orphadata - do overlap\n",
    "orphanet = set(list(orpha_diseases.orphanet_code))\n",
    "do = set(list(do_mappings.orphanet))\n",
    "mapped = len(orphanet & do)\n",
    "# DO coverage\n",
    "coverage = (mapped*100/len(orphanet))\n",
    "print('Diseases (orphanumbers) in orphanet: {}'.format(len(orphanet)))\n",
    "print('Diseases (orphanumbers) in do with DO: {}'.format(len(do)))\n",
    "print('Diseases (orphanumbers) in orphadata mapped to DO: {}'.format(mapped))\n",
    "print('**DO coverage: {}% of diseases in orphadata**'.format(round(coverage)))"
   ]
  },
  {
   "cell_type": "markdown",
   "metadata": {},
   "source": [
    "### Orphanet - Hetionet Overlap"
   ]
  },
  {
   "cell_type": "code",
   "execution_count": 7,
   "metadata": {
    "collapsed": false
   },
   "outputs": [
    {
     "data": {
      "text/html": [
       "<div>\n",
       "<table border=\"1\" class=\"dataframe\">\n",
       "  <thead>\n",
       "    <tr style=\"text-align: right;\">\n",
       "      <th></th>\n",
       "      <th>orphanumber</th>\n",
       "      <th>doid</th>\n",
       "    </tr>\n",
       "  </thead>\n",
       "  <tbody>\n",
       "    <tr>\n",
       "      <th>0</th>\n",
       "      <td>Orphanet:205</td>\n",
       "      <td>DOID:3803</td>\n",
       "    </tr>\n",
       "    <tr>\n",
       "      <th>1</th>\n",
       "      <td>Orphanet:564</td>\n",
       "      <td>DOID:0050778</td>\n",
       "    </tr>\n",
       "  </tbody>\n",
       "</table>\n",
       "</div>"
      ],
      "text/plain": [
       "    orphanumber          doid\n",
       "0  Orphanet:205     DOID:3803\n",
       "1  Orphanet:564  DOID:0050778"
      ]
     },
     "execution_count": 7,
     "metadata": {},
     "output_type": "execute_result"
    }
   ],
   "source": [
    "# Orphanet - Hetionet overlap (MONDO mappings)\n",
    "# orphanet DO diseases \n",
    "orphanet_mappings = pd.read_table(\"{}orphanet-diseases-mondo-orpha2do.tsv\".format(path))\n",
    "orphanet_mappings.head(2)"
   ]
  },
  {
   "cell_type": "code",
   "execution_count": 8,
   "metadata": {
    "collapsed": false
   },
   "outputs": [
    {
     "data": {
      "text/html": [
       "<div>\n",
       "<table border=\"1\" class=\"dataframe\">\n",
       "  <thead>\n",
       "    <tr style=\"text-align: right;\">\n",
       "      <th></th>\n",
       "      <th>doid</th>\n",
       "      <th>name</th>\n",
       "      <th>source</th>\n",
       "      <th>pathophysiology</th>\n",
       "    </tr>\n",
       "  </thead>\n",
       "  <tbody>\n",
       "    <tr>\n",
       "      <th>0</th>\n",
       "      <td>DOID:2531</td>\n",
       "      <td>hematologic cancer</td>\n",
       "      <td>DOcancerslim</td>\n",
       "      <td>neoplastic</td>\n",
       "    </tr>\n",
       "    <tr>\n",
       "      <th>1</th>\n",
       "      <td>DOID:1319</td>\n",
       "      <td>brain cancer</td>\n",
       "      <td>DOcancerslim</td>\n",
       "      <td>neoplastic</td>\n",
       "    </tr>\n",
       "  </tbody>\n",
       "</table>\n",
       "</div>"
      ],
      "text/plain": [
       "        doid                name        source pathophysiology\n",
       "0  DOID:2531  hematologic cancer  DOcancerslim      neoplastic\n",
       "1  DOID:1319        brain cancer  DOcancerslim      neoplastic"
      ]
     },
     "execution_count": 8,
     "metadata": {},
     "output_type": "execute_result"
    }
   ],
   "source": [
    "# hetionet DO diseases\n",
    "hetionet_table = pd.read_table(\"data/hetionet-do-slim-terms.tsv\")\n",
    "hetionet_table.head(2)"
   ]
  },
  {
   "cell_type": "code",
   "execution_count": 9,
   "metadata": {
    "collapsed": false
   },
   "outputs": [
    {
     "name": "stdout",
     "output_type": "stream",
     "text": [
      "Diseases in orphanet (DO): 612\n",
      "Diseases in hetionet (DO): 137\n",
      "Overlap: 4\n",
      "**We will introduce 608 new diseases from orphadata**\n",
      "+ \"NGLY1 deficiency\" manually mapped to (with Elvira): DOID:0060728 \\(from ORDO:404454 - OMIM:615273\\)\n"
     ]
    }
   ],
   "source": [
    "# overlap\n",
    "orphanet = set(list(orphanet_mappings.doid))\n",
    "hetionet = set(list(hetionet_table.doid))\n",
    "common = len(orphanet & hetionet)\n",
    "diff = len(orphanet - hetionet)\n",
    "print('Diseases in orphanet (DO): {}'.format(len(orphanet)))\n",
    "print('Diseases in hetionet (DO): {}'.format(len(hetionet)))\n",
    "print('Overlap: {}'.format(common))\n",
    "print('**We will introduce {} new diseases from orphadata**'.format(diff))\n",
    "print('+ \"NGLY1 deficiency\" manually mapped to (with Elvira): DOID:0060728 \\(from ORDO:404454 - OMIM:615273\\)')"
   ]
  },
  {
   "cell_type": "code",
   "execution_count": 10,
   "metadata": {
    "collapsed": false
   },
   "outputs": [
    {
     "data": {
      "text/html": [
       "<div>\n",
       "<table border=\"1\" class=\"dataframe\">\n",
       "  <thead>\n",
       "    <tr style=\"text-align: right;\">\n",
       "      <th></th>\n",
       "      <th>orphanumber</th>\n",
       "      <th>doid</th>\n",
       "    </tr>\n",
       "  </thead>\n",
       "  <tbody>\n",
       "    <tr>\n",
       "      <th>0</th>\n",
       "      <td>Orphanet:124</td>\n",
       "      <td>DOID:1339</td>\n",
       "    </tr>\n",
       "    <tr>\n",
       "      <th>1</th>\n",
       "      <td>Orphanet:1416</td>\n",
       "      <td>DOID:1156</td>\n",
       "    </tr>\n",
       "  </tbody>\n",
       "</table>\n",
       "</div>"
      ],
      "text/plain": [
       "     orphanumber       doid\n",
       "0   Orphanet:124  DOID:1339\n",
       "1  Orphanet:1416  DOID:1156"
      ]
     },
     "execution_count": 10,
     "metadata": {},
     "output_type": "execute_result"
    }
   ],
   "source": [
    "# Orphanet - Hetionet overlap (DO mappings)\n",
    "# orphanet DO diseases \n",
    "orphanet_mappings = pd.read_table(\"{}orphanet-diseases-do-orpha2do.tsv\".format(path))\n",
    "orphanet_mappings.head(2)"
   ]
  },
  {
   "cell_type": "code",
   "execution_count": 11,
   "metadata": {
    "collapsed": false
   },
   "outputs": [
    {
     "name": "stdout",
     "output_type": "stream",
     "text": [
      "Diseases in orphanet (DO): 377\n",
      "Diseases in hetionet (DO): 137\n",
      "Overlap: 2\n",
      "**We will introduce 375 new diseases from orphadata**\n",
      "+ \"NGLY1 deficiency\" manually mapped to (with Elvira): DOID:0060728 \\(from ORDO:404454 - OMIM:615273\\)\n"
     ]
    }
   ],
   "source": [
    "# overlap\n",
    "orphanet = set(list(orphanet_mappings.doid))\n",
    "hetionet = set(list(hetionet_table.doid))\n",
    "common = len(orphanet & hetionet)\n",
    "diff = len(orphanet - hetionet)\n",
    "print('Diseases in orphanet (DO): {}'.format(len(orphanet)))\n",
    "print('Diseases in hetionet (DO): {}'.format(len(hetionet)))\n",
    "print('Overlap: {}'.format(common))\n",
    "print('**We will introduce {} new diseases from orphadata**'.format(diff))\n",
    "print('+ \"NGLY1 deficiency\" manually mapped to (with Elvira): DOID:0060728 \\(from ORDO:404454 - OMIM:615273\\)')"
   ]
  },
  {
   "cell_type": "markdown",
   "metadata": {},
   "source": [
    "## Symptoms (Hetionet::MeSH) - Phenotypes (Orphanet::HPO)"
   ]
  },
  {
   "cell_type": "markdown",
   "metadata": {},
   "source": [
    "### Orphanet MESH coverage\n",
    "**hp2mesh mappings inferred through UMLS**"
   ]
  },
  {
   "cell_type": "code",
   "execution_count": 12,
   "metadata": {
    "collapsed": false
   },
   "outputs": [
    {
     "data": {
      "text/html": [
       "<div>\n",
       "<table border=\"1\" class=\"dataframe\">\n",
       "  <thead>\n",
       "    <tr style=\"text-align: right;\">\n",
       "      <th></th>\n",
       "      <th>hp_code</th>\n",
       "      <th>hp_term</th>\n",
       "    </tr>\n",
       "  </thead>\n",
       "  <tbody>\n",
       "    <tr>\n",
       "      <th>0</th>\n",
       "      <td>HP:0100962</td>\n",
       "      <td>Shyness</td>\n",
       "    </tr>\n",
       "    <tr>\n",
       "      <th>1</th>\n",
       "      <td>HP:0002132</td>\n",
       "      <td>Porencephaly</td>\n",
       "    </tr>\n",
       "  </tbody>\n",
       "</table>\n",
       "</div>"
      ],
      "text/plain": [
       "      hp_code       hp_term\n",
       "0  HP:0100962       Shyness\n",
       "1  HP:0002132  Porencephaly"
      ]
     },
     "execution_count": 12,
     "metadata": {},
     "output_type": "execute_result"
    }
   ],
   "source": [
    "# load orphanet phenotypes\n",
    "orpha_phenotypes = pd.read_table(\"{}orphanet-symptoms.tsv\".format(path))\n",
    "orpha_phenotypes.head(2)"
   ]
  },
  {
   "cell_type": "code",
   "execution_count": 13,
   "metadata": {
    "collapsed": false
   },
   "outputs": [
    {
     "data": {
      "text/html": [
       "<div>\n",
       "<table border=\"1\" class=\"dataframe\">\n",
       "  <thead>\n",
       "    <tr style=\"text-align: right;\">\n",
       "      <th></th>\n",
       "      <th>hp_code</th>\n",
       "      <th>hp_term</th>\n",
       "      <th>mesh_code</th>\n",
       "      <th>mesh_term</th>\n",
       "    </tr>\n",
       "  </thead>\n",
       "  <tbody>\n",
       "    <tr>\n",
       "      <th>0</th>\n",
       "      <td>HP:0009037</td>\n",
       "      <td>Segmental spinal muscular atrophy</td>\n",
       "      <td>MESH:C566670</td>\n",
       "      <td>Spinal Muscular Atrophy, Segmental</td>\n",
       "    </tr>\n",
       "    <tr>\n",
       "      <th>1</th>\n",
       "      <td>HP:0100620</td>\n",
       "      <td>Germinoma</td>\n",
       "      <td>MESH:D018237</td>\n",
       "      <td>Germinomas</td>\n",
       "    </tr>\n",
       "  </tbody>\n",
       "</table>\n",
       "</div>"
      ],
      "text/plain": [
       "      hp_code                            hp_term     mesh_code  \\\n",
       "0  HP:0009037  Segmental spinal muscular atrophy  MESH:C566670   \n",
       "1  HP:0100620                          Germinoma  MESH:D018237   \n",
       "\n",
       "                            mesh_term  \n",
       "0  Spinal Muscular Atrophy, Segmental  \n",
       "1                          Germinomas  "
      ]
     },
     "execution_count": 13,
     "metadata": {},
     "output_type": "execute_result"
    }
   ],
   "source": [
    "# load hp2mesh inferred mappings from UMLS\n",
    "umls_mappings = pd.read_table(\"{}umls2016aa-hp2mesh-mappings.tsv\".format(path))\n",
    "umls_mappings['mesh_code'] = 'MESH:' + umls_mappings['mesh_code'].astype(str)\n",
    "umls_mappings.head(2)"
   ]
  },
  {
   "cell_type": "code",
   "execution_count": 14,
   "metadata": {
    "collapsed": false
   },
   "outputs": [
    {
     "name": "stdout",
     "output_type": "stream",
     "text": [
      "Phenotypes (hp) in orphanet: 4014\n",
      "Phenotypes (hp) in umls with mesh: 908\n",
      "HP mapped: 560\n",
      "**MESH coverage: 14**\n"
     ]
    }
   ],
   "source": [
    "# orphadata - umls overlap\n",
    "orphanet = set(list(orpha_phenotypes.hp_code))\n",
    "umls = set(list(umls_mappings.hp_code))\n",
    "mapped = len(orphanet & umls)\n",
    "# MESH coverage\n",
    "coverage = (mapped*100/len(orphanet))\n",
    "print('Phenotypes (hp) in orphanet: {}'.format(len(orphanet)))\n",
    "print('Phenotypes (hp) in umls with mesh: {}'.format(len(umls)))\n",
    "print('HP mapped: {}'.format(mapped))\n",
    "print('**MESH coverage: {}**'.format(round(coverage)))"
   ]
  },
  {
   "cell_type": "markdown",
   "metadata": {},
   "source": [
    "**hp2mesh mappings from HPO**"
   ]
  },
  {
   "cell_type": "code",
   "execution_count": 15,
   "metadata": {
    "collapsed": false
   },
   "outputs": [
    {
     "data": {
      "text/html": [
       "<div>\n",
       "<table border=\"1\" class=\"dataframe\">\n",
       "  <thead>\n",
       "    <tr style=\"text-align: right;\">\n",
       "      <th></th>\n",
       "      <th>hp_code</th>\n",
       "      <th>hp_term</th>\n",
       "      <th>mesh_code</th>\n",
       "    </tr>\n",
       "  </thead>\n",
       "  <tbody>\n",
       "    <tr>\n",
       "      <th>0</th>\n",
       "      <td>HP:0200042</td>\n",
       "      <td>Skin ulcer</td>\n",
       "      <td>MESH:D012883</td>\n",
       "    </tr>\n",
       "    <tr>\n",
       "      <th>1</th>\n",
       "      <td>HP:0000873</td>\n",
       "      <td>Diabetes insipidus</td>\n",
       "      <td>MESH:D003919</td>\n",
       "    </tr>\n",
       "  </tbody>\n",
       "</table>\n",
       "</div>"
      ],
      "text/plain": [
       "      hp_code             hp_term     mesh_code\n",
       "0  HP:0200042          Skin ulcer  MESH:D012883\n",
       "1  HP:0000873  Diabetes insipidus  MESH:D003919"
      ]
     },
     "execution_count": 15,
     "metadata": {},
     "output_type": "execute_result"
    }
   ],
   "source": [
    "# load hp2mesh from HPO\n",
    "hpo_mappings = pd.read_table(\"{}hp-hp2mesh-mappings.tsv\".format(path))\n",
    "hpo_mappings.head(2)"
   ]
  },
  {
   "cell_type": "code",
   "execution_count": 16,
   "metadata": {
    "collapsed": false
   },
   "outputs": [
    {
     "name": "stdout",
     "output_type": "stream",
     "text": [
      "Phenotypes (hp) in orphanet: 4014\n",
      "Phenotypes (hp) in hpo with mesh: 1036\n",
      "HP mapped: 812\n",
      "**MESH coverage: 20**\n"
     ]
    }
   ],
   "source": [
    "# orphadata - hpo overlap\n",
    "orphanet = set(list(orpha_phenotypes.hp_code))\n",
    "hpo = set(list(hpo_mappings.hp_code))\n",
    "mapped = len(orphanet & hpo)\n",
    "# MESH coverage\n",
    "coverage = (mapped*100/len(orphanet))\n",
    "print('Phenotypes (hp) in orphanet: {}'.format(len(orphanet)))\n",
    "print('Phenotypes (hp) in hpo with mesh: {}'.format(len(hpo)))\n",
    "print('HP mapped: {}'.format(mapped))\n",
    "print('**MESH coverage: {}**'.format(round(coverage)))"
   ]
  },
  {
   "cell_type": "markdown",
   "metadata": {},
   "source": [
    "**hp2mesh mappings from HPO and UMLS**"
   ]
  },
  {
   "cell_type": "code",
   "execution_count": 17,
   "metadata": {
    "collapsed": false
   },
   "outputs": [
    {
     "name": "stdout",
     "output_type": "stream",
     "text": [
      "Using hp2mesh mappings from both hpo and umls:\n",
      "HP mapped: 1020\n",
      "**MESH coverage: 25**\n"
     ]
    }
   ],
   "source": [
    "# are umls and hpo mappings the same?\n",
    "# umls - hpo mappings overlap\n",
    "intersection = len(hpo & umls)\n",
    "# orphanet - all mappings overlap\n",
    "intersectionOrpha = len(orphanet & umls & hpo)\n",
    "# use hpo + umls mappings UNION to map orphanet phenotypes to mesh\n",
    "union = (umls | hpo)\n",
    "unionOrpha = len(orphanet & union)\n",
    "# New MESH coverage\n",
    "coverage = (unionOrpha*100/len(orphanet))\n",
    "#print(\"umls-hpo common phenotypes (hp) with mappings to mesh: {}\".format(intersection))\n",
    "#print(\"orphanet-umls-hpo common phenotypes (hp) with mappings to mesh: {}\".format(intersectionOrpha))\n",
    "print(\"Using hp2mesh mappings from both hpo and umls:\")\n",
    "print(\"HP mapped: {}\".format(unionOrpha))\n",
    "print('**MESH coverage: {}**'.format(round(coverage)))"
   ]
  },
  {
   "cell_type": "markdown",
   "metadata": {},
   "source": [
    "### Hetionet HPO coverage\n",
    "**mesh2hp mappings inferred through UMLS**"
   ]
  },
  {
   "cell_type": "code",
   "execution_count": 18,
   "metadata": {
    "collapsed": false
   },
   "outputs": [
    {
     "data": {
      "text/html": [
       "<div>\n",
       "<table border=\"1\" class=\"dataframe\">\n",
       "  <thead>\n",
       "    <tr style=\"text-align: right;\">\n",
       "      <th></th>\n",
       "      <th>mesh_id</th>\n",
       "      <th>mesh_name</th>\n",
       "      <th>in_hsdn</th>\n",
       "    </tr>\n",
       "  </thead>\n",
       "  <tbody>\n",
       "    <tr>\n",
       "      <th>0</th>\n",
       "      <td>MESH:D000006</td>\n",
       "      <td>Abdomen, Acute</td>\n",
       "      <td>1</td>\n",
       "    </tr>\n",
       "    <tr>\n",
       "      <th>1</th>\n",
       "      <td>MESH:D000270</td>\n",
       "      <td>Adie Syndrome</td>\n",
       "      <td>0</td>\n",
       "    </tr>\n",
       "  </tbody>\n",
       "</table>\n",
       "</div>"
      ],
      "text/plain": [
       "        mesh_id       mesh_name  in_hsdn\n",
       "0  MESH:D000006  Abdomen, Acute        1\n",
       "1  MESH:D000270   Adie Syndrome        0"
      ]
     },
     "execution_count": 18,
     "metadata": {},
     "output_type": "execute_result"
    }
   ],
   "source": [
    "# load Hetionet symptoms\n",
    "hetionet_symptoms = pd.read_table(\"data/hetionet-symptoms.tsv\")\n",
    "hetionet_symptoms['mesh_id'] = 'MESH:' + hetionet_symptoms['mesh_id'].astype(str)\n",
    "hetionet_symptoms.head(2)"
   ]
  },
  {
   "cell_type": "code",
   "execution_count": 19,
   "metadata": {
    "collapsed": false
   },
   "outputs": [
    {
     "name": "stdout",
     "output_type": "stream",
     "text": [
      "Symptoms (mesh) in hetionet: 438\n",
      "Symptoms (mesh) in umls with hp: 881\n",
      "MESH mapped: 70\n",
      "**HPO coverage: 16**\n"
     ]
    }
   ],
   "source": [
    "# hetionet - umls overlap\n",
    "hetionet = set(list(hetionet_symptoms.mesh_id))\n",
    "umls = set(list(umls_mappings.mesh_code))\n",
    "mapped = len(hetionet & umls)\n",
    "# HPO coverage\n",
    "coverage = (mapped*100/len(hetionet))\n",
    "print('Symptoms (mesh) in hetionet: {}'.format(len(hetionet)))\n",
    "print('Symptoms (mesh) in umls with hp: {}'.format(len(umls)))\n",
    "print('MESH mapped: {}'.format(mapped))\n",
    "print('**HPO coverage: {}**'.format(round(coverage)))"
   ]
  },
  {
   "cell_type": "markdown",
   "metadata": {},
   "source": [
    "**mesh2hp mappings from HPO**"
   ]
  },
  {
   "cell_type": "code",
   "execution_count": 20,
   "metadata": {
    "collapsed": false
   },
   "outputs": [
    {
     "name": "stdout",
     "output_type": "stream",
     "text": [
      "Symptoms (mesh) in hetionet: 438\n",
      "Symptoms (mesh) in hpo with hp: 1027\n",
      "MESH mapped: 155\n",
      "**HPO coverage: 35**\n"
     ]
    }
   ],
   "source": [
    "# hetionet - hpo overlap\n",
    "hetionet = set(list(hetionet_symptoms.mesh_id))\n",
    "hpo = set(list(hpo_mappings.mesh_code))\n",
    "mapped = len(hetionet & hpo)\n",
    "# HPO coverage\n",
    "coverage = (mapped*100/len(hetionet))\n",
    "print('Symptoms (mesh) in hetionet: {}'.format(len(hetionet)))\n",
    "print('Symptoms (mesh) in hpo with hp: {}'.format(len(hpo)))\n",
    "print('MESH mapped: {}'.format(mapped))\n",
    "print('**HPO coverage: {}**'.format(round(coverage)))"
   ]
  },
  {
   "cell_type": "markdown",
   "metadata": {},
   "source": [
    "**mesh2hp mappings from HPO and UMLS**"
   ]
  },
  {
   "cell_type": "code",
   "execution_count": 21,
   "metadata": {
    "collapsed": false
   },
   "outputs": [
    {
     "name": "stdout",
     "output_type": "stream",
     "text": [
      "Using mesh2hp mappings from both hpo and umls:\n",
      "MESH mapped: 165\n",
      "**HPO coverage: 38**\n"
     ]
    }
   ],
   "source": [
    "# are umls and hpo mappings the same?\n",
    "# umls - hpo mappings overlap\n",
    "intersection = len(hpo & umls)\n",
    "# orphanet - all mappings overlap\n",
    "intersectionHetio = len(hetionet & umls & hpo)\n",
    "# use hpo + umls mappings UNION to map orphanet phenotypes to mesh\n",
    "union = (umls | hpo)\n",
    "unionHetio = len(hetionet & union)\n",
    "# New MESH coverage\n",
    "coverage = (unionHetio*100/len(hetionet))\n",
    "#print(\"umls-hpo common symptoms (mesh) with mappings to hp: {}\".format(intersection))\n",
    "#print(\"hetionet-umls-hpo common symptoms (mesh) with mappings to hp: {}\".format(intersectionHetio))\n",
    "print(\"Using mesh2hp mappings from both hpo and umls:\")\n",
    "print(\"MESH mapped: {}\".format(unionHetio))\n",
    "print('**HPO coverage: {}**'.format(round(coverage)))"
   ]
  },
  {
   "cell_type": "markdown",
   "metadata": {},
   "source": [
    "### Orphanet - Hetionet Overlap (HPO)"
   ]
  },
  {
   "cell_type": "code",
   "execution_count": 22,
   "metadata": {
    "collapsed": false
   },
   "outputs": [
    {
     "data": {
      "text/html": [
       "<div>\n",
       "<table border=\"1\" class=\"dataframe\">\n",
       "  <thead>\n",
       "    <tr style=\"text-align: right;\">\n",
       "      <th></th>\n",
       "      <th>hp_code</th>\n",
       "      <th>hp_term</th>\n",
       "    </tr>\n",
       "  </thead>\n",
       "  <tbody>\n",
       "    <tr>\n",
       "      <th>0</th>\n",
       "      <td>HP:0100962</td>\n",
       "      <td>Shyness</td>\n",
       "    </tr>\n",
       "    <tr>\n",
       "      <th>1</th>\n",
       "      <td>HP:0002132</td>\n",
       "      <td>Porencephaly</td>\n",
       "    </tr>\n",
       "  </tbody>\n",
       "</table>\n",
       "</div>"
      ],
      "text/plain": [
       "      hp_code       hp_term\n",
       "0  HP:0100962       Shyness\n",
       "1  HP:0002132  Porencephaly"
      ]
     },
     "execution_count": 22,
     "metadata": {},
     "output_type": "execute_result"
    }
   ],
   "source": [
    "# Orphanet - Hetionet (HPO mappings)\n",
    "# orphanet HP phenotypes\n",
    "orphanet_symptoms = pd.read_table(\"{}orphanet-symptoms.tsv\".format(path))\n",
    "orphanet_symptoms.head(2)"
   ]
  },
  {
   "cell_type": "code",
   "execution_count": 23,
   "metadata": {
    "collapsed": false
   },
   "outputs": [
    {
     "data": {
      "text/html": [
       "<div>\n",
       "<table border=\"1\" class=\"dataframe\">\n",
       "  <thead>\n",
       "    <tr style=\"text-align: right;\">\n",
       "      <th></th>\n",
       "      <th>mesh_id</th>\n",
       "      <th>mesh_name</th>\n",
       "      <th>in_hsdn</th>\n",
       "      <th>hp_code</th>\n",
       "      <th>hp_term</th>\n",
       "      <th>mesh_code</th>\n",
       "    </tr>\n",
       "  </thead>\n",
       "  <tbody>\n",
       "    <tr>\n",
       "      <th>0</th>\n",
       "      <td>MESH:D000377</td>\n",
       "      <td>Agnosia</td>\n",
       "      <td>1</td>\n",
       "      <td>HP:0010524</td>\n",
       "      <td>Agnosia</td>\n",
       "      <td>MESH:D000377</td>\n",
       "    </tr>\n",
       "    <tr>\n",
       "      <th>1</th>\n",
       "      <td>MESH:D000472</td>\n",
       "      <td>Alkalosis, Respiratory</td>\n",
       "      <td>0</td>\n",
       "      <td>HP:0001950</td>\n",
       "      <td>Respiratory alkalosis</td>\n",
       "      <td>MESH:D000472</td>\n",
       "    </tr>\n",
       "  </tbody>\n",
       "</table>\n",
       "</div>"
      ],
      "text/plain": [
       "        mesh_id               mesh_name  in_hsdn     hp_code  \\\n",
       "0  MESH:D000377                 Agnosia        1  HP:0010524   \n",
       "1  MESH:D000472  Alkalosis, Respiratory        0  HP:0001950   \n",
       "\n",
       "                 hp_term     mesh_code  \n",
       "0                Agnosia  MESH:D000377  \n",
       "1  Respiratory alkalosis  MESH:D000472  "
      ]
     },
     "execution_count": 23,
     "metadata": {},
     "output_type": "execute_result"
    }
   ],
   "source": [
    "# hetionet HP symptoms\n",
    "hetionet_symptoms = hetionet_symptoms.merge(hpo_mappings, left_on='mesh_id', right_on='mesh_code')\n",
    "hetionet_symptoms.head(2)"
   ]
  },
  {
   "cell_type": "code",
   "execution_count": 24,
   "metadata": {
    "collapsed": false
   },
   "outputs": [
    {
     "name": "stdout",
     "output_type": "stream",
     "text": [
      "Phenotypes in orphanet (HP): 4014\n",
      "Symptoms in hetionet (HP): 155\n",
      "Overlap: 132\n",
      "**We will introduce 3882 new phenotypes from orphadata**\n"
     ]
    }
   ],
   "source": [
    "# overlap\n",
    "orphanet = set(list(orphanet_symptoms.hp_code))\n",
    "hetionet = set(list(hetionet_symptoms.hp_code))\n",
    "common = len(orphanet & hetionet)\n",
    "diff = len(orphanet - hetionet)\n",
    "print('Phenotypes in orphanet (HP): {}'.format(len(orphanet)))\n",
    "print('Symptoms in hetionet (HP): {}'.format(len(hetionet)))\n",
    "print('Overlap: {}'.format(common))\n",
    "print('**We will introduce {} new phenotypes from orphadata**'.format(diff))"
   ]
  },
  {
   "cell_type": "markdown",
   "metadata": {},
   "source": [
    "### Orphanet - Hetionet Overlap (MESH)"
   ]
  },
  {
   "cell_type": "code",
   "execution_count": 42,
   "metadata": {
    "collapsed": false
   },
   "outputs": [
    {
     "data": {
      "text/html": [
       "<div>\n",
       "<table border=\"1\" class=\"dataframe\">\n",
       "  <thead>\n",
       "    <tr style=\"text-align: right;\">\n",
       "      <th></th>\n",
       "      <th>hp_code</th>\n",
       "      <th>hp_term</th>\n",
       "    </tr>\n",
       "  </thead>\n",
       "  <tbody>\n",
       "    <tr>\n",
       "      <th>0</th>\n",
       "      <td>HP:0100962</td>\n",
       "      <td>Shyness</td>\n",
       "    </tr>\n",
       "    <tr>\n",
       "      <th>1</th>\n",
       "      <td>HP:0002132</td>\n",
       "      <td>Porencephaly</td>\n",
       "    </tr>\n",
       "  </tbody>\n",
       "</table>\n",
       "</div>"
      ],
      "text/plain": [
       "      hp_code       hp_term\n",
       "0  HP:0100962       Shyness\n",
       "1  HP:0002132  Porencephaly"
      ]
     },
     "execution_count": 42,
     "metadata": {},
     "output_type": "execute_result"
    }
   ],
   "source": [
    "# Orphanet - Hetionet (HPO mappings)\n",
    "# orphanet MESH phenotypes (20% Phenotypes in Orphanet)\n",
    "# load orphanet symptoms\n",
    "orphanet_symptoms = pd.read_table(\"{}orphanet-symptoms.tsv\".format(path))\n",
    "orphanet_symptoms_hp = orphanet_symptoms\n",
    "orphanet_symptoms.head(2)"
   ]
  },
  {
   "cell_type": "code",
   "execution_count": 43,
   "metadata": {
    "collapsed": false
   },
   "outputs": [
    {
     "data": {
      "text/html": [
       "<div>\n",
       "<table border=\"1\" class=\"dataframe\">\n",
       "  <thead>\n",
       "    <tr style=\"text-align: right;\">\n",
       "      <th></th>\n",
       "      <th>hp_code</th>\n",
       "      <th>hp_term_x</th>\n",
       "      <th>hp_term_y</th>\n",
       "      <th>mesh_code</th>\n",
       "    </tr>\n",
       "  </thead>\n",
       "  <tbody>\n",
       "    <tr>\n",
       "      <th>0</th>\n",
       "      <td>HP:0100962</td>\n",
       "      <td>Shyness</td>\n",
       "      <td>Shyness</td>\n",
       "      <td>MESH:D012792</td>\n",
       "    </tr>\n",
       "    <tr>\n",
       "      <th>1</th>\n",
       "      <td>HP:0100608</td>\n",
       "      <td>Metrorrhagia</td>\n",
       "      <td>Metrorrhagia</td>\n",
       "      <td>MESH:D008796</td>\n",
       "    </tr>\n",
       "  </tbody>\n",
       "</table>\n",
       "</div>"
      ],
      "text/plain": [
       "      hp_code     hp_term_x     hp_term_y     mesh_code\n",
       "0  HP:0100962       Shyness       Shyness  MESH:D012792\n",
       "1  HP:0100608  Metrorrhagia  Metrorrhagia  MESH:D008796"
      ]
     },
     "execution_count": 43,
     "metadata": {},
     "output_type": "execute_result"
    }
   ],
   "source": [
    "# map symptoms HP to MESH\n",
    "orphanet_symptoms = orphanet_symptoms.merge(hpo_mappings, on='hp_code')\n",
    "orphanet_symptoms_mesh = orphanet_symptoms\n",
    "orphanet_symptoms.head(2)"
   ]
  },
  {
   "cell_type": "code",
   "execution_count": 44,
   "metadata": {
    "collapsed": false
   },
   "outputs": [
    {
     "data": {
      "text/html": [
       "<div>\n",
       "<table border=\"1\" class=\"dataframe\">\n",
       "  <thead>\n",
       "    <tr style=\"text-align: right;\">\n",
       "      <th></th>\n",
       "      <th>mesh_id</th>\n",
       "      <th>mesh_name</th>\n",
       "      <th>in_hsdn</th>\n",
       "    </tr>\n",
       "  </thead>\n",
       "  <tbody>\n",
       "    <tr>\n",
       "      <th>0</th>\n",
       "      <td>MESH:D000006</td>\n",
       "      <td>Abdomen, Acute</td>\n",
       "      <td>1</td>\n",
       "    </tr>\n",
       "    <tr>\n",
       "      <th>1</th>\n",
       "      <td>MESH:D000270</td>\n",
       "      <td>Adie Syndrome</td>\n",
       "      <td>0</td>\n",
       "    </tr>\n",
       "  </tbody>\n",
       "</table>\n",
       "</div>"
      ],
      "text/plain": [
       "        mesh_id       mesh_name  in_hsdn\n",
       "0  MESH:D000006  Abdomen, Acute        1\n",
       "1  MESH:D000270   Adie Syndrome        0"
      ]
     },
     "execution_count": 44,
     "metadata": {},
     "output_type": "execute_result"
    }
   ],
   "source": [
    "# hetionet MESH symptoms\n",
    "# load Hetionet symptoms\n",
    "hetionet_symptoms = pd.read_table(\"data/hetionet-symptoms.tsv\")\n",
    "hetionet_symptoms['mesh_id'] = 'MESH:' + hetionet_symptoms['mesh_id'].astype(str)\n",
    "hetionet_symptoms.head(2)"
   ]
  },
  {
   "cell_type": "code",
   "execution_count": 45,
   "metadata": {
    "collapsed": false
   },
   "outputs": [
    {
     "name": "stdout",
     "output_type": "stream",
     "text": [
      "Orphanet symptoms (HP): 4014\n",
      "Orphanet symptoms (MESH): 812\n",
      "Hetionet symptoms (MESH): 438\n"
     ]
    }
   ],
   "source": [
    "# counts\n",
    "print('Orphanet symptoms (HP): {}'.format(len(orphanet_symptoms_hp)))\n",
    "print('Orphanet symptoms (MESH): {}'.format(len(orphanet_symptoms_mesh)))\n",
    "print('Hetionet symptoms (MESH): {}'.format(len(hetionet_symptoms)))"
   ]
  },
  {
   "cell_type": "code",
   "execution_count": 48,
   "metadata": {
    "collapsed": false
   },
   "outputs": [
    {
     "name": "stdout",
     "output_type": "stream",
     "text": [
      "Phenotypes in orphanet (MESH): 808\n",
      "Symptoms in hetionet (MESH): 438\n",
      "Overlap: 132\n"
     ]
    }
   ],
   "source": [
    "# overlap\n",
    "orphanet = set(list(orphanet_symptoms.mesh_code))\n",
    "hetionet = set(list(hetionet_symptoms.mesh_id))\n",
    "overlap = len(orphanet & hetionet)\n",
    "print('Phenotypes in orphanet (MESH): {}'.format(len(orphanet)))\n",
    "print('Symptoms in hetionet (MESH): {}'.format(len(hetionet)))\n",
    "print('Overlap: {}'.format(overlap))"
   ]
  }
 ],
 "metadata": {
  "kernelspec": {
   "display_name": "Python 3",
   "language": "python",
   "name": "python3"
  },
  "language_info": {
   "codemirror_mode": {
    "name": "ipython",
    "version": 3
   },
   "file_extension": ".py",
   "mimetype": "text/x-python",
   "name": "python",
   "nbconvert_exporter": "python",
   "pygments_lexer": "ipython3",
   "version": "3.5.2"
  }
 },
 "nbformat": 4,
 "nbformat_minor": 1
}
