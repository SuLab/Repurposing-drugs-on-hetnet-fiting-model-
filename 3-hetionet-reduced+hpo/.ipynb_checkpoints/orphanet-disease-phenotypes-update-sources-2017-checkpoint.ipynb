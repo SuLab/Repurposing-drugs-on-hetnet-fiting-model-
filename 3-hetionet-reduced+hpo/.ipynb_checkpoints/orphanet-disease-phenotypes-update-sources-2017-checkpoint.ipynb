{
 "cells": [
  {
   "cell_type": "code",
   "execution_count": 1,
   "metadata": {
    "collapsed": true
   },
   "outputs": [],
   "source": [
    "import pandas as pd"
   ]
  },
  {
   "cell_type": "markdown",
   "metadata": {},
   "source": [
    "## Orphadata"
   ]
  },
  {
   "cell_type": "markdown",
   "metadata": {},
   "source": [
    "orphadata: /home/nuria/workspace/repurposing-hetio/rephetio-dhimmelstein/hetionet+hpo/data/en_product4_HPO.xml "
   ]
  },
  {
   "cell_type": "markdown",
   "metadata": {},
   "source": [
    "**orphanet parsed data:** \n",
    "\n",
    " associations_file: /home/nuria/workspace/repurposing-hetio/rephetio-dhimmelstein/hetionet+hpo/data/orphanet-disease-symptom.tsv\n",
    " \n",
    " diseases_file: /home/nuria/workspace/repurposing-hetio/rephetio-dhimmelstein/hetionet+hpo/data/orphanet-diseases.tsv\n",
    " \n",
    " symptoms_file: /home/nuria/workspace/repurposing-hetio/rephetio-dhimmelstein/hetionet+hpo/data/orphanet-symptoms.tsv"
   ]
  },
  {
   "cell_type": "markdown",
   "metadata": {},
   "source": [
    "## Hetionet data"
   ]
  },
  {
   "cell_type": "markdown",
   "metadata": {},
   "source": [
    "associations_file: https://github.com/dhimmel/medline/blob/gh-pages/data/disease-symptom-cooccurrence.tsv\n",
    "\n",
    "diseases_file: https://github.com/dhimmel/disease-ontology/blob/gh-pages/data/slim-terms.tsv\n",
    "    \n",
    "Symptoms_file: https://github.com/dhimmel/mesh/blob/gh-pages/data/symptoms.tsv"
   ]
  },
  {
   "cell_type": "markdown",
   "metadata": {},
   "source": [
    "#### Associations\n",
    "\n",
    "commit = '60d611892bf387b5b23c5f2e2e3bc472cfce85f3'\n",
    "\n",
    "url = rawgit('dhimmel', 'medline', commit, 'data/disease-symptom-cooccurrence.tsv')\n",
    "\n",
    "disease_symptom_df = pandas.read_table(url)\n",
    "\n",
    "disease_symptom_df = disease_symptom_df[disease_symptom_df.p_fisher < 0.005]\n",
    "\n",
    "disease_symptom_df.head(2)"
   ]
  },
  {
   "cell_type": "markdown",
   "metadata": {},
   "source": [
    "#### Diseases\n",
    "commit = '75050ea2d4f60e745d3f3578ae03560a2cc0e444'\n",
    "\n",
    "url = rawgit('dhimmel', 'disease-ontology', commit, 'data/slim-terms.tsv')\n",
    "\n",
    "disease_df = pandas.read_table(url)\n",
    "\n",
    "disease_df.head(2)"
   ]
  },
  {
   "cell_type": "markdown",
   "metadata": {},
   "source": [
    "#### Symptoms\n",
    "commit = 'a7036a37302973b15ab949aab4056d9bc062910e'\n",
    "\n",
    "url = rawgit('dhimmel', 'mesh', commit, 'data/symptoms.tsv')\n",
    "\n",
    "symptom_df = pandas.read_table(url)\n",
    "\n",
    "symptom_df.head(2)"
   ]
  },
  {
   "cell_type": "markdown",
   "metadata": {},
   "source": [
    "## Diseases"
   ]
  },
  {
   "cell_type": "markdown",
   "metadata": {},
   "source": [
    "### Orphanet DO coverage\n",
    "**Orphanet2DO mappings from MONDO (extracted from 'equivalentClass' defined classes)**"
   ]
  },
  {
   "cell_type": "code",
   "execution_count": 2,
   "metadata": {},
   "outputs": [
    {
     "data": {
      "text/html": [
       "<div>\n",
       "<table border=\"1\" class=\"dataframe\">\n",
       "  <thead>\n",
       "    <tr style=\"text-align: right;\">\n",
       "      <th></th>\n",
       "      <th>orphanet_code</th>\n",
       "      <th>orphanet_term</th>\n",
       "    </tr>\n",
       "  </thead>\n",
       "  <tbody>\n",
       "    <tr>\n",
       "      <th>0</th>\n",
       "      <td>Orphanet:232</td>\n",
       "      <td>Sickle cell anemia</td>\n",
       "    </tr>\n",
       "    <tr>\n",
       "      <th>1</th>\n",
       "      <td>Orphanet:2075</td>\n",
       "      <td>Genito-palato-cardiac syndrome</td>\n",
       "    </tr>\n",
       "  </tbody>\n",
       "</table>\n",
       "</div>"
      ],
      "text/plain": [
       "   orphanet_code                   orphanet_term\n",
       "0   Orphanet:232              Sickle cell anemia\n",
       "1  Orphanet:2075  Genito-palato-cardiac syndrome"
      ]
     },
     "execution_count": 2,
     "metadata": {},
     "output_type": "execute_result"
    }
   ],
   "source": [
    "# load orphanet diseases\n",
    "path = \"/home/nuria/workspace/repurposing-hetio/rephetio-dhimmelstein/hetionet+hpo/data/\"\n",
    "orpha_diseases = pd.read_table(\"{}orphanet-diseases.tsv\".format(path))\n",
    "orpha_diseases.head(2)"
   ]
  },
  {
   "cell_type": "code",
   "execution_count": 3,
   "metadata": {},
   "outputs": [
    {
     "data": {
      "text/html": [
       "<div>\n",
       "<table border=\"1\" class=\"dataframe\">\n",
       "  <thead>\n",
       "    <tr style=\"text-align: right;\">\n",
       "      <th></th>\n",
       "      <th>orphanet</th>\n",
       "      <th>do</th>\n",
       "    </tr>\n",
       "  </thead>\n",
       "  <tbody>\n",
       "    <tr>\n",
       "      <th>0</th>\n",
       "      <td>Orphanet:3193</td>\n",
       "      <td>DOID:1929</td>\n",
       "    </tr>\n",
       "    <tr>\n",
       "      <th>1</th>\n",
       "      <td>Orphanet:100045</td>\n",
       "      <td>DOID:0110199</td>\n",
       "    </tr>\n",
       "  </tbody>\n",
       "</table>\n",
       "</div>"
      ],
      "text/plain": [
       "          orphanet            do\n",
       "0    Orphanet:3193     DOID:1929\n",
       "1  Orphanet:100045  DOID:0110199"
      ]
     },
     "execution_count": 3,
     "metadata": {},
     "output_type": "execute_result"
    }
   ],
   "source": [
    "# Load mondo orphanet2do mappings\n",
    "mondo_mappings = pd.read_table(\"{}mondo-orpha2do-mappings.tsv\".format(path))\n",
    "mondo_mappings.head(2)"
   ]
  },
  {
   "cell_type": "code",
   "execution_count": 4,
   "metadata": {},
   "outputs": [
    {
     "name": "stdout",
     "output_type": "stream",
     "text": [
      "Diseases (orphanumbers) in orphadata: 2592\n",
      "Diseases (orphanumbers) in mondo with DO: 1862\n",
      "Diseases (orphanumbers) in orphadata mapped to DO: 781\n",
      "**DO coverage: 30% of diseases in orphadata**\n"
     ]
    }
   ],
   "source": [
    "# orphadata - mondo overlap\n",
    "orphanet = set(list(orpha_diseases.orphanet_code))\n",
    "mondo = set(list(mondo_mappings.orphanet))\n",
    "mapped = len(orphanet & mondo)\n",
    "# DO coverage\n",
    "coverage = (mapped*100/len(orphanet))\n",
    "print('Diseases (orphanumbers) in orphadata: {}'.format(len(orphanet)))\n",
    "print('Diseases (orphanumbers) in mondo with DO: {}'.format(len(mondo)))\n",
    "print('Diseases (orphanumbers) in orphadata mapped to DO: {}'.format(mapped))\n",
    "print('**DO coverage: {}% of diseases in orphadata**'.format(round(coverage)))"
   ]
  },
  {
   "cell_type": "markdown",
   "metadata": {},
   "source": [
    "**Orphanet2DO mappings from DO**"
   ]
  },
  {
   "cell_type": "code",
   "execution_count": 5,
   "metadata": {},
   "outputs": [
    {
     "data": {
      "text/html": [
       "<div>\n",
       "<table border=\"1\" class=\"dataframe\">\n",
       "  <thead>\n",
       "    <tr style=\"text-align: right;\">\n",
       "      <th></th>\n",
       "      <th>orphanet</th>\n",
       "      <th>do</th>\n",
       "    </tr>\n",
       "  </thead>\n",
       "  <tbody>\n",
       "    <tr>\n",
       "      <th>0</th>\n",
       "      <td>Orphanet:101076</td>\n",
       "      <td>DOID:0110208</td>\n",
       "    </tr>\n",
       "    <tr>\n",
       "      <th>1</th>\n",
       "      <td>Orphanet:2203</td>\n",
       "      <td>DOID:9274</td>\n",
       "    </tr>\n",
       "  </tbody>\n",
       "</table>\n",
       "</div>"
      ],
      "text/plain": [
       "          orphanet            do\n",
       "0  Orphanet:101076  DOID:0110208\n",
       "1    Orphanet:2203     DOID:9274"
      ]
     },
     "execution_count": 5,
     "metadata": {},
     "output_type": "execute_result"
    }
   ],
   "source": [
    "# load orphanet diseases\n",
    "path = \"/home/nuria/workspace/repurposing-hetio/rephetio-dhimmelstein/hetionet+hpo/data/\"\n",
    "orpha_diseases = pd.read_table(\"{}orphanet-diseases.tsv\".format(path))\n",
    "# Load do orphanet2do mappings\n",
    "do_mappings = pd.read_table(\"{}do-orpha2do-mappings.tsv\".format(path))\n",
    "do_mappings.head(2)"
   ]
  },
  {
   "cell_type": "code",
   "execution_count": 6,
   "metadata": {},
   "outputs": [
    {
     "name": "stdout",
     "output_type": "stream",
     "text": [
      "Diseases (orphanumbers) in orphanet: 2592\n",
      "Diseases (orphanumbers) in do with DO: 726\n",
      "Diseases (orphanumbers) in orphadata mapped to DO: 281\n",
      "**DO coverage: 11% of diseases in orphadata**\n"
     ]
    }
   ],
   "source": [
    "# orphadata - do overlap\n",
    "orphanet = set(list(orpha_diseases.orphanet_code))\n",
    "do = set(list(do_mappings.orphanet))\n",
    "mapped = len(orphanet & do)\n",
    "# DO coverage\n",
    "coverage = (mapped*100/len(orphanet))\n",
    "print('Diseases (orphanumbers) in orphanet: {}'.format(len(orphanet)))\n",
    "print('Diseases (orphanumbers) in do with DO: {}'.format(len(do)))\n",
    "print('Diseases (orphanumbers) in orphadata mapped to DO: {}'.format(mapped))\n",
    "print('**DO coverage: {}% of diseases in orphadata**'.format(round(coverage)))"
   ]
  },
  {
   "cell_type": "markdown",
   "metadata": {},
   "source": [
    "### Orphanet - Hetionet Overlap"
   ]
  },
  {
   "cell_type": "code",
   "execution_count": 7,
   "metadata": {},
   "outputs": [
    {
     "data": {
      "text/html": [
       "<div>\n",
       "<table border=\"1\" class=\"dataframe\">\n",
       "  <thead>\n",
       "    <tr style=\"text-align: right;\">\n",
       "      <th></th>\n",
       "      <th>orphanumber</th>\n",
       "      <th>doid</th>\n",
       "    </tr>\n",
       "  </thead>\n",
       "  <tbody>\n",
       "    <tr>\n",
       "      <th>0</th>\n",
       "      <td>Orphanet:90291</td>\n",
       "      <td>DOID:418</td>\n",
       "    </tr>\n",
       "    <tr>\n",
       "      <th>1</th>\n",
       "      <td>Orphanet:374</td>\n",
       "      <td>DOID:2907</td>\n",
       "    </tr>\n",
       "  </tbody>\n",
       "</table>\n",
       "</div>"
      ],
      "text/plain": [
       "      orphanumber       doid\n",
       "0  Orphanet:90291   DOID:418\n",
       "1    Orphanet:374  DOID:2907"
      ]
     },
     "execution_count": 7,
     "metadata": {},
     "output_type": "execute_result"
    }
   ],
   "source": [
    "# Orphanet - Hetionet overlap (MONDO mappings)\n",
    "# orphanet DO diseases \n",
    "orphanet_mappings = pd.read_table(\"{}orphanet-diseases-mondo-orpha2do.tsv\".format(path))\n",
    "orphanet_mappings.head(2)"
   ]
  },
  {
   "cell_type": "code",
   "execution_count": 8,
   "metadata": {},
   "outputs": [
    {
     "data": {
      "text/html": [
       "<div>\n",
       "<table border=\"1\" class=\"dataframe\">\n",
       "  <thead>\n",
       "    <tr style=\"text-align: right;\">\n",
       "      <th></th>\n",
       "      <th>doid</th>\n",
       "      <th>name</th>\n",
       "      <th>source</th>\n",
       "      <th>pathophysiology</th>\n",
       "    </tr>\n",
       "  </thead>\n",
       "  <tbody>\n",
       "    <tr>\n",
       "      <th>0</th>\n",
       "      <td>DOID:2531</td>\n",
       "      <td>hematologic cancer</td>\n",
       "      <td>DOcancerslim</td>\n",
       "      <td>neoplastic</td>\n",
       "    </tr>\n",
       "    <tr>\n",
       "      <th>1</th>\n",
       "      <td>DOID:1319</td>\n",
       "      <td>brain cancer</td>\n",
       "      <td>DOcancerslim</td>\n",
       "      <td>neoplastic</td>\n",
       "    </tr>\n",
       "  </tbody>\n",
       "</table>\n",
       "</div>"
      ],
      "text/plain": [
       "        doid                name        source pathophysiology\n",
       "0  DOID:2531  hematologic cancer  DOcancerslim      neoplastic\n",
       "1  DOID:1319        brain cancer  DOcancerslim      neoplastic"
      ]
     },
     "execution_count": 8,
     "metadata": {},
     "output_type": "execute_result"
    }
   ],
   "source": [
    "# hetionet DO diseases\n",
    "hetionet_table = pd.read_table(\"data/hetionet-do-slim-terms.tsv\")\n",
    "hetionet_table.head(2)"
   ]
  },
  {
   "cell_type": "code",
   "execution_count": 9,
   "metadata": {},
   "outputs": [
    {
     "name": "stdout",
     "output_type": "stream",
     "text": [
      "Diseases in orphanet (DO): 781\n",
      "Diseases in hetionet (DO): 137\n",
      "Overlap: 6\n",
      "**We will introduce 775 new diseases from orphadata**\n",
      "+ \"NGLY1 deficiency\" manually mapped to (with Elvira): DOID:0060728 \\(from ORDO:404454 - OMIM:615273\\)\n"
     ]
    }
   ],
   "source": [
    "# overlap\n",
    "orphanet = set(list(orphanet_mappings.doid))\n",
    "hetionet = set(list(hetionet_table.doid))\n",
    "common = len(orphanet & hetionet)\n",
    "diff = len(orphanet - hetionet)\n",
    "print('Diseases in orphanet (DO): {}'.format(len(orphanet)))\n",
    "print('Diseases in hetionet (DO): {}'.format(len(hetionet)))\n",
    "print('Overlap: {}'.format(common))\n",
    "print('**We will introduce {} new diseases from orphadata**'.format(diff))\n",
    "print('+ \"NGLY1 deficiency\" manually mapped to (with Elvira): DOID:0060728 \\(from ORDO:404454 - OMIM:615273\\)')"
   ]
  },
  {
   "cell_type": "code",
   "execution_count": 10,
   "metadata": {},
   "outputs": [
    {
     "data": {
      "text/html": [
       "<div>\n",
       "<table border=\"1\" class=\"dataframe\">\n",
       "  <thead>\n",
       "    <tr style=\"text-align: right;\">\n",
       "      <th></th>\n",
       "      <th>orphanumber</th>\n",
       "      <th>doid</th>\n",
       "    </tr>\n",
       "  </thead>\n",
       "  <tbody>\n",
       "    <tr>\n",
       "      <th>0</th>\n",
       "      <td>Orphanet:101076</td>\n",
       "      <td>DOID:0110208</td>\n",
       "    </tr>\n",
       "    <tr>\n",
       "      <th>1</th>\n",
       "      <td>Orphanet:56</td>\n",
       "      <td>DOID:9270</td>\n",
       "    </tr>\n",
       "  </tbody>\n",
       "</table>\n",
       "</div>"
      ],
      "text/plain": [
       "       orphanumber          doid\n",
       "0  Orphanet:101076  DOID:0110208\n",
       "1      Orphanet:56     DOID:9270"
      ]
     },
     "execution_count": 10,
     "metadata": {},
     "output_type": "execute_result"
    }
   ],
   "source": [
    "# Orphanet - Hetionet overlap (DO mappings)\n",
    "# orphanet DO diseases \n",
    "orphanet_mappings = pd.read_table(\"{}orphanet-diseases-do-orpha2do.tsv\".format(path))\n",
    "orphanet_mappings.head(2)"
   ]
  },
  {
   "cell_type": "code",
   "execution_count": 11,
   "metadata": {},
   "outputs": [
    {
     "name": "stdout",
     "output_type": "stream",
     "text": [
      "Diseases in orphanet (DO): 463\n",
      "Diseases in hetionet (DO): 137\n",
      "Overlap: 3\n",
      "**We will introduce 460 new diseases from orphadata**\n",
      "+ \"NGLY1 deficiency\" manually mapped to (with Elvira): DOID:0060728 \\(from ORDO:404454 - OMIM:615273\\)\n"
     ]
    }
   ],
   "source": [
    "# overlap\n",
    "orphanet = set(list(orphanet_mappings.doid))\n",
    "hetionet = set(list(hetionet_table.doid))\n",
    "common = len(orphanet & hetionet)\n",
    "diff = len(orphanet - hetionet)\n",
    "print('Diseases in orphanet (DO): {}'.format(len(orphanet)))\n",
    "print('Diseases in hetionet (DO): {}'.format(len(hetionet)))\n",
    "print('Overlap: {}'.format(common))\n",
    "print('**We will introduce {} new diseases from orphadata**'.format(diff))\n",
    "print('+ \"NGLY1 deficiency\" manually mapped to (with Elvira): DOID:0060728 \\(from ORDO:404454 - OMIM:615273\\)')"
   ]
  },
  {
   "cell_type": "markdown",
   "metadata": {},
   "source": [
    "## Symptoms (Hetionet::MeSH) - Phenotypes (Orphanet::HPO)"
   ]
  },
  {
   "cell_type": "markdown",
   "metadata": {},
   "source": [
    "### Orphanet MESH coverage\n",
    "**hp2mesh mappings inferred through UMLS**"
   ]
  },
  {
   "cell_type": "code",
   "execution_count": 12,
   "metadata": {},
   "outputs": [
    {
     "data": {
      "text/html": [
       "<div>\n",
       "<table border=\"1\" class=\"dataframe\">\n",
       "  <thead>\n",
       "    <tr style=\"text-align: right;\">\n",
       "      <th></th>\n",
       "      <th>hp_code</th>\n",
       "      <th>hp_term</th>\n",
       "    </tr>\n",
       "  </thead>\n",
       "  <tbody>\n",
       "    <tr>\n",
       "      <th>0</th>\n",
       "      <td>HP:0004912</td>\n",
       "      <td>Hypophosphatemic rickets</td>\n",
       "    </tr>\n",
       "    <tr>\n",
       "      <th>1</th>\n",
       "      <td>HP:0000712</td>\n",
       "      <td>Emotional lability</td>\n",
       "    </tr>\n",
       "  </tbody>\n",
       "</table>\n",
       "</div>"
      ],
      "text/plain": [
       "      hp_code                   hp_term\n",
       "0  HP:0004912  Hypophosphatemic rickets\n",
       "1  HP:0000712        Emotional lability"
      ]
     },
     "execution_count": 12,
     "metadata": {},
     "output_type": "execute_result"
    }
   ],
   "source": [
    "# load orphanet phenotypes\n",
    "orpha_phenotypes = pd.read_table(\"{}orphanet-symptoms.tsv\".format(path))\n",
    "orpha_phenotypes.head(2)"
   ]
  },
  {
   "cell_type": "code",
   "execution_count": 13,
   "metadata": {},
   "outputs": [
    {
     "data": {
      "text/html": [
       "<div>\n",
       "<table border=\"1\" class=\"dataframe\">\n",
       "  <thead>\n",
       "    <tr style=\"text-align: right;\">\n",
       "      <th></th>\n",
       "      <th>hp_code</th>\n",
       "      <th>hp_term</th>\n",
       "      <th>mesh_code</th>\n",
       "      <th>mesh_term</th>\n",
       "    </tr>\n",
       "  </thead>\n",
       "  <tbody>\n",
       "    <tr>\n",
       "      <th>0</th>\n",
       "      <td>HP:0000870</td>\n",
       "      <td>Hyperprolactinaemia</td>\n",
       "      <td>MESH:D006966</td>\n",
       "      <td>Secretion, Inappropriate Prolactin</td>\n",
       "    </tr>\n",
       "    <tr>\n",
       "      <th>1</th>\n",
       "      <td>HP:0003641</td>\n",
       "      <td>Hemoglobinuria</td>\n",
       "      <td>MESH:D006456</td>\n",
       "      <td>Hemoglobinuria</td>\n",
       "    </tr>\n",
       "  </tbody>\n",
       "</table>\n",
       "</div>"
      ],
      "text/plain": [
       "      hp_code              hp_term     mesh_code  \\\n",
       "0  HP:0000870  Hyperprolactinaemia  MESH:D006966   \n",
       "1  HP:0003641       Hemoglobinuria  MESH:D006456   \n",
       "\n",
       "                            mesh_term  \n",
       "0  Secretion, Inappropriate Prolactin  \n",
       "1                      Hemoglobinuria  "
      ]
     },
     "execution_count": 13,
     "metadata": {},
     "output_type": "execute_result"
    }
   ],
   "source": [
    "# load hp2mesh inferred mappings from UMLS\n",
    "umls_mappings = pd.read_table(\"{}umls2016aa-hp2mesh-mappings.tsv\".format(path))\n",
    "umls_mappings['mesh_code'] = 'MESH:' + umls_mappings['mesh_code'].astype(str)\n",
    "umls_mappings.head(2)"
   ]
  },
  {
   "cell_type": "code",
   "execution_count": 14,
   "metadata": {},
   "outputs": [
    {
     "name": "stdout",
     "output_type": "stream",
     "text": [
      "Phenotypes (hp) in orphanet: 4543\n",
      "Phenotypes (hp) in umls with mesh: 908\n",
      "HP mapped: 600\n",
      "**MESH coverage: 13**\n"
     ]
    }
   ],
   "source": [
    "# orphadata - umls overlap\n",
    "orphanet = set(list(orpha_phenotypes.hp_code))\n",
    "umls = set(list(umls_mappings.hp_code))\n",
    "mapped = len(orphanet & umls)\n",
    "# MESH coverage\n",
    "coverage = (mapped*100/len(orphanet))\n",
    "print('Phenotypes (hp) in orphanet: {}'.format(len(orphanet)))\n",
    "print('Phenotypes (hp) in umls with mesh: {}'.format(len(umls)))\n",
    "print('HP mapped: {}'.format(mapped))\n",
    "print('**MESH coverage: {}**'.format(round(coverage)))"
   ]
  },
  {
   "cell_type": "markdown",
   "metadata": {},
   "source": [
    "**hp2mesh mappings from HPO**"
   ]
  },
  {
   "cell_type": "code",
   "execution_count": 15,
   "metadata": {},
   "outputs": [
    {
     "data": {
      "text/html": [
       "<div>\n",
       "<table border=\"1\" class=\"dataframe\">\n",
       "  <thead>\n",
       "    <tr style=\"text-align: right;\">\n",
       "      <th></th>\n",
       "      <th>hp_code</th>\n",
       "      <th>hp_term</th>\n",
       "      <th>mesh_code</th>\n",
       "    </tr>\n",
       "  </thead>\n",
       "  <tbody>\n",
       "    <tr>\n",
       "      <th>0</th>\n",
       "      <td>HP:0009829</td>\n",
       "      <td>Phocomelia</td>\n",
       "      <td>MESH:D004480</td>\n",
       "    </tr>\n",
       "    <tr>\n",
       "      <th>1</th>\n",
       "      <td>HP:0012622</td>\n",
       "      <td>Chronic kidney disease</td>\n",
       "      <td>MESH:D051436</td>\n",
       "    </tr>\n",
       "  </tbody>\n",
       "</table>\n",
       "</div>"
      ],
      "text/plain": [
       "      hp_code                 hp_term     mesh_code\n",
       "0  HP:0009829              Phocomelia  MESH:D004480\n",
       "1  HP:0012622  Chronic kidney disease  MESH:D051436"
      ]
     },
     "execution_count": 15,
     "metadata": {},
     "output_type": "execute_result"
    }
   ],
   "source": [
    "# load hp2mesh from HPO\n",
    "hpo_mappings = pd.read_table(\"{}hp-hp2mesh-mappings.tsv\".format(path))\n",
    "hpo_mappings.head(2)"
   ]
  },
  {
   "cell_type": "code",
   "execution_count": 16,
   "metadata": {},
   "outputs": [
    {
     "name": "stdout",
     "output_type": "stream",
     "text": [
      "Phenotypes (hp) in orphanet: 4543\n",
      "Phenotypes (hp) in hpo with mesh: 2105\n",
      "HP mapped: 1461\n",
      "**MESH coverage: 32**\n"
     ]
    }
   ],
   "source": [
    "# orphadata - hpo overlap\n",
    "orphanet = set(list(orpha_phenotypes.hp_code))\n",
    "hpo = set(list(hpo_mappings.hp_code))\n",
    "mapped = len(orphanet & hpo)\n",
    "# MESH coverage\n",
    "coverage = (mapped*100/len(orphanet))\n",
    "print('Phenotypes (hp) in orphanet: {}'.format(len(orphanet)))\n",
    "print('Phenotypes (hp) in hpo with mesh: {}'.format(len(hpo)))\n",
    "print('HP mapped: {}'.format(mapped))\n",
    "print('**MESH coverage: {}**'.format(round(coverage)))"
   ]
  },
  {
   "cell_type": "markdown",
   "metadata": {},
   "source": [
    "**hp2mesh mappings from HPO and UMLS**"
   ]
  },
  {
   "cell_type": "code",
   "execution_count": 17,
   "metadata": {},
   "outputs": [
    {
     "name": "stdout",
     "output_type": "stream",
     "text": [
      "Using hp2mesh mappings from both hpo and umls:\n",
      "HP mapped: 1463\n",
      "**MESH coverage: 32**\n"
     ]
    }
   ],
   "source": [
    "# are umls and hpo mappings the same?\n",
    "# umls - hpo mappings overlap\n",
    "intersection = len(hpo & umls)\n",
    "# orphanet - all mappings overlap\n",
    "intersectionOrpha = len(orphanet & umls & hpo)\n",
    "# use hpo + umls mappings UNION to map orphanet phenotypes to mesh\n",
    "union = (umls | hpo)\n",
    "unionOrpha = len(orphanet & union)\n",
    "# New MESH coverage\n",
    "coverage = (unionOrpha*100/len(orphanet))\n",
    "#print(\"umls-hpo common phenotypes (hp) with mappings to mesh: {}\".format(intersection))\n",
    "#print(\"orphanet-umls-hpo common phenotypes (hp) with mappings to mesh: {}\".format(intersectionOrpha))\n",
    "print(\"Using hp2mesh mappings from both hpo and umls:\")\n",
    "print(\"HP mapped: {}\".format(unionOrpha))\n",
    "print('**MESH coverage: {}**'.format(round(coverage)))"
   ]
  },
  {
   "cell_type": "markdown",
   "metadata": {},
   "source": [
    "### Hetionet HPO coverage\n",
    "**mesh2hp mappings inferred through UMLS**"
   ]
  },
  {
   "cell_type": "code",
   "execution_count": 18,
   "metadata": {},
   "outputs": [
    {
     "data": {
      "text/html": [
       "<div>\n",
       "<table border=\"1\" class=\"dataframe\">\n",
       "  <thead>\n",
       "    <tr style=\"text-align: right;\">\n",
       "      <th></th>\n",
       "      <th>mesh_id</th>\n",
       "      <th>mesh_name</th>\n",
       "      <th>in_hsdn</th>\n",
       "    </tr>\n",
       "  </thead>\n",
       "  <tbody>\n",
       "    <tr>\n",
       "      <th>0</th>\n",
       "      <td>MESH:D000006</td>\n",
       "      <td>Abdomen, Acute</td>\n",
       "      <td>1</td>\n",
       "    </tr>\n",
       "    <tr>\n",
       "      <th>1</th>\n",
       "      <td>MESH:D000270</td>\n",
       "      <td>Adie Syndrome</td>\n",
       "      <td>0</td>\n",
       "    </tr>\n",
       "  </tbody>\n",
       "</table>\n",
       "</div>"
      ],
      "text/plain": [
       "        mesh_id       mesh_name  in_hsdn\n",
       "0  MESH:D000006  Abdomen, Acute        1\n",
       "1  MESH:D000270   Adie Syndrome        0"
      ]
     },
     "execution_count": 18,
     "metadata": {},
     "output_type": "execute_result"
    }
   ],
   "source": [
    "# load Hetionet symptoms\n",
    "hetionet_symptoms = pd.read_table(\"data/hetionet-symptoms.tsv\")\n",
    "hetionet_symptoms['mesh_id'] = 'MESH:' + hetionet_symptoms['mesh_id'].astype(str)\n",
    "hetionet_symptoms.head(2)"
   ]
  },
  {
   "cell_type": "code",
   "execution_count": 19,
   "metadata": {},
   "outputs": [
    {
     "name": "stdout",
     "output_type": "stream",
     "text": [
      "Symptoms (mesh) in hetionet: 438\n",
      "Symptoms (mesh) in umls with hp: 881\n",
      "MESH mapped: 70\n",
      "**HPO coverage: 16**\n"
     ]
    }
   ],
   "source": [
    "# hetionet - umls overlap\n",
    "hetionet = set(list(hetionet_symptoms.mesh_id))\n",
    "umls = set(list(umls_mappings.mesh_code))\n",
    "mapped = len(hetionet & umls)\n",
    "# HPO coverage\n",
    "coverage = (mapped*100/len(hetionet))\n",
    "print('Symptoms (mesh) in hetionet: {}'.format(len(hetionet)))\n",
    "print('Symptoms (mesh) in umls with hp: {}'.format(len(umls)))\n",
    "print('MESH mapped: {}'.format(mapped))\n",
    "print('**HPO coverage: {}**'.format(round(coverage)))"
   ]
  },
  {
   "cell_type": "markdown",
   "metadata": {},
   "source": [
    "**mesh2hp mappings from HPO**"
   ]
  },
  {
   "cell_type": "code",
   "execution_count": 20,
   "metadata": {},
   "outputs": [
    {
     "name": "stdout",
     "output_type": "stream",
     "text": [
      "Symptoms (mesh) in hetionet: 438\n",
      "Symptoms (mesh) in hpo with hp: 1812\n",
      "MESH mapped: 215\n",
      "**HPO coverage: 49**\n"
     ]
    }
   ],
   "source": [
    "# hetionet - hpo overlap\n",
    "hetionet = set(list(hetionet_symptoms.mesh_id))\n",
    "hpo = set(list(hpo_mappings.mesh_code))\n",
    "mapped = len(hetionet & hpo)\n",
    "# HPO coverage\n",
    "coverage = (mapped*100/len(hetionet))\n",
    "print('Symptoms (mesh) in hetionet: {}'.format(len(hetionet)))\n",
    "print('Symptoms (mesh) in hpo with hp: {}'.format(len(hpo)))\n",
    "print('MESH mapped: {}'.format(mapped))\n",
    "print('**HPO coverage: {}**'.format(round(coverage)))"
   ]
  },
  {
   "cell_type": "markdown",
   "metadata": {},
   "source": [
    "**mesh2hp mappings from HPO and UMLS**"
   ]
  },
  {
   "cell_type": "code",
   "execution_count": 21,
   "metadata": {},
   "outputs": [
    {
     "name": "stdout",
     "output_type": "stream",
     "text": [
      "Using mesh2hp mappings from both hpo and umls:\n",
      "MESH mapped: 215\n",
      "**HPO coverage: 49**\n"
     ]
    }
   ],
   "source": [
    "# are umls and hpo mappings the same?\n",
    "# umls - hpo mappings overlap\n",
    "intersection = len(hpo & umls)\n",
    "# orphanet - all mappings overlap\n",
    "intersectionHetio = len(hetionet & umls & hpo)\n",
    "# use hpo + umls mappings UNION to map orphanet phenotypes to mesh\n",
    "union = (umls | hpo)\n",
    "unionHetio = len(hetionet & union)\n",
    "# New MESH coverage\n",
    "coverage = (unionHetio*100/len(hetionet))\n",
    "#print(\"umls-hpo common symptoms (mesh) with mappings to hp: {}\".format(intersection))\n",
    "#print(\"hetionet-umls-hpo common symptoms (mesh) with mappings to hp: {}\".format(intersectionHetio))\n",
    "print(\"Using mesh2hp mappings from both hpo and umls:\")\n",
    "print(\"MESH mapped: {}\".format(unionHetio))\n",
    "print('**HPO coverage: {}**'.format(round(coverage)))"
   ]
  },
  {
   "cell_type": "markdown",
   "metadata": {},
   "source": [
    "### Orphanet - Hetionet Overlap (HPO)"
   ]
  },
  {
   "cell_type": "code",
   "execution_count": 22,
   "metadata": {},
   "outputs": [
    {
     "data": {
      "text/html": [
       "<div>\n",
       "<table border=\"1\" class=\"dataframe\">\n",
       "  <thead>\n",
       "    <tr style=\"text-align: right;\">\n",
       "      <th></th>\n",
       "      <th>hp_code</th>\n",
       "      <th>hp_term</th>\n",
       "    </tr>\n",
       "  </thead>\n",
       "  <tbody>\n",
       "    <tr>\n",
       "      <th>0</th>\n",
       "      <td>HP:0004912</td>\n",
       "      <td>Hypophosphatemic rickets</td>\n",
       "    </tr>\n",
       "    <tr>\n",
       "      <th>1</th>\n",
       "      <td>HP:0000712</td>\n",
       "      <td>Emotional lability</td>\n",
       "    </tr>\n",
       "  </tbody>\n",
       "</table>\n",
       "</div>"
      ],
      "text/plain": [
       "      hp_code                   hp_term\n",
       "0  HP:0004912  Hypophosphatemic rickets\n",
       "1  HP:0000712        Emotional lability"
      ]
     },
     "execution_count": 22,
     "metadata": {},
     "output_type": "execute_result"
    }
   ],
   "source": [
    "# Orphanet - Hetionet (HPO mappings)\n",
    "# orphanet HP phenotypes\n",
    "orphanet_symptoms = pd.read_table(\"{}orphanet-symptoms.tsv\".format(path))\n",
    "orphanet_symptoms.head(2)"
   ]
  },
  {
   "cell_type": "code",
   "execution_count": 23,
   "metadata": {},
   "outputs": [
    {
     "data": {
      "text/html": [
       "<div>\n",
       "<table border=\"1\" class=\"dataframe\">\n",
       "  <thead>\n",
       "    <tr style=\"text-align: right;\">\n",
       "      <th></th>\n",
       "      <th>mesh_id</th>\n",
       "      <th>mesh_name</th>\n",
       "      <th>in_hsdn</th>\n",
       "      <th>hp_code</th>\n",
       "      <th>hp_term</th>\n",
       "      <th>mesh_code</th>\n",
       "    </tr>\n",
       "  </thead>\n",
       "  <tbody>\n",
       "    <tr>\n",
       "      <th>0</th>\n",
       "      <td>MESH:D000370</td>\n",
       "      <td>Ageusia</td>\n",
       "      <td>1</td>\n",
       "      <td>HP:0000224</td>\n",
       "      <td>Decreased taste sensation</td>\n",
       "      <td>MESH:D000370</td>\n",
       "    </tr>\n",
       "    <tr>\n",
       "      <th>1</th>\n",
       "      <td>MESH:D000377</td>\n",
       "      <td>Agnosia</td>\n",
       "      <td>1</td>\n",
       "      <td>HP:0030222</td>\n",
       "      <td>Visual agnosia</td>\n",
       "      <td>MESH:D000377</td>\n",
       "    </tr>\n",
       "  </tbody>\n",
       "</table>\n",
       "</div>"
      ],
      "text/plain": [
       "        mesh_id mesh_name  in_hsdn     hp_code                    hp_term  \\\n",
       "0  MESH:D000370   Ageusia        1  HP:0000224  Decreased taste sensation   \n",
       "1  MESH:D000377   Agnosia        1  HP:0030222             Visual agnosia   \n",
       "\n",
       "      mesh_code  \n",
       "0  MESH:D000370  \n",
       "1  MESH:D000377  "
      ]
     },
     "execution_count": 23,
     "metadata": {},
     "output_type": "execute_result"
    }
   ],
   "source": [
    "# hetionet HP symptoms\n",
    "hetionet_symptoms = hetionet_symptoms.merge(hpo_mappings, left_on='mesh_id', right_on='mesh_code')\n",
    "hetionet_symptoms.head(2)"
   ]
  },
  {
   "cell_type": "code",
   "execution_count": 24,
   "metadata": {},
   "outputs": [
    {
     "name": "stdout",
     "output_type": "stream",
     "text": [
      "Phenotypes in orphanet (HP): 4543\n",
      "Symptoms in hetionet (HP): 310\n",
      "Overlap: 233 (75%)\n",
      "**We will introduce 4310 new phenotypes from orphadata**\n"
     ]
    }
   ],
   "source": [
    "# overlap\n",
    "orphanet = set(list(orphanet_symptoms.hp_code))\n",
    "hetionet = set(list(hetionet_symptoms.hp_code))\n",
    "common = len(orphanet & hetionet)\n",
    "diff = len(orphanet - hetionet)\n",
    "common_percentage = round(common*100/len(hetionet))\n",
    "print('Phenotypes in orphanet (HP): {}'.format(len(orphanet)))\n",
    "print('Symptoms in hetionet (HP): {}'.format(len(hetionet)))\n",
    "print('Overlap: {} ({}%)'.format(common,common_percentage))\n",
    "print('**We will introduce {} new phenotypes from orphadata**'.format(diff))"
   ]
  },
  {
   "cell_type": "markdown",
   "metadata": {},
   "source": [
    "### Orphanet - Hetionet Overlap (MESH)"
   ]
  },
  {
   "cell_type": "code",
   "execution_count": 25,
   "metadata": {},
   "outputs": [
    {
     "data": {
      "text/html": [
       "<div>\n",
       "<table border=\"1\" class=\"dataframe\">\n",
       "  <thead>\n",
       "    <tr style=\"text-align: right;\">\n",
       "      <th></th>\n",
       "      <th>hp_code</th>\n",
       "      <th>hp_term</th>\n",
       "    </tr>\n",
       "  </thead>\n",
       "  <tbody>\n",
       "    <tr>\n",
       "      <th>0</th>\n",
       "      <td>HP:0004912</td>\n",
       "      <td>Hypophosphatemic rickets</td>\n",
       "    </tr>\n",
       "    <tr>\n",
       "      <th>1</th>\n",
       "      <td>HP:0000712</td>\n",
       "      <td>Emotional lability</td>\n",
       "    </tr>\n",
       "  </tbody>\n",
       "</table>\n",
       "</div>"
      ],
      "text/plain": [
       "      hp_code                   hp_term\n",
       "0  HP:0004912  Hypophosphatemic rickets\n",
       "1  HP:0000712        Emotional lability"
      ]
     },
     "execution_count": 25,
     "metadata": {},
     "output_type": "execute_result"
    }
   ],
   "source": [
    "# Orphanet - Hetionet (HPO mappings)\n",
    "# orphanet MESH phenotypes (20% Phenotypes in Orphanet)\n",
    "# load orphanet symptoms\n",
    "orphanet_symptoms = pd.read_table(\"{}orphanet-symptoms.tsv\".format(path))\n",
    "orphanet_symptoms_hp = orphanet_symptoms\n",
    "orphanet_symptoms.head(2)"
   ]
  },
  {
   "cell_type": "code",
   "execution_count": 26,
   "metadata": {},
   "outputs": [
    {
     "data": {
      "text/html": [
       "<div>\n",
       "<table border=\"1\" class=\"dataframe\">\n",
       "  <thead>\n",
       "    <tr style=\"text-align: right;\">\n",
       "      <th></th>\n",
       "      <th>hp_code</th>\n",
       "      <th>hp_term_x</th>\n",
       "      <th>hp_term_y</th>\n",
       "      <th>mesh_code</th>\n",
       "    </tr>\n",
       "  </thead>\n",
       "  <tbody>\n",
       "    <tr>\n",
       "      <th>0</th>\n",
       "      <td>HP:0004912</td>\n",
       "      <td>Hypophosphatemic rickets</td>\n",
       "      <td>Hypophosphatemic rickets</td>\n",
       "      <td>MESH:D063730</td>\n",
       "    </tr>\n",
       "    <tr>\n",
       "      <th>1</th>\n",
       "      <td>HP:0012056</td>\n",
       "      <td>Cutaneous melanoma</td>\n",
       "      <td>Cutaneous melanoma</td>\n",
       "      <td>MESH:D008545</td>\n",
       "    </tr>\n",
       "  </tbody>\n",
       "</table>\n",
       "</div>"
      ],
      "text/plain": [
       "      hp_code                 hp_term_x                 hp_term_y  \\\n",
       "0  HP:0004912  Hypophosphatemic rickets  Hypophosphatemic rickets   \n",
       "1  HP:0012056        Cutaneous melanoma        Cutaneous melanoma   \n",
       "\n",
       "      mesh_code  \n",
       "0  MESH:D063730  \n",
       "1  MESH:D008545  "
      ]
     },
     "execution_count": 26,
     "metadata": {},
     "output_type": "execute_result"
    }
   ],
   "source": [
    "# map symptoms HP to MESH\n",
    "orphanet_symptoms = orphanet_symptoms.merge(hpo_mappings, on='hp_code')\n",
    "orphanet_symptoms_mesh = orphanet_symptoms\n",
    "orphanet_symptoms.head(2)"
   ]
  },
  {
   "cell_type": "code",
   "execution_count": 27,
   "metadata": {},
   "outputs": [
    {
     "data": {
      "text/html": [
       "<div>\n",
       "<table border=\"1\" class=\"dataframe\">\n",
       "  <thead>\n",
       "    <tr style=\"text-align: right;\">\n",
       "      <th></th>\n",
       "      <th>mesh_id</th>\n",
       "      <th>mesh_name</th>\n",
       "      <th>in_hsdn</th>\n",
       "    </tr>\n",
       "  </thead>\n",
       "  <tbody>\n",
       "    <tr>\n",
       "      <th>0</th>\n",
       "      <td>MESH:D000006</td>\n",
       "      <td>Abdomen, Acute</td>\n",
       "      <td>1</td>\n",
       "    </tr>\n",
       "    <tr>\n",
       "      <th>1</th>\n",
       "      <td>MESH:D000270</td>\n",
       "      <td>Adie Syndrome</td>\n",
       "      <td>0</td>\n",
       "    </tr>\n",
       "  </tbody>\n",
       "</table>\n",
       "</div>"
      ],
      "text/plain": [
       "        mesh_id       mesh_name  in_hsdn\n",
       "0  MESH:D000006  Abdomen, Acute        1\n",
       "1  MESH:D000270   Adie Syndrome        0"
      ]
     },
     "execution_count": 27,
     "metadata": {},
     "output_type": "execute_result"
    }
   ],
   "source": [
    "# hetionet MESH symptoms\n",
    "# load Hetionet symptoms\n",
    "hetionet_symptoms = pd.read_table(\"data/hetionet-symptoms.tsv\")\n",
    "hetionet_symptoms['mesh_id'] = 'MESH:' + hetionet_symptoms['mesh_id'].astype(str)\n",
    "hetionet_symptoms.head(2)"
   ]
  },
  {
   "cell_type": "code",
   "execution_count": 28,
   "metadata": {},
   "outputs": [
    {
     "name": "stdout",
     "output_type": "stream",
     "text": [
      "Orphanet symptoms (HP): 4543\n",
      "Orphanet symptoms (MESH): 1322\n",
      "Hetionet symptoms (MESH): 438\n"
     ]
    }
   ],
   "source": [
    "# counts\n",
    "print('Orphanet symptoms (HP): {}'.format(len(orphanet_symptoms_hp)))\n",
    "print('Orphanet symptoms (MESH): {}'.format(len(orphanet_symptoms_mesh.mesh_code.unique())))\n",
    "print('Hetionet symptoms (MESH): {}'.format(len(hetionet_symptoms)))"
   ]
  },
  {
   "cell_type": "code",
   "execution_count": 29,
   "metadata": {},
   "outputs": [
    {
     "name": "stdout",
     "output_type": "stream",
     "text": [
      "Phenotypes in orphanet (MESH): 1322\n",
      "Symptoms in hetionet (MESH): 438\n",
      "Overlap: 179 (41%)\n"
     ]
    }
   ],
   "source": [
    "# overlap\n",
    "orphanet = set(list(orphanet_symptoms.mesh_code))\n",
    "hetionet = set(list(hetionet_symptoms.mesh_id))\n",
    "overlap = len(orphanet & hetionet)\n",
    "overlap_percentage = round(overlap*100/len(hetionet))\n",
    "print('Phenotypes in orphanet (MESH): {}'.format(len(orphanet)))\n",
    "print('Symptoms in hetionet (MESH): {}'.format(len(hetionet)))\n",
    "print('Overlap: {} ({}%)'.format(overlap,overlap_percentage))"
   ]
  }
 ],
 "metadata": {
  "kernelspec": {
   "display_name": "Python 3",
   "language": "python",
   "name": "python3"
  },
  "language_info": {
   "codemirror_mode": {
    "name": "ipython",
    "version": 3
   },
   "file_extension": ".py",
   "mimetype": "text/x-python",
   "name": "python",
   "nbconvert_exporter": "python",
   "pygments_lexer": "ipython3",
   "version": "3.5.3"
  }
 },
 "nbformat": 4,
 "nbformat_minor": 1
}
