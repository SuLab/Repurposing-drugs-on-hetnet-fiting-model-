{
 "cells": [
  {
   "cell_type": "code",
   "execution_count": 103,
   "metadata": {
    "collapsed": true
   },
   "outputs": [],
   "source": [
    "import pandas as pd\n",
    "import os\n",
    "import gzip\n",
    "import io\n",
    "import json\n",
    "import xml.etree.ElementTree as ET"
   ]
  },
  {
   "cell_type": "markdown",
   "metadata": {},
   "source": [
    "## Symptoms"
   ]
  },
  {
   "cell_type": "markdown",
   "metadata": {},
   "source": [
    "####### Next, we created a symptom set of 438 MeSH terms by finding all descendants of D012816 (Signs and Symptoms)  (mesh notebook). [https://thinklab.com/discussion/mining-knowledge-from-medline-articles-and-their-indexed-mesh-terms/67]"
   ]
  },
  {
   "cell_type": "code",
   "execution_count": 104,
   "metadata": {
    "collapsed": false
   },
   "outputs": [
    {
     "data": {
      "text/html": [
       "<div>\n",
       "<table border=\"1\" class=\"dataframe\">\n",
       "  <thead>\n",
       "    <tr style=\"text-align: right;\">\n",
       "      <th></th>\n",
       "      <th>mesh_id</th>\n",
       "      <th>mesh_name</th>\n",
       "      <th>in_hsdn</th>\n",
       "    </tr>\n",
       "  </thead>\n",
       "  <tbody>\n",
       "    <tr>\n",
       "      <th>0</th>\n",
       "      <td>MESH:D000006</td>\n",
       "      <td>Abdomen, Acute</td>\n",
       "      <td>1</td>\n",
       "    </tr>\n",
       "    <tr>\n",
       "      <th>1</th>\n",
       "      <td>MESH:D000270</td>\n",
       "      <td>Adie Syndrome</td>\n",
       "      <td>0</td>\n",
       "    </tr>\n",
       "  </tbody>\n",
       "</table>\n",
       "</div>"
      ],
      "text/plain": [
       "        mesh_id       mesh_name  in_hsdn\n",
       "0  MESH:D000006  Abdomen, Acute        1\n",
       "1  MESH:D000270   Adie Syndrome        0"
      ]
     },
     "execution_count": 104,
     "metadata": {},
     "output_type": "execute_result"
    }
   ],
   "source": [
    "# Read MESH symptoms input used in Daniels cooccurrence dis-sym data mining (MESH 2015)\n",
    "# source: https://github.com/dhimmel/medline/blob/gh-pages/symptoms.ipynb\n",
    "url = 'https://raw.githubusercontent.com/dhimmel/mesh/e561301360e6de2140dedeaa7c7e17ce4714eb7f/data/symptoms.tsv'\n",
    "symptom_df = pd.read_table(url)\n",
    "# len(symptom_df.mesh_id.unique()) # 438\n",
    "symptom_df['mesh_id'] = 'MESH:' + symptom_df['mesh_id'].astype(str)\n",
    "symptom_df.head(2)"
   ]
  },
  {
   "cell_type": "code",
   "execution_count": 121,
   "metadata": {
    "collapsed": false
   },
   "outputs": [
    {
     "data": {
      "text/html": [
       "<div>\n",
       "<table border=\"1\" class=\"dataframe\">\n",
       "  <thead>\n",
       "    <tr style=\"text-align: right;\">\n",
       "      <th></th>\n",
       "      <th>mesh_id</th>\n",
       "      <th>mesh_name</th>\n",
       "    </tr>\n",
       "  </thead>\n",
       "  <tbody>\n",
       "    <tr>\n",
       "      <th>0</th>\n",
       "      <td>MESH:D009123</td>\n",
       "      <td>Muscle Hypotonia</td>\n",
       "    </tr>\n",
       "    <tr>\n",
       "      <th>1</th>\n",
       "      <td>MESH:C562827</td>\n",
       "      <td>Alacrima</td>\n",
       "    </tr>\n",
       "    <tr>\n",
       "      <th>2</th>\n",
       "      <td>MESH:D003248</td>\n",
       "      <td>Constipation</td>\n",
       "    </tr>\n",
       "    <tr>\n",
       "      <th>3</th>\n",
       "      <td>MESH:D012021</td>\n",
       "      <td>Abnormal Deep Tendon Reflex</td>\n",
       "    </tr>\n",
       "    <tr>\n",
       "      <th>4</th>\n",
       "      <td>MESH:D008831</td>\n",
       "      <td>Microcephaly</td>\n",
       "    </tr>\n",
       "    <tr>\n",
       "      <th>5</th>\n",
       "      <td>MESH:D005317</td>\n",
       "      <td>IUGR (intrauterine growth restriction)</td>\n",
       "    </tr>\n",
       "    <tr>\n",
       "      <th>6</th>\n",
       "      <td>MESH:D065906</td>\n",
       "      <td>Hyperlactatemia</td>\n",
       "    </tr>\n",
       "    <tr>\n",
       "      <th>7</th>\n",
       "      <td>MESH:D012640</td>\n",
       "      <td>Seizures</td>\n",
       "    </tr>\n",
       "    <tr>\n",
       "      <th>8</th>\n",
       "      <td>MESH:D001072</td>\n",
       "      <td>Apraxias</td>\n",
       "    </tr>\n",
       "    <tr>\n",
       "      <th>9</th>\n",
       "      <td>MESH:D003320</td>\n",
       "      <td>Corneal Ulcer</td>\n",
       "    </tr>\n",
       "    <tr>\n",
       "      <th>10</th>\n",
       "      <td>MESH:D017043</td>\n",
       "      <td>Chalazions</td>\n",
       "    </tr>\n",
       "    <tr>\n",
       "      <th>11</th>\n",
       "      <td>MESH:D013285</td>\n",
       "      <td>Strabismus</td>\n",
       "    </tr>\n",
       "    <tr>\n",
       "      <th>12</th>\n",
       "      <td>MESH:D012600</td>\n",
       "      <td>Scoliosis</td>\n",
       "    </tr>\n",
       "    <tr>\n",
       "      <th>13</th>\n",
       "      <td>MESH:D007567</td>\n",
       "      <td>Neonatal Jaundice</td>\n",
       "    </tr>\n",
       "    <tr>\n",
       "      <th>14</th>\n",
       "      <td>MESH:D008103</td>\n",
       "      <td>Liver Fibrosis</td>\n",
       "    </tr>\n",
       "  </tbody>\n",
       "</table>\n",
       "</div>"
      ],
      "text/plain": [
       "         mesh_id                               mesh_name\n",
       "0   MESH:D009123                        Muscle Hypotonia\n",
       "1   MESH:C562827                                Alacrima\n",
       "2   MESH:D003248                            Constipation\n",
       "3   MESH:D012021             Abnormal Deep Tendon Reflex\n",
       "4   MESH:D008831                            Microcephaly\n",
       "5   MESH:D005317  IUGR (intrauterine growth restriction)\n",
       "6   MESH:D065906                         Hyperlactatemia\n",
       "7   MESH:D012640                                Seizures\n",
       "8   MESH:D001072                                Apraxias\n",
       "9   MESH:D003320                           Corneal Ulcer\n",
       "10  MESH:D017043                              Chalazions\n",
       "11  MESH:D013285                              Strabismus\n",
       "12  MESH:D012600                               Scoliosis\n",
       "13  MESH:D007567                       Neonatal Jaundice\n",
       "14  MESH:D008103                          Liver Fibrosis"
      ]
     },
     "execution_count": 121,
     "metadata": {},
     "output_type": "execute_result"
    }
   ],
   "source": [
    "# Read NGLY1 MESH symptoms\n",
    "path = '/home/nuria/workspace/repurposing-hetio/rephetio-dhimmelstein/ngly1/data/'\n",
    "ngly1_sym_df = pd.read_table('{}manual-curation/ngly1-mesh.tsv'.format(path), header=None)\n",
    "ngly1_sym_df.columns = ['mesh_id', 'mesh_name']\n",
    "ngly1_sym_df"
   ]
  },
  {
   "cell_type": "code",
   "execution_count": 123,
   "metadata": {
    "collapsed": false
   },
   "outputs": [
    {
     "name": "stdout",
     "output_type": "stream",
     "text": [
      "The number of common symptoms is: 6.\n",
      "The number of symptoms from NGLY1 not included in Daniel\"s mining is: 9\n",
      "which are those that are not childs from \"signs or symptoms\":         mesh_id                               mesh_name\n",
      "0  MESH:C562827                                Alacrima\n",
      "1  MESH:D007567                       Neonatal Jaundice\n",
      "2  MESH:D012600                               Scoliosis\n",
      "3  MESH:D005317  IUGR (intrauterine growth restriction)\n",
      "4  MESH:D013285                              Strabismus\n",
      "5  MESH:D008831                            Microcephaly\n",
      "6  MESH:D003320                           Corneal Ulcer\n",
      "7  MESH:D017043                              Chalazions\n",
      "8  MESH:D008103                          Liver Fibrosis\n"
     ]
    }
   ],
   "source": [
    "# NGLY1 symptoms not included in Daniel's symptoms input list\n",
    "mesh_sym_set = set(list(symptom_df.mesh_id))\n",
    "ngly1_sym_set = set(list(ngly1_sym_df.mesh_id))\n",
    "intersection = (mesh_sym_set & ngly1_sym_set)\n",
    "ngly1_new_set = (ngly1_sym_set - intersection)\n",
    "print('The number of common symptoms is: {}.\\nThe number of symptoms from NGLY1 not included in Daniel\"s mining is: {}'.format(len(intersection), len(ngly1_new_set)))\n",
    "data = {'mesh_id': list(ngly1_new_set)}\n",
    "ngly1_new_df = pd.DataFrame.from_dict(data)\n",
    "ngly1_new_df = ngly1_new_df.merge(ngly1_sym_df, how='left', on='mesh_id')\n",
    "print('which are those that are not childs from \"signs or symptoms\": {}'.format(ngly1_new_df))"
   ]
  },
  {
   "cell_type": "code",
   "execution_count": 107,
   "metadata": {
    "collapsed": false
   },
   "outputs": [],
   "source": [
    "# Read MESH terms 2017 release\n",
    "# Read MeSH xml release\n",
    "xml_path = os.path.join('download', 'desc2017.gz')\n",
    "with gzip.open(xml_path) as xml_file:\n",
    "    tree = ET.parse(xml_file)\n",
    "root = tree.getroot()"
   ]
  },
  {
   "cell_type": "code",
   "execution_count": 108,
   "metadata": {
    "collapsed": false
   },
   "outputs": [
    {
     "data": {
      "text/html": [
       "<div>\n",
       "<table border=\"1\" class=\"dataframe\">\n",
       "  <thead>\n",
       "    <tr style=\"text-align: right;\">\n",
       "      <th></th>\n",
       "      <th>DescriptorUI</th>\n",
       "      <th>ConceptUI</th>\n",
       "      <th>PreferredConceptYN</th>\n",
       "      <th>TermUI</th>\n",
       "      <th>TermName</th>\n",
       "      <th>ConceptPreferredTermYN</th>\n",
       "      <th>IsPermutedTermYN</th>\n",
       "      <th>LexicalTag</th>\n",
       "      <th>RecordPreferredTermYN</th>\n",
       "    </tr>\n",
       "  </thead>\n",
       "  <tbody>\n",
       "    <tr>\n",
       "      <th>0</th>\n",
       "      <td>D000001</td>\n",
       "      <td>M0000001</td>\n",
       "      <td>Y</td>\n",
       "      <td>T000002</td>\n",
       "      <td>Calcimycin</td>\n",
       "      <td>Y</td>\n",
       "      <td>N</td>\n",
       "      <td>NON</td>\n",
       "      <td>Y</td>\n",
       "    </tr>\n",
       "    <tr>\n",
       "      <th>1</th>\n",
       "      <td>D000001</td>\n",
       "      <td>M0353609</td>\n",
       "      <td>N</td>\n",
       "      <td>T000001</td>\n",
       "      <td>A-23187</td>\n",
       "      <td>Y</td>\n",
       "      <td>N</td>\n",
       "      <td>LAB</td>\n",
       "      <td>N</td>\n",
       "    </tr>\n",
       "  </tbody>\n",
       "</table>\n",
       "</div>"
      ],
      "text/plain": [
       "  DescriptorUI ConceptUI PreferredConceptYN   TermUI    TermName  \\\n",
       "0      D000001  M0000001                  Y  T000002  Calcimycin   \n",
       "1      D000001  M0353609                  N  T000001     A-23187   \n",
       "\n",
       "  ConceptPreferredTermYN IsPermutedTermYN LexicalTag RecordPreferredTermYN  \n",
       "0                      Y                N        NON                     Y  \n",
       "1                      Y                N        LAB                     N  "
      ]
     },
     "execution_count": 108,
     "metadata": {},
     "output_type": "execute_result"
    }
   ],
   "source": [
    "# Extract mesh terms\n",
    "term_dicts = list()\n",
    "for descriptor in root:\n",
    "    for concept in descriptor.findall('ConceptList/Concept'):\n",
    "        for term in concept.findall('TermList/Term'):\n",
    "            term_dict = {\n",
    "                'DescriptorUI': descriptor.findtext('DescriptorUI'),\n",
    "                'ConceptUI': concept.findtext('ConceptUI'),\n",
    "                'TermUI': term.findtext('TermUI'),\n",
    "                'TermName': term.findtext('String')\n",
    "            }\n",
    "            term_dict.update(concept.attrib)\n",
    "            term_dict.update(term.attrib)\n",
    "            term_dicts.append(term_dict)\n",
    "\n",
    "columns = ['DescriptorUI', 'ConceptUI', 'PreferredConceptYN', 'TermUI', 'TermName',\n",
    "           'ConceptPreferredTermYN', 'IsPermutedTermYN', 'LexicalTag', 'RecordPreferredTermYN']\n",
    "term_df = pd.DataFrame(term_dicts)[columns]\n",
    "term_df.to_csv('data/mesh2017-descriptor-terms.tsv', index=False, sep='\\t')\n",
    "term_df.head(2)"
   ]
  },
  {
   "cell_type": "code",
   "execution_count": 109,
   "metadata": {
    "collapsed": false
   },
   "outputs": [
    {
     "data": {
      "text/plain": [
       "True"
      ]
     },
     "execution_count": 109,
     "metadata": {},
     "output_type": "execute_result"
    }
   ],
   "source": [
    "# Test whether MeSH term names are unique\n",
    "len(term_df) == len(set(term_df.TermName))"
   ]
  },
  {
   "cell_type": "code",
   "execution_count": 110,
   "metadata": {
    "collapsed": true
   },
   "outputs": [],
   "source": [
    "# Parse MeSH xml release\n",
    "terms = list()\n",
    "\n",
    "for elem in root:\n",
    "    term = dict()\n",
    "    term['mesh_id'] = elem.findtext('DescriptorUI')\n",
    "    term['mesh_name'] = elem.findtext('DescriptorName/String')\n",
    "    term['semantic_types'] = list({x.text for x in elem.findall(\n",
    "        'ConceptList/Concept/SemanticTypeList/SemanticType/SemanticTypeUI')})\n",
    "    term['tree_numbers'] = [x.text for x in elem.findall('TreeNumberList/TreeNumber')]\n",
    "    terms.append(term)"
   ]
  },
  {
   "cell_type": "code",
   "execution_count": 111,
   "metadata": {
    "collapsed": true
   },
   "outputs": [],
   "source": [
    "path = os.path.join('data', 'mesh2017.json')\n",
    "with open(path, 'w') as write_file:\n",
    "    json.dump(terms, write_file, indent=2)"
   ]
  },
  {
   "cell_type": "code",
   "execution_count": 112,
   "metadata": {
    "collapsed": false
   },
   "outputs": [],
   "source": [
    "# Read mesh\n",
    "path = os.path.join('data', 'mesh2017.json')\n",
    "with open(path) as read_file:\n",
    "    mesh = json.load(read_file)\n",
    "\n",
    "mesh_df = pd.DataFrame.from_dict(mesh)[['mesh_id', 'mesh_name']]\n",
    "mesh_df.to_csv('data/mesh2017-terms.tsv', sep='\\t', index=False)"
   ]
  },
  {
   "cell_type": "code",
   "execution_count": 113,
   "metadata": {
    "collapsed": true
   },
   "outputs": [],
   "source": [
    "# Extract (mesh_id, mesh_tree_number) pairs\n",
    "rows = []\n",
    "for term in mesh:\n",
    "    mesh_id = term['mesh_id']\n",
    "    mesh_name = term['mesh_name']\n",
    "    for tree_number in term['tree_numbers']:\n",
    "        rows.append([mesh_id, mesh_name, tree_number])\n",
    "\n",
    "tn_df = pd.DataFrame(rows, columns=['mesh_id', 'mesh_name', 'mesh_tree_number'])\n",
    "tn_df.to_csv('data/mesh2017-tree-numbers.tsv', sep='\\t', index=False)"
   ]
  },
  {
   "cell_type": "code",
   "execution_count": 114,
   "metadata": {
    "collapsed": false
   },
   "outputs": [
    {
     "data": {
      "text/html": [
       "<div>\n",
       "<table border=\"1\" class=\"dataframe\">\n",
       "  <thead>\n",
       "    <tr style=\"text-align: right;\">\n",
       "      <th></th>\n",
       "      <th>mesh_id</th>\n",
       "      <th>mesh_name</th>\n",
       "    </tr>\n",
       "  </thead>\n",
       "  <tbody>\n",
       "    <tr>\n",
       "      <th>0</th>\n",
       "      <td>D000001</td>\n",
       "      <td>Calcimycin</td>\n",
       "    </tr>\n",
       "    <tr>\n",
       "      <th>1</th>\n",
       "      <td>D000002</td>\n",
       "      <td>Temefos</td>\n",
       "    </tr>\n",
       "  </tbody>\n",
       "</table>\n",
       "</div>"
      ],
      "text/plain": [
       "   mesh_id   mesh_name\n",
       "0  D000001  Calcimycin\n",
       "1  D000002     Temefos"
      ]
     },
     "execution_count": 114,
     "metadata": {},
     "output_type": "execute_result"
    }
   ],
   "source": [
    "# len(mesh_df.mesh_id.unique()) # 28472\n",
    "mesh_df.head(2)"
   ]
  },
  {
   "cell_type": "code",
   "execution_count": 115,
   "metadata": {
    "collapsed": false
   },
   "outputs": [
    {
     "data": {
      "text/html": [
       "<div>\n",
       "<table border=\"1\" class=\"dataframe\">\n",
       "  <thead>\n",
       "    <tr style=\"text-align: right;\">\n",
       "      <th></th>\n",
       "      <th>mesh_id</th>\n",
       "      <th>mesh_name</th>\n",
       "    </tr>\n",
       "  </thead>\n",
       "  <tbody>\n",
       "    <tr>\n",
       "      <th>0</th>\n",
       "      <td>MESH:D000001</td>\n",
       "      <td>Calcimycin</td>\n",
       "    </tr>\n",
       "    <tr>\n",
       "      <th>1</th>\n",
       "      <td>MESH:D000002</td>\n",
       "      <td>Temefos</td>\n",
       "    </tr>\n",
       "  </tbody>\n",
       "</table>\n",
       "</div>"
      ],
      "text/plain": [
       "        mesh_id   mesh_name\n",
       "0  MESH:D000001  Calcimycin\n",
       "1  MESH:D000002     Temefos"
      ]
     },
     "execution_count": 115,
     "metadata": {},
     "output_type": "execute_result"
    }
   ],
   "source": [
    "mesh_df['mesh_id'] = 'MESH:' + mesh_df['mesh_id'].astype(str)\n",
    "mesh_df.head(2)"
   ]
  },
  {
   "cell_type": "code",
   "execution_count": 116,
   "metadata": {
    "collapsed": false
   },
   "outputs": [
    {
     "name": "stdout",
     "output_type": "stream",
     "text": [
      "New entries from the new release: 1068\n"
     ]
    }
   ],
   "source": [
    "# different terms mesh 2015-2017\n",
    "mesh2017_df = mesh_df\n",
    "# Read MeSH 2015 terms to MeSH names\n",
    "url = 'https://raw.githubusercontent.com/dhimmel/mesh/e561301360e6de2140dedeaa7c7e17ce4714eb7f/data/terms.tsv'\n",
    "mesh2015_df = pd.read_table(url)\n",
    "mesh2015_df['mesh_id'] = 'MESH:' + mesh2015_df['mesh_id'].astype(str)\n",
    "mesh2015_set = set(list(mesh2015_df.mesh_id))\n",
    "mesh2017_set = set(list(mesh2017_df.mesh_id))\n",
    "intersection = (mesh2015_set & mesh2017_set)\n",
    "mesh2017_new_set = (mesh2017_set - intersection)\n",
    "print('New entries from the new release: {}'.format(len(mesh2017_new_set)))"
   ]
  },
  {
   "cell_type": "code",
   "execution_count": 120,
   "metadata": {
    "collapsed": false
   },
   "outputs": [
    {
     "name": "stdout",
     "output_type": "stream",
     "text": [
      "The number of common symptoms is: 14.\n",
      "The number of symptoms from NGLY1 not included in MESH 2015 is: 1, which is: {'MESH:C562827'}\n"
     ]
    }
   ],
   "source": [
    "# NGLY1 symptoms not included in MESH 2015\n",
    "mesh_sym_set = set(list(mesh2015_df.mesh_id))\n",
    "intersection = (mesh_sym_set & ngly1_sym_set)\n",
    "ngly1_new_set = (ngly1_sym_set - intersection)\n",
    "print('The number of common symptoms is: {}.\\nThe number of symptoms from NGLY1 not included in MESH 2015 is: {}, which is: {}'.format(len(intersection), len(ngly1_new_set), ngly1_new_set))\n"
   ]
  },
  {
   "cell_type": "code",
   "execution_count": 118,
   "metadata": {
    "collapsed": false
   },
   "outputs": [
    {
     "name": "stdout",
     "output_type": "stream",
     "text": [
      "The number of common symptoms is: 14.\n",
      "The number of symptoms from NGLY1 not included in MESH 2017 is: 1, which is: {'MESH:C562827'}\n"
     ]
    }
   ],
   "source": [
    "# NGLY1 symptoms not included in MESH 2017\n",
    "mesh_sym_set = set(list(mesh2017_df.mesh_id))\n",
    "intersection = (mesh_sym_set & ngly1_sym_set)\n",
    "ngly1_new_set = (ngly1_sym_set - intersection)\n",
    "print('The number of common symptoms is: {}.\\nThe number of symptoms from NGLY1 not included in MESH 2017 is: {}, which is: {}'.format(len(intersection), len(ngly1_new_set), ngly1_new_set))"
   ]
  },
  {
   "cell_type": "code",
   "execution_count": 119,
   "metadata": {
    "collapsed": true
   },
   "outputs": [],
   "source": [
    "# different symptoms terms 2015-2017"
   ]
  }
 ],
 "metadata": {
  "kernelspec": {
   "display_name": "Python 3",
   "language": "python",
   "name": "python3"
  },
  "language_info": {
   "codemirror_mode": {
    "name": "ipython",
    "version": 3
   },
   "file_extension": ".py",
   "mimetype": "text/x-python",
   "name": "python",
   "nbconvert_exporter": "python",
   "pygments_lexer": "ipython3",
   "version": "3.5.2"
  }
 },
 "nbformat": 4,
 "nbformat_minor": 1
}
