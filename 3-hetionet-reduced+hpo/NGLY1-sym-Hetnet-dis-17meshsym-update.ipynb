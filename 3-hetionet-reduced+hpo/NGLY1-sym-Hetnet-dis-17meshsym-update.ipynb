{
 "cells": [
  {
   "cell_type": "markdown",
   "metadata": {},
   "source": [
    "# Anchor NGLY1 symptoms into hetnet (through DIS-SYM edge)"
   ]
  },
  {
   "cell_type": "markdown",
   "metadata": {},
   "source": [
    "#### This is the update of MESH ngly1 symptoms to add 'developmental delay' and 'movement disorder', two key symptoms  for differential diagnosis. This means 17 total MESH symptoms (NGLY1 phenotype table v2). Mar 24, 2017"
   ]
  },
  {
   "cell_type": "markdown",
   "metadata": {},
   "source": [
    "#### NGLY1 symptoms links to diseases in hetnet can be found:\n",
    "- data integration with the most current (curated/text mining) datasets (current knowledge structured in DBs)\n",
    "- text/data mining the literature"
   ]
  },
  {
   "cell_type": "markdown",
   "metadata": {},
   "source": [
    "## DIS-SYM datasets\n",
    "- Barabasi (HSDN)\n",
    "- Orphanet\n",
    "- HPO project\n",
    "- Rob Hoehndorf\n",
    "- Tudor Groza\n",
    "- Monarch (not yet)"
   ]
  },
  {
   "cell_type": "code",
   "execution_count": 1,
   "metadata": {
    "collapsed": true
   },
   "outputs": [],
   "source": [
    "import pandas as pd\n",
    "from matplotlib_venn import venn2, venn2_unweighted, venn3, venn3_unweighted\n",
    "from matplotlib import pyplot as plt\n",
    "\n",
    "%matplotlib inline"
   ]
  },
  {
   "cell_type": "code",
   "execution_count": 2,
   "metadata": {
    "collapsed": true
   },
   "outputs": [],
   "source": [
    "# data path\n",
    "path = '/home/nuria/workspace/repurposing-hetio/rephetio-dhimmelstein/ngly1/data/'"
   ]
  },
  {
   "cell_type": "markdown",
   "metadata": {},
   "source": [
    "## NGLY1 SYMPTOMS"
   ]
  },
  {
   "cell_type": "markdown",
   "metadata": {},
   "source": [
    "### MESH"
   ]
  },
  {
   "cell_type": "code",
   "execution_count": 3,
   "metadata": {},
   "outputs": [
    {
     "data": {
      "text/html": [
       "<div>\n",
       "<table border=\"1\" class=\"dataframe\">\n",
       "  <thead>\n",
       "    <tr style=\"text-align: right;\">\n",
       "      <th></th>\n",
       "      <th>mesh_code</th>\n",
       "      <th>mesh_term</th>\n",
       "    </tr>\n",
       "  </thead>\n",
       "  <tbody>\n",
       "    <tr>\n",
       "      <th>0</th>\n",
       "      <td>MESH:D002658</td>\n",
       "      <td>Developmental disabilities</td>\n",
       "    </tr>\n",
       "    <tr>\n",
       "      <th>1</th>\n",
       "      <td>MESH:D009069</td>\n",
       "      <td>Movement disorders</td>\n",
       "    </tr>\n",
       "  </tbody>\n",
       "</table>\n",
       "</div>"
      ],
      "text/plain": [
       "      mesh_code                   mesh_term\n",
       "0  MESH:D002658  Developmental disabilities\n",
       "1  MESH:D009069          Movement disorders"
      ]
     },
     "execution_count": 3,
     "metadata": {},
     "output_type": "execute_result"
    }
   ],
   "source": [
    "# load manually curated mesh symptoms\n",
    "ngly1_sym_mesh_df = pd.read_table('{}manual-curation/ngly1-mesh-v2.tsv'.format(path), header=None)\n",
    "ngly1_sym_mesh_df.columns = ['mesh_code', 'mesh_term']\n",
    "ngly1_sym_mesh_df.head(2)"
   ]
  },
  {
   "cell_type": "code",
   "execution_count": 4,
   "metadata": {},
   "outputs": [
    {
     "name": "stdout",
     "output_type": "stream",
     "text": [
      "NGLY1 deficiency symptoms (MESH): 17\n"
     ]
    }
   ],
   "source": [
    "# Number of terms mapped to mesh\n",
    "ngly1_sym_mesh_list = ngly1_sym_mesh_df.mesh_code.unique()\n",
    "print('NGLY1 deficiency symptoms (MESH): {}'.format(len(ngly1_sym_mesh_list)))"
   ]
  },
  {
   "cell_type": "markdown",
   "metadata": {},
   "source": [
    "### HP"
   ]
  },
  {
   "cell_type": "code",
   "execution_count": 5,
   "metadata": {},
   "outputs": [
    {
     "data": {
      "text/html": [
       "<div>\n",
       "<table border=\"1\" class=\"dataframe\">\n",
       "  <thead>\n",
       "    <tr style=\"text-align: right;\">\n",
       "      <th></th>\n",
       "      <th>hp_code</th>\n",
       "      <th>hp_term</th>\n",
       "    </tr>\n",
       "  </thead>\n",
       "  <tbody>\n",
       "    <tr>\n",
       "      <th>0</th>\n",
       "      <td>HP:0001263</td>\n",
       "      <td>Global developmental delay</td>\n",
       "    </tr>\n",
       "    <tr>\n",
       "      <th>1</th>\n",
       "      <td>HP:0001252</td>\n",
       "      <td>Muscular hypotonia</td>\n",
       "    </tr>\n",
       "  </tbody>\n",
       "</table>\n",
       "</div>"
      ],
      "text/plain": [
       "      hp_code                     hp_term\n",
       "0  HP:0001263  Global developmental delay\n",
       "1  HP:0001252          Muscular hypotonia"
      ]
     },
     "execution_count": 5,
     "metadata": {},
     "output_type": "execute_result"
    }
   ],
   "source": [
    "# load hp sym\n",
    "ngly1_sym_hp_df = pd.read_table('{}manual-curation/ngly1-hp.tsv'.format(path), header=None)\n",
    "ngly1_sym_hp_df.columns = ['hp_code', 'hp_term']\n",
    "ngly1_sym_hp_df.head(2)"
   ]
  },
  {
   "cell_type": "code",
   "execution_count": 6,
   "metadata": {},
   "outputs": [
    {
     "name": "stdout",
     "output_type": "stream",
     "text": [
      "NGLY1 deficiency symptoms (HP): 28\n"
     ]
    }
   ],
   "source": [
    "# Number of terms mapped to mesh\n",
    "ngly1_sym_hp_list = ngly1_sym_hp_df.hp_code.unique()\n",
    "print('NGLY1 deficiency symptoms (HP): {}'.format(len(ngly1_sym_hp_list)))"
   ]
  },
  {
   "cell_type": "markdown",
   "metadata": {},
   "source": [
    "## LOAD DISEASE-SYMPTOM EDGES"
   ]
  },
  {
   "cell_type": "code",
   "execution_count": 7,
   "metadata": {},
   "outputs": [
    {
     "data": {
      "text/html": [
       "<div>\n",
       "<table border=\"1\" class=\"dataframe\">\n",
       "  <thead>\n",
       "    <tr style=\"text-align: right;\">\n",
       "      <th></th>\n",
       "      <th>doid_code</th>\n",
       "      <th>doid_name</th>\n",
       "      <th>mesh_id</th>\n",
       "      <th>mesh_name</th>\n",
       "      <th>cooccurrence</th>\n",
       "      <th>expected</th>\n",
       "      <th>enrichment</th>\n",
       "      <th>odds_ratio</th>\n",
       "      <th>p_fisher</th>\n",
       "    </tr>\n",
       "  </thead>\n",
       "  <tbody>\n",
       "    <tr>\n",
       "      <th>0</th>\n",
       "      <td>DOID:10652</td>\n",
       "      <td>Alzheimer's disease</td>\n",
       "      <td>MESH:D004314</td>\n",
       "      <td>Down Syndrome</td>\n",
       "      <td>800</td>\n",
       "      <td>35.619601</td>\n",
       "      <td>22.459544</td>\n",
       "      <td>39.918352</td>\n",
       "      <td>0.0</td>\n",
       "    </tr>\n",
       "    <tr>\n",
       "      <th>1</th>\n",
       "      <td>DOID:10652</td>\n",
       "      <td>Alzheimer's disease</td>\n",
       "      <td>MESH:D008569</td>\n",
       "      <td>Memory Disorders</td>\n",
       "      <td>1593</td>\n",
       "      <td>76.580532</td>\n",
       "      <td>20.801631</td>\n",
       "      <td>41.885877</td>\n",
       "      <td>0.0</td>\n",
       "    </tr>\n",
       "  </tbody>\n",
       "</table>\n",
       "</div>"
      ],
      "text/plain": [
       "    doid_code            doid_name       mesh_id         mesh_name  \\\n",
       "0  DOID:10652  Alzheimer's disease  MESH:D004314     Down Syndrome   \n",
       "1  DOID:10652  Alzheimer's disease  MESH:D008569  Memory Disorders   \n",
       "\n",
       "   cooccurrence   expected  enrichment  odds_ratio  p_fisher  \n",
       "0           800  35.619601   22.459544   39.918352       0.0  \n",
       "1          1593  76.580532   20.801631   41.885877       0.0  "
      ]
     },
     "execution_count": 7,
     "metadata": {},
     "output_type": "execute_result"
    }
   ],
   "source": [
    "# hetnet v1.0\n",
    "# source: Symptom edges from hetionet v1.0 [https://github.com/dhimmel/integrate/blob/master/integrate.ipynb]\n",
    "commit = '60d611892bf387b5b23c5f2e2e3bc472cfce85f3'\n",
    "url = 'https://raw.githubusercontent.com/dhimmel/medline/' + commit + '/data/disease-symptom-cooccurrence.tsv'\n",
    "hetionet_df = pd.read_table(url)\n",
    "hetionet_df.head(2)\n",
    "hetionet_df['mesh_id'] = 'MESH:' + hetionet_df['mesh_id'].astype(str)\n",
    "hetionet_df.head(2)"
   ]
  },
  {
   "cell_type": "code",
   "execution_count": 8,
   "metadata": {},
   "outputs": [
    {
     "data": {
      "text/html": [
       "<div>\n",
       "<table border=\"1\" class=\"dataframe\">\n",
       "  <thead>\n",
       "    <tr style=\"text-align: right;\">\n",
       "      <th></th>\n",
       "      <th>Unnamed: 0</th>\n",
       "      <th>symptom_term</th>\n",
       "      <th>disease_term</th>\n",
       "      <th>cooccurs</th>\n",
       "      <th>tfidf_score</th>\n",
       "      <th>disease_meshid</th>\n",
       "      <th>symptom_meshid</th>\n",
       "    </tr>\n",
       "  </thead>\n",
       "  <tbody>\n",
       "    <tr>\n",
       "      <th>0</th>\n",
       "      <td>0</td>\n",
       "      <td>Aging, Premature</td>\n",
       "      <td>Respiratory Syncytial Virus Infections</td>\n",
       "      <td>1</td>\n",
       "      <td>3.464551</td>\n",
       "      <td>MESH:D018357</td>\n",
       "      <td>MESH:D019588</td>\n",
       "    </tr>\n",
       "    <tr>\n",
       "      <th>1</th>\n",
       "      <td>1</td>\n",
       "      <td>Aging, Premature</td>\n",
       "      <td>Orthomyxoviridae Infections</td>\n",
       "      <td>1</td>\n",
       "      <td>3.464551</td>\n",
       "      <td>MESH:D009976</td>\n",
       "      <td>MESH:D019588</td>\n",
       "    </tr>\n",
       "  </tbody>\n",
       "</table>\n",
       "</div>"
      ],
      "text/plain": [
       "   Unnamed: 0      symptom_term                            disease_term  \\\n",
       "0           0  Aging, Premature  Respiratory Syncytial Virus Infections   \n",
       "1           1  Aging, Premature             Orthomyxoviridae Infections   \n",
       "\n",
       "   cooccurs  tfidf_score disease_meshid symptom_meshid  \n",
       "0         1     3.464551   MESH:D018357   MESH:D019588  \n",
       "1         1     3.464551   MESH:D009976   MESH:D019588  "
      ]
     },
     "execution_count": 8,
     "metadata": {},
     "output_type": "execute_result"
    }
   ],
   "source": [
    "# HSDN - Barabasi 2014\n",
    "# source: https://github.com/LABrueggs/HSDN\n",
    "# The supplementary data released by Zhou et al. (HSDN - barabasi) identifies diseases and symptoms \n",
    "# by their MeSH names, but does not include the associated MeSH IDs. \n",
    "# To ease interoperability we have performed the minor task of appending the relevant MeSH IDs to these files. \n",
    "# read HSDN supplement that was mapped to MESH\n",
    "url = 'https://raw.githubusercontent.com/LABrueggs/HSDN/master/Combined-Output.tsv'\n",
    "hsdn_df = pd.read_table(url)\n",
    "hsdn_df = hsdn_df.rename(columns={\n",
    "    'MeSH Symptom Term' : 'symptom_term',\n",
    "    'MeSH Disease Term' : 'disease_term',\n",
    "    'PubMed occurrence' : 'cooccurs', \n",
    "    'TFIDF score' : 'tfidf_score',\n",
    "    'MeSH Disease ID' : 'disease_meshid',\n",
    "    'MeSH Symptom ID' : 'symptom_meshid'\n",
    "                    })\n",
    "hsdn_df.head(2)\n",
    "hsdn_df['disease_meshid'] = 'MESH:' + hsdn_df['disease_meshid'].astype(str)\n",
    "hsdn_df['symptom_meshid'] = 'MESH:' + hsdn_df['symptom_meshid'].astype(str)\n",
    "hsdn_df.head(2)"
   ]
  },
  {
   "cell_type": "code",
   "execution_count": 9,
   "metadata": {},
   "outputs": [
    {
     "data": {
      "text/html": [
       "<div>\n",
       "<table border=\"1\" class=\"dataframe\">\n",
       "  <thead>\n",
       "    <tr style=\"text-align: right;\">\n",
       "      <th></th>\n",
       "      <th>orphanet_code</th>\n",
       "      <th>orphanet_term</th>\n",
       "      <th>hp_code</th>\n",
       "      <th>hp_term</th>\n",
       "    </tr>\n",
       "  </thead>\n",
       "  <tbody>\n",
       "    <tr>\n",
       "      <th>0</th>\n",
       "      <td>Orphanet:79430</td>\n",
       "      <td>Hermansky-Pudlak syndrome</td>\n",
       "      <td>HP:0000083</td>\n",
       "      <td>Renal insufficiency</td>\n",
       "    </tr>\n",
       "    <tr>\n",
       "      <th>1</th>\n",
       "      <td>Orphanet:79430</td>\n",
       "      <td>Hermansky-Pudlak syndrome</td>\n",
       "      <td>HP:0000421</td>\n",
       "      <td>Epistaxis</td>\n",
       "    </tr>\n",
       "  </tbody>\n",
       "</table>\n",
       "</div>"
      ],
      "text/plain": [
       "    orphanet_code              orphanet_term     hp_code              hp_term\n",
       "0  Orphanet:79430  Hermansky-Pudlak syndrome  HP:0000083  Renal insufficiency\n",
       "1  Orphanet:79430  Hermansky-Pudlak syndrome  HP:0000421            Epistaxis"
      ]
     },
     "execution_count": 9,
     "metadata": {},
     "output_type": "execute_result"
    }
   ],
   "source": [
    "# Orphanet 2016\n",
    "# Source url: http://www.orphadata.org/cgi-bin/inc/product4.inc.php\n",
    "# Source file: /home/nuria/workspace/repurposing-hetio/rephetio-dhimmelstein/hetionet+hpo/data-JAN2016/en_product4_HPO.xml\n",
    "# Provenance: /home/nuria/workspace/repurposing-hetio/rephetio-dhimmelstein/hetionet+hpo/data-JAN2016/orphanet-data-provenance.txt\n",
    "# Parser: /home/nuria/workspace/utils3/hetionet/orphanet.py::orphadata_xml_parser\n",
    "orphanet_df = pd.read_table('/home/nuria/workspace/repurposing-hetio/rephetio-dhimmelstein/hetionet+hpo/data-JAN2016/orphanet-disease-symptom.tsv')\n",
    "orphanet_df.head(2)"
   ]
  },
  {
   "cell_type": "code",
   "execution_count": 10,
   "metadata": {},
   "outputs": [
    {
     "data": {
      "text/html": [
       "<div>\n",
       "<table border=\"1\" class=\"dataframe\">\n",
       "  <thead>\n",
       "    <tr style=\"text-align: right;\">\n",
       "      <th></th>\n",
       "      <th>db</th>\n",
       "      <th>disease_id</th>\n",
       "      <th>db_term</th>\n",
       "      <th>qualifier</th>\n",
       "      <th>hp_id</th>\n",
       "      <th>db_ref</th>\n",
       "      <th>evidence</th>\n",
       "      <th>onset</th>\n",
       "      <th>frequency</th>\n",
       "      <th>with</th>\n",
       "      <th>aspect</th>\n",
       "      <th>synonym</th>\n",
       "      <th>date</th>\n",
       "      <th>assigned_by</th>\n",
       "    </tr>\n",
       "  </thead>\n",
       "  <tbody>\n",
       "    <tr>\n",
       "      <th>128821</th>\n",
       "      <td>ORPHA</td>\n",
       "      <td>ORPHA:99978</td>\n",
       "      <td>Klatskin tumor</td>\n",
       "      <td>NaN</td>\n",
       "      <td>HP:0012378</td>\n",
       "      <td>ORPHA:99978</td>\n",
       "      <td>TAS</td>\n",
       "      <td>NaN</td>\n",
       "      <td>HP:0040283</td>\n",
       "      <td>NaN</td>\n",
       "      <td>O</td>\n",
       "      <td>NaN</td>\n",
       "      <td>2017.03.09</td>\n",
       "      <td>orphadata</td>\n",
       "    </tr>\n",
       "    <tr>\n",
       "      <th>128822</th>\n",
       "      <td>ORPHA</td>\n",
       "      <td>ORPHA:99978</td>\n",
       "      <td>Klatskin tumor</td>\n",
       "      <td>NaN</td>\n",
       "      <td>HP:0030153</td>\n",
       "      <td>ORPHA:99978</td>\n",
       "      <td>TAS</td>\n",
       "      <td>NaN</td>\n",
       "      <td>HP:0040281</td>\n",
       "      <td>NaN</td>\n",
       "      <td>O</td>\n",
       "      <td>NaN</td>\n",
       "      <td>2017.03.09</td>\n",
       "      <td>orphadata</td>\n",
       "    </tr>\n",
       "  </tbody>\n",
       "</table>\n",
       "</div>"
      ],
      "text/plain": [
       "           db   disease_id         db_term qualifier       hp_id       db_ref  \\\n",
       "128821  ORPHA  ORPHA:99978  Klatskin tumor       NaN  HP:0012378  ORPHA:99978   \n",
       "128822  ORPHA  ORPHA:99978  Klatskin tumor       NaN  HP:0030153  ORPHA:99978   \n",
       "\n",
       "       evidence onset   frequency  with aspect synonym        date assigned_by  \n",
       "128821      TAS   NaN  HP:0040283   NaN      O     NaN  2017.03.09   orphadata  \n",
       "128822      TAS   NaN  HP:0040281   NaN      O     NaN  2017.03.09   orphadata  "
      ]
     },
     "execution_count": 10,
     "metadata": {},
     "output_type": "execute_result"
    }
   ],
   "source": [
    "# HPO phenotype annotation 2017 (not used in this analysis: 2017 HPO update and diseases not DO normalized)\n",
    "# Source: http://compbio.charite.de/jenkins/job/hpo.annotations/lastStableBuild/artifact/misc/phenotype_annotation.tab\n",
    "# Provenance: 2017-01-23 20:45\n",
    "hpo17_df = pd.read_table('http://compbio.charite.de/jenkins/job/hpo.annotations/lastStableBuild/artifact/misc/phenotype_annotation.tab')\n",
    "hpo17_df.head(2)\n",
    "hpo17_df.columns = ['db', 'disease_id', 'db_term', 'qualifier', 'hp_id', 'db_ref', 'evidence', 'onset', 'frequency', 'with', 'aspect', 'synonym', 'date', 'assigned_by' ]\n",
    "hpo17_df.head(2)\n",
    "hpo17_df['disease_id'] = hpo17_df['db'] + ':' + hpo17_df['disease_id'].astype(str)\n",
    "hpo17_df.tail(2)"
   ]
  },
  {
   "cell_type": "code",
   "execution_count": 11,
   "metadata": {},
   "outputs": [
    {
     "data": {
      "text/html": [
       "<div>\n",
       "<table border=\"1\" class=\"dataframe\">\n",
       "  <thead>\n",
       "    <tr style=\"text-align: right;\">\n",
       "      <th></th>\n",
       "      <th>do_id</th>\n",
       "      <th>hp_id</th>\n",
       "    </tr>\n",
       "  </thead>\n",
       "  <tbody>\n",
       "    <tr>\n",
       "      <th>0</th>\n",
       "      <td>DOID:1440</td>\n",
       "      <td>HP:0000006</td>\n",
       "    </tr>\n",
       "    <tr>\n",
       "      <th>1</th>\n",
       "      <td>DOID:1440</td>\n",
       "      <td>HP:0000508</td>\n",
       "    </tr>\n",
       "  </tbody>\n",
       "</table>\n",
       "</div>"
      ],
      "text/plain": [
       "       do_id       hp_id\n",
       "0  DOID:1440  HP:0000006\n",
       "1  DOID:1440  HP:0000508"
      ]
     },
     "execution_count": 11,
     "metadata": {},
     "output_type": "execute_result"
    }
   ],
   "source": [
    "# HPO phenotype annotation 2016 NORMALIZED (2016 HPO and DO normalized)\n",
    "# Source: IBI Lab\n",
    "# Provenance: 2016-01-13 13:18\n",
    "# Read DisPhe associations (DO/HP) ID normalized, obsolete included\n",
    "data = '/home/nuria/IbiLab/MedBioinformatics/trait-based-diseasome-2015/data/out/hpCuratedDP-refined.tab'\n",
    "hpo_df = pd.read_table(data, sep='\\t', names=['do_id','hp_id'])\n",
    "hpo_df.head(2)"
   ]
  },
  {
   "cell_type": "code",
   "execution_count": 12,
   "metadata": {
    "collapsed": true
   },
   "outputs": [],
   "source": [
    "# Robert Hoehndorf 2015\n",
    "# Source: http://aber-owl.net/aber-owl/diseasephenotypes/\n",
    "# Paper: https://www.ncbi.nlm.nih.gov/pubmed/26051359\n",
    "#url = 'http://aber-owl.net/aber-owl/diseasephenotypes/data/disease_phenotypes.doa'\n",
    "#rh_df = pd.read_table(url, sep='\\t', names=['DB', 'do_id', 'Object_Symbol', 'Qualifier_score', 'hp_id', 'Reference', 'Evidence_Code', 'empty', 'Aspect', 'DB_Object_Name', 'DB_Object_Synonym', 'DB_Object_Type', 'Taxon', 'Date', 'Assigned_By', 'Annotation_Extension', 'Gene_Product_Form_ID'])\n",
    "#rh_df.drop(rh_df.index[[0]], inplace=True)\n",
    "#rh_df.head(2)"
   ]
  },
  {
   "cell_type": "code",
   "execution_count": 13,
   "metadata": {},
   "outputs": [
    {
     "data": {
      "text/html": [
       "<div>\n",
       "<table border=\"1\" class=\"dataframe\">\n",
       "  <thead>\n",
       "    <tr style=\"text-align: right;\">\n",
       "      <th></th>\n",
       "      <th>do_id</th>\n",
       "      <th>hp_id</th>\n",
       "    </tr>\n",
       "  </thead>\n",
       "  <tbody>\n",
       "    <tr>\n",
       "      <th>0</th>\n",
       "      <td>DOID:0060262</td>\n",
       "      <td>HP:0005264</td>\n",
       "    </tr>\n",
       "    <tr>\n",
       "      <th>1</th>\n",
       "      <td>DOID:0060262</td>\n",
       "      <td>HP:0001082</td>\n",
       "    </tr>\n",
       "  </tbody>\n",
       "</table>\n",
       "</div>"
      ],
      "text/plain": [
       "          do_id       hp_id\n",
       "0  DOID:0060262  HP:0005264\n",
       "1  DOID:0060262  HP:0001082"
      ]
     },
     "execution_count": 13,
     "metadata": {},
     "output_type": "execute_result"
    }
   ],
   "source": [
    "# Robert Hoehndorf 2015 NORMALIZED\n",
    "# Source: http://aber-owl.net/aber-owl/diseasephenotypes/\n",
    "# Paper: https://www.ncbi.nlm.nih.gov/pubmed/26051359\n",
    "#url = '/home/nuria/IbiLab/MedBioinformatics/trait-based-diseasome-2015/data/out/disease_phenotypes_doid_hpid_refined.doa'\n",
    "#rh_df = pd.read_table(url, sep='\\t', names=['DB', 'do_id', 'Object_Symbol', 'Qualifier_score', 'hp_id', 'Reference', 'Evidence_Code', 'empty', 'Aspect', 'DB_Object_Name', 'DB_Object_Synonym', 'DB_Object_Type', 'Taxon', 'Date', 'Assigned_By', 'Annotation_Extension', 'Gene_Product_Form_ID'])\n",
    "#rh_df.drop(rh_df.index[[0]], inplace=True)\n",
    "# Read DisPhe associations (DO/HP) ID normalized, obsolete included, without MP phenotypes\n",
    "data = '/home/nuria/IbiLab/MedBioinformatics/trait-based-diseasome-2015/data/out/aberOwlTMDPWithoutMP-refined.tab'\n",
    "rh_df = pd.read_table(data, sep='\\t', names=['do_id','hp_id'])\n",
    "rh_df.head(2)"
   ]
  },
  {
   "cell_type": "code",
   "execution_count": 14,
   "metadata": {},
   "outputs": [
    {
     "data": {
      "text/html": [
       "<div>\n",
       "<table border=\"1\" class=\"dataframe\">\n",
       "  <thead>\n",
       "    <tr style=\"text-align: right;\">\n",
       "      <th></th>\n",
       "      <th>do_id</th>\n",
       "      <th>hp_id</th>\n",
       "    </tr>\n",
       "  </thead>\n",
       "  <tbody>\n",
       "    <tr>\n",
       "      <th>0</th>\n",
       "      <td>DOID:11512</td>\n",
       "      <td>HP:0002639</td>\n",
       "    </tr>\n",
       "    <tr>\n",
       "      <th>1</th>\n",
       "      <td>DOID:11512</td>\n",
       "      <td>HP:0001541</td>\n",
       "    </tr>\n",
       "  </tbody>\n",
       "</table>\n",
       "</div>"
      ],
      "text/plain": [
       "        do_id       hp_id\n",
       "0  DOID:11512  HP:0002639\n",
       "1  DOID:11512  HP:0001541"
      ]
     },
     "execution_count": 14,
     "metadata": {},
     "output_type": "execute_result"
    }
   ],
   "source": [
    "# Tudor Groza 2015 \n",
    "# Source: Not accessible at http://pubmed-browser.human-phenotype-ontology.org/ \n",
    "# Paper: https://www.ncbi.nlm.nih.gov/pubmed/26119816\n",
    "# Tudor Groza 2015 NORMALIZED <= Source: IBI Lab\n",
    "# Read DisPhe associations (DO/HP) ID normalized, obsolete included\n",
    "data = '/home/nuria/IbiLab/MedBioinformatics/trait-based-diseasome-2015/data/out/hpTMDP-refined.tab'\n",
    "tg_df = pd.read_table(data, sep='\\t', names=['do_id','hp_id'])\n",
    "tg_df.head(2)"
   ]
  },
  {
   "cell_type": "markdown",
   "metadata": {},
   "source": [
    "## SYMPTOMS OVERLAPS: NGLY1 - hetnet - datasets\n",
    "What dataset covers more ngly1 sym? \n",
    "- Text mining datasets (8/17 symptoms (MESH)) [HPO mappings]\n",
    "- AberOWL dataset (10/17); HPO-TM&Curated (9/17) (MESH) [HPO+UMLS inferred mappings]\n",
    "- AberOWL dataset (27/28); HPO-Curated (26/28) (HPO) [HPO mappings] also [HPO+UMLS inferred mappings]\n",
    "\n",
    "Coverage of NGLY1 symptoms with data integration:\n",
    "- 10/17 (MESH) [HPO mappings]\n",
    "- 12/17; (5<=hetnet, 7<=other) (MESH) [HPO+UMLS inferred mappings]\n",
    "- 27/28 (5<=hetnet, 22<=other) (HPO) [HPO mappings] also [HPO+UMLS inferred mappings]\n",
    "\n",
    "##### Conclusion: Using HPO 2016 + UMLS 2016 inferred mappings we increase NGLY1 symptom recall  (above all from HPO text mined terms)\n",
    "##### Note: List of hetnet sym comes from the dis-sym edge dataset in the integrated network"
   ]
  },
  {
   "cell_type": "markdown",
   "metadata": {},
   "source": [
    "### MESH"
   ]
  },
  {
   "cell_type": "code",
   "execution_count": 15,
   "metadata": {
    "collapsed": true
   },
   "outputs": [],
   "source": [
    "# load mesh symptoms\n",
    "# hetnet: from Dis-Sym edges"
   ]
  },
  {
   "cell_type": "code",
   "execution_count": 16,
   "metadata": {},
   "outputs": [
    {
     "data": {
      "text/html": [
       "<div>\n",
       "<table border=\"1\" class=\"dataframe\">\n",
       "  <thead>\n",
       "    <tr style=\"text-align: right;\">\n",
       "      <th></th>\n",
       "      <th>mesh_id</th>\n",
       "      <th>mesh_name</th>\n",
       "      <th>in_hsdn</th>\n",
       "    </tr>\n",
       "  </thead>\n",
       "  <tbody>\n",
       "    <tr>\n",
       "      <th>0</th>\n",
       "      <td>D000006</td>\n",
       "      <td>Abdomen, Acute</td>\n",
       "      <td>1</td>\n",
       "    </tr>\n",
       "    <tr>\n",
       "      <th>1</th>\n",
       "      <td>D000270</td>\n",
       "      <td>Adie Syndrome</td>\n",
       "      <td>0</td>\n",
       "    </tr>\n",
       "  </tbody>\n",
       "</table>\n",
       "</div>"
      ],
      "text/plain": [
       "   mesh_id       mesh_name  in_hsdn\n",
       "0  D000006  Abdomen, Acute        1\n",
       "1  D000270   Adie Syndrome        0"
      ]
     },
     "execution_count": 16,
     "metadata": {},
     "output_type": "execute_result"
    }
   ],
   "source": [
    "## validation of mesh symptoms list\n",
    "## Inconsistent: 438 SYM nodes in hetionet (from MESH classification branch) - 426 SYM with link to disease\n",
    "# source: Symptoms nodes from hetionet v1.0 [https://github.com/dhimmel/integrate/blob/master/integrate.ipynb]\n",
    "commit = 'a7036a37302973b15ab949aab4056d9bc062910e'\n",
    "#url = rawgit('dhimmel', 'mesh', commit, 'data/symptoms.tsv')\n",
    "url = 'https://raw.githubusercontent.com/dhimmel/mesh/' + commit + '/data/symptoms.tsv'\n",
    "symptom_df1 = pd.read_table(url)\n",
    "symptom_df1.head(2)\n",
    "#len(symptom_df1.mesh_id.unique()) # 438"
   ]
  },
  {
   "cell_type": "code",
   "execution_count": 17,
   "metadata": {},
   "outputs": [
    {
     "data": {
      "text/html": [
       "<div>\n",
       "<table border=\"1\" class=\"dataframe\">\n",
       "  <thead>\n",
       "    <tr style=\"text-align: right;\">\n",
       "      <th></th>\n",
       "      <th>mesh_id</th>\n",
       "      <th>mesh_name</th>\n",
       "      <th>in_hsdn</th>\n",
       "    </tr>\n",
       "  </thead>\n",
       "  <tbody>\n",
       "    <tr>\n",
       "      <th>0</th>\n",
       "      <td>D000006</td>\n",
       "      <td>Abdomen, Acute</td>\n",
       "      <td>1</td>\n",
       "    </tr>\n",
       "    <tr>\n",
       "      <th>1</th>\n",
       "      <td>D000270</td>\n",
       "      <td>Adie Syndrome</td>\n",
       "      <td>0</td>\n",
       "    </tr>\n",
       "  </tbody>\n",
       "</table>\n",
       "</div>"
      ],
      "text/plain": [
       "   mesh_id       mesh_name  in_hsdn\n",
       "0  D000006  Abdomen, Acute        1\n",
       "1  D000270   Adie Syndrome        0"
      ]
     },
     "execution_count": 17,
     "metadata": {},
     "output_type": "execute_result"
    }
   ],
   "source": [
    "# source: input of mesh symptoms in nb disease-symptom data mining \n",
    "# [https://nbviewer.ipython.org/github/dhimmel/medline/blob/61590a7007d282429694e52a3a6743af99c1ab12/symptoms.ipynb]\n",
    "url = url = 'https://raw.githubusercontent.com/dhimmel/mesh/e561301360e6de2140dedeaa7c7e17ce4714eb7f/data/symptoms.tsv'\n",
    "symptom_df2 = pd.read_table(url)\n",
    "symptom_df2.head(2)\n",
    "#len(symptom_df2.mesh_id.unique()) # 438"
   ]
  },
  {
   "cell_type": "code",
   "execution_count": 18,
   "metadata": {},
   "outputs": [
    {
     "data": {
      "text/html": [
       "<div>\n",
       "<table border=\"1\" class=\"dataframe\">\n",
       "  <thead>\n",
       "    <tr style=\"text-align: right;\">\n",
       "      <th></th>\n",
       "      <th>mesh_id</th>\n",
       "      <th>mesh_name</th>\n",
       "      <th>in_hsdn</th>\n",
       "    </tr>\n",
       "  </thead>\n",
       "  <tbody>\n",
       "    <tr>\n",
       "      <th>0</th>\n",
       "      <td>D000006</td>\n",
       "      <td>Abdomen, Acute</td>\n",
       "      <td>1</td>\n",
       "    </tr>\n",
       "    <tr>\n",
       "      <th>1</th>\n",
       "      <td>D000270</td>\n",
       "      <td>Adie Syndrome</td>\n",
       "      <td>0</td>\n",
       "    </tr>\n",
       "  </tbody>\n",
       "</table>\n",
       "</div>"
      ],
      "text/plain": [
       "   mesh_id       mesh_name  in_hsdn\n",
       "0  D000006  Abdomen, Acute        1\n",
       "1  D000270   Adie Syndrome        0"
      ]
     },
     "execution_count": 18,
     "metadata": {},
     "output_type": "execute_result"
    }
   ],
   "source": [
    "# mesh symptoms are in the mesh repo\n",
    "# source: github/dhimmel, mesh repo, data folder (no commit appears)\n",
    "url = 'https://raw.githubusercontent.com/dhimmel/mesh/gh-pages/data/symptoms.tsv'\n",
    "symptom_df3 = pd.read_table(url)\n",
    "symptom_df3.head(2)\n",
    "#len(symptom_df3.mesh_id.unique()) # 438"
   ]
  },
  {
   "cell_type": "code",
   "execution_count": 19,
   "metadata": {},
   "outputs": [
    {
     "data": {
      "text/html": [
       "<div>\n",
       "<table border=\"1\" class=\"dataframe\">\n",
       "  <thead>\n",
       "    <tr style=\"text-align: right;\">\n",
       "      <th></th>\n",
       "      <th>mesh_id</th>\n",
       "      <th>mesh_name</th>\n",
       "      <th>in_hsdn</th>\n",
       "    </tr>\n",
       "  </thead>\n",
       "  <tbody>\n",
       "    <tr>\n",
       "      <th>0</th>\n",
       "      <td>D000006</td>\n",
       "      <td>Abdomen, Acute</td>\n",
       "      <td>1</td>\n",
       "    </tr>\n",
       "    <tr>\n",
       "      <th>1</th>\n",
       "      <td>D000270</td>\n",
       "      <td>Adie Syndrome</td>\n",
       "      <td>0</td>\n",
       "    </tr>\n",
       "  </tbody>\n",
       "</table>\n",
       "</div>"
      ],
      "text/plain": [
       "   mesh_id       mesh_name  in_hsdn\n",
       "0  D000006  Abdomen, Acute        1\n",
       "1  D000270   Adie Syndrome        0"
      ]
     },
     "execution_count": 19,
     "metadata": {},
     "output_type": "execute_result"
    }
   ],
   "source": [
    "# downloaded file from mesh repo in the daniel's github, i think..\n",
    "symptom_df4 = pd.read_table(\"data/hetionet-symptoms.tsv\")\n",
    "symptom_df4.head(2)\n",
    "#len(symptom_df4.mesh_id.unique()) # 438"
   ]
  },
  {
   "cell_type": "code",
   "execution_count": 20,
   "metadata": {},
   "outputs": [
    {
     "data": {
      "text/html": [
       "<div>\n",
       "<table border=\"1\" class=\"dataframe\">\n",
       "  <thead>\n",
       "    <tr style=\"text-align: right;\">\n",
       "      <th></th>\n",
       "      <th>doid_code</th>\n",
       "      <th>doid_name</th>\n",
       "      <th>mesh_id</th>\n",
       "      <th>mesh_name</th>\n",
       "      <th>cooccurrence</th>\n",
       "      <th>expected</th>\n",
       "      <th>enrichment</th>\n",
       "      <th>odds_ratio</th>\n",
       "      <th>p_fisher</th>\n",
       "    </tr>\n",
       "  </thead>\n",
       "  <tbody>\n",
       "    <tr>\n",
       "      <th>0</th>\n",
       "      <td>DOID:10652</td>\n",
       "      <td>Alzheimer's disease</td>\n",
       "      <td>D004314</td>\n",
       "      <td>Down Syndrome</td>\n",
       "      <td>800</td>\n",
       "      <td>35.619601</td>\n",
       "      <td>22.459544</td>\n",
       "      <td>39.918352</td>\n",
       "      <td>0.0</td>\n",
       "    </tr>\n",
       "    <tr>\n",
       "      <th>1</th>\n",
       "      <td>DOID:10652</td>\n",
       "      <td>Alzheimer's disease</td>\n",
       "      <td>D008569</td>\n",
       "      <td>Memory Disorders</td>\n",
       "      <td>1593</td>\n",
       "      <td>76.580532</td>\n",
       "      <td>20.801631</td>\n",
       "      <td>41.885877</td>\n",
       "      <td>0.0</td>\n",
       "    </tr>\n",
       "  </tbody>\n",
       "</table>\n",
       "</div>"
      ],
      "text/plain": [
       "    doid_code            doid_name  mesh_id         mesh_name  cooccurrence  \\\n",
       "0  DOID:10652  Alzheimer's disease  D004314     Down Syndrome           800   \n",
       "1  DOID:10652  Alzheimer's disease  D008569  Memory Disorders          1593   \n",
       "\n",
       "    expected  enrichment  odds_ratio  p_fisher  \n",
       "0  35.619601   22.459544   39.918352       0.0  \n",
       "1  76.580532   20.801631   41.885877       0.0  "
      ]
     },
     "execution_count": 20,
     "metadata": {},
     "output_type": "execute_result"
    }
   ],
   "source": [
    "# source: output disease-symptoms cooccurrences in nb disease-symptom data mining \n",
    "# [https://nbviewer.ipython.org/github/dhimmel/medline/blob/61590a7007d282429694e52a3a6743af99c1ab12/symptoms.ipynb]\n",
    "url = 'https://raw.githubusercontent.com/dhimmel/medline/gh-pages/data/disease-symptom-cooccurrence.tsv'\n",
    "symptom_df5 = pd.read_table(url)\n",
    "symptom_df5.head(2)\n",
    "#len(symptom_df5.mesh_id.unique()) # 426"
   ]
  },
  {
   "cell_type": "code",
   "execution_count": 21,
   "metadata": {},
   "outputs": [
    {
     "data": {
      "text/html": [
       "<div>\n",
       "<table border=\"1\" class=\"dataframe\">\n",
       "  <thead>\n",
       "    <tr style=\"text-align: right;\">\n",
       "      <th></th>\n",
       "      <th>doid_code</th>\n",
       "      <th>doid_name</th>\n",
       "      <th>mesh_id</th>\n",
       "      <th>mesh_name</th>\n",
       "      <th>cooccurrence</th>\n",
       "      <th>expected</th>\n",
       "      <th>enrichment</th>\n",
       "      <th>odds_ratio</th>\n",
       "      <th>p_fisher</th>\n",
       "    </tr>\n",
       "  </thead>\n",
       "  <tbody>\n",
       "    <tr>\n",
       "      <th>0</th>\n",
       "      <td>DOID:10652</td>\n",
       "      <td>Alzheimer's disease</td>\n",
       "      <td>D004314</td>\n",
       "      <td>Down Syndrome</td>\n",
       "      <td>800</td>\n",
       "      <td>35.619601</td>\n",
       "      <td>22.459544</td>\n",
       "      <td>39.918352</td>\n",
       "      <td>0.0</td>\n",
       "    </tr>\n",
       "    <tr>\n",
       "      <th>1</th>\n",
       "      <td>DOID:10652</td>\n",
       "      <td>Alzheimer's disease</td>\n",
       "      <td>D008569</td>\n",
       "      <td>Memory Disorders</td>\n",
       "      <td>1593</td>\n",
       "      <td>76.580532</td>\n",
       "      <td>20.801631</td>\n",
       "      <td>41.885877</td>\n",
       "      <td>0.0</td>\n",
       "    </tr>\n",
       "  </tbody>\n",
       "</table>\n",
       "</div>"
      ],
      "text/plain": [
       "    doid_code            doid_name  mesh_id         mesh_name  cooccurrence  \\\n",
       "0  DOID:10652  Alzheimer's disease  D004314     Down Syndrome           800   \n",
       "1  DOID:10652  Alzheimer's disease  D008569  Memory Disorders          1593   \n",
       "\n",
       "    expected  enrichment  odds_ratio  p_fisher  \n",
       "0  35.619601   22.459544   39.918352       0.0  \n",
       "1  76.580532   20.801631   41.885877       0.0  "
      ]
     },
     "execution_count": 21,
     "metadata": {},
     "output_type": "execute_result"
    }
   ],
   "source": [
    "# source: Symptom edges from hetionet v1.0 [https://github.com/dhimmel/integrate/blob/master/integrate.ipynb]\n",
    "commit = '60d611892bf387b5b23c5f2e2e3bc472cfce85f3'\n",
    "# url = rawgit('dhimmel', 'medline', commit, 'data/disease-symptom-cooccurrence.tsv')\n",
    "url = 'https://raw.githubusercontent.com/dhimmel/medline/' + commit + '/data/disease-symptom-cooccurrence.tsv'\n",
    "symptom_df6 = pd.read_table(url)\n",
    "symptom_df6.head(2)\n",
    "#len(symptom_df6.mesh_id.unique()) # 426"
   ]
  },
  {
   "cell_type": "code",
   "execution_count": 22,
   "metadata": {},
   "outputs": [
    {
     "name": "stdout",
     "output_type": "stream",
     "text": [
      "1-2: 0\n",
      "1-3: 0\n",
      "1-6: 12\n",
      "1-6: {'D001832', 'D059388', 'D059245', 'D020924', 'D056124', 'D012818', 'D018489', 'D020879', 'D065906', 'D057768', 'D012817', 'D066190'}\n",
      "These are the 12 symptom nodes without edges:\n"
     ]
    },
    {
     "data": {
      "text/html": [
       "<div>\n",
       "<table border=\"1\" class=\"dataframe\">\n",
       "  <thead>\n",
       "    <tr style=\"text-align: right;\">\n",
       "      <th></th>\n",
       "      <th>mesh_id</th>\n",
       "      <th>mesh_name</th>\n",
       "      <th>in_hsdn</th>\n",
       "    </tr>\n",
       "  </thead>\n",
       "  <tbody>\n",
       "    <tr>\n",
       "      <th>0</th>\n",
       "      <td>D001832</td>\n",
       "      <td>Body Temperature Changes</td>\n",
       "      <td>0</td>\n",
       "    </tr>\n",
       "    <tr>\n",
       "      <th>1</th>\n",
       "      <td>D059388</td>\n",
       "      <td>Pelvic Girdle Pain</td>\n",
       "      <td>0</td>\n",
       "    </tr>\n",
       "    <tr>\n",
       "      <th>2</th>\n",
       "      <td>D059245</td>\n",
       "      <td>Transient Tachypnea of the Newborn</td>\n",
       "      <td>0</td>\n",
       "    </tr>\n",
       "    <tr>\n",
       "      <th>3</th>\n",
       "      <td>D020924</td>\n",
       "      <td>Urological Manifestations</td>\n",
       "      <td>0</td>\n",
       "    </tr>\n",
       "    <tr>\n",
       "      <th>4</th>\n",
       "      <td>D056124</td>\n",
       "      <td>Slit Ventricle Syndrome</td>\n",
       "      <td>1</td>\n",
       "    </tr>\n",
       "    <tr>\n",
       "      <th>5</th>\n",
       "      <td>D012818</td>\n",
       "      <td>Signs and Symptoms, Respiratory</td>\n",
       "      <td>0</td>\n",
       "    </tr>\n",
       "    <tr>\n",
       "      <th>6</th>\n",
       "      <td>D018489</td>\n",
       "      <td>Space Motion Sickness</td>\n",
       "      <td>1</td>\n",
       "    </tr>\n",
       "    <tr>\n",
       "      <th>7</th>\n",
       "      <td>D020879</td>\n",
       "      <td>Neuromuscular Manifestations</td>\n",
       "      <td>0</td>\n",
       "    </tr>\n",
       "    <tr>\n",
       "      <th>8</th>\n",
       "      <td>D065906</td>\n",
       "      <td>Hyperlactatemia</td>\n",
       "      <td>0</td>\n",
       "    </tr>\n",
       "    <tr>\n",
       "      <th>9</th>\n",
       "      <td>D057768</td>\n",
       "      <td>Infantile Apparent Life-Threatening Event</td>\n",
       "      <td>1</td>\n",
       "    </tr>\n",
       "    <tr>\n",
       "      <th>10</th>\n",
       "      <td>D012817</td>\n",
       "      <td>Signs and Symptoms, Digestive</td>\n",
       "      <td>0</td>\n",
       "    </tr>\n",
       "    <tr>\n",
       "      <th>11</th>\n",
       "      <td>D066190</td>\n",
       "      <td>Allesthesia</td>\n",
       "      <td>0</td>\n",
       "    </tr>\n",
       "  </tbody>\n",
       "</table>\n",
       "</div>"
      ],
      "text/plain": [
       "    mesh_id                                  mesh_name  in_hsdn\n",
       "0   D001832                   Body Temperature Changes        0\n",
       "1   D059388                         Pelvic Girdle Pain        0\n",
       "2   D059245         Transient Tachypnea of the Newborn        0\n",
       "3   D020924                  Urological Manifestations        0\n",
       "4   D056124                    Slit Ventricle Syndrome        1\n",
       "5   D012818            Signs and Symptoms, Respiratory        0\n",
       "6   D018489                      Space Motion Sickness        1\n",
       "7   D020879               Neuromuscular Manifestations        0\n",
       "8   D065906                            Hyperlactatemia        0\n",
       "9   D057768  Infantile Apparent Life-Threatening Event        1\n",
       "10  D012817              Signs and Symptoms, Digestive        0\n",
       "11  D066190                                Allesthesia        0"
      ]
     },
     "execution_count": 22,
     "metadata": {},
     "output_type": "execute_result"
    }
   ],
   "source": [
    "rest = ( set(list(symptom_df1.mesh_id)) - set(list(symptom_df2.mesh_id)) )\n",
    "print('1-2: {}'.format(len(rest)))\n",
    "rest = ( set(list(symptom_df1.mesh_id)) - set(list(symptom_df3.mesh_id)) )\n",
    "print('1-3: {}'.format(len(rest)))\n",
    "rest = ( set(list(symptom_df1.mesh_id)) - set(list(symptom_df6.mesh_id)) )\n",
    "print('1-6: {}'.format(len(rest)))\n",
    "print('1-6: {}'.format(rest))\n",
    "rest = list(rest)\n",
    "rest_d = {'mesh_id' : rest}\n",
    "rest_df = pd.DataFrame.from_dict(data=rest_d)\n",
    "rest_df = pd.merge(rest_df,symptom_df1, on='mesh_id')\n",
    "print('These are the 12 symptom nodes without edges:')\n",
    "rest_df\n",
    "# Conclusion: Symptom nodes (438) in hetionet, symptom nodes involved in disease-symptom edges (426). \n",
    "## end of validation ##"
   ]
  },
  {
   "cell_type": "code",
   "execution_count": 23,
   "metadata": {
    "collapsed": true
   },
   "outputs": [],
   "source": [
    "# Note: the ngly1 sym 'hyperlactemia' is in hetionet but without a link to a disease"
   ]
  },
  {
   "cell_type": "code",
   "execution_count": 24,
   "metadata": {},
   "outputs": [
    {
     "data": {
      "text/html": [
       "<div>\n",
       "<table border=\"1\" class=\"dataframe\">\n",
       "  <thead>\n",
       "    <tr style=\"text-align: right;\">\n",
       "      <th></th>\n",
       "      <th>hp_code</th>\n",
       "      <th>hp_term</th>\n",
       "      <th>mesh_code</th>\n",
       "    </tr>\n",
       "  </thead>\n",
       "  <tbody>\n",
       "    <tr>\n",
       "      <th>0</th>\n",
       "      <td>HP:0200042</td>\n",
       "      <td>Skin ulcer</td>\n",
       "      <td>MESH:D012883</td>\n",
       "    </tr>\n",
       "    <tr>\n",
       "      <th>1</th>\n",
       "      <td>HP:0000873</td>\n",
       "      <td>Diabetes insipidus</td>\n",
       "      <td>MESH:D003919</td>\n",
       "    </tr>\n",
       "  </tbody>\n",
       "</table>\n",
       "</div>"
      ],
      "text/plain": [
       "      hp_code             hp_term     mesh_code\n",
       "0  HP:0200042          Skin ulcer  MESH:D012883\n",
       "1  HP:0000873  Diabetes insipidus  MESH:D003919"
      ]
     },
     "execution_count": 24,
     "metadata": {},
     "output_type": "execute_result"
    }
   ],
   "source": [
    "# Coverage ngly1 - hetionet - Other datasets\n",
    "# Load HP2MESH mappings from HP ontology\n",
    "hpo_mappings = pd.read_table(\"/home/nuria/workspace/repurposing-hetio/rephetio-dhimmelstein/hetionet+hpo/data-JAN2016/hp-hp2mesh-mappings.tsv\".format(path))\n",
    "hpo_mappings.head(2)"
   ]
  },
  {
   "cell_type": "code",
   "execution_count": 25,
   "metadata": {
    "collapsed": true
   },
   "outputs": [],
   "source": [
    "# mappings\n",
    "orphanet_mesh_df = pd.merge(orphanet_df,hpo_mappings, on='hp_code')\n",
    "hpo_mesh_df = pd.merge(hpo_df,hpo_mappings, left_on='hp_id', right_on='hp_code')\n",
    "rh_mesh_df = pd.merge(rh_df,hpo_mappings, left_on='hp_id', right_on='hp_code')\n",
    "tg_mesh_df = pd.merge(tg_df,hpo_mappings, left_on='hp_id', right_on='hp_code')"
   ]
  },
  {
   "cell_type": "code",
   "execution_count": 26,
   "metadata": {},
   "outputs": [
    {
     "name": "stdout",
     "output_type": "stream",
     "text": [
      "NGLY1 deficiency symptoms (MESH): 17\n",
      "Hetionet symptoms (MESH): 426\n",
      "HSDN symptoms (MESH): 322\n",
      "Orphanet symptoms (MESH): 808\n",
      "HPO Curated symptoms (MESH): 851\n",
      "HPO Text mining symptoms (MESH): 930\n",
      "AberOWL symptoms (MESH): 1020\n"
     ]
    },
    {
     "data": {
      "image/png": "[encoded data removed]",
      "text/plain": [
       "<matplotlib.figure.Figure at 0x7f35858d4b38>"
      ]
     },
     "metadata": {},
     "output_type": "display_data"
    },
    {
     "data": {
      "image/png": "[encoded data removed]",
      "text/plain": [
       "<matplotlib.figure.Figure at 0x7f358585d400>"
      ]
     },
     "metadata": {},
     "output_type": "display_data"
    },
    {
     "data": {
      "image/png": "[encoded data removed]",
      "text/plain": [
       "<matplotlib.figure.Figure at 0x7f35857b89e8>"
      ]
     },
     "metadata": {},
     "output_type": "display_data"
    },
    {
     "data": {
      "image/png": "[encoded data removed]",
      "text/plain": [
       "<matplotlib.figure.Figure at 0x7f35857ac438>"
      ]
     },
     "metadata": {},
     "output_type": "display_data"
    },
    {
     "data": {
      "image/png": "[encoded data removed]",
      "text/plain": [
       "<matplotlib.figure.Figure at 0x7f35856ad940>"
      ]
     },
     "metadata": {},
     "output_type": "display_data"
    }
   ],
   "source": [
    "# Load mesh symptoms\n",
    "# Number of NGLY1 terms mapped to mesh\n",
    "ngly1_sym_mesh_list = ngly1_sym_mesh_df.mesh_code.unique()\n",
    "print('NGLY1 deficiency symptoms (MESH): {}'.format(len(ngly1_sym_mesh_list)))\n",
    "# Number of hetionet symptom terms \n",
    "hetionet_sym_mesh_list = hetionet_df.mesh_id.unique()\n",
    "print('Hetionet symptoms (MESH): {}'.format(len(hetionet_sym_mesh_list)))\n",
    "# Number of hsdn - barabasi symptom terms\n",
    "hsdn_sym_mesh_list = hsdn_df.symptom_meshid.unique()\n",
    "print('HSDN symptoms (MESH): {}'.format(len(hsdn_sym_mesh_list)))\n",
    "# Number of orphanet symptom terms\n",
    "orpha_sym_mesh_list = orphanet_mesh_df.mesh_code.unique()\n",
    "print('Orphanet symptoms (MESH): {}'.format(len(orpha_sym_mesh_list)))\n",
    "# Number of HPO Curated symptom terms\n",
    "hpo_sym_mesh_list = hpo_mesh_df.mesh_code.unique()\n",
    "print('HPO Curated symptoms (MESH): {}'.format(len(hpo_sym_mesh_list)))\n",
    "# Number of HPO Text mining symptom terms\n",
    "tg_sym_mesh_list = tg_mesh_df.mesh_code.unique()\n",
    "print('HPO Text mining symptoms (MESH): {}'.format(len(tg_sym_mesh_list)))\n",
    "# Number of AberOWL symptom terms\n",
    "rh_sym_mesh_list = rh_mesh_df.mesh_code.unique()\n",
    "print('AberOWL symptoms (MESH): {}'.format(len(rh_sym_mesh_list)))\n",
    "# Coverage HSDN\n",
    "ngly1 = set(ngly1_sym_mesh_list)\n",
    "hetionet = set(hetionet_sym_mesh_list)\n",
    "hsdn = set(hsdn_sym_mesh_list)\n",
    "#venn3_unweighted([ngly1,hetionet,hsdn],('NGLY1', 'Hetionet', 'HSDN'))\n",
    "#plt.show()\n",
    "venn3([ngly1,hetionet,hsdn],('NGLY1', 'Hetionet', 'HSDN'))\n",
    "plt.show()\n",
    "# Coverage Orphanet\n",
    "orphanet = set(orpha_sym_mesh_list)\n",
    "venn3([ngly1,hetionet,orphanet],('NGLY1', 'Hetionet', 'Orphanet'))\n",
    "plt.show()\n",
    "# Coverage HPO Phenotype Annotation 2016\n",
    "ngly1 = set(ngly1_sym_mesh_list)\n",
    "hetionet = set(hetionet_sym_mesh_list)\n",
    "hpo = set(hpo_sym_mesh_list)\n",
    "venn3([ngly1,hetionet,hpo],('NGLY1', 'Hetionet', 'HPO-Curated'))\n",
    "plt.show()\n",
    "# Coverage HPO Text Mining 2015 (TGroza)\n",
    "ngly1 = set(ngly1_sym_mesh_list)\n",
    "hetionet = set(hetionet_sym_mesh_list)\n",
    "hpotm = set(tg_sym_mesh_list)\n",
    "venn3([ngly1,hetionet,hpotm],('NGLY1', 'Hetionet', 'HPO-TextMining'))\n",
    "plt.show()\n",
    "# Coverage AberOWL 2015 (RHoehndorf)\n",
    "ngly1 = set(ngly1_sym_mesh_list)\n",
    "hetionet = set(hetionet_sym_mesh_list)\n",
    "aberowl = set(rh_sym_mesh_list)\n",
    "venn3([ngly1,hetionet,aberowl],('NGLY1', 'Hetionet', 'AberOWL'))\n",
    "plt.show()"
   ]
  },
  {
   "cell_type": "code",
   "execution_count": 27,
   "metadata": {},
   "outputs": [
    {
     "data": {
      "image/png": "[encoded data removed]",
      "text/plain": [
       "<matplotlib.figure.Figure at 0x7f35859122b0>"
      ]
     },
     "metadata": {},
     "output_type": "display_data"
    },
    {
     "data": {
      "image/png": "[encoded data removed]",
      "text/plain": [
       "<matplotlib.figure.Figure at 0x7f3585602080>"
      ]
     },
     "metadata": {},
     "output_type": "display_data"
    }
   ],
   "source": [
    "# Conclusion: All five datasets have NGLY1 symptoms.\n",
    "# Overlap between sources\n",
    "# Curated\n",
    "venn3([ngly1,orphanet,hpo], ('NGLY1', 'Orphanet', 'HPO-Curated'))\n",
    "plt.show()\n",
    "# Text mined \n",
    "venn3([ngly1,aberowl,hpotm], ('NGLY1', 'AberOWL', 'HPO-TextMining'))\n",
    "plt.show()"
   ]
  },
  {
   "cell_type": "code",
   "execution_count": 28,
   "metadata": {},
   "outputs": [
    {
     "name": "stdout",
     "output_type": "stream",
     "text": [
      "Number of NGLY1 symptoms (MESH) uncovered with data integration: 10/17\n",
      "Number of NGLY1 symptoms (MESH) not covered with data integration: 7/17\n",
      "NGLY1 symptoms (MESH) not covered with data integration:\n"
     ]
    },
    {
     "data": {
      "text/html": [
       "<div>\n",
       "<table border=\"1\" class=\"dataframe\">\n",
       "  <thead>\n",
       "    <tr style=\"text-align: right;\">\n",
       "      <th></th>\n",
       "      <th>mesh_code</th>\n",
       "      <th>mesh_term</th>\n",
       "    </tr>\n",
       "  </thead>\n",
       "  <tbody>\n",
       "    <tr>\n",
       "      <th>0</th>\n",
       "      <td>MESH:D005317</td>\n",
       "      <td>IUGR (intrauterine growth restriction)</td>\n",
       "    </tr>\n",
       "    <tr>\n",
       "      <th>1</th>\n",
       "      <td>MESH:D007567</td>\n",
       "      <td>Neonatal Jaundice</td>\n",
       "    </tr>\n",
       "    <tr>\n",
       "      <th>2</th>\n",
       "      <td>MESH:D065906</td>\n",
       "      <td>Hyperlactatemia</td>\n",
       "    </tr>\n",
       "    <tr>\n",
       "      <th>3</th>\n",
       "      <td>MESH:C562827</td>\n",
       "      <td>Alacrima</td>\n",
       "    </tr>\n",
       "    <tr>\n",
       "      <th>4</th>\n",
       "      <td>MESH:D003320</td>\n",
       "      <td>Corneal Ulcer</td>\n",
       "    </tr>\n",
       "    <tr>\n",
       "      <th>5</th>\n",
       "      <td>MESH:D009069</td>\n",
       "      <td>Movement disorders</td>\n",
       "    </tr>\n",
       "    <tr>\n",
       "      <th>6</th>\n",
       "      <td>MESH:D002658</td>\n",
       "      <td>Developmental disabilities</td>\n",
       "    </tr>\n",
       "  </tbody>\n",
       "</table>\n",
       "</div>"
      ],
      "text/plain": [
       "      mesh_code                               mesh_term\n",
       "0  MESH:D005317  IUGR (intrauterine growth restriction)\n",
       "1  MESH:D007567                       Neonatal Jaundice\n",
       "2  MESH:D065906                         Hyperlactatemia\n",
       "3  MESH:C562827                                Alacrima\n",
       "4  MESH:D003320                           Corneal Ulcer\n",
       "5  MESH:D009069                      Movement disorders\n",
       "6  MESH:D002658              Developmental disabilities"
      ]
     },
     "execution_count": 28,
     "metadata": {},
     "output_type": "execute_result"
    }
   ],
   "source": [
    "# Data integration: How many NGLY1 symptoms we will recover\n",
    "intersection_mesh = (ngly1 & (hsdn | orphanet | hpo | aberowl | hpotm))\n",
    "not_mapped_mesh = (ngly1 - intersection_mesh)\n",
    "print('Number of NGLY1 symptoms (MESH) uncovered with data integration: {}/{}'.format(len(intersection_mesh),len(ngly1_sym_mesh_list)))\n",
    "print('Number of NGLY1 symptoms (MESH) not covered with data integration: {}/{}'.format(len(not_mapped_mesh),len(ngly1_sym_mesh_list)))\n",
    "print('NGLY1 symptoms (MESH) not covered with data integration:')\n",
    "not_mapped_dict = {'mesh_code' : list(not_mapped_mesh)}\n",
    "not_mapped_mesh_df = pd.DataFrame.from_dict(data=not_mapped_dict)\n",
    "not_mapped_terms_df = pd.merge(not_mapped_mesh_df,ngly1_sym_mesh_df, on='mesh_code')\n",
    "not_mapped_terms_df"
   ]
  },
  {
   "cell_type": "code",
   "execution_count": 29,
   "metadata": {
    "collapsed": true
   },
   "outputs": [],
   "source": [
    "# NOTE: ALACRIMA not recovered!!! BUT, it is in DO-HPO datasets. Problem -HPO 2016- lacks some HPO-MESH xrefs \n",
    "# that are inferred using UMLS. Extract NGLY1 MESH symptoms without HPO and contact HPO."
   ]
  },
  {
   "cell_type": "code",
   "execution_count": 30,
   "metadata": {},
   "outputs": [
    {
     "name": "stdout",
     "output_type": "stream",
     "text": [
      "NGLY1 symptoms (MESH) covered with data integration:\n"
     ]
    },
    {
     "data": {
      "text/html": [
       "<div>\n",
       "<table border=\"1\" class=\"dataframe\">\n",
       "  <thead>\n",
       "    <tr style=\"text-align: right;\">\n",
       "      <th></th>\n",
       "      <th>mesh_code</th>\n",
       "      <th>mesh_term</th>\n",
       "    </tr>\n",
       "  </thead>\n",
       "  <tbody>\n",
       "    <tr>\n",
       "      <th>0</th>\n",
       "      <td>MESH:D012600</td>\n",
       "      <td>Scoliosis</td>\n",
       "    </tr>\n",
       "    <tr>\n",
       "      <th>1</th>\n",
       "      <td>MESH:D012640</td>\n",
       "      <td>Seizures</td>\n",
       "    </tr>\n",
       "    <tr>\n",
       "      <th>2</th>\n",
       "      <td>MESH:D003248</td>\n",
       "      <td>Constipation</td>\n",
       "    </tr>\n",
       "    <tr>\n",
       "      <th>3</th>\n",
       "      <td>MESH:D008103</td>\n",
       "      <td>Liver Fibrosis</td>\n",
       "    </tr>\n",
       "    <tr>\n",
       "      <th>4</th>\n",
       "      <td>MESH:D008831</td>\n",
       "      <td>Microcephaly</td>\n",
       "    </tr>\n",
       "    <tr>\n",
       "      <th>5</th>\n",
       "      <td>MESH:D012021</td>\n",
       "      <td>Abnormal Deep Tendon Reflex</td>\n",
       "    </tr>\n",
       "    <tr>\n",
       "      <th>6</th>\n",
       "      <td>MESH:D009123</td>\n",
       "      <td>Muscle Hypotonia</td>\n",
       "    </tr>\n",
       "    <tr>\n",
       "      <th>7</th>\n",
       "      <td>MESH:D001072</td>\n",
       "      <td>Apraxias</td>\n",
       "    </tr>\n",
       "    <tr>\n",
       "      <th>8</th>\n",
       "      <td>MESH:D013285</td>\n",
       "      <td>Strabismus</td>\n",
       "    </tr>\n",
       "    <tr>\n",
       "      <th>9</th>\n",
       "      <td>MESH:D017043</td>\n",
       "      <td>Chalazions</td>\n",
       "    </tr>\n",
       "  </tbody>\n",
       "</table>\n",
       "</div>"
      ],
      "text/plain": [
       "      mesh_code                    mesh_term\n",
       "0  MESH:D012600                    Scoliosis\n",
       "1  MESH:D012640                     Seizures\n",
       "2  MESH:D003248                 Constipation\n",
       "3  MESH:D008103               Liver Fibrosis\n",
       "4  MESH:D008831                 Microcephaly\n",
       "5  MESH:D012021  Abnormal Deep Tendon Reflex\n",
       "6  MESH:D009123             Muscle Hypotonia\n",
       "7  MESH:D001072                     Apraxias\n",
       "8  MESH:D013285                   Strabismus\n",
       "9  MESH:D017043                   Chalazions"
      ]
     },
     "execution_count": 30,
     "metadata": {},
     "output_type": "execute_result"
    }
   ],
   "source": [
    "# NLGY symptoms potentially anchor by data integration\n",
    "mapped_dict = {'mesh_code' : list(intersection_mesh)}\n",
    "mapped_mesh_df = pd.DataFrame.from_dict(data=mapped_dict)\n",
    "mapped_terms_df = pd.merge(mapped_mesh_df,ngly1_sym_mesh_df, on='mesh_code')\n",
    "print('NGLY1 symptoms (MESH) covered with data integration:')\n",
    "mapped_terms_df"
   ]
  },
  {
   "cell_type": "code",
   "execution_count": 31,
   "metadata": {},
   "outputs": [
    {
     "name": "stdout",
     "output_type": "stream",
     "text": [
      "NGLY1 symptoms (MESH) in hetnet: {'MESH:D001072', 'MESH:D012021', 'MESH:D009123', 'MESH:D012640', 'MESH:D003248'}\n"
     ]
    }
   ],
   "source": [
    "# check 5 MESH sym in hetnet\n",
    "ngly1_hetnet = (ngly1 & hetionet)\n",
    "print('NGLY1 symptoms (MESH) in hetnet: {}'.format(ngly1_hetnet))"
   ]
  },
  {
   "cell_type": "markdown",
   "metadata": {},
   "source": [
    "#### HPO + UMLS inferred mappings\n",
    "Use these mappings to recall important symptoms in MESH as ALACRIMA"
   ]
  },
  {
   "cell_type": "code",
   "execution_count": 32,
   "metadata": {},
   "outputs": [
    {
     "data": {
      "text/html": [
       "<div>\n",
       "<table border=\"1\" class=\"dataframe\">\n",
       "  <thead>\n",
       "    <tr style=\"text-align: right;\">\n",
       "      <th></th>\n",
       "      <th>hp_code</th>\n",
       "      <th>hp_term</th>\n",
       "      <th>mesh_code</th>\n",
       "      <th>mesh_term</th>\n",
       "    </tr>\n",
       "  </thead>\n",
       "  <tbody>\n",
       "    <tr>\n",
       "      <th>0</th>\n",
       "      <td>HP:0009037</td>\n",
       "      <td>Segmental spinal muscular atrophy</td>\n",
       "      <td>MESH:C566670</td>\n",
       "      <td>Spinal Muscular Atrophy, Segmental</td>\n",
       "    </tr>\n",
       "    <tr>\n",
       "      <th>1</th>\n",
       "      <td>HP:0100620</td>\n",
       "      <td>Germinoma</td>\n",
       "      <td>MESH:D018237</td>\n",
       "      <td>Germinomas</td>\n",
       "    </tr>\n",
       "  </tbody>\n",
       "</table>\n",
       "</div>"
      ],
      "text/plain": [
       "      hp_code                            hp_term     mesh_code  \\\n",
       "0  HP:0009037  Segmental spinal muscular atrophy  MESH:C566670   \n",
       "1  HP:0100620                          Germinoma  MESH:D018237   \n",
       "\n",
       "                            mesh_term  \n",
       "0  Spinal Muscular Atrophy, Segmental  \n",
       "1                          Germinomas  "
      ]
     },
     "execution_count": 32,
     "metadata": {},
     "output_type": "execute_result"
    }
   ],
   "source": [
    "# add mappings inferred through UMLS\n",
    "# load hp2mesh inferred mappings from UMLS\n",
    "umls_mappings = pd.read_table(\"/home/nuria/workspace/repurposing-hetio/rephetio-dhimmelstein/hetionet+hpo/data-JAN2016/umls2016aa-hp2mesh-mappings.tsv\".format(path))\n",
    "umls_mappings['mesh_code'] = 'MESH:' + umls_mappings['mesh_code'].astype(str)\n",
    "umls_mappings.head(2)"
   ]
  },
  {
   "cell_type": "code",
   "execution_count": 33,
   "metadata": {
    "collapsed": true
   },
   "outputs": [],
   "source": [
    "# concatenate hpo and umls hp2mesh mappings\n",
    "hpo_mappings.head(2)\n",
    "merge_df = pd.merge(hpo_mappings,umls_mappings, how='outer', on=['hp_code', 'mesh_code'])\n",
    "concat_df = pd.concat([hpo_mappings,umls_mappings]).groupby(['hp_code', 'mesh_code'])\n",
    "merge_df.shape #(1454, 5)\n",
    "len(concat_df) # 1454, the same result but the type of object is different\n",
    "type(concat_df)\n",
    "# merge is cleaner with full outer join (union of keys from both appended dataframes)\n",
    "hpo_umls_mappings = pd.merge(hpo_mappings,umls_mappings, how='outer', on=['hp_code', 'mesh_code'])"
   ]
  },
  {
   "cell_type": "code",
   "execution_count": 34,
   "metadata": {
    "collapsed": true
   },
   "outputs": [],
   "source": [
    "# mappings\n",
    "orphanet_mesh_df = pd.merge(orphanet_df,hpo_umls_mappings, on='hp_code')\n",
    "hpo_mesh_df = pd.merge(hpo_df,hpo_umls_mappings, left_on='hp_id', right_on='hp_code')\n",
    "rh_mesh_df = pd.merge(rh_df,hpo_umls_mappings, left_on='hp_id', right_on='hp_code')\n",
    "tg_mesh_df = pd.merge(tg_df,hpo_umls_mappings, left_on='hp_id', right_on='hp_code')"
   ]
  },
  {
   "cell_type": "code",
   "execution_count": 35,
   "metadata": {},
   "outputs": [
    {
     "name": "stdout",
     "output_type": "stream",
     "text": [
      "NGLY1 deficiency symptoms (MESH): 17\n",
      "Hetionet symptoms (MESH): 426\n",
      "HSDN symptoms (MESH): 322\n",
      "Orphanet symptoms (MESH): 1004\n",
      "HPO Curated symptoms (MESH): 1085\n",
      "HPO Text mining symptoms (MESH): 1172\n",
      "AberOWL symptoms (MESH): 1349\n"
     ]
    },
    {
     "data": {
      "image/png": "[encoded data removed]",
      "text/plain": [
       "<matplotlib.figure.Figure at 0x7f3585719978>"
      ]
     },
     "metadata": {},
     "output_type": "display_data"
    },
    {
     "data": {
      "image/png": "[encoded data removed]",
      "text/plain": [
       "<matplotlib.figure.Figure at 0x7f3585737080>"
      ]
     },
     "metadata": {},
     "output_type": "display_data"
    },
    {
     "data": {
      "image/png": "[encoded data removed]",
      "text/plain": [
       "<matplotlib.figure.Figure at 0x7f3585768390>"
      ]
     },
     "metadata": {},
     "output_type": "display_data"
    },
    {
     "data": {
      "image/png": "[encoded data removed]",
      "text/plain": [
       "<matplotlib.figure.Figure at 0x7f35855fb940>"
      ]
     },
     "metadata": {},
     "output_type": "display_data"
    },
    {
     "data": {
      "image/png": "[encoded data removed]",
      "text/plain": [
       "<matplotlib.figure.Figure at 0x7f35857cc198>"
      ]
     },
     "metadata": {},
     "output_type": "display_data"
    }
   ],
   "source": [
    "# Load mesh symptoms\n",
    "# Number of NGLY1 terms mapped to mesh\n",
    "ngly1_sym_mesh_list = ngly1_sym_mesh_df.mesh_code.unique()\n",
    "print('NGLY1 deficiency symptoms (MESH): {}'.format(len(ngly1_sym_mesh_list)))\n",
    "# Number of hetionet symptom terms \n",
    "hetionet_sym_mesh_list = hetionet_df.mesh_id.unique()\n",
    "print('Hetionet symptoms (MESH): {}'.format(len(hetionet_sym_mesh_list)))\n",
    "# Number of hsdn - barabasi symptom terms\n",
    "hsdn_sym_mesh_list = hsdn_df.symptom_meshid.unique()\n",
    "print('HSDN symptoms (MESH): {}'.format(len(hsdn_sym_mesh_list)))\n",
    "# Number of orphanet symptom terms\n",
    "orpha_sym_mesh_list = orphanet_mesh_df.mesh_code.unique()\n",
    "print('Orphanet symptoms (MESH): {}'.format(len(orpha_sym_mesh_list)))\n",
    "# Number of HPO Curated symptom terms\n",
    "hpo_sym_mesh_list = hpo_mesh_df.mesh_code.unique()\n",
    "print('HPO Curated symptoms (MESH): {}'.format(len(hpo_sym_mesh_list)))\n",
    "# Number of HPO Text mining symptom terms\n",
    "tg_sym_mesh_list = tg_mesh_df.mesh_code.unique()\n",
    "print('HPO Text mining symptoms (MESH): {}'.format(len(tg_sym_mesh_list)))\n",
    "# Number of AberOWL symptom terms\n",
    "rh_sym_mesh_list = rh_mesh_df.mesh_code.unique()\n",
    "print('AberOWL symptoms (MESH): {}'.format(len(rh_sym_mesh_list)))\n",
    "# Coverage HSDN\n",
    "ngly1 = set(ngly1_sym_mesh_list)\n",
    "hetionet = set(hetionet_sym_mesh_list)\n",
    "hsdn = set(hsdn_sym_mesh_list)\n",
    "#venn3_unweighted([ngly1,hetionet,hsdn],('NGLY1', 'Hetionet', 'HSDN'))\n",
    "#plt.show()\n",
    "venn3([ngly1,hetionet,hsdn],('NGLY1', 'Hetionet', 'HSDN'))\n",
    "plt.show()\n",
    "# Coverage Orphanet\n",
    "orphanet = set(orpha_sym_mesh_list)\n",
    "venn3([ngly1,hetionet,orphanet],('NGLY1', 'Hetionet', 'Orphanet'))\n",
    "plt.show()\n",
    "# Coverage HPO Phenotype Annotation 2016\n",
    "ngly1 = set(ngly1_sym_mesh_list)\n",
    "hetionet = set(hetionet_sym_mesh_list)\n",
    "hpo = set(hpo_sym_mesh_list)\n",
    "venn3([ngly1,hetionet,hpo],('NGLY1', 'Hetionet', 'HPO-Curated'))\n",
    "plt.show()\n",
    "# Coverage HPO Text Mining 2015 (TGroza)\n",
    "ngly1 = set(ngly1_sym_mesh_list)\n",
    "hetionet = set(hetionet_sym_mesh_list)\n",
    "hpotm = set(tg_sym_mesh_list)\n",
    "venn3([ngly1,hetionet,hpotm],('NGLY1', 'Hetionet', 'HPO-TextMining'))\n",
    "plt.show()\n",
    "# Coverage AberOWL 2015 (RHoehndorf)\n",
    "ngly1 = set(ngly1_sym_mesh_list)\n",
    "hetionet = set(hetionet_sym_mesh_list)\n",
    "aberowl = set(rh_sym_mesh_list)\n",
    "venn3([ngly1,hetionet,aberowl],('NGLY1', 'Hetionet', 'AberOWL'))\n",
    "plt.show()"
   ]
  },
  {
   "cell_type": "code",
   "execution_count": 36,
   "metadata": {},
   "outputs": [
    {
     "data": {
      "image/png": "[encoded data removed]",
      "text/plain": [
       "<matplotlib.figure.Figure at 0x7f358578cf98>"
      ]
     },
     "metadata": {},
     "output_type": "display_data"
    },
    {
     "data": {
      "image/png": "[encoded data removed]",
      "text/plain": [
       "<matplotlib.figure.Figure at 0x7f35855fb198>"
      ]
     },
     "metadata": {},
     "output_type": "display_data"
    }
   ],
   "source": [
    "# Conclusion: All five datasets have NGLY1 symptoms. \n",
    "# Overlap between sources\n",
    "# Curated\n",
    "venn3([ngly1,orphanet,hpo], ('NGLY1', 'Orphanet', 'HPO-Curated'))\n",
    "plt.show()\n",
    "# Text mined \n",
    "venn3([ngly1,aberowl,hpotm], ('NGLY1', 'AberOWL', 'HPO-TextMining'))\n",
    "plt.show()"
   ]
  },
  {
   "cell_type": "code",
   "execution_count": 37,
   "metadata": {},
   "outputs": [
    {
     "name": "stdout",
     "output_type": "stream",
     "text": [
      "Number of NGLY1 symptoms (MESH) uncovered with data integration: 12/17\n",
      "Number of NGLY1 symptoms (MESH) not covered with data integration: 5/17\n",
      "NGLY1 symptoms (MESH) not covered with data integration:\n"
     ]
    },
    {
     "data": {
      "text/html": [
       "<div>\n",
       "<table border=\"1\" class=\"dataframe\">\n",
       "  <thead>\n",
       "    <tr style=\"text-align: right;\">\n",
       "      <th></th>\n",
       "      <th>mesh_code</th>\n",
       "      <th>mesh_term</th>\n",
       "    </tr>\n",
       "  </thead>\n",
       "  <tbody>\n",
       "    <tr>\n",
       "      <th>0</th>\n",
       "      <td>MESH:D005317</td>\n",
       "      <td>IUGR (intrauterine growth restriction)</td>\n",
       "    </tr>\n",
       "    <tr>\n",
       "      <th>1</th>\n",
       "      <td>MESH:D007567</td>\n",
       "      <td>Neonatal Jaundice</td>\n",
       "    </tr>\n",
       "    <tr>\n",
       "      <th>2</th>\n",
       "      <td>MESH:D009069</td>\n",
       "      <td>Movement disorders</td>\n",
       "    </tr>\n",
       "    <tr>\n",
       "      <th>3</th>\n",
       "      <td>MESH:D002658</td>\n",
       "      <td>Developmental disabilities</td>\n",
       "    </tr>\n",
       "    <tr>\n",
       "      <th>4</th>\n",
       "      <td>MESH:D065906</td>\n",
       "      <td>Hyperlactatemia</td>\n",
       "    </tr>\n",
       "  </tbody>\n",
       "</table>\n",
       "</div>"
      ],
      "text/plain": [
       "      mesh_code                               mesh_term\n",
       "0  MESH:D005317  IUGR (intrauterine growth restriction)\n",
       "1  MESH:D007567                       Neonatal Jaundice\n",
       "2  MESH:D009069                      Movement disorders\n",
       "3  MESH:D002658              Developmental disabilities\n",
       "4  MESH:D065906                         Hyperlactatemia"
      ]
     },
     "execution_count": 37,
     "metadata": {},
     "output_type": "execute_result"
    }
   ],
   "source": [
    "# Data integration: How many NGLY1 symptoms we will recover\n",
    "intersection_mesh = (ngly1 & (hsdn | orphanet | hpo | aberowl | hpotm))\n",
    "not_mapped_mesh = (ngly1 - intersection_mesh)\n",
    "print('Number of NGLY1 symptoms (MESH) uncovered with data integration: {}/{}'.format(len(intersection_mesh),len(ngly1_sym_mesh_list)))\n",
    "print('Number of NGLY1 symptoms (MESH) not covered with data integration: {}/{}'.format(len(not_mapped_mesh),len(ngly1_sym_mesh_list)))\n",
    "print('NGLY1 symptoms (MESH) not covered with data integration:')\n",
    "not_mapped_dict = {'mesh_code' : list(not_mapped_mesh)}\n",
    "not_mapped_mesh_df = pd.DataFrame.from_dict(data=not_mapped_dict)\n",
    "not_mapped_terms_df = pd.merge(not_mapped_mesh_df,ngly1_sym_mesh_df, on='mesh_code')\n",
    "ngly1_not_mapped_terms_df = not_mapped_terms_df\n",
    "not_mapped_terms_df"
   ]
  },
  {
   "cell_type": "code",
   "execution_count": 38,
   "metadata": {},
   "outputs": [
    {
     "name": "stdout",
     "output_type": "stream",
     "text": [
      "NGLY1 symptoms (MESH) covered with data integration:\n"
     ]
    },
    {
     "data": {
      "text/html": [
       "<div>\n",
       "<table border=\"1\" class=\"dataframe\">\n",
       "  <thead>\n",
       "    <tr style=\"text-align: right;\">\n",
       "      <th></th>\n",
       "      <th>mesh_code</th>\n",
       "      <th>mesh_term</th>\n",
       "    </tr>\n",
       "  </thead>\n",
       "  <tbody>\n",
       "    <tr>\n",
       "      <th>0</th>\n",
       "      <td>MESH:D012600</td>\n",
       "      <td>Scoliosis</td>\n",
       "    </tr>\n",
       "    <tr>\n",
       "      <th>1</th>\n",
       "      <td>MESH:D012640</td>\n",
       "      <td>Seizures</td>\n",
       "    </tr>\n",
       "    <tr>\n",
       "      <th>2</th>\n",
       "      <td>MESH:D003248</td>\n",
       "      <td>Constipation</td>\n",
       "    </tr>\n",
       "    <tr>\n",
       "      <th>3</th>\n",
       "      <td>MESH:C562827</td>\n",
       "      <td>Alacrima</td>\n",
       "    </tr>\n",
       "    <tr>\n",
       "      <th>4</th>\n",
       "      <td>MESH:D008103</td>\n",
       "      <td>Liver Fibrosis</td>\n",
       "    </tr>\n",
       "    <tr>\n",
       "      <th>5</th>\n",
       "      <td>MESH:D008831</td>\n",
       "      <td>Microcephaly</td>\n",
       "    </tr>\n",
       "    <tr>\n",
       "      <th>6</th>\n",
       "      <td>MESH:D003320</td>\n",
       "      <td>Corneal Ulcer</td>\n",
       "    </tr>\n",
       "    <tr>\n",
       "      <th>7</th>\n",
       "      <td>MESH:D012021</td>\n",
       "      <td>Abnormal Deep Tendon Reflex</td>\n",
       "    </tr>\n",
       "    <tr>\n",
       "      <th>8</th>\n",
       "      <td>MESH:D009123</td>\n",
       "      <td>Muscle Hypotonia</td>\n",
       "    </tr>\n",
       "    <tr>\n",
       "      <th>9</th>\n",
       "      <td>MESH:D001072</td>\n",
       "      <td>Apraxias</td>\n",
       "    </tr>\n",
       "    <tr>\n",
       "      <th>10</th>\n",
       "      <td>MESH:D013285</td>\n",
       "      <td>Strabismus</td>\n",
       "    </tr>\n",
       "    <tr>\n",
       "      <th>11</th>\n",
       "      <td>MESH:D017043</td>\n",
       "      <td>Chalazions</td>\n",
       "    </tr>\n",
       "  </tbody>\n",
       "</table>\n",
       "</div>"
      ],
      "text/plain": [
       "       mesh_code                    mesh_term\n",
       "0   MESH:D012600                    Scoliosis\n",
       "1   MESH:D012640                     Seizures\n",
       "2   MESH:D003248                 Constipation\n",
       "3   MESH:C562827                     Alacrima\n",
       "4   MESH:D008103               Liver Fibrosis\n",
       "5   MESH:D008831                 Microcephaly\n",
       "6   MESH:D003320                Corneal Ulcer\n",
       "7   MESH:D012021  Abnormal Deep Tendon Reflex\n",
       "8   MESH:D009123             Muscle Hypotonia\n",
       "9   MESH:D001072                     Apraxias\n",
       "10  MESH:D013285                   Strabismus\n",
       "11  MESH:D017043                   Chalazions"
      ]
     },
     "execution_count": 38,
     "metadata": {},
     "output_type": "execute_result"
    }
   ],
   "source": [
    "# NLGY symptoms anchor by data integration\n",
    "mapped_dict = {'mesh_code' : list(intersection_mesh)}\n",
    "mapped_mesh_df = pd.DataFrame.from_dict(data=mapped_dict)\n",
    "mapped_terms_df = pd.merge(mapped_mesh_df,ngly1_sym_mesh_df, on='mesh_code')\n",
    "print('NGLY1 symptoms (MESH) covered with data integration:')\n",
    "mapped_terms_df"
   ]
  },
  {
   "cell_type": "code",
   "execution_count": 39,
   "metadata": {
    "collapsed": true
   },
   "outputs": [],
   "source": [
    "# Conclusion: Using HPO 2016 + UMLS 2016 inferred mappings we increase NGLY1 symptom recall \n",
    "# (above all from HPO text mined terms)"
   ]
  },
  {
   "cell_type": "code",
   "execution_count": 40,
   "metadata": {},
   "outputs": [
    {
     "name": "stdout",
     "output_type": "stream",
     "text": [
      "NGLY1 symptoms (MESH) in hetnet: {'MESH:D001072', 'MESH:D012021', 'MESH:D009123', 'MESH:D012640', 'MESH:D003248'}\n"
     ]
    }
   ],
   "source": [
    "# check 5 MESH sym in hetnet\n",
    "ngly1_hetnet = (ngly1 & hetionet)\n",
    "print('NGLY1 symptoms (MESH) in hetnet: {}'.format(ngly1_hetnet))"
   ]
  },
  {
   "cell_type": "markdown",
   "metadata": {},
   "source": [
    "### HP"
   ]
  },
  {
   "cell_type": "code",
   "execution_count": 41,
   "metadata": {},
   "outputs": [
    {
     "name": "stdout",
     "output_type": "stream",
     "text": [
      "NGLY1 deficiency symptoms (HP): 28\n",
      "Hetionet symptoms (HP): 167\n",
      "HSDN symptoms (HP): 149\n",
      "Orphanet symptoms (HP): 4014\n",
      "HPO Curated symptoms (HP): 5135\n",
      "HPO Text mining symptoms (HP): 4206\n",
      "AberOWL symptoms (HP): 5969\n"
     ]
    },
    {
     "data": {
      "image/png": "[encoded data removed]",
      "text/plain": [
       "<matplotlib.figure.Figure at 0x7f3585505f98>"
      ]
     },
     "metadata": {},
     "output_type": "display_data"
    },
    {
     "data": {
      "image/png": "[encoded data removed]",
      "text/plain": [
       "<matplotlib.figure.Figure at 0x7f35853f5d30>"
      ]
     },
     "metadata": {},
     "output_type": "display_data"
    },
    {
     "data": {
      "image/png": "[encoded data removed]",
      "text/plain": [
       "<matplotlib.figure.Figure at 0x7f35853e25f8>"
      ]
     },
     "metadata": {},
     "output_type": "display_data"
    },
    {
     "data": {
      "image/png": "[encoded data removed]",
      "text/plain": [
       "<matplotlib.figure.Figure at 0x7f358539aef0>"
      ]
     },
     "metadata": {},
     "output_type": "display_data"
    },
    {
     "data": {
      "image/png": "[encoded data removed]",
      "text/plain": [
       "<matplotlib.figure.Figure at 0x7f3585509e10>"
      ]
     },
     "metadata": {},
     "output_type": "display_data"
    }
   ],
   "source": [
    "# Coverage ngly1 - hetionet - HSDN\n",
    "# Load hp symptoms\n",
    "# Number of NGLY1 terms mapped to hp\n",
    "ngly1_sym_hp_list = ngly1_sym_hp_df.hp_code.unique()\n",
    "print('NGLY1 deficiency symptoms (HP): {}'.format(len(ngly1_sym_hp_list)))\n",
    "# Number of hetionet symptom terms \n",
    "hetionet_sym_hp_df = hetionet_df.merge(hpo_umls_mappings, left_on='mesh_id', right_on='mesh_code')\n",
    "hetionet_sym_hp_list = hetionet_sym_hp_df.hp_code.unique()\n",
    "print('Hetionet symptoms (HP): {}'.format(len(hetionet_sym_hp_list)))\n",
    "# Number of hsdn - barabasi symptom terms\n",
    "hsdn_sym_hp_df = hsdn_df.merge(hpo_umls_mappings, left_on='symptom_meshid', right_on='mesh_code')\n",
    "hsdn_sym_hp_list = hsdn_sym_hp_df.hp_code.unique()\n",
    "print('HSDN symptoms (HP): {}'.format(len(hsdn_sym_hp_list)))\n",
    "# Number of orphanet symptom terms\n",
    "orpha_sym_hp_list = orphanet_df.hp_code.unique()\n",
    "print('Orphanet symptoms (HP): {}'.format(len(orpha_sym_hp_list)))\n",
    "# Number of HPO Curated symptom terms\n",
    "hpo_sym_hp_list = hpo_df.hp_id.unique()\n",
    "print('HPO Curated symptoms (HP): {}'.format(len(hpo_sym_hp_list)))\n",
    "# Number of HPO Text mining symptom terms\n",
    "tg_sym_hp_list = tg_df.hp_id.unique()\n",
    "print('HPO Text mining symptoms (HP): {}'.format(len(tg_sym_hp_list)))\n",
    "# Number of AberOWL symptom terms\n",
    "rh_sym_hp_list = rh_df.hp_id.unique()\n",
    "print('AberOWL symptoms (HP): {}'.format(len(rh_sym_hp_list)))\n",
    "# Coverage\n",
    "ngly1 = set(ngly1_sym_hp_list)\n",
    "hetionet = set(hetionet_sym_hp_list)\n",
    "hsdn = set(hsdn_sym_hp_list)\n",
    "venn3([ngly1,hetionet,hsdn],('NGLY1', 'Hetionet', 'HSDN'))\n",
    "plt.show()\n",
    "# Coverage\n",
    "orphanet = set(orpha_sym_hp_list)\n",
    "venn3([ngly1,hetionet,orphanet],('NGLY1', 'Hetionet', 'Orphanet'))\n",
    "plt.show()\n",
    "# Coverage\n",
    "hpo = set(hpo_sym_hp_list)\n",
    "venn3([ngly1,hetionet,hpo],('NGLY1', 'Hetionet', 'HPO-Curated'))\n",
    "plt.show()\n",
    "# Coverage\n",
    "hpotm = set(tg_sym_hp_list)\n",
    "venn3([ngly1,hetionet,hpotm],('NGLY1', 'Hetionet', 'HPO-TextMining'))\n",
    "plt.show()\n",
    "# Coverage\n",
    "aberowl = set(rh_sym_hp_list)\n",
    "venn3([ngly1,hetionet,aberowl],('NGLY1', 'Hetionet', 'AberOWL'))\n",
    "plt.show()"
   ]
  },
  {
   "cell_type": "code",
   "execution_count": 42,
   "metadata": {},
   "outputs": [
    {
     "data": {
      "image/png": "[encoded data removed]",
      "text/plain": [
       "<matplotlib.figure.Figure at 0x7f358543fd68>"
      ]
     },
     "metadata": {},
     "output_type": "display_data"
    },
    {
     "data": {
      "image/png": "[encoded data removed]",
      "text/plain": [
       "<matplotlib.figure.Figure at 0x7f35855dde80>"
      ]
     },
     "metadata": {},
     "output_type": "display_data"
    },
    {
     "data": {
      "image/png": "[encoded data removed]",
      "text/plain": [
       "<matplotlib.figure.Figure at 0x7f358585d4a8>"
      ]
     },
     "metadata": {},
     "output_type": "display_data"
    }
   ],
   "source": [
    "# Conclusion: All five datasets have NGLY1 symptoms.\n",
    "# Overlap between sources\n",
    "# Curated\n",
    "venn3([ngly1,orphanet,hpo], ('NGLY1', 'Orphanet', 'HPO-Curated'))\n",
    "plt.show()\n",
    "# Text mined \n",
    "venn3([ngly1,aberowl,hpotm], ('NGLY1', 'AberOWL', 'HPO-TextMining'))\n",
    "plt.show()\n",
    "venn3_unweighted([ngly1,aberowl,hpotm], ('NGLY1', 'AberOWL', 'HPO-TextMining'))\n",
    "plt.show()"
   ]
  },
  {
   "cell_type": "code",
   "execution_count": 43,
   "metadata": {},
   "outputs": [
    {
     "name": "stdout",
     "output_type": "stream",
     "text": [
      "Number of NGLY1 symptoms (HP) uncovered with data integration: 27/28\n",
      "Number of NGLY1 symptoms (HP) not covered with data integration: 1/28\n",
      "NGLY1 symptoms (MESH) not covered with data integration:\n"
     ]
    },
    {
     "data": {
      "text/html": [
       "<div>\n",
       "<table border=\"1\" class=\"dataframe\">\n",
       "  <thead>\n",
       "    <tr style=\"text-align: right;\">\n",
       "      <th></th>\n",
       "      <th>hp_code</th>\n",
       "      <th>hp_term</th>\n",
       "    </tr>\n",
       "  </thead>\n",
       "  <tbody>\n",
       "    <tr>\n",
       "      <th>0</th>\n",
       "      <td>HP:0012638</td>\n",
       "      <td>Abnormality of nervous system physiology</td>\n",
       "    </tr>\n",
       "  </tbody>\n",
       "</table>\n",
       "</div>"
      ],
      "text/plain": [
       "      hp_code                                   hp_term\n",
       "0  HP:0012638  Abnormality of nervous system physiology"
      ]
     },
     "execution_count": 43,
     "metadata": {},
     "output_type": "execute_result"
    }
   ],
   "source": [
    "# Data integration: How many NGLY1 symptoms we will recover\n",
    "intersection_hp = (ngly1 & (hsdn | orphanet | hpo | aberowl | hpotm))\n",
    "not_mapped_hp = (ngly1 - intersection_hp)\n",
    "print('Number of NGLY1 symptoms (HP) uncovered with data integration: {}/{}'.format(len(intersection_hp),len(ngly1_sym_hp_list)))\n",
    "print('Number of NGLY1 symptoms (HP) not covered with data integration: {}/{}'.format(len(not_mapped_hp),len(ngly1_sym_hp_list)))\n",
    "print('NGLY1 symptoms (MESH) not covered with data integration:')\n",
    "not_mapped_dict = {'hp_code' : list(not_mapped_hp)}\n",
    "not_mapped_hp_df = pd.DataFrame.from_dict(data=not_mapped_dict)\n",
    "not_mapped_terms_df = pd.merge(not_mapped_hp_df,ngly1_sym_hp_df, on='hp_code')\n",
    "ngly1_hp_not_mapped_terms_df = not_mapped_terms_df\n",
    "not_mapped_terms_df"
   ]
  },
  {
   "cell_type": "code",
   "execution_count": 44,
   "metadata": {},
   "outputs": [
    {
     "name": "stdout",
     "output_type": "stream",
     "text": [
      "NGLY1 symptoms (HP) covered with data integration:\n"
     ]
    },
    {
     "data": {
      "text/html": [
       "<div>\n",
       "<table border=\"1\" class=\"dataframe\">\n",
       "  <thead>\n",
       "    <tr style=\"text-align: right;\">\n",
       "      <th></th>\n",
       "      <th>hp_code</th>\n",
       "      <th>hp_term</th>\n",
       "    </tr>\n",
       "  </thead>\n",
       "  <tbody>\n",
       "    <tr>\n",
       "      <th>0</th>\n",
       "      <td>HP:0002151</td>\n",
       "      <td>Increased serum lactate</td>\n",
       "    </tr>\n",
       "    <tr>\n",
       "      <th>1</th>\n",
       "      <td>HP:0001773</td>\n",
       "      <td>Short foot</td>\n",
       "    </tr>\n",
       "    <tr>\n",
       "      <th>2</th>\n",
       "      <td>HP:0001392</td>\n",
       "      <td>Abnormality of the liver</td>\n",
       "    </tr>\n",
       "    <tr>\n",
       "      <th>3</th>\n",
       "      <td>HP:0006579</td>\n",
       "      <td>Prolonged neonatal jaundice</td>\n",
       "    </tr>\n",
       "    <tr>\n",
       "      <th>4</th>\n",
       "      <td>HP:0010605</td>\n",
       "      <td>Chalazions</td>\n",
       "    </tr>\n",
       "    <tr>\n",
       "      <th>5</th>\n",
       "      <td>HP:0000252</td>\n",
       "      <td>Microcephaly</td>\n",
       "    </tr>\n",
       "    <tr>\n",
       "      <th>6</th>\n",
       "      <td>HP:0002910</td>\n",
       "      <td>Elevated hepatic transaminases</td>\n",
       "    </tr>\n",
       "    <tr>\n",
       "      <th>7</th>\n",
       "      <td>HP:0000522</td>\n",
       "      <td>Alacrima/hypolacrima</td>\n",
       "    </tr>\n",
       "    <tr>\n",
       "      <th>8</th>\n",
       "      <td>HP:0012804</td>\n",
       "      <td>Corneal ulceration</td>\n",
       "    </tr>\n",
       "    <tr>\n",
       "      <th>9</th>\n",
       "      <td>HP:0001263</td>\n",
       "      <td>Global developmental delay</td>\n",
       "    </tr>\n",
       "    <tr>\n",
       "      <th>10</th>\n",
       "      <td>HP:0002019</td>\n",
       "      <td>Constipation</td>\n",
       "    </tr>\n",
       "    <tr>\n",
       "      <th>11</th>\n",
       "      <td>HP:0200055</td>\n",
       "      <td>Small hands</td>\n",
       "    </tr>\n",
       "    <tr>\n",
       "      <th>12</th>\n",
       "      <td>HP:0001252</td>\n",
       "      <td>Muscular hypotonia</td>\n",
       "    </tr>\n",
       "    <tr>\n",
       "      <th>13</th>\n",
       "      <td>HP:0002650</td>\n",
       "      <td>Scoliosis</td>\n",
       "    </tr>\n",
       "    <tr>\n",
       "      <th>14</th>\n",
       "      <td>HP:0001266</td>\n",
       "      <td>Choreoathetosis</td>\n",
       "    </tr>\n",
       "    <tr>\n",
       "      <th>15</th>\n",
       "      <td>HP:0200101</td>\n",
       "      <td>Decreased/absent ankle reflexes</td>\n",
       "    </tr>\n",
       "    <tr>\n",
       "      <th>16</th>\n",
       "      <td>HP:0000007</td>\n",
       "      <td>Autosomal recessive inheritance</td>\n",
       "    </tr>\n",
       "    <tr>\n",
       "      <th>17</th>\n",
       "      <td>HP:0012448</td>\n",
       "      <td>Delayed myelination</td>\n",
       "    </tr>\n",
       "    <tr>\n",
       "      <th>18</th>\n",
       "      <td>HP:0009830</td>\n",
       "      <td>Peripheral neuropathy</td>\n",
       "    </tr>\n",
       "    <tr>\n",
       "      <th>19</th>\n",
       "      <td>HP:0006958</td>\n",
       "      <td>Abnormal auditory evoked potentials</td>\n",
       "    </tr>\n",
       "    <tr>\n",
       "      <th>20</th>\n",
       "      <td>HP:0000657</td>\n",
       "      <td>Oculomotor apraxia</td>\n",
       "    </tr>\n",
       "    <tr>\n",
       "      <th>21</th>\n",
       "      <td>HP:0001395</td>\n",
       "      <td>Hepatic fibrosis</td>\n",
       "    </tr>\n",
       "    <tr>\n",
       "      <th>22</th>\n",
       "      <td>HP:0004305</td>\n",
       "      <td>Involuntary movements</td>\n",
       "    </tr>\n",
       "    <tr>\n",
       "      <th>23</th>\n",
       "      <td>HP:0001250</td>\n",
       "      <td>Seizures</td>\n",
       "    </tr>\n",
       "    <tr>\n",
       "      <th>24</th>\n",
       "      <td>HP:0000486</td>\n",
       "      <td>Strabismus</td>\n",
       "    </tr>\n",
       "    <tr>\n",
       "      <th>25</th>\n",
       "      <td>HP:0006254</td>\n",
       "      <td>Elevated alpha-fetoprotein</td>\n",
       "    </tr>\n",
       "    <tr>\n",
       "      <th>26</th>\n",
       "      <td>HP:0002353</td>\n",
       "      <td>EEG abnormality</td>\n",
       "    </tr>\n",
       "  </tbody>\n",
       "</table>\n",
       "</div>"
      ],
      "text/plain": [
       "       hp_code                              hp_term\n",
       "0   HP:0002151              Increased serum lactate\n",
       "1   HP:0001773                           Short foot\n",
       "2   HP:0001392             Abnormality of the liver\n",
       "3   HP:0006579          Prolonged neonatal jaundice\n",
       "4   HP:0010605                           Chalazions\n",
       "5   HP:0000252                         Microcephaly\n",
       "6   HP:0002910       Elevated hepatic transaminases\n",
       "7   HP:0000522                 Alacrima/hypolacrima\n",
       "8   HP:0012804                   Corneal ulceration\n",
       "9   HP:0001263           Global developmental delay\n",
       "10  HP:0002019                         Constipation\n",
       "11  HP:0200055                          Small hands\n",
       "12  HP:0001252                   Muscular hypotonia\n",
       "13  HP:0002650                            Scoliosis\n",
       "14  HP:0001266                      Choreoathetosis\n",
       "15  HP:0200101      Decreased/absent ankle reflexes\n",
       "16  HP:0000007      Autosomal recessive inheritance\n",
       "17  HP:0012448                  Delayed myelination\n",
       "18  HP:0009830                Peripheral neuropathy\n",
       "19  HP:0006958  Abnormal auditory evoked potentials\n",
       "20  HP:0000657                   Oculomotor apraxia\n",
       "21  HP:0001395                     Hepatic fibrosis\n",
       "22  HP:0004305                Involuntary movements\n",
       "23  HP:0001250                             Seizures\n",
       "24  HP:0000486                           Strabismus\n",
       "25  HP:0006254           Elevated alpha-fetoprotein\n",
       "26  HP:0002353                      EEG abnormality"
      ]
     },
     "execution_count": 44,
     "metadata": {},
     "output_type": "execute_result"
    }
   ],
   "source": [
    "# NLGY symptoms anchor by data integration\n",
    "mapped_dict = {'hp_code' : list(intersection_hp)}\n",
    "mapped_hp_df = pd.DataFrame.from_dict(data=mapped_dict)\n",
    "mapped_terms_df = pd.merge(mapped_hp_df,ngly1_sym_hp_df, on='hp_code')\n",
    "print('NGLY1 symptoms (HP) covered with data integration:')\n",
    "mapped_terms_df"
   ]
  },
  {
   "cell_type": "code",
   "execution_count": 45,
   "metadata": {},
   "outputs": [
    {
     "name": "stdout",
     "output_type": "stream",
     "text": [
      "NGLY1 symptoms (HP) in hetnet: {'HP:0002019', 'HP:0001252', 'HP:0001250'}\n"
     ]
    }
   ],
   "source": [
    "# check 3 HP sym in hetnet\n",
    "ngly1_hetnet = (ngly1 & hetionet)\n",
    "print('NGLY1 symptoms (HP) in hetnet: {}'.format(ngly1_hetnet))"
   ]
  },
  {
   "cell_type": "markdown",
   "metadata": {},
   "source": [
    "## HETNET DISEASES OVERLAPS: hetnet - datasets\n",
    "What dataset covers more hetnet diseases?\n",
    "- AberOWL dataset (136/137)\n",
    "\n",
    "What dataset covers less number?\n",
    "- Orphanet (4/137)\n",
    "\n",
    "Number of hetnet diseases uncovered with data integration: 136/137\n",
    "Number of hetnet diseases not covered with data integration: 1/137\n",
    "Hetnet disease not covered with data integration:\n",
    "\n",
    "doid\tname\tsource\tpathophysiology\n",
    "DOID:9917\tpleural cancer\tDOcancerslim\tneoplastic\n",
    "\n",
    "##### Note: List of hetnet diseases comes from DO nodes integrated in the network; MONDO orphanet2do and DO mesh2do mappings"
   ]
  },
  {
   "cell_type": "code",
   "execution_count": 46,
   "metadata": {},
   "outputs": [
    {
     "data": {
      "text/html": [
       "<div>\n",
       "<table border=\"1\" class=\"dataframe\">\n",
       "  <thead>\n",
       "    <tr style=\"text-align: right;\">\n",
       "      <th></th>\n",
       "      <th>orphanet</th>\n",
       "      <th>do</th>\n",
       "    </tr>\n",
       "  </thead>\n",
       "  <tbody>\n",
       "    <tr>\n",
       "      <th>0</th>\n",
       "      <td>Orphanet:205</td>\n",
       "      <td>DOID:3803</td>\n",
       "    </tr>\n",
       "    <tr>\n",
       "      <th>1</th>\n",
       "      <td>Orphanet:79213</td>\n",
       "      <td>DOID:12798</td>\n",
       "    </tr>\n",
       "  </tbody>\n",
       "</table>\n",
       "</div>"
      ],
      "text/plain": [
       "         orphanet          do\n",
       "0    Orphanet:205   DOID:3803\n",
       "1  Orphanet:79213  DOID:12798"
      ]
     },
     "execution_count": 46,
     "metadata": {},
     "output_type": "execute_result"
    }
   ],
   "source": [
    "# Load mondo orphanet2do mappings\n",
    "mondo_mappings = pd.read_table(\"/home/nuria/workspace/repurposing-hetio/rephetio-dhimmelstein/hetionet+hpo/data-JAN2016/mondo-orpha2do-mappings.tsv\".format(path))\n",
    "mondo_mappings.head(2)"
   ]
  },
  {
   "cell_type": "code",
   "execution_count": 47,
   "metadata": {},
   "outputs": [
    {
     "data": {
      "text/html": [
       "<div>\n",
       "<table border=\"1\" class=\"dataframe\">\n",
       "  <thead>\n",
       "    <tr style=\"text-align: right;\">\n",
       "      <th></th>\n",
       "      <th>doid</th>\n",
       "      <th>name</th>\n",
       "      <th>source</th>\n",
       "      <th>pathophysiology</th>\n",
       "    </tr>\n",
       "  </thead>\n",
       "  <tbody>\n",
       "    <tr>\n",
       "      <th>0</th>\n",
       "      <td>DOID:2531</td>\n",
       "      <td>hematologic cancer</td>\n",
       "      <td>DOcancerslim</td>\n",
       "      <td>neoplastic</td>\n",
       "    </tr>\n",
       "    <tr>\n",
       "      <th>1</th>\n",
       "      <td>DOID:1319</td>\n",
       "      <td>brain cancer</td>\n",
       "      <td>DOcancerslim</td>\n",
       "      <td>neoplastic</td>\n",
       "    </tr>\n",
       "  </tbody>\n",
       "</table>\n",
       "</div>"
      ],
      "text/plain": [
       "        doid                name        source pathophysiology\n",
       "0  DOID:2531  hematologic cancer  DOcancerslim      neoplastic\n",
       "1  DOID:1319        brain cancer  DOcancerslim      neoplastic"
      ]
     },
     "execution_count": 47,
     "metadata": {},
     "output_type": "execute_result"
    }
   ],
   "source": [
    "# load hetnet diseases (DO)\n",
    "# source: Disease nodes from hetionet v1.0 [https://github.com/dhimmel/integrate/blob/master/integrate.ipynb]\n",
    "commit = '75050ea2d4f60e745d3f3578ae03560a2cc0e444'\n",
    "#url = rawgit('dhimmel', 'disease-ontology', commit, 'data/slim-terms.tsv')\n",
    "url = 'https://raw.githubusercontent.com/dhimmel/disease-ontology/' + commit + '/data/slim-terms.tsv'\n",
    "hetionet_dis_do_df = pd.read_table(url)\n",
    "hetionet_dis_do_df.head(2)\n",
    "#len(hetionet_dis_do_df.doid.unique()) # 137"
   ]
  },
  {
   "cell_type": "code",
   "execution_count": 48,
   "metadata": {},
   "outputs": [
    {
     "name": "stdout",
     "output_type": "stream",
     "text": [
      "Hetionet diseases (DO): 137\n",
      "HSDN diseases (DO): 2516\n",
      "Orphanet diseases (DO): 612\n",
      "HPO Curated diseases (DO): 1317\n",
      "HPO text mining diseases (DO): 2086\n",
      "AberOWL diseases (DO): 6100\n"
     ]
    },
    {
     "data": {
      "image/png": "[encoded data removed]",
      "text/plain": [
       "<matplotlib.figure.Figure at 0x7f35853de5c0>"
      ]
     },
     "metadata": {},
     "output_type": "display_data"
    },
    {
     "data": {
      "image/png": "[encoded data removed]",
      "text/plain": [
       "<matplotlib.figure.Figure at 0x7f35853d3128>"
      ]
     },
     "metadata": {},
     "output_type": "display_data"
    },
    {
     "data": {
      "image/png": "[encoded data removed]",
      "text/plain": [
       "<matplotlib.figure.Figure at 0x7f3585629f60>"
      ]
     },
     "metadata": {},
     "output_type": "display_data"
    },
    {
     "data": {
      "image/png": "[encoded data removed]",
      "text/plain": [
       "<matplotlib.figure.Figure at 0x7f35856b3438>"
      ]
     },
     "metadata": {},
     "output_type": "display_data"
    },
    {
     "data": {
      "image/png": "[encoded data removed]",
      "text/plain": [
       "<matplotlib.figure.Figure at 0x7f35852ddb00>"
      ]
     },
     "metadata": {},
     "output_type": "display_data"
    },
    {
     "data": {
      "image/png": "[encoded data removed]",
      "text/plain": [
       "<matplotlib.figure.Figure at 0x7f35852b9be0>"
      ]
     },
     "metadata": {},
     "output_type": "display_data"
    },
    {
     "data": {
      "image/png": "[encoded data removed]",
      "text/plain": [
       "<matplotlib.figure.Figure at 0x7f3585289a90>"
      ]
     },
     "metadata": {},
     "output_type": "display_data"
    },
    {
     "data": {
      "image/png": "[encoded data removed]",
      "text/plain": [
       "<matplotlib.figure.Figure at 0x7f35852b9ef0>"
      ]
     },
     "metadata": {},
     "output_type": "display_data"
    }
   ],
   "source": [
    "# hetionet\n",
    "hetionet_dis_do_list = hetionet_dis_do_df.doid.unique()\n",
    "hetionet = set(hetionet_dis_do_list)\n",
    "# hsdn (DO do2mesh mappings)\n",
    "do_mappings = pd.read_table('/home/nuria/workspace/repurposing-hetio/rephetio-dhimmelstein/hetionet+hpo/data-JAN2016/do-do2mesh-mappings.tsv')\n",
    "do_mappings.head(2)\n",
    "hsdn_dis_do_df = hsdn_df.merge(do_mappings, left_on='disease_meshid', right_on='mesh_code')\n",
    "hsdn_dis_do_list = hsdn_dis_do_df.do_code.unique()\n",
    "hsdn = set(hsdn_dis_do_list)\n",
    "# Orphanet (MONDO orphanet2do mappings)\n",
    "orpha_dis_do_df = orphanet_df.merge(mondo_mappings, left_on='orphanet_code', right_on='orphanet')\n",
    "orpha_dis_do_list =orpha_dis_do_df.do.unique()\n",
    "orphanet = set(orpha_dis_do_list)\n",
    "# HPO Curated\n",
    "hpo_dis_do_list = hpo_df.do_id.unique()\n",
    "hpo = set(hpo_dis_do_list)\n",
    "# Groza\n",
    "tg_dis_do_list = tg_df.do_id.unique()\n",
    "hpotm = set(tg_dis_do_list)\n",
    "# Hoehndorf\n",
    "rh_dis_do_list = rh_df.do_id.unique()\n",
    "aberowl = set(rh_dis_do_list)\n",
    "# Counts\n",
    "print('Hetionet diseases (DO): {}'.format(len(hetionet_dis_do_list)))\n",
    "print('HSDN diseases (DO): {}'.format(len(hsdn_dis_do_list)))\n",
    "print('Orphanet diseases (DO): {}'.format(len(orpha_dis_do_list)))\n",
    "print('HPO Curated diseases (DO): {}'.format(len(hpo_dis_do_list)))\n",
    "print('HPO text mining diseases (DO): {}'.format(len(tg_dis_do_list)))\n",
    "print('AberOWL diseases (DO): {}'.format(len(rh_dis_do_list)))\n",
    "# Coverage\n",
    "venn2([hetionet,hsdn],('Hetionet', 'HSDN'))\n",
    "plt.show()\n",
    "venn2([hetionet,orphanet],('Hetionet', 'Orphanet'))\n",
    "plt.show()\n",
    "venn2([hetionet,hpo],('Hetionet', 'HPO-Curated'))\n",
    "plt.show()\n",
    "venn2([hetionet,hpotm],('Hetionet', 'HPO-TextMining'))\n",
    "plt.show()\n",
    "venn2([hetionet,aberowl],('Hetionet', 'AberOWL'))\n",
    "plt.show()\n",
    "# Overlap between sources\n",
    "# Curated\n",
    "venn3([hetionet,orphanet,hpo], ('Hetionet', 'Orphanet', 'HPO-Curated'))\n",
    "plt.show()\n",
    "# Data mined\n",
    "venn2([hetionet,hsdn], ('Hetionet', 'HSDN'))\n",
    "plt.show()\n",
    "# Text mined \n",
    "venn3([hetionet,aberowl,hpotm], ('Hetionet', 'AberOWL', 'HPO-TextMining'))\n",
    "plt.show()"
   ]
  },
  {
   "cell_type": "code",
   "execution_count": 49,
   "metadata": {},
   "outputs": [
    {
     "name": "stdout",
     "output_type": "stream",
     "text": [
      "Number of hetnet diseases uncovered with data integration: 136/137\n",
      "Number of hetnet diseases not covered with data integration: 1/137\n",
      "Hetnet diseases not covered with data integration:\n"
     ]
    },
    {
     "data": {
      "text/html": [
       "<div>\n",
       "<table border=\"1\" class=\"dataframe\">\n",
       "  <thead>\n",
       "    <tr style=\"text-align: right;\">\n",
       "      <th></th>\n",
       "      <th>doid</th>\n",
       "      <th>name</th>\n",
       "      <th>source</th>\n",
       "      <th>pathophysiology</th>\n",
       "    </tr>\n",
       "  </thead>\n",
       "  <tbody>\n",
       "    <tr>\n",
       "      <th>0</th>\n",
       "      <td>DOID:9917</td>\n",
       "      <td>pleural cancer</td>\n",
       "      <td>DOcancerslim</td>\n",
       "      <td>neoplastic</td>\n",
       "    </tr>\n",
       "  </tbody>\n",
       "</table>\n",
       "</div>"
      ],
      "text/plain": [
       "        doid            name        source pathophysiology\n",
       "0  DOID:9917  pleural cancer  DOcancerslim      neoplastic"
      ]
     },
     "execution_count": 49,
     "metadata": {},
     "output_type": "execute_result"
    }
   ],
   "source": [
    "# Data integration: How many hetnet diseases we will recover\n",
    "intersection_do = (hetionet & (hsdn | orphanet | hpo | aberowl | hpotm))\n",
    "not_mapped_do = (hetionet - intersection_do)\n",
    "print('Number of hetnet diseases uncovered with data integration: {}/{}'.format(len(intersection_do),len(hetionet_dis_do_list)))\n",
    "print('Number of hetnet diseases not covered with data integration: {}/{}'.format(len(not_mapped_do),len(hetionet_dis_do_list)))\n",
    "print('Hetnet diseases not covered with data integration:')\n",
    "not_mapped_dict = {'doid' : list(not_mapped_do)}\n",
    "not_mapped_do_df = pd.DataFrame.from_dict(data=not_mapped_dict)\n",
    "not_mapped_terms_df = pd.merge(not_mapped_do_df,hetionet_dis_do_df, on='doid')\n",
    "not_mapped_terms_df"
   ]
  },
  {
   "cell_type": "markdown",
   "metadata": {},
   "source": [
    "## NGLY1 SYM - HETNET DIS ASSOCIATIONS"
   ]
  },
  {
   "cell_type": "code",
   "execution_count": 50,
   "metadata": {},
   "outputs": [
    {
     "data": {
      "text/html": [
       "<div>\n",
       "<table border=\"1\" class=\"dataframe\">\n",
       "  <thead>\n",
       "    <tr style=\"text-align: right;\">\n",
       "      <th></th>\n",
       "      <th>hp_code</th>\n",
       "      <th>mesh_code</th>\n",
       "    </tr>\n",
       "  </thead>\n",
       "  <tbody>\n",
       "    <tr>\n",
       "      <th>0</th>\n",
       "      <td>HP:0200042</td>\n",
       "      <td>MESH:D012883</td>\n",
       "    </tr>\n",
       "    <tr>\n",
       "      <th>1</th>\n",
       "      <td>HP:0000873</td>\n",
       "      <td>MESH:D003919</td>\n",
       "    </tr>\n",
       "  </tbody>\n",
       "</table>\n",
       "</div>"
      ],
      "text/plain": [
       "      hp_code     mesh_code\n",
       "0  HP:0200042  MESH:D012883\n",
       "1  HP:0000873  MESH:D003919"
      ]
     },
     "execution_count": 50,
     "metadata": {},
     "output_type": "execute_result"
    }
   ],
   "source": [
    "# mappings\n",
    "hpo_umls_mappings = hpo_umls_mappings.loc[:,['hp_code', 'mesh_code']]\n",
    "hpo_umls_mappings.head(2)"
   ]
  },
  {
   "cell_type": "markdown",
   "metadata": {},
   "source": [
    "### OVERLAP DO-MESH"
   ]
  },
  {
   "cell_type": "code",
   "execution_count": 51,
   "metadata": {},
   "outputs": [
    {
     "data": {
      "text/html": [
       "<div>\n",
       "<table border=\"1\" class=\"dataframe\">\n",
       "  <thead>\n",
       "    <tr style=\"text-align: right;\">\n",
       "      <th></th>\n",
       "      <th>doid_code</th>\n",
       "    </tr>\n",
       "  </thead>\n",
       "  <tbody>\n",
       "    <tr>\n",
       "      <th>0</th>\n",
       "      <td>DOID:2531</td>\n",
       "    </tr>\n",
       "    <tr>\n",
       "      <th>1</th>\n",
       "      <td>DOID:1319</td>\n",
       "    </tr>\n",
       "  </tbody>\n",
       "</table>\n",
       "</div>"
      ],
      "text/plain": [
       "   doid_code\n",
       "0  DOID:2531\n",
       "1  DOID:1319"
      ]
     },
     "execution_count": 51,
     "metadata": {},
     "output_type": "execute_result"
    }
   ],
   "source": [
    "# hetionet diseases\n",
    "hetionet_do_mesh_df = hetionet_df.loc[:,['doid_code', 'mesh_id']]\n",
    "hetionet_do_mesh_df['association'] = hetionet_do_mesh_df.loc[:,['doid_code', 'mesh_id']].apply(lambda x: '-'.join(x), axis=1)\n",
    "len(hetionet_do_mesh_df) # 56658\n",
    "hetionet = set(hetionet_do_mesh_df.association)\n",
    "len(hetionet) # 56658\n",
    "len(hetionet_df[['doid_code']].drop_duplicates()) # DisPhe set: 133 diseases\n",
    "len(hetionet_dis_do_df[['doid']].drop_duplicates()) # Hetionet disease list (DO slim list): 137 diseases\n",
    "hetnet_df = pd.DataFrame(columns=['doid'])\n",
    "hetnet_df['doid'] = hetionet_dis_do_df[['doid']]\n",
    "hetnet_df.rename(columns={'doid' : 'doid_code'}, inplace=True)\n",
    "hetnet_df.head(2) # 137 diseases "
   ]
  },
  {
   "cell_type": "code",
   "execution_count": 52,
   "metadata": {},
   "outputs": [
    {
     "data": {
      "text/html": [
       "<div>\n",
       "<table border=\"1\" class=\"dataframe\">\n",
       "  <thead>\n",
       "    <tr style=\"text-align: right;\">\n",
       "      <th></th>\n",
       "      <th>mesh_code</th>\n",
       "    </tr>\n",
       "  </thead>\n",
       "  <tbody>\n",
       "    <tr>\n",
       "      <th>0</th>\n",
       "      <td>MESH:D005317</td>\n",
       "    </tr>\n",
       "    <tr>\n",
       "      <th>1</th>\n",
       "      <td>MESH:D012600</td>\n",
       "    </tr>\n",
       "    <tr>\n",
       "      <th>2</th>\n",
       "      <td>MESH:D007567</td>\n",
       "    </tr>\n",
       "    <tr>\n",
       "      <th>3</th>\n",
       "      <td>MESH:D065906</td>\n",
       "    </tr>\n",
       "    <tr>\n",
       "      <th>4</th>\n",
       "      <td>MESH:C562827</td>\n",
       "    </tr>\n",
       "    <tr>\n",
       "      <th>5</th>\n",
       "      <td>MESH:D008103</td>\n",
       "    </tr>\n",
       "    <tr>\n",
       "      <th>6</th>\n",
       "      <td>MESH:D008831</td>\n",
       "    </tr>\n",
       "    <tr>\n",
       "      <th>7</th>\n",
       "      <td>MESH:D003320</td>\n",
       "    </tr>\n",
       "    <tr>\n",
       "      <th>8</th>\n",
       "      <td>MESH:D009069</td>\n",
       "    </tr>\n",
       "    <tr>\n",
       "      <th>9</th>\n",
       "      <td>MESH:D002658</td>\n",
       "    </tr>\n",
       "    <tr>\n",
       "      <th>10</th>\n",
       "      <td>MESH:D013285</td>\n",
       "    </tr>\n",
       "    <tr>\n",
       "      <th>11</th>\n",
       "      <td>MESH:D017043</td>\n",
       "    </tr>\n",
       "  </tbody>\n",
       "</table>\n",
       "</div>"
      ],
      "text/plain": [
       "       mesh_code\n",
       "0   MESH:D005317\n",
       "1   MESH:D012600\n",
       "2   MESH:D007567\n",
       "3   MESH:D065906\n",
       "4   MESH:C562827\n",
       "5   MESH:D008103\n",
       "6   MESH:D008831\n",
       "7   MESH:D003320\n",
       "8   MESH:D009069\n",
       "9   MESH:D002658\n",
       "10  MESH:D013285\n",
       "11  MESH:D017043"
      ]
     },
     "execution_count": 52,
     "metadata": {},
     "output_type": "execute_result"
    }
   ],
   "source": [
    "# ngly mesh sym not in hetnet\n",
    "ngly1_sym_mesh_total = set(ngly1_sym_mesh_df.mesh_code)\n",
    "ngly1_sym_mesh_InHetnet = (ngly1_sym_mesh_total & set(hetionet_do_mesh_df.mesh_id))\n",
    "ngly1_sym_mesh_notInHetnet = ( ngly1_sym_mesh_total - ngly1_sym_mesh_InHetnet )\n",
    "len(ngly1_sym_mesh_notInHetnet) # 10\n",
    "ndict = {'mesh_code' : list(ngly1_sym_mesh_notInHetnet)}\n",
    "ngly1_df = pd.DataFrame.from_dict(data=ndict)\n",
    "ngly1_df # 10 symptoms (hyperlactatemia (MESH:D065906) node is in hetnet but without sym edge)"
   ]
  },
  {
   "cell_type": "code",
   "execution_count": 53,
   "metadata": {
    "collapsed": true
   },
   "outputs": [],
   "source": [
    "# HSDN (0 new ngly1 sym mesh)"
   ]
  },
  {
   "cell_type": "code",
   "execution_count": 54,
   "metadata": {},
   "outputs": [
    {
     "data": {
      "text/html": [
       "<div>\n",
       "<table border=\"1\" class=\"dataframe\">\n",
       "  <thead>\n",
       "    <tr style=\"text-align: right;\">\n",
       "      <th></th>\n",
       "      <th>doid_code</th>\n",
       "      <th>mesh_code</th>\n",
       "      <th>association</th>\n",
       "    </tr>\n",
       "  </thead>\n",
       "  <tbody>\n",
       "    <tr>\n",
       "      <th>0</th>\n",
       "      <td>DOID:3753</td>\n",
       "      <td>MESH:D051437</td>\n",
       "      <td>DOID:3753-MESH:D051437</td>\n",
       "    </tr>\n",
       "    <tr>\n",
       "      <th>1</th>\n",
       "      <td>DOID:12387</td>\n",
       "      <td>MESH:D051437</td>\n",
       "      <td>DOID:12387-MESH:D051437</td>\n",
       "    </tr>\n",
       "  </tbody>\n",
       "</table>\n",
       "</div>"
      ],
      "text/plain": [
       "    doid_code     mesh_code              association\n",
       "0   DOID:3753  MESH:D051437   DOID:3753-MESH:D051437\n",
       "1  DOID:12387  MESH:D051437  DOID:12387-MESH:D051437"
      ]
     },
     "execution_count": 54,
     "metadata": {},
     "output_type": "execute_result"
    }
   ],
   "source": [
    "# orphanet (5 new ngly1 sym mesh)\n",
    "orpha_ordo2do_hp_df = orphanet_df.merge(mondo_mappings, left_on='orphanet_code', right_on='orphanet')\n",
    "orpha_ordo2do_hp2mesh_df = orpha_ordo2do_hp_df.merge(hpo_umls_mappings, on='hp_code')\n",
    "orpha_df = orpha_ordo2do_hp2mesh_df.loc[:,['do', 'mesh_code']]\n",
    "orpha_df['association'] = orpha_df.loc[:, ['do', 'mesh_code']].apply(lambda x: '-'.join(x), axis =1)\n",
    "orpha_df.rename(columns={'do' : 'doid_code'}, inplace=True)\n",
    "orpha_df.head(2) # 7370"
   ]
  },
  {
   "cell_type": "code",
   "execution_count": 55,
   "metadata": {},
   "outputs": [
    {
     "data": {
      "text/plain": [
       "(0, 3)"
      ]
     },
     "execution_count": 55,
     "metadata": {},
     "output_type": "execute_result"
    }
   ],
   "source": [
    "# subsetting the associations with a ngly1 sym and a hetnet disease\n",
    "orpha_ngly1_df = orpha_df.merge(ngly1_df, on='mesh_code'); orpha_ngly1_df.shape # 280 ass with ngly1\n",
    "orpha_het_df = orpha_df.merge(hetnet_df, on='doid_code'); orpha_het_df.shape # 75 ass with het diseases\n",
    "orpha_het_ngly1_df = orpha_ngly1_df.merge(hetnet_df, on='doid_code'); orpha_het_ngly1_df.shape # 0 ass ngly1 - het diseases"
   ]
  },
  {
   "cell_type": "code",
   "execution_count": 56,
   "metadata": {},
   "outputs": [
    {
     "data": {
      "image/png": "[encoded data removed]",
      "text/plain": [
       "<matplotlib.figure.Figure at 0x7f358548dac8>"
      ]
     },
     "metadata": {},
     "output_type": "display_data"
    },
    {
     "data": {
      "image/png": "[encoded data removed]",
      "text/plain": [
       "<matplotlib.figure.Figure at 0x7f3585648080>"
      ]
     },
     "metadata": {},
     "output_type": "display_data"
    }
   ],
   "source": [
    "# no direct hetnet_disease-ngly1_symptom edges in Orphanet\n",
    "# ngly1 symptoms not in hetionet that have disease annotation in an external source\n",
    "orpha_ngly1 = set(orpha_ngly1_df.association)\n",
    "orpha_hetnet = set(orpha_het_df.association)\n",
    "venn2([hetionet,orpha_ngly1], ('Hetionet', 'Orphanet'))\n",
    "plt.show()\n",
    "venn3_unweighted([hetionet,orpha_ngly1,orpha_hetnet], ('Hetionet', 'Orphanet-NGLY1-Symptoms', 'Orphanet-Hetnet-Diseases'))\n",
    "plt.show()"
   ]
  },
  {
   "cell_type": "code",
   "execution_count": 57,
   "metadata": {},
   "outputs": [
    {
     "data": {
      "text/html": [
       "<div>\n",
       "<table border=\"1\" class=\"dataframe\">\n",
       "  <thead>\n",
       "    <tr style=\"text-align: right;\">\n",
       "      <th></th>\n",
       "      <th>doid_code</th>\n",
       "      <th>mesh_code</th>\n",
       "      <th>association</th>\n",
       "    </tr>\n",
       "  </thead>\n",
       "  <tbody>\n",
       "    <tr>\n",
       "      <th>0</th>\n",
       "      <td>DOID:1440</td>\n",
       "      <td>MESH:D001763</td>\n",
       "      <td>DOID:1440-MESH:D001763</td>\n",
       "    </tr>\n",
       "    <tr>\n",
       "      <th>1</th>\n",
       "      <td>DOID:0060391</td>\n",
       "      <td>MESH:D001763</td>\n",
       "      <td>DOID:0060391-MESH:D001763</td>\n",
       "    </tr>\n",
       "  </tbody>\n",
       "</table>\n",
       "</div>"
      ],
      "text/plain": [
       "      doid_code     mesh_code                association\n",
       "0     DOID:1440  MESH:D001763     DOID:1440-MESH:D001763\n",
       "1  DOID:0060391  MESH:D001763  DOID:0060391-MESH:D001763"
      ]
     },
     "execution_count": 57,
     "metadata": {},
     "output_type": "execute_result"
    }
   ],
   "source": [
    "# HPO Curated (6 new ngly1 sym mesh)\n",
    "hpo_df.rename(columns={'do_id' : 'doid_code', 'hp_id' : 'hp_code' }, inplace=True)\n",
    "hpo_hp2mesh_df = hpo_df.merge(hpo_umls_mappings, on='hp_code')\n",
    "# Lost diseases due to mapping:\n",
    "len(hpo_df.doid_code.unique()) # 1317\n",
    "len(hpo_hp2mesh_df.doid_code.unique()) # 1251\n",
    "hpoc_df = hpo_hp2mesh_df.loc[:,['doid_code', 'mesh_code']]\n",
    "hpoc_df['association'] = hpoc_df.loc[:, ['doid_code', 'mesh_code']].apply(lambda x: '-'.join(x), axis =1)\n",
    "hpoc_df.head(2) # 14400"
   ]
  },
  {
   "cell_type": "code",
   "execution_count": 58,
   "metadata": {},
   "outputs": [
    {
     "data": {
      "text/plain": [
       "(3, 3)"
      ]
     },
     "execution_count": 58,
     "metadata": {},
     "output_type": "execute_result"
    }
   ],
   "source": [
    "# subsetting the associations with a ngly1 sym and a hetnet disease\n",
    "hpo_ngly1_df = hpoc_df.merge(ngly1_df, on='mesh_code'); hpo_ngly1_df.shape # 573 ass with ngly1\n",
    "hpo_het_df = hpoc_df.merge(hetnet_df, on='doid_code'); hpo_het_df.shape # 430 ass with het diseases\n",
    "hpo_het_ngly1_df = hpo_ngly1_df.merge(hetnet_df, on='doid_code'); hpo_het_ngly1_df.shape # 3 ass ngly1 - het diseases"
   ]
  },
  {
   "cell_type": "code",
   "execution_count": 59,
   "metadata": {},
   "outputs": [
    {
     "data": {
      "text/html": [
       "<div>\n",
       "<table border=\"1\" class=\"dataframe\">\n",
       "  <thead>\n",
       "    <tr style=\"text-align: right;\">\n",
       "      <th></th>\n",
       "      <th>doid_code</th>\n",
       "      <th>mesh_code</th>\n",
       "      <th>association</th>\n",
       "    </tr>\n",
       "  </thead>\n",
       "  <tbody>\n",
       "    <tr>\n",
       "      <th>0</th>\n",
       "      <td>DOID:0050156</td>\n",
       "      <td>MESH:D008103</td>\n",
       "      <td>DOID:0050156-MESH:D008103</td>\n",
       "    </tr>\n",
       "    <tr>\n",
       "      <th>1</th>\n",
       "      <td>DOID:12849</td>\n",
       "      <td>MESH:D013285</td>\n",
       "      <td>DOID:12849-MESH:D013285</td>\n",
       "    </tr>\n",
       "    <tr>\n",
       "      <th>2</th>\n",
       "      <td>DOID:12849</td>\n",
       "      <td>MESH:D012600</td>\n",
       "      <td>DOID:12849-MESH:D012600</td>\n",
       "    </tr>\n",
       "  </tbody>\n",
       "</table>\n",
       "</div>"
      ],
      "text/plain": [
       "      doid_code     mesh_code                association\n",
       "0  DOID:0050156  MESH:D008103  DOID:0050156-MESH:D008103\n",
       "1    DOID:12849  MESH:D013285    DOID:12849-MESH:D013285\n",
       "2    DOID:12849  MESH:D012600    DOID:12849-MESH:D012600"
      ]
     },
     "execution_count": 59,
     "metadata": {},
     "output_type": "execute_result"
    }
   ],
   "source": [
    "# 3 direct hetnet_disease-ngly1_symptom edges in HPO Curated\n",
    "hpo_het_ngly1_df"
   ]
  },
  {
   "cell_type": "code",
   "execution_count": 60,
   "metadata": {},
   "outputs": [
    {
     "data": {
      "image/png": "[encoded data removed]",
      "text/plain": [
       "<matplotlib.figure.Figure at 0x7f35852bd668>"
      ]
     },
     "metadata": {},
     "output_type": "display_data"
    },
    {
     "data": {
      "image/png": "[encoded data removed]",
      "text/plain": [
       "<matplotlib.figure.Figure at 0x7f3584eee128>"
      ]
     },
     "metadata": {},
     "output_type": "display_data"
    }
   ],
   "source": [
    "# ngly1 symptoms not in hetionet that have disease annotation in an external source\n",
    "hpoc_ngly1 = set(hpo_ngly1_df.association)\n",
    "hpoc_hetnet = set(hpo_het_df.association)\n",
    "venn2([hetionet,hpoc_ngly1], ('Hetionet', 'HPO-Curated'))\n",
    "plt.show()\n",
    "venn3_unweighted([hetionet,hpoc_ngly1,hpoc_hetnet], ('Hetionet', 'HPO-Curated-NGLY1-Symptoms', 'HPO-Curated-Hetnet-Diseases'))\n",
    "plt.show()"
   ]
  },
  {
   "cell_type": "code",
   "execution_count": 61,
   "metadata": {},
   "outputs": [
    {
     "data": {
      "text/html": [
       "<div>\n",
       "<table border=\"1\" class=\"dataframe\">\n",
       "  <thead>\n",
       "    <tr style=\"text-align: right;\">\n",
       "      <th></th>\n",
       "      <th>doid_code</th>\n",
       "      <th>mesh_code</th>\n",
       "      <th>association</th>\n",
       "    </tr>\n",
       "  </thead>\n",
       "  <tbody>\n",
       "    <tr>\n",
       "      <th>0</th>\n",
       "      <td>DOID:11512</td>\n",
       "      <td>MESH:D006502</td>\n",
       "      <td>DOID:11512-MESH:D006502</td>\n",
       "    </tr>\n",
       "    <tr>\n",
       "      <th>1</th>\n",
       "      <td>DOID:2988</td>\n",
       "      <td>MESH:D006502</td>\n",
       "      <td>DOID:2988-MESH:D006502</td>\n",
       "    </tr>\n",
       "  </tbody>\n",
       "</table>\n",
       "</div>"
      ],
      "text/plain": [
       "    doid_code     mesh_code              association\n",
       "0  DOID:11512  MESH:D006502  DOID:11512-MESH:D006502\n",
       "1   DOID:2988  MESH:D006502   DOID:2988-MESH:D006502"
      ]
     },
     "execution_count": 61,
     "metadata": {},
     "output_type": "execute_result"
    }
   ],
   "source": [
    "# HPO Text mining (6 new ngly1 sym mesh)\n",
    "tg_df.rename(columns={'do_id':'doid_code', 'hp_id':'hp_code'}, inplace=True)\n",
    "hpotg_hp2mesh_df = tg_df.merge(hpo_umls_mappings, on='hp_code')\n",
    "# Lost diseases due to mapping:\n",
    "len(tg_df.doid_code.unique()) # 2086\n",
    "len(hpotg_hp2mesh_df.doid_code.unique()) # 2081\n",
    "hpotg_df = hpotg_hp2mesh_df.loc[:,['doid_code', 'mesh_code']]\n",
    "hpotg_df['association'] = hpotg_df.loc[:, ['doid_code', 'mesh_code']].apply(lambda x: '-'.join(x), axis =1)\n",
    "hpotg_df.head(2) # 61563"
   ]
  },
  {
   "cell_type": "code",
   "execution_count": 62,
   "metadata": {},
   "outputs": [
    {
     "data": {
      "text/plain": [
       "(19, 3)"
      ]
     },
     "execution_count": 62,
     "metadata": {},
     "output_type": "execute_result"
    }
   ],
   "source": [
    "# subsetting the associations with a ngly1 sym and a hetnet disease\n",
    "hpotg_ngly1_df = hpotg_df.merge(ngly1_df, on='mesh_code'); hpotg_ngly1_df.shape # 413 ass with ngly1\n",
    "hpotg_het_df = hpotg_df.merge(hetnet_df, on='doid_code'); hpotg_het_df.shape # 5908 ass with het diseases\n",
    "hpotg_het_ngly1_df = hpotg_ngly1_df.merge(hetnet_df, on='doid_code'); hpotg_het_ngly1_df.shape # 19 ass ngly1 - het diseases"
   ]
  },
  {
   "cell_type": "code",
   "execution_count": 63,
   "metadata": {},
   "outputs": [
    {
     "data": {
      "text/html": [
       "<div>\n",
       "<table border=\"1\" class=\"dataframe\">\n",
       "  <thead>\n",
       "    <tr style=\"text-align: right;\">\n",
       "      <th></th>\n",
       "      <th>doid_code</th>\n",
       "      <th>mesh_code</th>\n",
       "      <th>association</th>\n",
       "    </tr>\n",
       "  </thead>\n",
       "  <tbody>\n",
       "    <tr>\n",
       "      <th>0</th>\n",
       "      <td>DOID:14221</td>\n",
       "      <td>MESH:D008103</td>\n",
       "      <td>DOID:14221-MESH:D008103</td>\n",
       "    </tr>\n",
       "    <tr>\n",
       "      <th>1</th>\n",
       "      <td>DOID:263</td>\n",
       "      <td>MESH:D008103</td>\n",
       "      <td>DOID:263-MESH:D008103</td>\n",
       "    </tr>\n",
       "    <tr>\n",
       "      <th>2</th>\n",
       "      <td>DOID:7148</td>\n",
       "      <td>MESH:D008103</td>\n",
       "      <td>DOID:7148-MESH:D008103</td>\n",
       "    </tr>\n",
       "    <tr>\n",
       "      <th>3</th>\n",
       "      <td>DOID:9744</td>\n",
       "      <td>MESH:D008103</td>\n",
       "      <td>DOID:9744-MESH:D008103</td>\n",
       "    </tr>\n",
       "    <tr>\n",
       "      <th>4</th>\n",
       "      <td>DOID:9352</td>\n",
       "      <td>MESH:D008103</td>\n",
       "      <td>DOID:9352-MESH:D008103</td>\n",
       "    </tr>\n",
       "    <tr>\n",
       "      <th>5</th>\n",
       "      <td>DOID:2986</td>\n",
       "      <td>MESH:D008103</td>\n",
       "      <td>DOID:2986-MESH:D008103</td>\n",
       "    </tr>\n",
       "    <tr>\n",
       "      <th>6</th>\n",
       "      <td>DOID:3571</td>\n",
       "      <td>MESH:D008103</td>\n",
       "      <td>DOID:3571-MESH:D008103</td>\n",
       "    </tr>\n",
       "    <tr>\n",
       "      <th>7</th>\n",
       "      <td>DOID:9074</td>\n",
       "      <td>MESH:D008103</td>\n",
       "      <td>DOID:9074-MESH:D008103</td>\n",
       "    </tr>\n",
       "    <tr>\n",
       "      <th>8</th>\n",
       "      <td>DOID:2043</td>\n",
       "      <td>MESH:D008103</td>\n",
       "      <td>DOID:2043-MESH:D008103</td>\n",
       "    </tr>\n",
       "    <tr>\n",
       "      <th>9</th>\n",
       "      <td>DOID:1459</td>\n",
       "      <td>MESH:D008103</td>\n",
       "      <td>DOID:1459-MESH:D008103</td>\n",
       "    </tr>\n",
       "    <tr>\n",
       "      <th>10</th>\n",
       "      <td>DOID:784</td>\n",
       "      <td>MESH:D008103</td>\n",
       "      <td>DOID:784-MESH:D008103</td>\n",
       "    </tr>\n",
       "    <tr>\n",
       "      <th>11</th>\n",
       "      <td>DOID:14268</td>\n",
       "      <td>MESH:D008103</td>\n",
       "      <td>DOID:14268-MESH:D008103</td>\n",
       "    </tr>\n",
       "    <tr>\n",
       "      <th>12</th>\n",
       "      <td>DOID:10763</td>\n",
       "      <td>MESH:D008103</td>\n",
       "      <td>DOID:10763-MESH:D008103</td>\n",
       "    </tr>\n",
       "    <tr>\n",
       "      <th>13</th>\n",
       "      <td>DOID:12236</td>\n",
       "      <td>MESH:D008103</td>\n",
       "      <td>DOID:12236-MESH:D008103</td>\n",
       "    </tr>\n",
       "    <tr>\n",
       "      <th>14</th>\n",
       "      <td>DOID:4989</td>\n",
       "      <td>MESH:D008103</td>\n",
       "      <td>DOID:4989-MESH:D008103</td>\n",
       "    </tr>\n",
       "    <tr>\n",
       "      <th>15</th>\n",
       "      <td>DOID:11476</td>\n",
       "      <td>MESH:D008103</td>\n",
       "      <td>DOID:11476-MESH:D008103</td>\n",
       "    </tr>\n",
       "    <tr>\n",
       "      <th>16</th>\n",
       "      <td>DOID:2174</td>\n",
       "      <td>MESH:D013285</td>\n",
       "      <td>DOID:2174-MESH:D013285</td>\n",
       "    </tr>\n",
       "    <tr>\n",
       "      <th>17</th>\n",
       "      <td>DOID:12361</td>\n",
       "      <td>MESH:D013285</td>\n",
       "      <td>DOID:12361-MESH:D013285</td>\n",
       "    </tr>\n",
       "    <tr>\n",
       "      <th>18</th>\n",
       "      <td>DOID:5612</td>\n",
       "      <td>MESH:D012600</td>\n",
       "      <td>DOID:5612-MESH:D012600</td>\n",
       "    </tr>\n",
       "  </tbody>\n",
       "</table>\n",
       "</div>"
      ],
      "text/plain": [
       "     doid_code     mesh_code              association\n",
       "0   DOID:14221  MESH:D008103  DOID:14221-MESH:D008103\n",
       "1     DOID:263  MESH:D008103    DOID:263-MESH:D008103\n",
       "2    DOID:7148  MESH:D008103   DOID:7148-MESH:D008103\n",
       "3    DOID:9744  MESH:D008103   DOID:9744-MESH:D008103\n",
       "4    DOID:9352  MESH:D008103   DOID:9352-MESH:D008103\n",
       "5    DOID:2986  MESH:D008103   DOID:2986-MESH:D008103\n",
       "6    DOID:3571  MESH:D008103   DOID:3571-MESH:D008103\n",
       "7    DOID:9074  MESH:D008103   DOID:9074-MESH:D008103\n",
       "8    DOID:2043  MESH:D008103   DOID:2043-MESH:D008103\n",
       "9    DOID:1459  MESH:D008103   DOID:1459-MESH:D008103\n",
       "10    DOID:784  MESH:D008103    DOID:784-MESH:D008103\n",
       "11  DOID:14268  MESH:D008103  DOID:14268-MESH:D008103\n",
       "12  DOID:10763  MESH:D008103  DOID:10763-MESH:D008103\n",
       "13  DOID:12236  MESH:D008103  DOID:12236-MESH:D008103\n",
       "14   DOID:4989  MESH:D008103   DOID:4989-MESH:D008103\n",
       "15  DOID:11476  MESH:D008103  DOID:11476-MESH:D008103\n",
       "16   DOID:2174  MESH:D013285   DOID:2174-MESH:D013285\n",
       "17  DOID:12361  MESH:D013285  DOID:12361-MESH:D013285\n",
       "18   DOID:5612  MESH:D012600   DOID:5612-MESH:D012600"
      ]
     },
     "execution_count": 63,
     "metadata": {},
     "output_type": "execute_result"
    }
   ],
   "source": [
    "# 19 direct hetnet_disease-ngly1_symptom edges in HPO Text mining\n",
    "hpotg_het_ngly1_df"
   ]
  },
  {
   "cell_type": "code",
   "execution_count": 64,
   "metadata": {},
   "outputs": [
    {
     "data": {
      "image/png": "[encoded data removed]",
      "text/plain": [
       "<matplotlib.figure.Figure at 0x7f3584eb8048>"
      ]
     },
     "metadata": {},
     "output_type": "display_data"
    },
    {
     "data": {
      "image/png": "[encoded data removed]",
      "text/plain": [
       "<matplotlib.figure.Figure at 0x7f35820b7080>"
      ]
     },
     "metadata": {},
     "output_type": "display_data"
    }
   ],
   "source": [
    "# ngly1 symptoms not in hetionet that have disease annotation in an external source\n",
    "hpotg_ngly1 = set(hpotg_ngly1_df.association)\n",
    "hpotg_hetnet = set(hpotg_het_df.association)\n",
    "venn2([hetionet,hpotg_ngly1], ('Hetionet', 'HPO-TextMining'))\n",
    "plt.show()\n",
    "venn3_unweighted([hetionet,hpotg_ngly1,hpotg_hetnet], ('Hetionet', 'HPO-TextMining-NGLY1-Symptoms', 'HPO-TextMining-Hetnet-Diseases'))\n",
    "plt.show()"
   ]
  },
  {
   "cell_type": "code",
   "execution_count": 65,
   "metadata": {},
   "outputs": [
    {
     "data": {
      "text/html": [
       "<div>\n",
       "<table border=\"1\" class=\"dataframe\">\n",
       "  <thead>\n",
       "    <tr style=\"text-align: right;\">\n",
       "      <th></th>\n",
       "      <th>doid_code</th>\n",
       "      <th>mesh_code</th>\n",
       "      <th>association</th>\n",
       "    </tr>\n",
       "  </thead>\n",
       "  <tbody>\n",
       "    <tr>\n",
       "      <th>0</th>\n",
       "      <td>DOID:0060262</td>\n",
       "      <td>MESH:D002764</td>\n",
       "      <td>DOID:0060262-MESH:D002764</td>\n",
       "    </tr>\n",
       "    <tr>\n",
       "      <th>1</th>\n",
       "      <td>DOID:0050050</td>\n",
       "      <td>MESH:D002764</td>\n",
       "      <td>DOID:0050050-MESH:D002764</td>\n",
       "    </tr>\n",
       "  </tbody>\n",
       "</table>\n",
       "</div>"
      ],
      "text/plain": [
       "      doid_code     mesh_code                association\n",
       "0  DOID:0060262  MESH:D002764  DOID:0060262-MESH:D002764\n",
       "1  DOID:0050050  MESH:D002764  DOID:0050050-MESH:D002764"
      ]
     },
     "execution_count": 65,
     "metadata": {},
     "output_type": "execute_result"
    }
   ],
   "source": [
    "# AberOWL Text mining (7 new ngly1 sym mesh)\n",
    "rh_df.rename(columns={'do_id':'doid_code', 'hp_id':'hp_code'}, inplace=True)\n",
    "rh_hp2mesh_df = rh_df.merge(hpo_umls_mappings, on='hp_code')\n",
    "# Lost diseases due to mapping:\n",
    "len(rh_df.doid_code.unique()) # 6100\n",
    "len(rh_hp2mesh_df.doid_code.unique()) # 6005\n",
    "rhtm_df = rh_hp2mesh_df.loc[:,['doid_code', 'mesh_code']]\n",
    "rhtm_df['association'] = rhtm_df.loc[:, ['doid_code', 'mesh_code']].apply(lambda x: '-'.join(x), axis =1)\n",
    "rhtm_df.head(2) # 30187"
   ]
  },
  {
   "cell_type": "code",
   "execution_count": 66,
   "metadata": {},
   "outputs": [
    {
     "data": {
      "text/plain": [
       "(1, 3)"
      ]
     },
     "execution_count": 66,
     "metadata": {},
     "output_type": "execute_result"
    }
   ],
   "source": [
    "# subsetting the associations with a ngly1 sym and a hetnet disease\n",
    "rh_ngly1_df = rhtm_df.merge(ngly1_df, on='mesh_code'); rh_ngly1_df.shape # 145 ass with ngly1\n",
    "rh_het_df = rhtm_df.merge(hetnet_df, on='doid_code'); rh_het_df.shape # 707 ass with het diseases\n",
    "rh_het_ngly1_df = rh_ngly1_df.merge(hetnet_df, on='doid_code'); rh_het_ngly1_df.shape # 1 ass ngly1 - het diseases"
   ]
  },
  {
   "cell_type": "code",
   "execution_count": 67,
   "metadata": {},
   "outputs": [
    {
     "data": {
      "text/html": [
       "<div>\n",
       "<table border=\"1\" class=\"dataframe\">\n",
       "  <thead>\n",
       "    <tr style=\"text-align: right;\">\n",
       "      <th></th>\n",
       "      <th>doid_code</th>\n",
       "      <th>mesh_code</th>\n",
       "      <th>association</th>\n",
       "    </tr>\n",
       "  </thead>\n",
       "  <tbody>\n",
       "    <tr>\n",
       "      <th>0</th>\n",
       "      <td>DOID:9835</td>\n",
       "      <td>MESH:D013285</td>\n",
       "      <td>DOID:9835-MESH:D013285</td>\n",
       "    </tr>\n",
       "  </tbody>\n",
       "</table>\n",
       "</div>"
      ],
      "text/plain": [
       "   doid_code     mesh_code             association\n",
       "0  DOID:9835  MESH:D013285  DOID:9835-MESH:D013285"
      ]
     },
     "execution_count": 67,
     "metadata": {},
     "output_type": "execute_result"
    }
   ],
   "source": [
    "# 1 direct hetnet_disease-ngly1_symptom edges in AberOWL\n",
    "rh_het_ngly1_df"
   ]
  },
  {
   "cell_type": "code",
   "execution_count": 68,
   "metadata": {},
   "outputs": [
    {
     "data": {
      "image/png": "[encoded data removed]",
      "text/plain": [
       "<matplotlib.figure.Figure at 0x7f3581fe6f98>"
      ]
     },
     "metadata": {},
     "output_type": "display_data"
    },
    {
     "data": {
      "image/png": "[encoded data removed]",
      "text/plain": [
       "<matplotlib.figure.Figure at 0x7f3581da6208>"
      ]
     },
     "metadata": {},
     "output_type": "display_data"
    }
   ],
   "source": [
    "# ngly1 symptoms not in hetionet that have disease annotation in an external source\n",
    "rh_ngly1 = set(rh_ngly1_df.association)\n",
    "rh_hetnet = set(rh_het_df.association)\n",
    "venn2([hetionet,rh_ngly1], ('Hetionet', 'AberOWL'))\n",
    "plt.show()\n",
    "venn3_unweighted([hetionet,rh_ngly1,rh_hetnet], ('Hetionet', 'AberOWL-NGLY1-Symptoms', 'AberOWL-Hetnet-Diseases'))\n",
    "plt.show()"
   ]
  },
  {
   "cell_type": "code",
   "execution_count": 69,
   "metadata": {},
   "outputs": [
    {
     "data": {
      "image/png": "[encoded data removed]",
      "text/plain": [
       "<matplotlib.figure.Figure at 0x7f3581d79828>"
      ]
     },
     "metadata": {},
     "output_type": "display_data"
    },
    {
     "data": {
      "image/png": "[encoded data removed]",
      "text/plain": [
       "<matplotlib.figure.Figure at 0x7f3581d8afd0>"
      ]
     },
     "metadata": {},
     "output_type": "display_data"
    },
    {
     "data": {
      "image/png": "[encoded data removed]",
      "text/plain": [
       "<matplotlib.figure.Figure at 0x7f3582087978>"
      ]
     },
     "metadata": {},
     "output_type": "display_data"
    },
    {
     "name": "stdout",
     "output_type": "stream",
     "text": [
      "ngly1-hetnet dis-sym in HPO curated: {'MESH:D008103', 'MESH:D012600', 'MESH:D013285'}\n",
      "ngly1-hetnet dis-sym in HPO Text mining: {'MESH:D008103', 'MESH:D012600', 'MESH:D013285'}\n",
      "ngly1-hetnet dis-sym in AberOWL: {'MESH:D013285'}\n"
     ]
    }
   ],
   "source": [
    "# overlap ngly1_Sym-Disease edges\n",
    "venn3([hpoc_ngly1,hpotg_ngly1,rh_ngly1], ('HPO-Curated', 'HPO-TextMining', 'AberOWL'))\n",
    "plt.show()\n",
    "# overlap ngly1_Sym-Hetnet_Disease edges\n",
    "hpoc = set(hpo_het_ngly1_df.association)\n",
    "hpotg = set(hpotg_het_ngly1_df.association)\n",
    "aber = set(rh_het_ngly1_df.association)\n",
    "venn3([hpoc,hpotg,aber], ('HPO-Curated', 'HPO-TextMining', 'AberOWL'))\n",
    "plt.show()\n",
    "# overlap ngly1 sym nodes with edge to hetnet found in external sources\n",
    "hpoc = set(hpo_het_ngly1_df.mesh_code)\n",
    "hpotg = set(hpotg_het_ngly1_df.mesh_code)\n",
    "aber = set(rh_het_ngly1_df.mesh_code)\n",
    "venn3_unweighted([hpoc,hpotg,aber], ('HPO-Curated', 'HPO-TextMining', 'AberOWL'))\n",
    "plt.show()\n",
    "print('ngly1-hetnet dis-sym in HPO curated: {}'.format(hpoc))\n",
    "print('ngly1-hetnet dis-sym in HPO Text mining: {}'.format(hpotg))\n",
    "print('ngly1-hetnet dis-sym in AberOWL: {}'.format(aber))"
   ]
  },
  {
   "cell_type": "code",
   "execution_count": 70,
   "metadata": {},
   "outputs": [
    {
     "data": {
      "text/html": [
       "<div>\n",
       "<table border=\"1\" class=\"dataframe\">\n",
       "  <thead>\n",
       "    <tr style=\"text-align: right;\">\n",
       "      <th></th>\n",
       "      <th>mesh_code</th>\n",
       "      <th>mesh_term</th>\n",
       "    </tr>\n",
       "  </thead>\n",
       "  <tbody>\n",
       "    <tr>\n",
       "      <th>0</th>\n",
       "      <td>MESH:D002658</td>\n",
       "      <td>Developmental disabilities</td>\n",
       "    </tr>\n",
       "    <tr>\n",
       "      <th>1</th>\n",
       "      <td>MESH:D009069</td>\n",
       "      <td>Movement disorders</td>\n",
       "    </tr>\n",
       "    <tr>\n",
       "      <th>2</th>\n",
       "      <td>MESH:D009123</td>\n",
       "      <td>Muscle Hypotonia</td>\n",
       "    </tr>\n",
       "    <tr>\n",
       "      <th>3</th>\n",
       "      <td>MESH:C562827</td>\n",
       "      <td>Alacrima</td>\n",
       "    </tr>\n",
       "    <tr>\n",
       "      <th>4</th>\n",
       "      <td>MESH:D003248</td>\n",
       "      <td>Constipation</td>\n",
       "    </tr>\n",
       "    <tr>\n",
       "      <th>5</th>\n",
       "      <td>MESH:D012021</td>\n",
       "      <td>Abnormal Deep Tendon Reflex</td>\n",
       "    </tr>\n",
       "    <tr>\n",
       "      <th>6</th>\n",
       "      <td>MESH:D008831</td>\n",
       "      <td>Microcephaly</td>\n",
       "    </tr>\n",
       "    <tr>\n",
       "      <th>7</th>\n",
       "      <td>MESH:D005317</td>\n",
       "      <td>IUGR (intrauterine growth restriction)</td>\n",
       "    </tr>\n",
       "    <tr>\n",
       "      <th>8</th>\n",
       "      <td>MESH:D065906</td>\n",
       "      <td>Hyperlactatemia</td>\n",
       "    </tr>\n",
       "    <tr>\n",
       "      <th>9</th>\n",
       "      <td>MESH:D012640</td>\n",
       "      <td>Seizures</td>\n",
       "    </tr>\n",
       "    <tr>\n",
       "      <th>10</th>\n",
       "      <td>MESH:D001072</td>\n",
       "      <td>Apraxias</td>\n",
       "    </tr>\n",
       "    <tr>\n",
       "      <th>11</th>\n",
       "      <td>MESH:D003320</td>\n",
       "      <td>Corneal Ulcer</td>\n",
       "    </tr>\n",
       "    <tr>\n",
       "      <th>12</th>\n",
       "      <td>MESH:D017043</td>\n",
       "      <td>Chalazions</td>\n",
       "    </tr>\n",
       "    <tr>\n",
       "      <th>13</th>\n",
       "      <td>MESH:D013285</td>\n",
       "      <td>Strabismus</td>\n",
       "    </tr>\n",
       "    <tr>\n",
       "      <th>14</th>\n",
       "      <td>MESH:D012600</td>\n",
       "      <td>Scoliosis</td>\n",
       "    </tr>\n",
       "    <tr>\n",
       "      <th>15</th>\n",
       "      <td>MESH:D007567</td>\n",
       "      <td>Neonatal Jaundice</td>\n",
       "    </tr>\n",
       "    <tr>\n",
       "      <th>16</th>\n",
       "      <td>MESH:D008103</td>\n",
       "      <td>Liver Fibrosis</td>\n",
       "    </tr>\n",
       "  </tbody>\n",
       "</table>\n",
       "</div>"
      ],
      "text/plain": [
       "       mesh_code                               mesh_term\n",
       "0   MESH:D002658              Developmental disabilities\n",
       "1   MESH:D009069                      Movement disorders\n",
       "2   MESH:D009123                        Muscle Hypotonia\n",
       "3   MESH:C562827                                Alacrima\n",
       "4   MESH:D003248                            Constipation\n",
       "5   MESH:D012021             Abnormal Deep Tendon Reflex\n",
       "6   MESH:D008831                            Microcephaly\n",
       "7   MESH:D005317  IUGR (intrauterine growth restriction)\n",
       "8   MESH:D065906                         Hyperlactatemia\n",
       "9   MESH:D012640                                Seizures\n",
       "10  MESH:D001072                                Apraxias\n",
       "11  MESH:D003320                           Corneal Ulcer\n",
       "12  MESH:D017043                              Chalazions\n",
       "13  MESH:D013285                              Strabismus\n",
       "14  MESH:D012600                               Scoliosis\n",
       "15  MESH:D007567                       Neonatal Jaundice\n",
       "16  MESH:D008103                          Liver Fibrosis"
      ]
     },
     "execution_count": 70,
     "metadata": {},
     "output_type": "execute_result"
    }
   ],
   "source": [
    "# Total NGLY1 symptoms described in MESH (17)\n",
    "ngly1_sym_mesh_df"
   ]
  },
  {
   "cell_type": "code",
   "execution_count": 71,
   "metadata": {},
   "outputs": [
    {
     "data": {
      "text/html": [
       "<div>\n",
       "<table border=\"1\" class=\"dataframe\">\n",
       "  <thead>\n",
       "    <tr style=\"text-align: right;\">\n",
       "      <th></th>\n",
       "      <th>mesh_code</th>\n",
       "      <th>mesh_term</th>\n",
       "    </tr>\n",
       "  </thead>\n",
       "  <tbody>\n",
       "    <tr>\n",
       "      <th>0</th>\n",
       "      <td>MESH:D005317</td>\n",
       "      <td>IUGR (intrauterine growth restriction)</td>\n",
       "    </tr>\n",
       "    <tr>\n",
       "      <th>1</th>\n",
       "      <td>MESH:D012600</td>\n",
       "      <td>Scoliosis</td>\n",
       "    </tr>\n",
       "    <tr>\n",
       "      <th>2</th>\n",
       "      <td>MESH:D007567</td>\n",
       "      <td>Neonatal Jaundice</td>\n",
       "    </tr>\n",
       "    <tr>\n",
       "      <th>3</th>\n",
       "      <td>MESH:D065906</td>\n",
       "      <td>Hyperlactatemia</td>\n",
       "    </tr>\n",
       "    <tr>\n",
       "      <th>4</th>\n",
       "      <td>MESH:C562827</td>\n",
       "      <td>Alacrima</td>\n",
       "    </tr>\n",
       "    <tr>\n",
       "      <th>5</th>\n",
       "      <td>MESH:D008103</td>\n",
       "      <td>Liver Fibrosis</td>\n",
       "    </tr>\n",
       "    <tr>\n",
       "      <th>6</th>\n",
       "      <td>MESH:D008831</td>\n",
       "      <td>Microcephaly</td>\n",
       "    </tr>\n",
       "    <tr>\n",
       "      <th>7</th>\n",
       "      <td>MESH:D003320</td>\n",
       "      <td>Corneal Ulcer</td>\n",
       "    </tr>\n",
       "    <tr>\n",
       "      <th>8</th>\n",
       "      <td>MESH:D009069</td>\n",
       "      <td>Movement disorders</td>\n",
       "    </tr>\n",
       "    <tr>\n",
       "      <th>9</th>\n",
       "      <td>MESH:D002658</td>\n",
       "      <td>Developmental disabilities</td>\n",
       "    </tr>\n",
       "    <tr>\n",
       "      <th>10</th>\n",
       "      <td>MESH:D013285</td>\n",
       "      <td>Strabismus</td>\n",
       "    </tr>\n",
       "    <tr>\n",
       "      <th>11</th>\n",
       "      <td>MESH:D017043</td>\n",
       "      <td>Chalazions</td>\n",
       "    </tr>\n",
       "  </tbody>\n",
       "</table>\n",
       "</div>"
      ],
      "text/plain": [
       "       mesh_code                               mesh_term\n",
       "0   MESH:D005317  IUGR (intrauterine growth restriction)\n",
       "1   MESH:D012600                               Scoliosis\n",
       "2   MESH:D007567                       Neonatal Jaundice\n",
       "3   MESH:D065906                         Hyperlactatemia\n",
       "4   MESH:C562827                                Alacrima\n",
       "5   MESH:D008103                          Liver Fibrosis\n",
       "6   MESH:D008831                            Microcephaly\n",
       "7   MESH:D003320                           Corneal Ulcer\n",
       "8   MESH:D009069                      Movement disorders\n",
       "9   MESH:D002658              Developmental disabilities\n",
       "10  MESH:D013285                              Strabismus\n",
       "11  MESH:D017043                              Chalazions"
      ]
     },
     "execution_count": 71,
     "metadata": {},
     "output_type": "execute_result"
    }
   ],
   "source": [
    "# Total NGLY1 symptoms not in hetnet (12)\n",
    "ngly1_df = ngly1_df.merge(ngly1_sym_mesh_df, how='left', on='mesh_code')\n",
    "ngly1_df"
   ]
  },
  {
   "cell_type": "code",
   "execution_count": 72,
   "metadata": {},
   "outputs": [
    {
     "data": {
      "text/html": [
       "<div>\n",
       "<table border=\"1\" class=\"dataframe\">\n",
       "  <thead>\n",
       "    <tr style=\"text-align: right;\">\n",
       "      <th></th>\n",
       "      <th>mesh_code</th>\n",
       "      <th>mesh_term</th>\n",
       "    </tr>\n",
       "  </thead>\n",
       "  <tbody>\n",
       "    <tr>\n",
       "      <th>0</th>\n",
       "      <td>MESH:D005317</td>\n",
       "      <td>IUGR (intrauterine growth restriction)</td>\n",
       "    </tr>\n",
       "    <tr>\n",
       "      <th>1</th>\n",
       "      <td>MESH:D007567</td>\n",
       "      <td>Neonatal Jaundice</td>\n",
       "    </tr>\n",
       "    <tr>\n",
       "      <th>2</th>\n",
       "      <td>MESH:D009069</td>\n",
       "      <td>Movement disorders</td>\n",
       "    </tr>\n",
       "    <tr>\n",
       "      <th>3</th>\n",
       "      <td>MESH:D002658</td>\n",
       "      <td>Developmental disabilities</td>\n",
       "    </tr>\n",
       "    <tr>\n",
       "      <th>4</th>\n",
       "      <td>MESH:D065906</td>\n",
       "      <td>Hyperlactatemia</td>\n",
       "    </tr>\n",
       "  </tbody>\n",
       "</table>\n",
       "</div>"
      ],
      "text/plain": [
       "      mesh_code                               mesh_term\n",
       "0  MESH:D005317  IUGR (intrauterine growth restriction)\n",
       "1  MESH:D007567                       Neonatal Jaundice\n",
       "2  MESH:D009069                      Movement disorders\n",
       "3  MESH:D002658              Developmental disabilities\n",
       "4  MESH:D065906                         Hyperlactatemia"
      ]
     },
     "execution_count": 72,
     "metadata": {},
     "output_type": "execute_result"
    }
   ],
   "source": [
    "# Total NGLY1 symptoms not in hetnet and not in external datasets -> text mining (5)\n",
    "ngly1_not_mapped_terms_df"
   ]
  },
  {
   "cell_type": "code",
   "execution_count": 73,
   "metadata": {},
   "outputs": [
    {
     "data": {
      "text/html": [
       "<div>\n",
       "<table border=\"1\" class=\"dataframe\">\n",
       "  <thead>\n",
       "    <tr style=\"text-align: right;\">\n",
       "      <th></th>\n",
       "      <th>mesh_code</th>\n",
       "      <th>mesh_term</th>\n",
       "    </tr>\n",
       "  </thead>\n",
       "  <tbody>\n",
       "    <tr>\n",
       "      <th>0</th>\n",
       "      <td>MESH:D008103</td>\n",
       "      <td>Liver Fibrosis</td>\n",
       "    </tr>\n",
       "    <tr>\n",
       "      <th>1</th>\n",
       "      <td>MESH:D012600</td>\n",
       "      <td>Scoliosis</td>\n",
       "    </tr>\n",
       "    <tr>\n",
       "      <th>2</th>\n",
       "      <td>MESH:D013285</td>\n",
       "      <td>Strabismus</td>\n",
       "    </tr>\n",
       "  </tbody>\n",
       "</table>\n",
       "</div>"
      ],
      "text/plain": [
       "      mesh_code       mesh_term\n",
       "0  MESH:D008103  Liver Fibrosis\n",
       "1  MESH:D012600       Scoliosis\n",
       "2  MESH:D013285      Strabismus"
      ]
     },
     "execution_count": 73,
     "metadata": {},
     "output_type": "execute_result"
    }
   ],
   "source": [
    "# list of ngly1 sym (mesh) that we can anchor to hetnet (7/10 ngly1 not in hetnet found in external sources) (3)\n",
    "ngly1_anchor_edge = set(hpoc | hpotg | aber)\n",
    "data = {'mesh_code':list(ngly1_anchor_edge)}\n",
    "ngly1_anchor_edge_df = pd.DataFrame.from_dict(data)\n",
    "ngly1_anchor_edge_df = ngly1_anchor_edge_df.merge(ngly1_sym_mesh_df, how='left', on='mesh_code')\n",
    "ngly1_anchor_edge_df"
   ]
  },
  {
   "cell_type": "code",
   "execution_count": 74,
   "metadata": {},
   "outputs": [
    {
     "data": {
      "text/plain": [
       "{'MESH:C562827',\n",
       " 'MESH:D008103',\n",
       " 'MESH:D008831',\n",
       " 'MESH:D012600',\n",
       " 'MESH:D013285'}"
      ]
     },
     "execution_count": 74,
     "metadata": {},
     "output_type": "execute_result"
    }
   ],
   "source": [
    "# ngly1 sym without a link to a hetnet disease but with link to other diseases in the datasets\n",
    "len(set(orpha_ngly1_df.mesh_code)) # 5\n",
    "orpha_ngly1_do_set = (set(orpha_ngly1_df.mesh_code) - set(orpha_het_ngly1_df.mesh_code))\n",
    "orpha_ngly1_do_set"
   ]
  },
  {
   "cell_type": "code",
   "execution_count": 75,
   "metadata": {},
   "outputs": [
    {
     "data": {
      "text/plain": [
       "{'MESH:C562827', 'MESH:D003320', 'MESH:D008831'}"
      ]
     },
     "execution_count": 75,
     "metadata": {},
     "output_type": "execute_result"
    }
   ],
   "source": [
    "len(set(hpo_ngly1_df.mesh_code)) # 6\n",
    "hpo_ngly1_do_set = (set(hpo_ngly1_df.mesh_code) - set(hpo_het_ngly1_df.mesh_code))\n",
    "hpo_ngly1_do_set"
   ]
  },
  {
   "cell_type": "code",
   "execution_count": 76,
   "metadata": {},
   "outputs": [
    {
     "data": {
      "text/plain": [
       "{'MESH:C562827', 'MESH:D008831', 'MESH:D017043'}"
      ]
     },
     "execution_count": 76,
     "metadata": {},
     "output_type": "execute_result"
    }
   ],
   "source": [
    "len(set(hpotg_ngly1_df.mesh_code)) # 6\n",
    "hpotg_ngly1_do_set = (set(hpotg_ngly1_df.mesh_code) - set(hpotg_het_ngly1_df.mesh_code))\n",
    "hpotg_ngly1_do_set"
   ]
  },
  {
   "cell_type": "code",
   "execution_count": 77,
   "metadata": {},
   "outputs": [
    {
     "data": {
      "text/plain": [
       "{'MESH:C562827',\n",
       " 'MESH:D003320',\n",
       " 'MESH:D008103',\n",
       " 'MESH:D008831',\n",
       " 'MESH:D012600',\n",
       " 'MESH:D017043'}"
      ]
     },
     "execution_count": 77,
     "metadata": {},
     "output_type": "execute_result"
    }
   ],
   "source": [
    "len(set(rh_ngly1_df.mesh_code)) # 7\n",
    "rh_ngly1_do_set = (set(rh_ngly1_df.mesh_code) - set(rh_het_ngly1_df.mesh_code))\n",
    "rh_ngly1_do_set"
   ]
  },
  {
   "cell_type": "code",
   "execution_count": 78,
   "metadata": {},
   "outputs": [
    {
     "data": {
      "text/html": [
       "<div>\n",
       "<table border=\"1\" class=\"dataframe\">\n",
       "  <thead>\n",
       "    <tr style=\"text-align: right;\">\n",
       "      <th></th>\n",
       "      <th>mesh_code</th>\n",
       "      <th>mesh_term</th>\n",
       "    </tr>\n",
       "  </thead>\n",
       "  <tbody>\n",
       "    <tr>\n",
       "      <th>0</th>\n",
       "      <td>MESH:D003320</td>\n",
       "      <td>Corneal Ulcer</td>\n",
       "    </tr>\n",
       "    <tr>\n",
       "      <th>1</th>\n",
       "      <td>MESH:C562827</td>\n",
       "      <td>Alacrima</td>\n",
       "    </tr>\n",
       "    <tr>\n",
       "      <th>2</th>\n",
       "      <td>MESH:D008831</td>\n",
       "      <td>Microcephaly</td>\n",
       "    </tr>\n",
       "    <tr>\n",
       "      <th>3</th>\n",
       "      <td>MESH:D017043</td>\n",
       "      <td>Chalazions</td>\n",
       "    </tr>\n",
       "  </tbody>\n",
       "</table>\n",
       "</div>"
      ],
      "text/plain": [
       "      mesh_code      mesh_term\n",
       "0  MESH:D003320  Corneal Ulcer\n",
       "1  MESH:C562827       Alacrima\n",
       "2  MESH:D008831   Microcephaly\n",
       "3  MESH:D017043     Chalazions"
      ]
     },
     "execution_count": 78,
     "metadata": {},
     "output_type": "execute_result"
    }
   ],
   "source": [
    "all_ngly1_set = (set(orpha_ngly1_df.mesh_code) | set(hpo_ngly1_df.mesh_code) | set(hpotg_ngly1_df.mesh_code) | set(rh_ngly1_df.mesh_code))\n",
    "all_ngly1_het_set = (set(orpha_het_ngly1_df.mesh_code) | set(hpo_het_ngly1_df.mesh_code) | set(hpotg_het_ngly1_df.mesh_code) | set(rh_het_ngly1_df.mesh_code))\n",
    "all_ngly1_do_set = set(all_ngly1_set - all_ngly1_het_set)\n",
    "len(all_ngly1_do_set) # 7\n",
    "data = {'mesh_code': list(all_ngly1_do_set)}\n",
    "all_ngly1_do_df = pd.DataFrame.from_dict(data)\n",
    "all_ngly1_do_df = all_ngly1_do_df.merge(ngly1_sym_mesh_df, how='left', on='mesh_code')\n",
    "all_ngly1_do_df"
   ]
  },
  {
   "cell_type": "code",
   "execution_count": 79,
   "metadata": {},
   "outputs": [
    {
     "data": {
      "text/plain": [
       "array(['MESH:D008103', 'MESH:D013285', 'MESH:D012600'], dtype=object)"
      ]
     },
     "execution_count": 79,
     "metadata": {},
     "output_type": "execute_result"
    }
   ],
   "source": [
    "# check mesh\n",
    "all = [orpha_het_ngly1_df, hpo_het_ngly1_df, hpotg_het_ngly1_df, rh_het_ngly1_df]\n",
    "all_df = pd.concat(all)\n",
    "all_df.mesh_code.unique()"
   ]
  },
  {
   "cell_type": "markdown",
   "metadata": {},
   "source": [
    "### OVERLAP DO-HPO"
   ]
  },
  {
   "cell_type": "code",
   "execution_count": 80,
   "metadata": {},
   "outputs": [
    {
     "data": {
      "text/html": [
       "<div>\n",
       "<table border=\"1\" class=\"dataframe\">\n",
       "  <thead>\n",
       "    <tr style=\"text-align: right;\">\n",
       "      <th></th>\n",
       "      <th>doid_code</th>\n",
       "    </tr>\n",
       "  </thead>\n",
       "  <tbody>\n",
       "    <tr>\n",
       "      <th>0</th>\n",
       "      <td>DOID:2531</td>\n",
       "    </tr>\n",
       "    <tr>\n",
       "      <th>1</th>\n",
       "      <td>DOID:1319</td>\n",
       "    </tr>\n",
       "  </tbody>\n",
       "</table>\n",
       "</div>"
      ],
      "text/plain": [
       "   doid_code\n",
       "0  DOID:2531\n",
       "1  DOID:1319"
      ]
     },
     "execution_count": 80,
     "metadata": {},
     "output_type": "execute_result"
    }
   ],
   "source": [
    "# hetionet\n",
    "# mapping sym mesh to hp\n",
    "hetionet_do_hp_df = hetionet_do_mesh_df.merge(hpo_umls_mappings, left_on='mesh_id', right_on='mesh_code')\n",
    "hetionet_do_hp_df['association'] = hetionet_do_hp_df.loc[:,['doid_code', 'hp_code']].apply(lambda x: '-'.join(x), axis=1)\n",
    "len(hetionet_do_hp_df) # 22211\n",
    "hetionet = set(hetionet_do_hp_df.association)\n",
    "len(hetionet) # 22211\n",
    "len(hetionet_df[['doid_code']].drop_duplicates()) # DisPhe set: 133 diseases\n",
    "len(hetionet_dis_do_df[['doid']].drop_duplicates()) # Hetionet disease list (DO slim list): 137 diseases\n",
    "hetnet_df = pd.DataFrame(columns=['doid'])\n",
    "hetnet_df['doid'] = hetionet_dis_do_df[['doid']]\n",
    "hetnet_df.rename(columns={'doid' : 'doid_code'}, inplace=True)\n",
    "hetnet_df.head(2) # 137 diseases"
   ]
  },
  {
   "cell_type": "code",
   "execution_count": 81,
   "metadata": {},
   "outputs": [
    {
     "data": {
      "text/html": [
       "<div>\n",
       "<table border=\"1\" class=\"dataframe\">\n",
       "  <thead>\n",
       "    <tr style=\"text-align: right;\">\n",
       "      <th></th>\n",
       "      <th>hp_code</th>\n",
       "    </tr>\n",
       "  </thead>\n",
       "  <tbody>\n",
       "    <tr>\n",
       "      <th>0</th>\n",
       "      <td>HP:0001266</td>\n",
       "    </tr>\n",
       "    <tr>\n",
       "      <th>1</th>\n",
       "      <td>HP:0002151</td>\n",
       "    </tr>\n",
       "  </tbody>\n",
       "</table>\n",
       "</div>"
      ],
      "text/plain": [
       "      hp_code\n",
       "0  HP:0001266\n",
       "1  HP:0002151"
      ]
     },
     "execution_count": 81,
     "metadata": {},
     "output_type": "execute_result"
    }
   ],
   "source": [
    "# ngly hp sym not in hetnet\n",
    "ngly1_sym_hp_total = set(ngly1_sym_hp_df.hp_code)\n",
    "ngly1_sym_hp_InHetnet = (ngly1_sym_hp_total & set(hetionet_do_hp_df.hp_code))\n",
    "ngly1_sym_hp_notInHetnet = ( ngly1_sym_hp_total - ngly1_sym_hp_InHetnet )\n",
    "len(ngly1_sym_hp_notInHetnet) # 25\n",
    "ndict = {'hp_code' : list(ngly1_sym_hp_notInHetnet)}\n",
    "ngly1_df = pd.DataFrame.from_dict(data=ndict)\n",
    "ngly1_df.head(2) # 25 symptoms"
   ]
  },
  {
   "cell_type": "code",
   "execution_count": 82,
   "metadata": {
    "collapsed": true
   },
   "outputs": [],
   "source": [
    "# HSDN (0 new ngly1 sym mesh)"
   ]
  },
  {
   "cell_type": "code",
   "execution_count": 83,
   "metadata": {},
   "outputs": [
    {
     "data": {
      "text/html": [
       "<div>\n",
       "<table border=\"1\" class=\"dataframe\">\n",
       "  <thead>\n",
       "    <tr style=\"text-align: right;\">\n",
       "      <th></th>\n",
       "      <th>doid_code</th>\n",
       "      <th>hp_code</th>\n",
       "      <th>association</th>\n",
       "    </tr>\n",
       "  </thead>\n",
       "  <tbody>\n",
       "    <tr>\n",
       "      <th>0</th>\n",
       "      <td>DOID:3753</td>\n",
       "      <td>HP:0000083</td>\n",
       "      <td>DOID:3753-HP:0000083</td>\n",
       "    </tr>\n",
       "    <tr>\n",
       "      <th>1</th>\n",
       "      <td>DOID:3753</td>\n",
       "      <td>HP:0000421</td>\n",
       "      <td>DOID:3753-HP:0000421</td>\n",
       "    </tr>\n",
       "  </tbody>\n",
       "</table>\n",
       "</div>"
      ],
      "text/plain": [
       "   doid_code     hp_code           association\n",
       "0  DOID:3753  HP:0000083  DOID:3753-HP:0000083\n",
       "1  DOID:3753  HP:0000421  DOID:3753-HP:0000421"
      ]
     },
     "execution_count": 83,
     "metadata": {},
     "output_type": "execute_result"
    }
   ],
   "source": [
    "# orphanet (17 new ngly1 sym mesh)\n",
    "orpha_ordo2do_hp_df = orphanet_df.merge(mondo_mappings, left_on='orphanet_code', right_on='orphanet')\n",
    "orpha_df = orpha_ordo2do_hp_df.loc[:,['do', 'hp_code']]\n",
    "orpha_df['association'] = orpha_df.loc[:, ['do', 'hp_code']].apply(lambda x: '-'.join(x), axis =1)\n",
    "orpha_df.rename(columns={'do' : 'doid_code'}, inplace=True)\n",
    "orpha_df.head(2) # 16161"
   ]
  },
  {
   "cell_type": "code",
   "execution_count": 84,
   "metadata": {},
   "outputs": [
    {
     "data": {
      "text/plain": [
       "(1, 3)"
      ]
     },
     "execution_count": 84,
     "metadata": {},
     "output_type": "execute_result"
    }
   ],
   "source": [
    "# subsetting the associations with a ngly1 sym and a hetnet disease\n",
    "orpha_ngly1_df = orpha_df.merge(ngly1_df, on='hp_code'); orpha_ngly1_df.shape # 511 ass with ngly1\n",
    "orpha_het_df = orpha_df.merge(hetnet_df, on='doid_code'); orpha_het_df.shape # 115 ass with het diseases\n",
    "orpha_het_ngly1_df = orpha_ngly1_df.merge(hetnet_df, on='doid_code'); orpha_het_ngly1_df.shape # 1 ass ngly1 - het diseases"
   ]
  },
  {
   "cell_type": "code",
   "execution_count": 85,
   "metadata": {},
   "outputs": [
    {
     "data": {
      "image/png": "[encoded data removed]",
      "text/plain": [
       "<matplotlib.figure.Figure at 0x7f3581d8aba8>"
      ]
     },
     "metadata": {},
     "output_type": "display_data"
    },
    {
     "data": {
      "image/png": "[encoded data removed]",
      "text/plain": [
       "<matplotlib.figure.Figure at 0x7f3585734eb8>"
      ]
     },
     "metadata": {},
     "output_type": "display_data"
    }
   ],
   "source": [
    "# 1 direct hetnet_disease-ngly1_symptom edges in Orphanet\n",
    "# ngly1 symptoms not in hetionet that have disease annotation in an external source\n",
    "orpha_ngly1 = set(orpha_ngly1_df.association)\n",
    "orpha_hetnet = set(orpha_het_df.association)\n",
    "venn2([hetionet,orpha_ngly1], ('Hetionet', 'Orphanet'))\n",
    "plt.show()\n",
    "venn3_unweighted([hetionet,orpha_ngly1,orpha_hetnet], ('Hetionet', 'Orphanet-NGLY1-Symptoms', 'Orphanet-Hetnet-Diseases'))\n",
    "plt.show()"
   ]
  },
  {
   "cell_type": "code",
   "execution_count": 86,
   "metadata": {},
   "outputs": [
    {
     "data": {
      "text/html": [
       "<div>\n",
       "<table border=\"1\" class=\"dataframe\">\n",
       "  <thead>\n",
       "    <tr style=\"text-align: right;\">\n",
       "      <th></th>\n",
       "      <th>doid_code</th>\n",
       "      <th>hp_code</th>\n",
       "      <th>association</th>\n",
       "    </tr>\n",
       "  </thead>\n",
       "  <tbody>\n",
       "    <tr>\n",
       "      <th>0</th>\n",
       "      <td>DOID:1440</td>\n",
       "      <td>HP:0000006</td>\n",
       "      <td>DOID:1440-HP:0000006</td>\n",
       "    </tr>\n",
       "    <tr>\n",
       "      <th>1</th>\n",
       "      <td>DOID:1440</td>\n",
       "      <td>HP:0000508</td>\n",
       "      <td>DOID:1440-HP:0000508</td>\n",
       "    </tr>\n",
       "  </tbody>\n",
       "</table>\n",
       "</div>"
      ],
      "text/plain": [
       "   doid_code     hp_code           association\n",
       "0  DOID:1440  HP:0000006  DOID:1440-HP:0000006\n",
       "1  DOID:1440  HP:0000508  DOID:1440-HP:0000508"
      ]
     },
     "execution_count": 86,
     "metadata": {},
     "output_type": "execute_result"
    }
   ],
   "source": [
    "# HPO Curated (23 new ngly1 sym mesh)\n",
    "hpoc_df = hpo_df\n",
    "hpoc_df['association'] = hpoc_df.loc[:, ['doid_code', 'hp_code']].apply(lambda x: '-'.join(x), axis =1)\n",
    "hpoc_df.head(2) # 38913"
   ]
  },
  {
   "cell_type": "code",
   "execution_count": 87,
   "metadata": {},
   "outputs": [
    {
     "data": {
      "text/plain": [
       "(18, 3)"
      ]
     },
     "execution_count": 87,
     "metadata": {},
     "output_type": "execute_result"
    }
   ],
   "source": [
    "# subsetting the associations with a ngly1 sym and a hetnet disease\n",
    "hpo_ngly1_df = hpoc_df.merge(ngly1_df, on='hp_code'); hpo_ngly1_df.shape # 1636 ass with ngly1\n",
    "hpo_het_df = hpoc_df.merge(hetnet_df, on='doid_code'); hpo_het_df.shape # 889 ass with het diseases\n",
    "hpo_het_ngly1_df = hpo_ngly1_df.merge(hetnet_df, on='doid_code'); hpo_het_ngly1_df.shape # 18 ass ngly1 - het diseases"
   ]
  },
  {
   "cell_type": "code",
   "execution_count": 88,
   "metadata": {},
   "outputs": [
    {
     "data": {
      "text/html": [
       "<div>\n",
       "<table border=\"1\" class=\"dataframe\">\n",
       "  <thead>\n",
       "    <tr style=\"text-align: right;\">\n",
       "      <th></th>\n",
       "      <th>doid_code</th>\n",
       "      <th>hp_code</th>\n",
       "      <th>association</th>\n",
       "    </tr>\n",
       "  </thead>\n",
       "  <tbody>\n",
       "    <tr>\n",
       "      <th>0</th>\n",
       "      <td>DOID:14227</td>\n",
       "      <td>HP:0000007</td>\n",
       "      <td>DOID:14227-HP:0000007</td>\n",
       "    </tr>\n",
       "    <tr>\n",
       "      <th>1</th>\n",
       "      <td>DOID:14330</td>\n",
       "      <td>HP:0000007</td>\n",
       "      <td>DOID:14330-HP:0000007</td>\n",
       "    </tr>\n",
       "    <tr>\n",
       "      <th>2</th>\n",
       "      <td>DOID:8398</td>\n",
       "      <td>HP:0000007</td>\n",
       "      <td>DOID:8398-HP:0000007</td>\n",
       "    </tr>\n",
       "    <tr>\n",
       "      <th>3</th>\n",
       "      <td>DOID:12930</td>\n",
       "      <td>HP:0000007</td>\n",
       "      <td>DOID:12930-HP:0000007</td>\n",
       "    </tr>\n",
       "    <tr>\n",
       "      <th>4</th>\n",
       "      <td>DOID:10608</td>\n",
       "      <td>HP:0000007</td>\n",
       "      <td>DOID:10608-HP:0000007</td>\n",
       "    </tr>\n",
       "    <tr>\n",
       "      <th>5</th>\n",
       "      <td>DOID:10608</td>\n",
       "      <td>HP:0002910</td>\n",
       "      <td>DOID:10608-HP:0002910</td>\n",
       "    </tr>\n",
       "    <tr>\n",
       "      <th>6</th>\n",
       "      <td>DOID:1324</td>\n",
       "      <td>HP:0000007</td>\n",
       "      <td>DOID:1324-HP:0000007</td>\n",
       "    </tr>\n",
       "    <tr>\n",
       "      <th>7</th>\n",
       "      <td>DOID:1312</td>\n",
       "      <td>HP:0000007</td>\n",
       "      <td>DOID:1312-HP:0000007</td>\n",
       "    </tr>\n",
       "    <tr>\n",
       "      <th>8</th>\n",
       "      <td>DOID:3393</td>\n",
       "      <td>HP:0000007</td>\n",
       "      <td>DOID:3393-HP:0000007</td>\n",
       "    </tr>\n",
       "    <tr>\n",
       "      <th>9</th>\n",
       "      <td>DOID:9074</td>\n",
       "      <td>HP:0000007</td>\n",
       "      <td>DOID:9074-HP:0000007</td>\n",
       "    </tr>\n",
       "    <tr>\n",
       "      <th>10</th>\n",
       "      <td>DOID:9074</td>\n",
       "      <td>HP:0009830</td>\n",
       "      <td>DOID:9074-HP:0009830</td>\n",
       "    </tr>\n",
       "    <tr>\n",
       "      <th>11</th>\n",
       "      <td>DOID:1024</td>\n",
       "      <td>HP:0000007</td>\n",
       "      <td>DOID:1024-HP:0000007</td>\n",
       "    </tr>\n",
       "    <tr>\n",
       "      <th>12</th>\n",
       "      <td>DOID:332</td>\n",
       "      <td>HP:0000007</td>\n",
       "      <td>DOID:332-HP:0000007</td>\n",
       "    </tr>\n",
       "    <tr>\n",
       "      <th>13</th>\n",
       "      <td>DOID:12849</td>\n",
       "      <td>HP:0000486</td>\n",
       "      <td>DOID:12849-HP:0000486</td>\n",
       "    </tr>\n",
       "    <tr>\n",
       "      <th>14</th>\n",
       "      <td>DOID:12849</td>\n",
       "      <td>HP:0002650</td>\n",
       "      <td>DOID:12849-HP:0002650</td>\n",
       "    </tr>\n",
       "    <tr>\n",
       "      <th>15</th>\n",
       "      <td>DOID:12849</td>\n",
       "      <td>HP:0000657</td>\n",
       "      <td>DOID:12849-HP:0000657</td>\n",
       "    </tr>\n",
       "    <tr>\n",
       "      <th>16</th>\n",
       "      <td>DOID:12849</td>\n",
       "      <td>HP:0002353</td>\n",
       "      <td>DOID:12849-HP:0002353</td>\n",
       "    </tr>\n",
       "    <tr>\n",
       "      <th>17</th>\n",
       "      <td>DOID:5419</td>\n",
       "      <td>HP:0002353</td>\n",
       "      <td>DOID:5419-HP:0002353</td>\n",
       "    </tr>\n",
       "  </tbody>\n",
       "</table>\n",
       "</div>"
      ],
      "text/plain": [
       "     doid_code     hp_code            association\n",
       "0   DOID:14227  HP:0000007  DOID:14227-HP:0000007\n",
       "1   DOID:14330  HP:0000007  DOID:14330-HP:0000007\n",
       "2    DOID:8398  HP:0000007   DOID:8398-HP:0000007\n",
       "3   DOID:12930  HP:0000007  DOID:12930-HP:0000007\n",
       "4   DOID:10608  HP:0000007  DOID:10608-HP:0000007\n",
       "5   DOID:10608  HP:0002910  DOID:10608-HP:0002910\n",
       "6    DOID:1324  HP:0000007   DOID:1324-HP:0000007\n",
       "7    DOID:1312  HP:0000007   DOID:1312-HP:0000007\n",
       "8    DOID:3393  HP:0000007   DOID:3393-HP:0000007\n",
       "9    DOID:9074  HP:0000007   DOID:9074-HP:0000007\n",
       "10   DOID:9074  HP:0009830   DOID:9074-HP:0009830\n",
       "11   DOID:1024  HP:0000007   DOID:1024-HP:0000007\n",
       "12    DOID:332  HP:0000007    DOID:332-HP:0000007\n",
       "13  DOID:12849  HP:0000486  DOID:12849-HP:0000486\n",
       "14  DOID:12849  HP:0002650  DOID:12849-HP:0002650\n",
       "15  DOID:12849  HP:0000657  DOID:12849-HP:0000657\n",
       "16  DOID:12849  HP:0002353  DOID:12849-HP:0002353\n",
       "17   DOID:5419  HP:0002353   DOID:5419-HP:0002353"
      ]
     },
     "execution_count": 88,
     "metadata": {},
     "output_type": "execute_result"
    }
   ],
   "source": [
    "# 18 direct hetnet_disease-ngly1_symptom edges in HPO Curated\n",
    "hpo_het_ngly1_df"
   ]
  },
  {
   "cell_type": "code",
   "execution_count": 89,
   "metadata": {},
   "outputs": [
    {
     "data": {
      "image/png": "[encoded data removed]",
      "text/plain": [
       "<matplotlib.figure.Figure at 0x7f35856f9f28>"
      ]
     },
     "metadata": {},
     "output_type": "display_data"
    },
    {
     "data": {
      "image/png": "[encoded data removed]",
      "text/plain": [
       "<matplotlib.figure.Figure at 0x7f35852e2160>"
      ]
     },
     "metadata": {},
     "output_type": "display_data"
    }
   ],
   "source": [
    "# ngly1 symptoms not in hetionet that have disease annotation in an external source\n",
    "hpoc_ngly1 = set(hpo_ngly1_df.association)\n",
    "hpoc_hetnet = set(hpo_het_df.association)\n",
    "venn2([hetionet,hpoc_ngly1], ('Hetionet', 'HPO-Curated'))\n",
    "plt.show()\n",
    "venn3_unweighted([hetionet,hpoc_ngly1,hpoc_hetnet], ('Hetionet', 'HPO-Curated-NGLY1-Symptoms', 'HPO-Curated-Hetnet-Diseases'))\n",
    "plt.show()"
   ]
  },
  {
   "cell_type": "code",
   "execution_count": 90,
   "metadata": {},
   "outputs": [
    {
     "data": {
      "text/html": [
       "<div>\n",
       "<table border=\"1\" class=\"dataframe\">\n",
       "  <thead>\n",
       "    <tr style=\"text-align: right;\">\n",
       "      <th></th>\n",
       "      <th>doid_code</th>\n",
       "      <th>hp_code</th>\n",
       "      <th>association</th>\n",
       "    </tr>\n",
       "  </thead>\n",
       "  <tbody>\n",
       "    <tr>\n",
       "      <th>0</th>\n",
       "      <td>DOID:11512</td>\n",
       "      <td>HP:0002639</td>\n",
       "      <td>DOID:11512-HP:0002639</td>\n",
       "    </tr>\n",
       "    <tr>\n",
       "      <th>1</th>\n",
       "      <td>DOID:11512</td>\n",
       "      <td>HP:0001541</td>\n",
       "      <td>DOID:11512-HP:0001541</td>\n",
       "    </tr>\n",
       "  </tbody>\n",
       "</table>\n",
       "</div>"
      ],
      "text/plain": [
       "    doid_code     hp_code            association\n",
       "0  DOID:11512  HP:0002639  DOID:11512-HP:0002639\n",
       "1  DOID:11512  HP:0001541  DOID:11512-HP:0001541"
      ]
     },
     "execution_count": 90,
     "metadata": {},
     "output_type": "execute_result"
    }
   ],
   "source": [
    "# HPO Text mining (19 new ngly1 sym mesh)\n",
    "hpotg_df = tg_df\n",
    "hpotg_df['association'] = hpotg_df.loc[:, ['doid_code', 'hp_code']].apply(lambda x: '-'.join(x), axis =1)\n",
    "hpotg_df.head(2) # 95045"
   ]
  },
  {
   "cell_type": "code",
   "execution_count": 91,
   "metadata": {},
   "outputs": [
    {
     "data": {
      "text/plain": [
       "(79, 3)"
      ]
     },
     "execution_count": 91,
     "metadata": {},
     "output_type": "execute_result"
    }
   ],
   "source": [
    "# subsetting the associations with a ngly1 sym and a hetnet disease\n",
    "hpotg_ngly1_df = hpotg_df.merge(ngly1_df, on='hp_code'); hpotg_ngly1_df.shape # 1094 ass with ngly1\n",
    "hpotg_het_df = hpotg_df.merge(hetnet_df, on='doid_code'); hpotg_het_df.shape # 8507 ass with het diseases\n",
    "hpotg_het_ngly1_df = hpotg_ngly1_df.merge(hetnet_df, on='doid_code'); hpotg_het_ngly1_df.shape # 79 ass ngly1 - het diseases"
   ]
  },
  {
   "cell_type": "code",
   "execution_count": 92,
   "metadata": {},
   "outputs": [
    {
     "data": {
      "text/html": [
       "<div>\n",
       "<table border=\"1\" class=\"dataframe\">\n",
       "  <thead>\n",
       "    <tr style=\"text-align: right;\">\n",
       "      <th></th>\n",
       "      <th>doid_code</th>\n",
       "      <th>hp_code</th>\n",
       "      <th>association</th>\n",
       "    </tr>\n",
       "  </thead>\n",
       "  <tbody>\n",
       "    <tr>\n",
       "      <th>0</th>\n",
       "      <td>DOID:13378</td>\n",
       "      <td>HP:0002910</td>\n",
       "      <td>DOID:13378-HP:0002910</td>\n",
       "    </tr>\n",
       "    <tr>\n",
       "      <th>1</th>\n",
       "      <td>DOID:14221</td>\n",
       "      <td>HP:0002910</td>\n",
       "      <td>DOID:14221-HP:0002910</td>\n",
       "    </tr>\n",
       "    <tr>\n",
       "      <th>2</th>\n",
       "      <td>DOID:14221</td>\n",
       "      <td>HP:0001395</td>\n",
       "      <td>DOID:14221-HP:0001395</td>\n",
       "    </tr>\n",
       "    <tr>\n",
       "      <th>3</th>\n",
       "      <td>DOID:263</td>\n",
       "      <td>HP:0002910</td>\n",
       "      <td>DOID:263-HP:0002910</td>\n",
       "    </tr>\n",
       "    <tr>\n",
       "      <th>4</th>\n",
       "      <td>DOID:635</td>\n",
       "      <td>HP:0002910</td>\n",
       "      <td>DOID:635-HP:0002910</td>\n",
       "    </tr>\n",
       "  </tbody>\n",
       "</table>\n",
       "</div>"
      ],
      "text/plain": [
       "    doid_code     hp_code            association\n",
       "0  DOID:13378  HP:0002910  DOID:13378-HP:0002910\n",
       "1  DOID:14221  HP:0002910  DOID:14221-HP:0002910\n",
       "2  DOID:14221  HP:0001395  DOID:14221-HP:0001395\n",
       "3    DOID:263  HP:0002910    DOID:263-HP:0002910\n",
       "4    DOID:635  HP:0002910    DOID:635-HP:0002910"
      ]
     },
     "execution_count": 92,
     "metadata": {},
     "output_type": "execute_result"
    }
   ],
   "source": [
    "# 79 direct hetnet_disease-ngly1_symptom edges in HPO Curated\n",
    "hpotg_het_ngly1_df.head(5)"
   ]
  },
  {
   "cell_type": "code",
   "execution_count": 93,
   "metadata": {},
   "outputs": [
    {
     "data": {
      "image/png": "[encoded data removed]",
      "text/plain": [
       "<matplotlib.figure.Figure at 0x7f358198d4a8>"
      ]
     },
     "metadata": {},
     "output_type": "display_data"
    },
    {
     "data": {
      "image/png": "[encoded data removed]",
      "text/plain": [
       "<matplotlib.figure.Figure at 0x7f358128e048>"
      ]
     },
     "metadata": {},
     "output_type": "display_data"
    }
   ],
   "source": [
    "# ngly1 symptoms not in hetionet that have disease annotation in an external source\n",
    "hpotg_ngly1 = set(hpotg_ngly1_df.association)\n",
    "hpotg_hetnet = set(hpotg_het_df.association)\n",
    "venn2([hetionet,hpotg_ngly1], ('Hetionet', 'HPO-TextMining'))\n",
    "plt.show()\n",
    "venn3_unweighted([hetionet,hpotg_ngly1,hpotg_hetnet], ('Hetionet', 'HPO-TextMining-NGLY1-Symptoms', 'HPO-TextMining-Hetnet-Diseases'))\n",
    "plt.show()"
   ]
  },
  {
   "cell_type": "code",
   "execution_count": 94,
   "metadata": {},
   "outputs": [
    {
     "data": {
      "text/html": [
       "<div>\n",
       "<table border=\"1\" class=\"dataframe\">\n",
       "  <thead>\n",
       "    <tr style=\"text-align: right;\">\n",
       "      <th></th>\n",
       "      <th>doid_code</th>\n",
       "      <th>hp_code</th>\n",
       "      <th>association</th>\n",
       "    </tr>\n",
       "  </thead>\n",
       "  <tbody>\n",
       "    <tr>\n",
       "      <th>0</th>\n",
       "      <td>DOID:0060262</td>\n",
       "      <td>HP:0005264</td>\n",
       "      <td>DOID:0060262-HP:0005264</td>\n",
       "    </tr>\n",
       "    <tr>\n",
       "      <th>1</th>\n",
       "      <td>DOID:0060262</td>\n",
       "      <td>HP:0001082</td>\n",
       "      <td>DOID:0060262-HP:0001082</td>\n",
       "    </tr>\n",
       "  </tbody>\n",
       "</table>\n",
       "</div>"
      ],
      "text/plain": [
       "      doid_code     hp_code              association\n",
       "0  DOID:0060262  HP:0005264  DOID:0060262-HP:0005264\n",
       "1  DOID:0060262  HP:0001082  DOID:0060262-HP:0001082"
      ]
     },
     "execution_count": 94,
     "metadata": {},
     "output_type": "execute_result"
    }
   ],
   "source": [
    "# AberOWL Text mining (24 new ngly1 sym mesh)\n",
    "rhtm_df = rh_df\n",
    "rhtm_df['association'] = rhtm_df.loc[:, ['doid_code', 'hp_code']].apply(lambda x: '-'.join(x), axis =1)\n",
    "rhtm_df.head(2) # 84508"
   ]
  },
  {
   "cell_type": "code",
   "execution_count": 95,
   "metadata": {},
   "outputs": [
    {
     "data": {
      "text/plain": [
       "(6, 3)"
      ]
     },
     "execution_count": 95,
     "metadata": {},
     "output_type": "execute_result"
    }
   ],
   "source": [
    "# subsetting the associations with a ngly1 sym and a hetnet disease\n",
    "rh_ngly1_df = rhtm_df.merge(ngly1_df, on='hp_code'); rh_ngly1_df.shape # 541 ass with ngly1\n",
    "rh_het_df = rhtm_df.merge(hetnet_df, on='doid_code'); rh_het_df.shape # 1934 ass with het diseases\n",
    "rh_het_ngly1_df = rh_ngly1_df.merge(hetnet_df, on='doid_code'); rh_het_ngly1_df.shape # 1 ass ngly1 - het diseases"
   ]
  },
  {
   "cell_type": "code",
   "execution_count": 96,
   "metadata": {},
   "outputs": [
    {
     "data": {
      "text/html": [
       "<div>\n",
       "<table border=\"1\" class=\"dataframe\">\n",
       "  <thead>\n",
       "    <tr style=\"text-align: right;\">\n",
       "      <th></th>\n",
       "      <th>doid_code</th>\n",
       "      <th>hp_code</th>\n",
       "      <th>association</th>\n",
       "    </tr>\n",
       "  </thead>\n",
       "  <tbody>\n",
       "    <tr>\n",
       "      <th>0</th>\n",
       "      <td>DOID:12236</td>\n",
       "      <td>HP:0001392</td>\n",
       "      <td>DOID:12236-HP:0001392</td>\n",
       "    </tr>\n",
       "    <tr>\n",
       "      <th>1</th>\n",
       "      <td>DOID:2043</td>\n",
       "      <td>HP:0001392</td>\n",
       "      <td>DOID:2043-HP:0001392</td>\n",
       "    </tr>\n",
       "    <tr>\n",
       "      <th>2</th>\n",
       "      <td>DOID:2043</td>\n",
       "      <td>HP:0001395</td>\n",
       "      <td>DOID:2043-HP:0001395</td>\n",
       "    </tr>\n",
       "    <tr>\n",
       "      <th>3</th>\n",
       "      <td>DOID:3571</td>\n",
       "      <td>HP:0001392</td>\n",
       "      <td>DOID:3571-HP:0001392</td>\n",
       "    </tr>\n",
       "    <tr>\n",
       "      <th>4</th>\n",
       "      <td>DOID:10763</td>\n",
       "      <td>HP:0002910</td>\n",
       "      <td>DOID:10763-HP:0002910</td>\n",
       "    </tr>\n",
       "    <tr>\n",
       "      <th>5</th>\n",
       "      <td>DOID:9835</td>\n",
       "      <td>HP:0000486</td>\n",
       "      <td>DOID:9835-HP:0000486</td>\n",
       "    </tr>\n",
       "  </tbody>\n",
       "</table>\n",
       "</div>"
      ],
      "text/plain": [
       "    doid_code     hp_code            association\n",
       "0  DOID:12236  HP:0001392  DOID:12236-HP:0001392\n",
       "1   DOID:2043  HP:0001392   DOID:2043-HP:0001392\n",
       "2   DOID:2043  HP:0001395   DOID:2043-HP:0001395\n",
       "3   DOID:3571  HP:0001392   DOID:3571-HP:0001392\n",
       "4  DOID:10763  HP:0002910  DOID:10763-HP:0002910\n",
       "5   DOID:9835  HP:0000486   DOID:9835-HP:0000486"
      ]
     },
     "execution_count": 96,
     "metadata": {},
     "output_type": "execute_result"
    }
   ],
   "source": [
    "# 6 direct hetnet_disease-ngly1_symptom edges in HPO Curated\n",
    "rh_het_ngly1_df"
   ]
  },
  {
   "cell_type": "code",
   "execution_count": 97,
   "metadata": {},
   "outputs": [
    {
     "data": {
      "image/png": "[encoded data removed]",
      "text/plain": [
       "<matplotlib.figure.Figure at 0x7f35811dfb00>"
      ]
     },
     "metadata": {},
     "output_type": "display_data"
    },
    {
     "data": {
      "image/png": "[encoded data removed]",
      "text/plain": [
       "<matplotlib.figure.Figure at 0x7f358543f278>"
      ]
     },
     "metadata": {},
     "output_type": "display_data"
    }
   ],
   "source": [
    "# ngly1 symptoms not in hetionet that have disease annotation in an external source\n",
    "rh_ngly1 = set(rh_ngly1_df.association)\n",
    "rh_hetnet = set(rh_het_df.association)\n",
    "venn2([hetionet,rh_ngly1], ('Hetionet', 'AberOWL'))\n",
    "plt.show()\n",
    "venn3_unweighted([hetionet,rh_ngly1,rh_hetnet], ('Hetionet', 'AberOWL-NGLY1-Symptoms', 'AberOWL-Hetnet-Diseases'))\n",
    "plt.show()"
   ]
  },
  {
   "cell_type": "code",
   "execution_count": 98,
   "metadata": {},
   "outputs": [
    {
     "data": {
      "image/png": "[encoded data removed]",
      "text/plain": [
       "<matplotlib.figure.Figure at 0x7f3580b8e320>"
      ]
     },
     "metadata": {},
     "output_type": "display_data"
    },
    {
     "data": {
      "image/png": "[encoded data removed]",
      "text/plain": [
       "<matplotlib.figure.Figure at 0x7f3580b20a90>"
      ]
     },
     "metadata": {},
     "output_type": "display_data"
    },
    {
     "data": {
      "image/png": "[encoded data removed]",
      "text/plain": [
       "<matplotlib.figure.Figure at 0x7f3580b1c2e8>"
      ]
     },
     "metadata": {},
     "output_type": "display_data"
    },
    {
     "name": "stdout",
     "output_type": "stream",
     "text": [
      "ngly1-hetnet dis-sym in HPO curated: {'HP:0009830', 'HP:0000657', 'HP:0002353', 'HP:0002910', 'HP:0000007', 'HP:0000486', 'HP:0002650'}\n",
      "ngly1-hetnet dis-sym in HPO Text mining: {'HP:0009830', 'HP:0001395', 'HP:0002151', 'HP:0004305', 'HP:0001266', 'HP:0001263', 'HP:0006579', 'HP:0002910', 'HP:0000486', 'HP:0002650', 'HP:0006254', 'HP:0002353'}\n",
      "ngly1-hetnet dis-sym in AberOWL: {'HP:0002910', 'HP:0000486', 'HP:0001395', 'HP:0001392'}\n"
     ]
    }
   ],
   "source": [
    "# overlap ngly1_Sym-Disease edges\n",
    "venn3([hpoc_ngly1,hpotg_ngly1,rh_ngly1], ('HPO-Curated', 'HPO-TextMining', 'AberOWL'))\n",
    "plt.show()\n",
    "# overlap ngly1_Sym-Hetnet_Disease edges\n",
    "hpoc = set(hpo_het_ngly1_df.association)\n",
    "hpotg = set(hpotg_het_ngly1_df.association)\n",
    "aber = set(rh_het_ngly1_df.association)\n",
    "venn3([hpoc,hpotg,aber], ('HPO-Curated', 'HPO-TextMining', 'AberOWL'))\n",
    "plt.show()\n",
    "# overlap ngly1 sym nodes with edge to hetnet found in external sources\n",
    "hpoc = set(hpo_het_ngly1_df.hp_code)\n",
    "hpotg = set(hpotg_het_ngly1_df.hp_code)\n",
    "aber = set(rh_het_ngly1_df.hp_code)\n",
    "venn3_unweighted([hpoc,hpotg,aber], ('HPO-Curated', 'HPO-TextMining', 'AberOWL'))\n",
    "plt.show()\n",
    "print('ngly1-hetnet dis-sym in HPO curated: {}'.format(hpoc))\n",
    "print('ngly1-hetnet dis-sym in HPO Text mining: {}'.format(hpotg))\n",
    "print('ngly1-hetnet dis-sym in AberOWL: {}'.format(aber))"
   ]
  },
  {
   "cell_type": "code",
   "execution_count": 99,
   "metadata": {},
   "outputs": [
    {
     "data": {
      "text/html": [
       "<div>\n",
       "<table border=\"1\" class=\"dataframe\">\n",
       "  <thead>\n",
       "    <tr style=\"text-align: right;\">\n",
       "      <th></th>\n",
       "      <th>hp_code</th>\n",
       "      <th>hp_term</th>\n",
       "    </tr>\n",
       "  </thead>\n",
       "  <tbody>\n",
       "    <tr>\n",
       "      <th>0</th>\n",
       "      <td>HP:0001263</td>\n",
       "      <td>Global developmental delay</td>\n",
       "    </tr>\n",
       "    <tr>\n",
       "      <th>1</th>\n",
       "      <td>HP:0001252</td>\n",
       "      <td>Muscular hypotonia</td>\n",
       "    </tr>\n",
       "    <tr>\n",
       "      <th>2</th>\n",
       "      <td>HP:0004305</td>\n",
       "      <td>Involuntary movements</td>\n",
       "    </tr>\n",
       "    <tr>\n",
       "      <th>3</th>\n",
       "      <td>HP:0000522</td>\n",
       "      <td>Alacrima/hypolacrima</td>\n",
       "    </tr>\n",
       "    <tr>\n",
       "      <th>4</th>\n",
       "      <td>HP:0002353</td>\n",
       "      <td>EEG abnormality</td>\n",
       "    </tr>\n",
       "    <tr>\n",
       "      <th>5</th>\n",
       "      <td>HP:0002019</td>\n",
       "      <td>Constipation</td>\n",
       "    </tr>\n",
       "    <tr>\n",
       "      <th>6</th>\n",
       "      <td>HP:0002910</td>\n",
       "      <td>Elevated hepatic transaminases</td>\n",
       "    </tr>\n",
       "    <tr>\n",
       "      <th>7</th>\n",
       "      <td>HP:0012638</td>\n",
       "      <td>Abnormality of nervous system physiology</td>\n",
       "    </tr>\n",
       "    <tr>\n",
       "      <th>8</th>\n",
       "      <td>HP:0200101</td>\n",
       "      <td>Decreased/absent ankle reflexes</td>\n",
       "    </tr>\n",
       "    <tr>\n",
       "      <th>9</th>\n",
       "      <td>HP:0000252</td>\n",
       "      <td>Microcephaly</td>\n",
       "    </tr>\n",
       "    <tr>\n",
       "      <th>10</th>\n",
       "      <td>HP:0001392</td>\n",
       "      <td>Abnormality of the liver</td>\n",
       "    </tr>\n",
       "    <tr>\n",
       "      <th>11</th>\n",
       "      <td>HP:0002151</td>\n",
       "      <td>Increased serum lactate</td>\n",
       "    </tr>\n",
       "    <tr>\n",
       "      <th>12</th>\n",
       "      <td>HP:0001250</td>\n",
       "      <td>Seizures</td>\n",
       "    </tr>\n",
       "    <tr>\n",
       "      <th>13</th>\n",
       "      <td>HP:0000657</td>\n",
       "      <td>Oculomotor apraxia</td>\n",
       "    </tr>\n",
       "    <tr>\n",
       "      <th>14</th>\n",
       "      <td>HP:0012804</td>\n",
       "      <td>Corneal ulceration</td>\n",
       "    </tr>\n",
       "    <tr>\n",
       "      <th>15</th>\n",
       "      <td>HP:0010605</td>\n",
       "      <td>Chalazions</td>\n",
       "    </tr>\n",
       "    <tr>\n",
       "      <th>16</th>\n",
       "      <td>HP:0000486</td>\n",
       "      <td>Strabismus</td>\n",
       "    </tr>\n",
       "    <tr>\n",
       "      <th>17</th>\n",
       "      <td>HP:0002650</td>\n",
       "      <td>Scoliosis</td>\n",
       "    </tr>\n",
       "    <tr>\n",
       "      <th>18</th>\n",
       "      <td>HP:0200055</td>\n",
       "      <td>Small hands</td>\n",
       "    </tr>\n",
       "    <tr>\n",
       "      <th>19</th>\n",
       "      <td>HP:0001773</td>\n",
       "      <td>Short foot</td>\n",
       "    </tr>\n",
       "    <tr>\n",
       "      <th>20</th>\n",
       "      <td>HP:0006579</td>\n",
       "      <td>Prolonged neonatal jaundice</td>\n",
       "    </tr>\n",
       "    <tr>\n",
       "      <th>21</th>\n",
       "      <td>HP:0009830</td>\n",
       "      <td>Peripheral neuropathy</td>\n",
       "    </tr>\n",
       "    <tr>\n",
       "      <th>22</th>\n",
       "      <td>HP:0006254</td>\n",
       "      <td>Elevated alpha-fetoprotein</td>\n",
       "    </tr>\n",
       "    <tr>\n",
       "      <th>23</th>\n",
       "      <td>HP:0001395</td>\n",
       "      <td>Hepatic fibrosis</td>\n",
       "    </tr>\n",
       "    <tr>\n",
       "      <th>24</th>\n",
       "      <td>HP:0006958</td>\n",
       "      <td>Abnormal auditory evoked potentials</td>\n",
       "    </tr>\n",
       "    <tr>\n",
       "      <th>25</th>\n",
       "      <td>HP:0001266</td>\n",
       "      <td>Choreoathetosis</td>\n",
       "    </tr>\n",
       "    <tr>\n",
       "      <th>26</th>\n",
       "      <td>HP:0012448</td>\n",
       "      <td>Delayed myelination</td>\n",
       "    </tr>\n",
       "    <tr>\n",
       "      <th>27</th>\n",
       "      <td>HP:0000007</td>\n",
       "      <td>Autosomal recessive inheritance</td>\n",
       "    </tr>\n",
       "  </tbody>\n",
       "</table>\n",
       "</div>"
      ],
      "text/plain": [
       "       hp_code                                   hp_term\n",
       "0   HP:0001263                Global developmental delay\n",
       "1   HP:0001252                        Muscular hypotonia\n",
       "2   HP:0004305                     Involuntary movements\n",
       "3   HP:0000522                      Alacrima/hypolacrima\n",
       "4   HP:0002353                           EEG abnormality\n",
       "5   HP:0002019                              Constipation\n",
       "6   HP:0002910            Elevated hepatic transaminases\n",
       "7   HP:0012638  Abnormality of nervous system physiology\n",
       "8   HP:0200101           Decreased/absent ankle reflexes\n",
       "9   HP:0000252                              Microcephaly\n",
       "10  HP:0001392                  Abnormality of the liver\n",
       "11  HP:0002151                   Increased serum lactate\n",
       "12  HP:0001250                                  Seizures\n",
       "13  HP:0000657                        Oculomotor apraxia\n",
       "14  HP:0012804                        Corneal ulceration\n",
       "15  HP:0010605                                Chalazions\n",
       "16  HP:0000486                                Strabismus\n",
       "17  HP:0002650                                 Scoliosis\n",
       "18  HP:0200055                               Small hands\n",
       "19  HP:0001773                                Short foot\n",
       "20  HP:0006579               Prolonged neonatal jaundice\n",
       "21  HP:0009830                     Peripheral neuropathy\n",
       "22  HP:0006254                Elevated alpha-fetoprotein\n",
       "23  HP:0001395                          Hepatic fibrosis\n",
       "24  HP:0006958       Abnormal auditory evoked potentials\n",
       "25  HP:0001266                           Choreoathetosis\n",
       "26  HP:0012448                       Delayed myelination\n",
       "27  HP:0000007           Autosomal recessive inheritance"
      ]
     },
     "execution_count": 99,
     "metadata": {},
     "output_type": "execute_result"
    }
   ],
   "source": [
    "# Total NGLY1 symptoms described in HP (28)\n",
    "ngly1_sym_hp_df"
   ]
  },
  {
   "cell_type": "code",
   "execution_count": 100,
   "metadata": {},
   "outputs": [
    {
     "data": {
      "text/html": [
       "<div>\n",
       "<table border=\"1\" class=\"dataframe\">\n",
       "  <thead>\n",
       "    <tr style=\"text-align: right;\">\n",
       "      <th></th>\n",
       "      <th>hp_code</th>\n",
       "      <th>hp_term</th>\n",
       "    </tr>\n",
       "  </thead>\n",
       "  <tbody>\n",
       "    <tr>\n",
       "      <th>0</th>\n",
       "      <td>HP:0001266</td>\n",
       "      <td>Choreoathetosis</td>\n",
       "    </tr>\n",
       "    <tr>\n",
       "      <th>1</th>\n",
       "      <td>HP:0002151</td>\n",
       "      <td>Increased serum lactate</td>\n",
       "    </tr>\n",
       "    <tr>\n",
       "      <th>2</th>\n",
       "      <td>HP:0001392</td>\n",
       "      <td>Abnormality of the liver</td>\n",
       "    </tr>\n",
       "    <tr>\n",
       "      <th>3</th>\n",
       "      <td>HP:0001773</td>\n",
       "      <td>Short foot</td>\n",
       "    </tr>\n",
       "    <tr>\n",
       "      <th>4</th>\n",
       "      <td>HP:0200101</td>\n",
       "      <td>Decreased/absent ankle reflexes</td>\n",
       "    </tr>\n",
       "    <tr>\n",
       "      <th>5</th>\n",
       "      <td>HP:0006579</td>\n",
       "      <td>Prolonged neonatal jaundice</td>\n",
       "    </tr>\n",
       "    <tr>\n",
       "      <th>6</th>\n",
       "      <td>HP:0010605</td>\n",
       "      <td>Chalazions</td>\n",
       "    </tr>\n",
       "    <tr>\n",
       "      <th>7</th>\n",
       "      <td>HP:0000252</td>\n",
       "      <td>Microcephaly</td>\n",
       "    </tr>\n",
       "    <tr>\n",
       "      <th>8</th>\n",
       "      <td>HP:0002910</td>\n",
       "      <td>Elevated hepatic transaminases</td>\n",
       "    </tr>\n",
       "    <tr>\n",
       "      <th>9</th>\n",
       "      <td>HP:0012638</td>\n",
       "      <td>Abnormality of nervous system physiology</td>\n",
       "    </tr>\n",
       "    <tr>\n",
       "      <th>10</th>\n",
       "      <td>HP:0000007</td>\n",
       "      <td>Autosomal recessive inheritance</td>\n",
       "    </tr>\n",
       "    <tr>\n",
       "      <th>11</th>\n",
       "      <td>HP:0000522</td>\n",
       "      <td>Alacrima/hypolacrima</td>\n",
       "    </tr>\n",
       "    <tr>\n",
       "      <th>12</th>\n",
       "      <td>HP:0012448</td>\n",
       "      <td>Delayed myelination</td>\n",
       "    </tr>\n",
       "    <tr>\n",
       "      <th>13</th>\n",
       "      <td>HP:0009830</td>\n",
       "      <td>Peripheral neuropathy</td>\n",
       "    </tr>\n",
       "    <tr>\n",
       "      <th>14</th>\n",
       "      <td>HP:0012804</td>\n",
       "      <td>Corneal ulceration</td>\n",
       "    </tr>\n",
       "    <tr>\n",
       "      <th>15</th>\n",
       "      <td>HP:0006958</td>\n",
       "      <td>Abnormal auditory evoked potentials</td>\n",
       "    </tr>\n",
       "    <tr>\n",
       "      <th>16</th>\n",
       "      <td>HP:0000657</td>\n",
       "      <td>Oculomotor apraxia</td>\n",
       "    </tr>\n",
       "    <tr>\n",
       "      <th>17</th>\n",
       "      <td>HP:0001395</td>\n",
       "      <td>Hepatic fibrosis</td>\n",
       "    </tr>\n",
       "    <tr>\n",
       "      <th>18</th>\n",
       "      <td>HP:0004305</td>\n",
       "      <td>Involuntary movements</td>\n",
       "    </tr>\n",
       "    <tr>\n",
       "      <th>19</th>\n",
       "      <td>HP:0001263</td>\n",
       "      <td>Global developmental delay</td>\n",
       "    </tr>\n",
       "    <tr>\n",
       "      <th>20</th>\n",
       "      <td>HP:0200055</td>\n",
       "      <td>Small hands</td>\n",
       "    </tr>\n",
       "    <tr>\n",
       "      <th>21</th>\n",
       "      <td>HP:0000486</td>\n",
       "      <td>Strabismus</td>\n",
       "    </tr>\n",
       "    <tr>\n",
       "      <th>22</th>\n",
       "      <td>HP:0002650</td>\n",
       "      <td>Scoliosis</td>\n",
       "    </tr>\n",
       "    <tr>\n",
       "      <th>23</th>\n",
       "      <td>HP:0006254</td>\n",
       "      <td>Elevated alpha-fetoprotein</td>\n",
       "    </tr>\n",
       "    <tr>\n",
       "      <th>24</th>\n",
       "      <td>HP:0002353</td>\n",
       "      <td>EEG abnormality</td>\n",
       "    </tr>\n",
       "  </tbody>\n",
       "</table>\n",
       "</div>"
      ],
      "text/plain": [
       "       hp_code                                   hp_term\n",
       "0   HP:0001266                           Choreoathetosis\n",
       "1   HP:0002151                   Increased serum lactate\n",
       "2   HP:0001392                  Abnormality of the liver\n",
       "3   HP:0001773                                Short foot\n",
       "4   HP:0200101           Decreased/absent ankle reflexes\n",
       "5   HP:0006579               Prolonged neonatal jaundice\n",
       "6   HP:0010605                                Chalazions\n",
       "7   HP:0000252                              Microcephaly\n",
       "8   HP:0002910            Elevated hepatic transaminases\n",
       "9   HP:0012638  Abnormality of nervous system physiology\n",
       "10  HP:0000007           Autosomal recessive inheritance\n",
       "11  HP:0000522                      Alacrima/hypolacrima\n",
       "12  HP:0012448                       Delayed myelination\n",
       "13  HP:0009830                     Peripheral neuropathy\n",
       "14  HP:0012804                        Corneal ulceration\n",
       "15  HP:0006958       Abnormal auditory evoked potentials\n",
       "16  HP:0000657                        Oculomotor apraxia\n",
       "17  HP:0001395                          Hepatic fibrosis\n",
       "18  HP:0004305                     Involuntary movements\n",
       "19  HP:0001263                Global developmental delay\n",
       "20  HP:0200055                               Small hands\n",
       "21  HP:0000486                                Strabismus\n",
       "22  HP:0002650                                 Scoliosis\n",
       "23  HP:0006254                Elevated alpha-fetoprotein\n",
       "24  HP:0002353                           EEG abnormality"
      ]
     },
     "execution_count": 100,
     "metadata": {},
     "output_type": "execute_result"
    }
   ],
   "source": [
    "# Total NGLY1 symptoms not in hetnet (25)\n",
    "ngly1_df = ngly1_df.merge(ngly1_sym_hp_df, how='left', on='hp_code')\n",
    "ngly1_df"
   ]
  },
  {
   "cell_type": "code",
   "execution_count": 101,
   "metadata": {},
   "outputs": [
    {
     "data": {
      "text/html": [
       "<div>\n",
       "<table border=\"1\" class=\"dataframe\">\n",
       "  <thead>\n",
       "    <tr style=\"text-align: right;\">\n",
       "      <th></th>\n",
       "      <th>hp_code</th>\n",
       "      <th>hp_term</th>\n",
       "    </tr>\n",
       "  </thead>\n",
       "  <tbody>\n",
       "    <tr>\n",
       "      <th>0</th>\n",
       "      <td>HP:0012638</td>\n",
       "      <td>Abnormality of nervous system physiology</td>\n",
       "    </tr>\n",
       "  </tbody>\n",
       "</table>\n",
       "</div>"
      ],
      "text/plain": [
       "      hp_code                                   hp_term\n",
       "0  HP:0012638  Abnormality of nervous system physiology"
      ]
     },
     "execution_count": 101,
     "metadata": {},
     "output_type": "execute_result"
    }
   ],
   "source": [
    "# Total NGLY1 symptoms not in hetnet and not in external datasets -> text mining (1)\n",
    "ngly1_hp_not_mapped_terms_df"
   ]
  },
  {
   "cell_type": "code",
   "execution_count": 102,
   "metadata": {},
   "outputs": [
    {
     "data": {
      "text/html": [
       "<div>\n",
       "<table border=\"1\" class=\"dataframe\">\n",
       "  <thead>\n",
       "    <tr style=\"text-align: right;\">\n",
       "      <th></th>\n",
       "      <th>hp_code</th>\n",
       "      <th>hp_term</th>\n",
       "    </tr>\n",
       "  </thead>\n",
       "  <tbody>\n",
       "    <tr>\n",
       "      <th>0</th>\n",
       "      <td>HP:0009830</td>\n",
       "      <td>Peripheral neuropathy</td>\n",
       "    </tr>\n",
       "    <tr>\n",
       "      <th>1</th>\n",
       "      <td>HP:0001266</td>\n",
       "      <td>Choreoathetosis</td>\n",
       "    </tr>\n",
       "    <tr>\n",
       "      <th>2</th>\n",
       "      <td>HP:0002151</td>\n",
       "      <td>Increased serum lactate</td>\n",
       "    </tr>\n",
       "    <tr>\n",
       "      <th>3</th>\n",
       "      <td>HP:0000657</td>\n",
       "      <td>Oculomotor apraxia</td>\n",
       "    </tr>\n",
       "    <tr>\n",
       "      <th>4</th>\n",
       "      <td>HP:0001395</td>\n",
       "      <td>Hepatic fibrosis</td>\n",
       "    </tr>\n",
       "    <tr>\n",
       "      <th>5</th>\n",
       "      <td>HP:0004305</td>\n",
       "      <td>Involuntary movements</td>\n",
       "    </tr>\n",
       "    <tr>\n",
       "      <th>6</th>\n",
       "      <td>HP:0001263</td>\n",
       "      <td>Global developmental delay</td>\n",
       "    </tr>\n",
       "    <tr>\n",
       "      <th>7</th>\n",
       "      <td>HP:0001392</td>\n",
       "      <td>Abnormality of the liver</td>\n",
       "    </tr>\n",
       "    <tr>\n",
       "      <th>8</th>\n",
       "      <td>HP:0006579</td>\n",
       "      <td>Prolonged neonatal jaundice</td>\n",
       "    </tr>\n",
       "    <tr>\n",
       "      <th>9</th>\n",
       "      <td>HP:0002910</td>\n",
       "      <td>Elevated hepatic transaminases</td>\n",
       "    </tr>\n",
       "    <tr>\n",
       "      <th>10</th>\n",
       "      <td>HP:0000007</td>\n",
       "      <td>Autosomal recessive inheritance</td>\n",
       "    </tr>\n",
       "    <tr>\n",
       "      <th>11</th>\n",
       "      <td>HP:0000486</td>\n",
       "      <td>Strabismus</td>\n",
       "    </tr>\n",
       "    <tr>\n",
       "      <th>12</th>\n",
       "      <td>HP:0002650</td>\n",
       "      <td>Scoliosis</td>\n",
       "    </tr>\n",
       "    <tr>\n",
       "      <th>13</th>\n",
       "      <td>HP:0006254</td>\n",
       "      <td>Elevated alpha-fetoprotein</td>\n",
       "    </tr>\n",
       "    <tr>\n",
       "      <th>14</th>\n",
       "      <td>HP:0002353</td>\n",
       "      <td>EEG abnormality</td>\n",
       "    </tr>\n",
       "  </tbody>\n",
       "</table>\n",
       "</div>"
      ],
      "text/plain": [
       "       hp_code                          hp_term\n",
       "0   HP:0009830            Peripheral neuropathy\n",
       "1   HP:0001266                  Choreoathetosis\n",
       "2   HP:0002151          Increased serum lactate\n",
       "3   HP:0000657               Oculomotor apraxia\n",
       "4   HP:0001395                 Hepatic fibrosis\n",
       "5   HP:0004305            Involuntary movements\n",
       "6   HP:0001263       Global developmental delay\n",
       "7   HP:0001392         Abnormality of the liver\n",
       "8   HP:0006579      Prolonged neonatal jaundice\n",
       "9   HP:0002910   Elevated hepatic transaminases\n",
       "10  HP:0000007  Autosomal recessive inheritance\n",
       "11  HP:0000486                       Strabismus\n",
       "12  HP:0002650                        Scoliosis\n",
       "13  HP:0006254       Elevated alpha-fetoprotein\n",
       "14  HP:0002353                  EEG abnormality"
      ]
     },
     "execution_count": 102,
     "metadata": {},
     "output_type": "execute_result"
    }
   ],
   "source": [
    "# list of ngly1 sym (hp) that we can anchor to hetnet (24/25 ngly1 not in hetnet found in external sources) (15)\n",
    "ngly1_anchor_edge = set(hpoc | hpotg | aber)\n",
    "data = {'hp_code':list(ngly1_anchor_edge)}\n",
    "ngly1_anchor_edge_df = pd.DataFrame.from_dict(data)\n",
    "ngly1_anchor_edge_df = ngly1_anchor_edge_df.merge(ngly1_sym_hp_df, how='left', on='hp_code')\n",
    "ngly1_anchor_edge_df"
   ]
  },
  {
   "cell_type": "code",
   "execution_count": 103,
   "metadata": {},
   "outputs": [
    {
     "data": {
      "text/plain": [
       "{'HP:0000252',\n",
       " 'HP:0000486',\n",
       " 'HP:0000522',\n",
       " 'HP:0000657',\n",
       " 'HP:0001263',\n",
       " 'HP:0001266',\n",
       " 'HP:0001392',\n",
       " 'HP:0001395',\n",
       " 'HP:0001773',\n",
       " 'HP:0002151',\n",
       " 'HP:0002353',\n",
       " 'HP:0002650',\n",
       " 'HP:0002910',\n",
       " 'HP:0004305',\n",
       " 'HP:0006579',\n",
       " 'HP:0200055'}"
      ]
     },
     "execution_count": 103,
     "metadata": {},
     "output_type": "execute_result"
    }
   ],
   "source": [
    "# ngly1 sym without a link to a hetnet disease but with link to other diseases in the datasets\n",
    "len(set(orpha_ngly1_df.hp_code)) # 5\n",
    "orpha_ngly1_do_set = (set(orpha_ngly1_df.hp_code) - set(orpha_het_ngly1_df.hp_code))\n",
    "orpha_ngly1_do_set"
   ]
  },
  {
   "cell_type": "code",
   "execution_count": 104,
   "metadata": {},
   "outputs": [
    {
     "data": {
      "text/plain": [
       "{'HP:0000252',\n",
       " 'HP:0000522',\n",
       " 'HP:0001263',\n",
       " 'HP:0001266',\n",
       " 'HP:0001392',\n",
       " 'HP:0001395',\n",
       " 'HP:0001773',\n",
       " 'HP:0002151',\n",
       " 'HP:0004305',\n",
       " 'HP:0006254',\n",
       " 'HP:0006579',\n",
       " 'HP:0006958',\n",
       " 'HP:0012448',\n",
       " 'HP:0012804',\n",
       " 'HP:0200055',\n",
       " 'HP:0200101'}"
      ]
     },
     "execution_count": 104,
     "metadata": {},
     "output_type": "execute_result"
    }
   ],
   "source": [
    "len(set(hpo_ngly1_df.hp_code)) # 6\n",
    "hpo_ngly1_do_set = (set(hpo_ngly1_df.hp_code) - set(hpo_het_ngly1_df.hp_code))\n",
    "hpo_ngly1_do_set"
   ]
  },
  {
   "cell_type": "code",
   "execution_count": 105,
   "metadata": {},
   "outputs": [
    {
     "data": {
      "text/plain": [
       "{'HP:0000252',\n",
       " 'HP:0000522',\n",
       " 'HP:0000657',\n",
       " 'HP:0001392',\n",
       " 'HP:0001773',\n",
       " 'HP:0006958',\n",
       " 'HP:0010605'}"
      ]
     },
     "execution_count": 105,
     "metadata": {},
     "output_type": "execute_result"
    }
   ],
   "source": [
    "len(set(hpotg_ngly1_df.hp_code)) # 6\n",
    "hpotg_ngly1_do_set = (set(hpotg_ngly1_df.hp_code) - set(hpotg_het_ngly1_df.hp_code))\n",
    "hpotg_ngly1_do_set"
   ]
  },
  {
   "cell_type": "code",
   "execution_count": 106,
   "metadata": {},
   "outputs": [
    {
     "data": {
      "text/plain": [
       "{'HP:0000007',\n",
       " 'HP:0000252',\n",
       " 'HP:0000522',\n",
       " 'HP:0000657',\n",
       " 'HP:0001263',\n",
       " 'HP:0001266',\n",
       " 'HP:0001773',\n",
       " 'HP:0002151',\n",
       " 'HP:0002353',\n",
       " 'HP:0002650',\n",
       " 'HP:0004305',\n",
       " 'HP:0006254',\n",
       " 'HP:0006579',\n",
       " 'HP:0006958',\n",
       " 'HP:0009830',\n",
       " 'HP:0010605',\n",
       " 'HP:0012448',\n",
       " 'HP:0012804',\n",
       " 'HP:0200055',\n",
       " 'HP:0200101'}"
      ]
     },
     "execution_count": 106,
     "metadata": {},
     "output_type": "execute_result"
    }
   ],
   "source": [
    "len(set(rh_ngly1_df.hp_code)) # 7\n",
    "rh_ngly1_do_set = (set(rh_ngly1_df.hp_code) - set(rh_het_ngly1_df.hp_code))\n",
    "rh_ngly1_do_set"
   ]
  },
  {
   "cell_type": "code",
   "execution_count": 107,
   "metadata": {},
   "outputs": [
    {
     "data": {
      "text/html": [
       "<div>\n",
       "<table border=\"1\" class=\"dataframe\">\n",
       "  <thead>\n",
       "    <tr style=\"text-align: right;\">\n",
       "      <th></th>\n",
       "      <th>hp_code</th>\n",
       "      <th>hp_term</th>\n",
       "    </tr>\n",
       "  </thead>\n",
       "  <tbody>\n",
       "    <tr>\n",
       "      <th>0</th>\n",
       "      <td>HP:0006958</td>\n",
       "      <td>Abnormal auditory evoked potentials</td>\n",
       "    </tr>\n",
       "    <tr>\n",
       "      <th>1</th>\n",
       "      <td>HP:0012804</td>\n",
       "      <td>Corneal ulceration</td>\n",
       "    </tr>\n",
       "    <tr>\n",
       "      <th>2</th>\n",
       "      <td>HP:0012448</td>\n",
       "      <td>Delayed myelination</td>\n",
       "    </tr>\n",
       "    <tr>\n",
       "      <th>3</th>\n",
       "      <td>HP:0001773</td>\n",
       "      <td>Short foot</td>\n",
       "    </tr>\n",
       "    <tr>\n",
       "      <th>4</th>\n",
       "      <td>HP:0200101</td>\n",
       "      <td>Decreased/absent ankle reflexes</td>\n",
       "    </tr>\n",
       "    <tr>\n",
       "      <th>5</th>\n",
       "      <td>HP:0200055</td>\n",
       "      <td>Small hands</td>\n",
       "    </tr>\n",
       "    <tr>\n",
       "      <th>6</th>\n",
       "      <td>HP:0010605</td>\n",
       "      <td>Chalazions</td>\n",
       "    </tr>\n",
       "    <tr>\n",
       "      <th>7</th>\n",
       "      <td>HP:0000252</td>\n",
       "      <td>Microcephaly</td>\n",
       "    </tr>\n",
       "    <tr>\n",
       "      <th>8</th>\n",
       "      <td>HP:0000522</td>\n",
       "      <td>Alacrima/hypolacrima</td>\n",
       "    </tr>\n",
       "  </tbody>\n",
       "</table>\n",
       "</div>"
      ],
      "text/plain": [
       "      hp_code                              hp_term\n",
       "0  HP:0006958  Abnormal auditory evoked potentials\n",
       "1  HP:0012804                   Corneal ulceration\n",
       "2  HP:0012448                  Delayed myelination\n",
       "3  HP:0001773                           Short foot\n",
       "4  HP:0200101      Decreased/absent ankle reflexes\n",
       "5  HP:0200055                          Small hands\n",
       "6  HP:0010605                           Chalazions\n",
       "7  HP:0000252                         Microcephaly\n",
       "8  HP:0000522                 Alacrima/hypolacrima"
      ]
     },
     "execution_count": 107,
     "metadata": {},
     "output_type": "execute_result"
    }
   ],
   "source": [
    "# ngly1 sym linked to other diseases that are not yet in hetnet (9)\n",
    "all_ngly1_set = (set(orpha_ngly1_df.hp_code) | set(hpo_ngly1_df.hp_code) | set(hpotg_ngly1_df.hp_code) | set(rh_ngly1_df.hp_code))\n",
    "all_ngly1_het_set = (set(orpha_het_ngly1_df.hp_code) | set(hpo_het_ngly1_df.hp_code) | set(hpotg_het_ngly1_df.hp_code) | set(rh_het_ngly1_df.hp_code))\n",
    "all_ngly1_do_set = set(all_ngly1_set - all_ngly1_het_set)\n",
    "len(all_ngly1_do_set) # 7\n",
    "data = {'hp_code': list(all_ngly1_do_set)}\n",
    "all_ngly1_do_df = pd.DataFrame.from_dict(data)\n",
    "all_ngly1_do_df = all_ngly1_do_df.merge(ngly1_sym_hp_df, how='left', on='hp_code')\n",
    "all_ngly1_do_df"
   ]
  },
  {
   "cell_type": "code",
   "execution_count": 108,
   "metadata": {},
   "outputs": [
    {
     "data": {
      "text/plain": [
       "array(['HP:0009830', 'HP:0000007', 'HP:0002910', 'HP:0000486',\n",
       "       'HP:0002650', 'HP:0000657', 'HP:0002353', 'HP:0001395',\n",
       "       'HP:0001263', 'HP:0006254', 'HP:0006579', 'HP:0002151',\n",
       "       'HP:0004305', 'HP:0001266', 'HP:0001392'], dtype=object)"
      ]
     },
     "execution_count": 108,
     "metadata": {},
     "output_type": "execute_result"
    }
   ],
   "source": [
    "# check hpo\n",
    "all = [orpha_het_ngly1_df, hpo_het_ngly1_df, hpotg_het_ngly1_df, rh_het_ngly1_df]\n",
    "all_df = pd.concat(all)\n",
    "all_df.hp_code.unique()"
   ]
  },
  {
   "cell_type": "code",
   "execution_count": 109,
   "metadata": {
    "collapsed": true
   },
   "outputs": [],
   "source": [
    "# which NGLY1 symptoms anchor to hetionet with MESH? with HPO? 3/10 (MESH) and 15/25 (HPO) \n",
    "# Are there still some NGLY1 symptoms without a hetionet disease link that we could uncover adding Monarch? \n",
    "# or with (data/text)mining?"
   ]
  }
 ],
 "metadata": {
  "kernelspec": {
   "display_name": "Python 3",
   "language": "python",
   "name": "python3"
  },
  "language_info": {
   "codemirror_mode": {
    "name": "ipython",
    "version": 3
   },
   "file_extension": ".py",
   "mimetype": "text/x-python",
   "name": "python",
   "nbconvert_exporter": "python",
   "pygments_lexer": "ipython3",
   "version": "3.5.3"
  }
 },
 "nbformat": 4,
 "nbformat_minor": 1
}
